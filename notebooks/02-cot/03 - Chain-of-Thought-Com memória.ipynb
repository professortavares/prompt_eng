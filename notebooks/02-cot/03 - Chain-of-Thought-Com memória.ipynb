{
 "cells": [
  {
   "cell_type": "markdown",
   "id": "44415b7f-a518-4ef6-b421-5c4ba994d569",
   "metadata": {},
   "source": [
    "# CoT - Chain-of-Thought (Agora com memória)\n",
    "\n",
    "* **Ideia**: Mostrar raciocínio passo-a-passo antes da resposta final \n",
    "* **Quando**: tarefas que exigem lógica (datas, contagens, regras de negócio)."
   ]
  },
  {
   "cell_type": "code",
   "execution_count": 1,
   "id": "37354857-38cc-4e93-91d2-4fc8c795771e",
   "metadata": {},
   "outputs": [],
   "source": [
    "# Imports necessários\n",
    "from langchain.chat_models import init_chat_model\n",
    "from langgraph.checkpoint.memory import MemorySaver\n",
    "from langchain_core.messages import HumanMessage\n",
    "from langgraph.graph import START, MessagesState, StateGraph\n",
    "\n",
    "from IPython.display import display, Markdown\n",
    "from pathlib import Path\n",
    "import os\n",
    "from dotenv import load_dotenv"
   ]
  },
  {
   "cell_type": "code",
   "execution_count": 2,
   "id": "57cc9f85-ceff-46d3-ab66-2ec0b2251365",
   "metadata": {},
   "outputs": [
    {
     "data": {
      "text/plain": [
       "True"
      ]
     },
     "execution_count": 2,
     "metadata": {},
     "output_type": "execute_result"
    }
   ],
   "source": [
    "dotenv_path = Path(\"../.env\")\n",
    "load_dotenv(dotenv_path=dotenv_path)"
   ]
  },
  {
   "cell_type": "code",
   "execution_count": 3,
   "id": "922515c7-8b86-4f7b-9a86-a7dd89550546",
   "metadata": {},
   "outputs": [],
   "source": [
    "os.environ[\"OPENAI_API_KEY\"] = os.getenv(\"OPENAI_API_KEY\")\n",
    "model = init_chat_model(\"gpt-4o-mini\", model_provider=\"openai\")"
   ]
  },
  {
   "cell_type": "code",
   "execution_count": 4,
   "id": "fbe90121-8bfb-4cf5-b8b2-f0a0ecc21fb5",
   "metadata": {},
   "outputs": [],
   "source": [
    "# Define a new graph\n",
    "workflow = StateGraph(state_schema=MessagesState)\n",
    "\n",
    "# Define the function that calls the model\n",
    "def call_model(state: MessagesState):\n",
    "    response = model.invoke(state[\"messages\"])\n",
    "    return {\"messages\": response}\n",
    "\n",
    "# Define the (single) node in the graph\n",
    "workflow.add_edge(START, \"model\")\n",
    "workflow.add_node(\"model\", call_model)\n",
    "\n",
    "# Add memory\n",
    "memory = MemorySaver()\n",
    "app = workflow.compile(checkpointer=memory)\n",
    "config = {\"configurable\": {\"thread_id\": \"abc123\"}}"
   ]
  },
  {
   "cell_type": "markdown",
   "id": "b3231c89-aef8-434a-89bc-2db864b73cfd",
   "metadata": {},
   "source": [
    "## **PROMPT 01:** Aqui vou fazer um prompt CoT para o analista de QA"
   ]
  },
  {
   "cell_type": "code",
   "execution_count": 5,
   "id": "048d96f1-18c9-425f-a524-cae3e16731e5",
   "metadata": {},
   "outputs": [
    {
     "data": {
      "text/markdown": [
       "*Prompt:*"
      ],
      "text/plain": [
       "<IPython.core.display.Markdown object>"
      ]
     },
     "metadata": {},
     "output_type": "display_data"
    },
    {
     "data": {
      "text/markdown": [
       "----"
      ],
      "text/plain": [
       "<IPython.core.display.Markdown object>"
      ]
     },
     "metadata": {},
     "output_type": "display_data"
    },
    {
     "data": {
      "text/markdown": [
       "\n",
       "Você é um **engenheiro de QA experiente**, responsável por validar os requisitos de uma tela de login.\n",
       "\n",
       "Antes de criar o plano de testes, **pense passo a passo sobre cada requisito**, identificando possíveis cenários de uso, limites, exceções e validações.\n",
       "\n",
       "**Requisitos da tela de login**:\n",
       "\n",
       "* O campo de nome de usuário deve aceitar apenas e-mails válidos.\n",
       "* A senha deve ter entre 8 e 20 caracteres, contendo letras maiúsculas, minúsculas, números e caracteres especiais.\n",
       "* O sistema deve permitir no máximo 3 tentativas de login. Após isso, um captcha deve ser exibido.\n",
       "* O link \"lembrar senha\" deve levar o usuário para a tela correspondente.\n",
       "\n",
       "Siga esta cadeia de pensamento:\n",
       "\n",
       "1. Para cada requisito, identifique **o objetivo da regra**.\n",
       "2. Em seguida, pense em **cenários válidos** e **cenários inválidos**.\n",
       "3. Considere também **casos limite e exceções possíveis**.\n",
       "4. Por fim, **gere os testes com base nesse raciocínio**, no formato Gherkin (Given–When–Then), conforme exemplo abaixo:\n",
       "\n",
       "```\n",
       "**Teste 1**: Verificação de acesso com credenciais válidas  \n",
       "**Cenário**: O usuário entra com dados corretos\n",
       "\n",
       "**Dado** que o usuário está na tela de login  \n",
       "**Quando** ele digita o e-mail e a senha corretos  \n",
       "**Então** o sistema deve redirecioná-lo para a página inicial\n",
       "```\n",
       "\n",
       "Comece pensando em voz alta sobre o primeiro requisito e continue com os demais. Depois disso, apresente os testes estruturados.\n"
      ],
      "text/plain": [
       "<IPython.core.display.Markdown object>"
      ]
     },
     "metadata": {},
     "output_type": "display_data"
    },
    {
     "data": {
      "text/markdown": [
       "----"
      ],
      "text/plain": [
       "<IPython.core.display.Markdown object>"
      ]
     },
     "metadata": {},
     "output_type": "display_data"
    },
    {
     "data": {
      "text/markdown": [
       "*Resposta:*"
      ],
      "text/plain": [
       "<IPython.core.display.Markdown object>"
      ]
     },
     "metadata": {},
     "output_type": "display_data"
    },
    {
     "data": {
      "text/markdown": [
       "----"
      ],
      "text/plain": [
       "<IPython.core.display.Markdown object>"
      ]
     },
     "metadata": {},
     "output_type": "display_data"
    },
    {
     "data": {
      "text/markdown": [
       "Vamos lá! Vou analisar cada requisito da tela de login passo a passo.\n",
       "\n",
       "### Requisito 1: O campo de nome de usuário deve aceitar apenas e-mails válidos.\n",
       "\n",
       "**Objetivo da regra:** Garantir que o usuário forneça um e-mail no formato correto para evitar problemas de comunicação e autenticação.\n",
       "\n",
       "**Cenários válidos:**\n",
       "- O usuário informa um e-mail como \"usuario@dominio.com\".\n",
       "- O usuário informa um e-mail com subdomínio, como \"usuario@subdominio.dominio.com\".\n",
       "- O usuário fornece um e-mail com caracteres válidos, como \"user.name@dominio.co.uk\".\n",
       "\n",
       "**Cenários inválidos:**\n",
       "- O usuário informa um e-mail sem o símbolo \"@\", como \"usuariodominio.com\".\n",
       "- O usuário informa um e-mail com mais de um símbolo \"@\", como \"usuario@@dominio.com\".\n",
       "- O usuário informa um e-mail sem domínio, como \"usuario@\".\n",
       "- O usuário fornece um e-mail com caracteres inválidos, como \"usuario.com\".\n",
       "\n",
       "**Casos limite e exceções possíveis:**\n",
       "- O uso de caracteres especiais válidos, como \"usuario+filter@dominio.com\".\n",
       "- O limite de caracteres (muito longo ou muito curto).\n",
       "\n",
       "### Requisito 2: A senha deve ter entre 8 e 20 caracteres, contendo letras maiúsculas, minúsculas, números e caracteres especiais.\n",
       "\n",
       "**Objetivo da regra:** Garantir a segurança das senhas, exigindo complexidade.\n",
       "\n",
       "**Cenários válidos:**\n",
       "- A senha é \"Senha123!\".\n",
       "- A senha é \"Complex@2023\".\n",
       "- A senha contém 8 a 20 caracteres, misturando todos esses elementos.\n",
       "\n",
       "**Cenários inválidos:**\n",
       "- A senha tem menos de 8 caracteres, como \"Abc1!\".\n",
       "- A senha tem mais de 20 caracteres, como \"UmaSenhaMuitoLonga123!@#\".\n",
       "- A senha não contém letras maiúsculas, como \"senha123!\".\n",
       "- A senha não contém números, como \"SenhaAberta!!\".\n",
       "- A senha não contém caracteres especiais, como \"Senha123\".\n",
       "\n",
       "**Casos limite e exceções possíveis:**\n",
       "- Testar senhas exatamente com 8 e 20 caracteres.\n",
       "- Testar senhas com repetição de caracteres.\n",
       "\n",
       "### Requisito 3: O sistema deve permitir no máximo 3 tentativas de login. Após isso, um captcha deve ser exibido.\n",
       "\n",
       "**Objetivo da regra:** Evitar tentativas de acesso não autorizadas ao limitar as tentativas de login.\n",
       "\n",
       "**Cenários válidos:**\n",
       "- O usuário faz 3 tentativas e na última, usa uma senha correta e consegue acessar.\n",
       "- O usuário faz 3 tentativas com senhas incorretas e o captcha é exibido.\n",
       "\n",
       "**Cenários inválidos:**\n",
       "- O usuário tenta 4 vezes seguidas e o captcha não é exibido.\n",
       "\n",
       "**Casos limite e exceções possíveis:**\n",
       "- O sistema deve contar apenas tentativas falhas.\n",
       "- Se o usuário consegue entrar após o captcha, as tentativas devem ser resetadas.\n",
       "\n",
       "### Requisito 4: O link \"lembrar senha\" deve levar o usuário para a tela correspondente.\n",
       "\n",
       "**Objetivo da regra:** Fornecer um meio para o usuário recuperar ou redefinir sua senha, caso a tenha esquecido.\n",
       "\n",
       "**Cenários válidos:**\n",
       "- O usuário clica no link \"lembrar senha\" e é redirecionado para a página de recuperação.\n",
       "\n",
       "**Cenários inválidos:**\n",
       "- O link \"lembrar senha\" não funciona ou não redireciona corretamente.\n",
       "- O link não é visível ou está quebrado.\n",
       "\n",
       "**Casos limite e exceções possíveis:**\n",
       "- Testar com usuários que estejam logados – o sistema deve redirecionar de forma apropriada.\n",
       "\n",
       "### Testes Estruturados (Formato Gherkin)\n",
       "\n",
       "```gherkin\n",
       "**Teste 1**: Verificação de e-mail válido\n",
       "**Cenário**: O usuário informa um e-mail válido\n",
       "  **Dado** que o usuário está na tela de login  \n",
       "  **Quando** ele digita \"usuario@dominio.com\" no campo de nome de usuário  \n",
       "  **Então** o sistema deve aceitar o e-mail como válido\n",
       "\n",
       "**Teste 2**: Verificação de e-mail inválido\n",
       "**Cenário**: O usuário informa um e-mail inválido\n",
       "  **Dado** que o usuário está na tela de login  \n",
       "  **Quando** ele digita \"usuariodominio.com\" no campo de nome de usuário  \n",
       "  **Então** o sistema deve rejeitar o e-mail como inválido\n",
       "\n",
       "**Teste 3**: Verificação de senha válida\n",
       "**Cenário**: O usuário informa uma senha válida\n",
       "  **Dado** que o usuário está na tela de login  \n",
       "  **Quando** ele digita \"Senha123!\" no campo de senha  \n",
       "  **Então** o sistema deve aceitar a senha como válida\n",
       "\n",
       "**Teste 4**: Verificação de senha inválida\n",
       "**Cenário**: O usuário informa uma senha inválida\n",
       "  **Dado** que o usuário está na tela de login  \n",
       "  **Quando** ele digita \"senha\" no campo de senha  \n",
       "  **Então** o sistema deve rejeitar a senha como inválida\n",
       "\n",
       "**Teste 5**: Limite de tentativas de login\n",
       "**Cenário**: O usuário ultrapassa o limite de tentativas\n",
       "  **Dado** que o usuário está na tela de login  \n",
       "  **Quando** ele tenta logar 4 vezes com senhas incorretas  \n",
       "  **Então** o sistema deve exibir um captcha\n",
       "\n",
       "**Teste 6**: Redirecionamento do link \"lembrar senha\"\n",
       "**Cenário**: O usuário clica no link \"lembrar senha\"\n",
       "  **Dado** que o usuário está na tela de login  \n",
       "  **Quando** ele clica no link \"lembrar senha\"  \n",
       "  **Então** o sistema deve redirecionar o usuário para a tela de recuperação de senha\n",
       "```\n",
       "\n",
       "Esses testes cobrem a maioria dos cenários relacionados aos requisitos apresentados e garantem que todos os aspectos da tela de login foram considerados."
      ],
      "text/plain": [
       "<IPython.core.display.Markdown object>"
      ]
     },
     "metadata": {},
     "output_type": "display_data"
    },
    {
     "data": {
      "text/markdown": [
       "----"
      ],
      "text/plain": [
       "<IPython.core.display.Markdown object>"
      ]
     },
     "metadata": {},
     "output_type": "display_data"
    }
   ],
   "source": [
    "prompt = \"\"\"\n",
    "Você é um **engenheiro de QA experiente**, responsável por validar os requisitos de uma tela de login.\n",
    "\n",
    "Antes de criar o plano de testes, **pense passo a passo sobre cada requisito**, identificando possíveis cenários de uso, limites, exceções e validações.\n",
    "\n",
    "**Requisitos da tela de login**:\n",
    "\n",
    "* O campo de nome de usuário deve aceitar apenas e-mails válidos.\n",
    "* A senha deve ter entre 8 e 20 caracteres, contendo letras maiúsculas, minúsculas, números e caracteres especiais.\n",
    "* O sistema deve permitir no máximo 3 tentativas de login. Após isso, um captcha deve ser exibido.\n",
    "* O link \"lembrar senha\" deve levar o usuário para a tela correspondente.\n",
    "\n",
    "Siga esta cadeia de pensamento:\n",
    "\n",
    "1. Para cada requisito, identifique **o objetivo da regra**.\n",
    "2. Em seguida, pense em **cenários válidos** e **cenários inválidos**.\n",
    "3. Considere também **casos limite e exceções possíveis**.\n",
    "4. Por fim, **gere os testes com base nesse raciocínio**, no formato Gherkin (Given–When–Then), conforme exemplo abaixo:\n",
    "\n",
    "```\n",
    "**Teste 1**: Verificação de acesso com credenciais válidas  \n",
    "**Cenário**: O usuário entra com dados corretos\n",
    "\n",
    "**Dado** que o usuário está na tela de login  \n",
    "**Quando** ele digita o e-mail e a senha corretos  \n",
    "**Então** o sistema deve redirecioná-lo para a página inicial\n",
    "```\n",
    "\n",
    "Comece pensando em voz alta sobre o primeiro requisito e continue com os demais. Depois disso, apresente os testes estruturados.\n",
    "\"\"\"\n",
    "\n",
    "display(Markdown(f\"*Prompt:*\"))\n",
    "display(Markdown(f\"----\"))\n",
    "display(Markdown(f\"{prompt}\"))\n",
    "display(Markdown(f\"----\"))\n",
    "\n",
    "input_messages = [HumanMessage(prompt)]\n",
    "output = app.invoke({\"messages\": input_messages}, config)\n",
    "resposta = output[\"messages\"][-1].content\n",
    "\n",
    "display(Markdown(f\"*Resposta:*\"))\n",
    "display(Markdown(f\"----\"))\n",
    "display(Markdown(f\"{resposta}\"))\n",
    "display(Markdown(f\"----\"))"
   ]
  },
  {
   "cell_type": "markdown",
   "id": "804cee06-43d8-469a-b281-b5e2969c4a6e",
   "metadata": {},
   "source": [
    "## Vamos testar a memória"
   ]
  },
  {
   "cell_type": "code",
   "execution_count": 6,
   "id": "d18d9046-9e1b-4a2e-a8d1-df89ee91fc1f",
   "metadata": {},
   "outputs": [
    {
     "data": {
      "text/markdown": [
       "*Prompt:*"
      ],
      "text/plain": [
       "<IPython.core.display.Markdown object>"
      ]
     },
     "metadata": {},
     "output_type": "display_data"
    },
    {
     "data": {
      "text/markdown": [
       "----"
      ],
      "text/plain": [
       "<IPython.core.display.Markdown object>"
      ]
     },
     "metadata": {},
     "output_type": "display_data"
    },
    {
     "data": {
      "text/markdown": [
       "\n",
       "Adicione mais casos de testes, por favor.\n"
      ],
      "text/plain": [
       "<IPython.core.display.Markdown object>"
      ]
     },
     "metadata": {},
     "output_type": "display_data"
    },
    {
     "data": {
      "text/markdown": [
       "----"
      ],
      "text/plain": [
       "<IPython.core.display.Markdown object>"
      ]
     },
     "metadata": {},
     "output_type": "display_data"
    },
    {
     "data": {
      "text/markdown": [
       "*Resposta:*"
      ],
      "text/plain": [
       "<IPython.core.display.Markdown object>"
      ]
     },
     "metadata": {},
     "output_type": "display_data"
    },
    {
     "data": {
      "text/markdown": [
       "----"
      ],
      "text/plain": [
       "<IPython.core.display.Markdown object>"
      ]
     },
     "metadata": {},
     "output_type": "display_data"
    },
    {
     "data": {
      "text/markdown": [
       "Claro! Vamos expandir os casos de teste para cada um dos requisitos, considerando mais cenários para garantir uma cobertura mais abrangente.\n",
       "\n",
       "### Requisito 1: O campo de nome de usuário deve aceitar apenas e-mails válidos.\n",
       "\n",
       "### Novos Cenários Válidos:\n",
       "- O usuário informa um e-mail que contém números, como \"usuario123@dominio.com\".\n",
       "- O usuário informa um e-mail com caracteres especiais no nome, como \"user.name@example.com\".\n",
       "\n",
       "### Novos Cenários Inválidos:\n",
       "- O usuário informa um e-mail com um domínio inválido, como \"usuario@dominio..com\".\n",
       "- O usuário informa um e-mail com um espaço em branco no início ou no final, como \" usuario@dominio.com \".\n",
       "- O usuário informa um e-mail apenas com caracteres especiais ou vazio, como \"@dominio.com\" ou \"\".\n",
       "\n",
       "### Requisito 2: A senha deve ter entre 8 e 20 caracteres, contendo letras maiúsculas, minúsculas, números e caracteres especiais.\n",
       "\n",
       "### Novos Cenários Válidos:\n",
       "- A senha contém exatamente 20 caracteres, como \"Senha!123456789012345\".\n",
       "- A senha é composta apenas de letras e números, como \"Senha123\".\n",
       "\n",
       "### Novos Cenários Inválidos:\n",
       "- A senha tem exatamente 8 caracteres, mas não contém caracteres especiais, como \"Senha12\".\n",
       "- A senha tem mais de 20 caracteres e é composta apenas de letras, como \"AAAAAAAAAAAAAAAAAAAAA\".\n",
       "- A senha não contém letras minúsculas, como \"SENHA123!\".\n",
       "- A senha apenas com caracteres especiais, como \"@#&*()!\".\n",
       "  \n",
       "### Requisito 3: O sistema deve permitir no máximo 3 tentativas de login. Após isso, um captcha deve ser exibido.\n",
       "\n",
       "### Novos Cenários Válidos:\n",
       "- O usuário faz 2 tentativas com senhas incorretas seguidas de uma tentativa correta e consegue acessar.\n",
       "  \n",
       "### Novos Cenários Inválidos:\n",
       "- O usuário tenta logar com a senha correta após 3 tentativas incorretas e deve ser bloqueado, mostrando o captcha.\n",
       "- O sistema não deve permitir que o usuário faça mais tentativas após o captcha ser mostrado até que o captcha seja resolvido.\n",
       "\n",
       "### Requisito 4: O link \"lembrar senha\" deve levar o usuário para a tela correspondente.\n",
       "\n",
       "### Novos Cenários Válidos:\n",
       "- O usuário já está logado e clica no link \"lembrar senha\" e é redirecionado para a tela de troca de senha e recebe uma mensagem informando que ele não pode redefinir a senha enquanto estiver logado.\n",
       "\n",
       "### Novos Cenários Inválidos:\n",
       "- O link \"lembrar senha\" é clicado e não redireciona devido a um erro de sistema (ex: 404).\n",
       "- O link \"lembrar senha\" está visível somente quando o campo de senha não é preenchido.\n",
       "\n",
       "### Testes Estruturados (Formato Gherkin - Adicionando novos casos)\n",
       "\n",
       "```gherkin\n",
       "**Teste 1**: Verificação de e-mail válido\n",
       "**Cenário**: O usuário informa um e-mail válido\n",
       "  **Dado** que o usuário está na tela de login  \n",
       "  **Quando** ele digita \"usuario@dominio.com\" no campo de nome de usuário  \n",
       "  **Então** o sistema deve aceitar o e-mail como válido\n",
       "\n",
       "**Teste 2**: Verificação de e-mail inválido\n",
       "**Cenário**: O usuário informa um e-mail inválido\n",
       "  **Dado** que o usuário está na tela de login  \n",
       "  **Quando** ele digita \"usuariodominio.com\" no campo de nome de usuário  \n",
       "  **Então** o sistema deve rejeitar o e-mail como inválido\n",
       "\n",
       "**Teste 3**: Verificação de e-mail com espaço em branco\n",
       "**Cenário**: O usuário informa um e-mail com espaço em branco\n",
       "  **Dado** que o usuário está na tela de login  \n",
       "  **Quando** ele digita \" usuario@dominio.com \" no campo de nome de usuário  \n",
       "  **Então** o sistema deve rejeitar o e-mail como inválido\n",
       "\n",
       "**Teste 4**: Verificação de senha válida\n",
       "**Cenário**: O usuário informa uma senha válida\n",
       "  **Dado** que o usuário está na tela de login  \n",
       "  **Quando** ele digita \"Senha123!\" no campo de senha  \n",
       "  **Então** o sistema deve aceitar a senha como válida\n",
       "\n",
       "**Teste 5**: Verificação de senha inválida\n",
       "**Cenário**: O usuário informa uma senha inválida\n",
       "  **Dado** que o usuário está na tela de login  \n",
       "  **Quando** ele digita \"senha\" no campo de senha  \n",
       "  **Então** o sistema deve rejeitar a senha como inválida\n",
       "\n",
       "**Teste 6**: Limite de tentativas de login\n",
       "**Cenário**: O usuário ultrapassa o limite de tentativas\n",
       "  **Dado** que o usuário está na tela de login  \n",
       "  **Quando** ele tenta logar 4 vezes com senhas incorretas  \n",
       "  **Então** o sistema deve exibir um captcha\n",
       "\n",
       "**Teste 7**: O usuário informa um e-mail que contém caracteres especiais\n",
       "**Cenário**: O usuário informa um e-mail com caracter especial\n",
       "  **Dado** que o usuário está na tela de login  \n",
       "  **Quando** ele digita \"user.name@dominio.com\" no campo de nome de usuário  \n",
       "  **Então** o sistema deve aceitar o e-mail como válido\n",
       "\n",
       "**Teste 8**: O usuário informa uma senha exatamente com 8 caracteres, mas sem caracteres especiais\n",
       "**Cenário**: O usuário informa uma senha com 8 caracteres, mas sem caracteres especiais\n",
       "  **Dado** que o usuário está na tela de login  \n",
       "  **Quando** ele digita \"Senha12\" no campo de senha  \n",
       "  **Então** o sistema deve rejeitar a senha como inválida\n",
       "\n",
       "**Teste 9**: O usuário clica no link \"lembrar senha\"\n",
       "**Cenário**: O usuário clica no link \"lembrar senha\"\n",
       "  **Dado** que o usuário está na tela de login  \n",
       "  **Quando** ele clica no link \"lembrar senha\"  \n",
       "  **Então** o sistema deve redirecionar o usuário para a tela de recuperação de senha\n",
       "\n",
       "**Teste 10**: O usuário já está logado e clica no link \"lembrar senha\"\n",
       "**Cenário**: O usuário já está logado e tentado acessar \"lembrar senha\"\n",
       "  **Dado** que o usuário já está logado  \n",
       "  **Quando** ele clica no link \"lembrar senha\"  \n",
       "  **Então** o sistema deve mostrar uma mensagem informando que ele não pode redefinir a senha enquanto estiver logado\n",
       "```\n",
       "\n",
       "Esses novos casos de teste aumentam a cobertura, permitindo que cenários extras e potenciais falhas sejam identificados durante o processo de QA da tela de login."
      ],
      "text/plain": [
       "<IPython.core.display.Markdown object>"
      ]
     },
     "metadata": {},
     "output_type": "display_data"
    },
    {
     "data": {
      "text/markdown": [
       "----"
      ],
      "text/plain": [
       "<IPython.core.display.Markdown object>"
      ]
     },
     "metadata": {},
     "output_type": "display_data"
    }
   ],
   "source": [
    "prompt = \"\"\"\n",
    "Adicione mais casos de testes, por favor.\n",
    "\"\"\"\n",
    "\n",
    "display(Markdown(f\"*Prompt:*\"))\n",
    "display(Markdown(f\"----\"))\n",
    "display(Markdown(f\"{prompt}\"))\n",
    "display(Markdown(f\"----\"))\n",
    "\n",
    "input_messages = [HumanMessage(prompt)]\n",
    "output = app.invoke({\"messages\": input_messages}, config)\n",
    "resposta = output[\"messages\"][-1].content\n",
    "\n",
    "display(Markdown(f\"*Resposta:*\"))\n",
    "display(Markdown(f\"----\"))\n",
    "display(Markdown(f\"{resposta}\"))\n",
    "display(Markdown(f\"----\"))"
   ]
  },
  {
   "cell_type": "markdown",
   "id": "54fa6b3c-bc58-4389-8328-5d1c65f9ad19",
   "metadata": {},
   "source": [
    "## Pedindo para alterar o formato"
   ]
  },
  {
   "cell_type": "code",
   "execution_count": 7,
   "id": "423f5788-f569-4ef5-b8bd-000fa0c3d359",
   "metadata": {},
   "outputs": [
    {
     "data": {
      "text/markdown": [
       "*Prompt:*"
      ],
      "text/plain": [
       "<IPython.core.display.Markdown object>"
      ]
     },
     "metadata": {},
     "output_type": "display_data"
    },
    {
     "data": {
      "text/markdown": [
       "----"
      ],
      "text/plain": [
       "<IPython.core.display.Markdown object>"
      ]
     },
     "metadata": {},
     "output_type": "display_data"
    },
    {
     "data": {
      "text/markdown": [
       "\n",
       "Agora coloque no formato tabela, conforme exemplo abaixo:\n",
       "\n",
       "| Nº do Teste | Título                     | Pré-condições        | Ação                                             | Resultado Esperado                         |\n",
       "| ----------- | -------------------------- | -------------------- | ------------------------------------------------ | ------------------------------------------ |\n",
       "| 1           | E-mail inválido não aceito | Tela de login aberta | Inserir \"usuariosemarroba.com\" e clicar em Login | Mensagem de erro \"E-mail inválido\" exibida |\n",
       "| 2           | Senha curta bloqueada      | Tela de login aberta | Inserir \"abc123\" como senha e clicar em Login    | Mensagem de erro \"Senha inválida\" exibida  |\n"
      ],
      "text/plain": [
       "<IPython.core.display.Markdown object>"
      ]
     },
     "metadata": {},
     "output_type": "display_data"
    },
    {
     "data": {
      "text/markdown": [
       "----"
      ],
      "text/plain": [
       "<IPython.core.display.Markdown object>"
      ]
     },
     "metadata": {},
     "output_type": "display_data"
    },
    {
     "data": {
      "text/markdown": [
       "*Resposta:*"
      ],
      "text/plain": [
       "<IPython.core.display.Markdown object>"
      ]
     },
     "metadata": {},
     "output_type": "display_data"
    },
    {
     "data": {
      "text/markdown": [
       "----"
      ],
      "text/plain": [
       "<IPython.core.display.Markdown object>"
      ]
     },
     "metadata": {},
     "output_type": "display_data"
    },
    {
     "data": {
      "text/markdown": [
       "Claro! Aqui está a tabela com os casos de teste formatados conforme solicitado:\n",
       "\n",
       "| Nº do Teste | Título                                       | Pré-condições        | Ação                                                     | Resultado Esperado                                   |\n",
       "|-------------|----------------------------------------------|----------------------|----------------------------------------------------------|-----------------------------------------------------|\n",
       "| 1           | E-mail válido aceito                          | Tela de login aberta | Inserir \"usuario@dominio.com\" e clicar em Login         | Sistema aceita o e-mail como válido                 |\n",
       "| 2           | E-mail inválido não aceito                   | Tela de login aberta | Inserir \"usuariodominio.com\" e clicar em Login          | Mensagem de erro \"E-mail inválido\" exibida          |\n",
       "| 3           | E-mail com espaço em branco                   | Tela de login aberta | Inserir \" usuario@dominio.com \" e clicar em Login       | Mensagem de erro \"E-mail inválido\" exibida          |\n",
       "| 4           | Senha válida aceita                           | Tela de login aberta | Inserir \"Senha123!\" como senha e clicar em Login        | Sistema aceita a senha como válida                  |\n",
       "| 5           | Senha curta bloqueada                         | Tela de login aberta | Inserir \"senha\" como senha e clicar em Login            | Mensagem de erro \"Senha inválida\" exibida           |\n",
       "| 6           | Senha sem caracteres especiais                | Tela de login aberta | Inserir \"Senha12\" como senha e clicar em Login          | Mensagem de erro \"Senha inválida\" exibida           |\n",
       "| 7           | Tentativas de login ultrapassadas             | Tela de login aberta | Inserir senhas incorretas 4 vezes e clicar em Login     | Captcha é exibido                                   |\n",
       "| 8           | E-mail com caracteres especiais válidos       | Tela de login aberta | Inserir \"user.name@dominio.com\" e clicar em Login       | Sistema aceita o e-mail como válido                 |\n",
       "| 9           | Redirecionamento do link \"lembrar senha\"     | Tela de login aberta | Clicar no link \"lembrar senha\"                          | Sistema redireciona para a tela de recuperação      |\n",
       "| 10          | E-mail com domínio inválido                   | Tela de login aberta | Inserir \"usuario@dominio..com\" e clicar em Login        | Mensagem de erro \"E-mail inválido\" exibida          |\n",
       "| 11          | Senha longa bloqueada                         | Tela de login aberta | Inserir \"UmaSenhaMuitoLonga123!@#\" e clicar em Login     | Mensagem de erro \"Senha inválida\" exibida           |\n",
       "| 12          | Senha sem letras minúsculas                  | Tela de login aberta | Inserir \"SENHA123!\" como senha e clicar em Login        | Mensagem de erro \"Senha inválida\" exibida           |\n",
       "| 13          | Senha apenas com caracteres especiais         | Tela de login aberta | Inserir \"@#&*()!\" como senha e clicar em Login          | Mensagem de erro \"Senha inválida\" exibida           |\n",
       "| 14          | O usuário clica no link \"lembrar senha\"      | Tela de login aberta | Clicar no link \"lembrar senha\"                          | Sistema redireciona para a tela de recuperação      |\n",
       "| 15          | Usuário logado clica no link \"lembrar senha\" | Usuário está logado  | Clicar no link \"lembrar senha\"                          | Mensagem informando que não pode redefinir exibida  |\n",
       "\n",
       "Esses casos de teste na tabela possibilitam uma visão clara das condições necessárias, ações a serem realizadas e resultados esperados, facilitando o processo de validação da tela de login."
      ],
      "text/plain": [
       "<IPython.core.display.Markdown object>"
      ]
     },
     "metadata": {},
     "output_type": "display_data"
    },
    {
     "data": {
      "text/markdown": [
       "----"
      ],
      "text/plain": [
       "<IPython.core.display.Markdown object>"
      ]
     },
     "metadata": {},
     "output_type": "display_data"
    }
   ],
   "source": [
    "prompt = \"\"\"\n",
    "Agora coloque no formato tabela, conforme exemplo abaixo:\n",
    "\n",
    "| Nº do Teste | Título                     | Pré-condições        | Ação                                             | Resultado Esperado                         |\n",
    "| ----------- | -------------------------- | -------------------- | ------------------------------------------------ | ------------------------------------------ |\n",
    "| 1           | E-mail inválido não aceito | Tela de login aberta | Inserir \"usuariosemarroba.com\" e clicar em Login | Mensagem de erro \"E-mail inválido\" exibida |\n",
    "| 2           | Senha curta bloqueada      | Tela de login aberta | Inserir \"abc123\" como senha e clicar em Login    | Mensagem de erro \"Senha inválida\" exibida  |\n",
    "\"\"\"\n",
    "\n",
    "display(Markdown(f\"*Prompt:*\"))\n",
    "display(Markdown(f\"----\"))\n",
    "display(Markdown(f\"{prompt}\"))\n",
    "display(Markdown(f\"----\"))\n",
    "\n",
    "input_messages = [HumanMessage(prompt)]\n",
    "output = app.invoke({\"messages\": input_messages}, config)\n",
    "resposta = output[\"messages\"][-1].content\n",
    "\n",
    "display(Markdown(f\"*Resposta:*\"))\n",
    "display(Markdown(f\"----\"))\n",
    "display(Markdown(f\"{resposta}\"))\n",
    "display(Markdown(f\"----\"))"
   ]
  },
  {
   "cell_type": "code",
   "execution_count": null,
   "id": "5cf5bfcc-6781-4bf7-b020-bec33d26ce41",
   "metadata": {},
   "outputs": [],
   "source": []
  }
 ],
 "metadata": {
  "kernelspec": {
   "display_name": "Python 3 (ipykernel)",
   "language": "python",
   "name": "python3"
  },
  "language_info": {
   "codemirror_mode": {
    "name": "ipython",
    "version": 3
   },
   "file_extension": ".py",
   "mimetype": "text/x-python",
   "name": "python",
   "nbconvert_exporter": "python",
   "pygments_lexer": "ipython3",
   "version": "3.11.9"
  }
 },
 "nbformat": 4,
 "nbformat_minor": 5
}
