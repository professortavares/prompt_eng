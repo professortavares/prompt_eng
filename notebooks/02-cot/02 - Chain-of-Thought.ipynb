{
 "cells": [
  {
   "cell_type": "markdown",
   "id": "d55031bb-06ae-4ebb-aeb1-87f6b62e417d",
   "metadata": {},
   "source": [
    "# CoT - Chain-of-Thought\n",
    "\n",
    "* **Ideia**: Mostrar raciocínio passo-a-passo antes da resposta final \n",
    "* **Quando**: tarefas que exigem lógica (datas, contagens, regras de negócio)."
   ]
  },
  {
   "cell_type": "code",
   "execution_count": 1,
   "id": "3ebc3792-3106-43a6-a8fa-386dbda56cdf",
   "metadata": {},
   "outputs": [],
   "source": [
    "# Imports necessários\n",
    "from langchain_openai import ChatOpenAI\n",
    "from IPython.display import display, Markdown\n",
    "from pathlib import Path\n",
    "import os\n",
    "from dotenv import load_dotenv"
   ]
  },
  {
   "cell_type": "code",
   "execution_count": 2,
   "id": "34ed353e-667f-4abd-b84c-e7842058ff7e",
   "metadata": {},
   "outputs": [
    {
     "data": {
      "text/plain": [
       "True"
      ]
     },
     "execution_count": 2,
     "metadata": {},
     "output_type": "execute_result"
    }
   ],
   "source": [
    "dotenv_path = Path(\"../.env\")\n",
    "load_dotenv(dotenv_path=dotenv_path)"
   ]
  },
  {
   "cell_type": "code",
   "execution_count": 3,
   "id": "c7bf986c-5c98-4361-b3e6-f82c33ced699",
   "metadata": {},
   "outputs": [],
   "source": [
    "os.environ[\"OPENAI_API_KEY\"] = os.getenv(\"OPENAI_API_KEY\")\n",
    "llm = ChatOpenAI(model=\"gpt-4o-mini\")"
   ]
  },
  {
   "cell_type": "markdown",
   "id": "da4ecdb2-d628-43cd-aff4-9ad6221e431f",
   "metadata": {},
   "source": [
    "## **PROMPT 01:** Aqui vou fazer um prompt CoT para o analista de QA"
   ]
  },
  {
   "cell_type": "code",
   "execution_count": 4,
   "id": "cf5fc8f3-ebe7-4e7d-a35e-3a70e0e0d861",
   "metadata": {},
   "outputs": [
    {
     "data": {
      "text/markdown": [
       "*Prompt:*"
      ],
      "text/plain": [
       "<IPython.core.display.Markdown object>"
      ]
     },
     "metadata": {},
     "output_type": "display_data"
    },
    {
     "data": {
      "text/markdown": [
       "----"
      ],
      "text/plain": [
       "<IPython.core.display.Markdown object>"
      ]
     },
     "metadata": {},
     "output_type": "display_data"
    },
    {
     "data": {
      "text/markdown": [
       "\n",
       "Você é um **engenheiro de QA experiente**, responsável por validar os requisitos de uma tela de login.\n",
       "\n",
       "Antes de criar o plano de testes, **pense passo a passo sobre cada requisito**, identificando possíveis cenários de uso, limites, exceções e validações.\n",
       "\n",
       "**Requisitos da tela de login**:\n",
       "\n",
       "* O campo de nome de usuário deve aceitar apenas e-mails válidos.\n",
       "* A senha deve ter entre 8 e 20 caracteres, contendo letras maiúsculas, minúsculas, números e caracteres especiais.\n",
       "* O sistema deve permitir no máximo 3 tentativas de login. Após isso, um captcha deve ser exibido.\n",
       "* O link \"lembrar senha\" deve levar o usuário para a tela correspondente.\n",
       "\n",
       "Siga esta cadeia de pensamento:\n",
       "\n",
       "1. Para cada requisito, identifique **o objetivo da regra**.\n",
       "2. Em seguida, pense em **cenários válidos** e **cenários inválidos**.\n",
       "3. Considere também **casos limite e exceções possíveis**.\n",
       "4. Por fim, **gere os testes com base nesse raciocínio**, no formato Gherkin (Given–When–Then), conforme exemplo abaixo:\n",
       "\n",
       "```\n",
       "**Teste 1**: Verificação de acesso com credenciais válidas  \n",
       "**Cenário**: O usuário entra com dados corretos\n",
       "\n",
       "**Dado** que o usuário está na tela de login  \n",
       "**Quando** ele digita o e-mail e a senha corretos  \n",
       "**Então** o sistema deve redirecioná-lo para a página inicial\n",
       "```\n",
       "\n",
       "Comece pensando em voz alta sobre o primeiro requisito e continue com os demais. Depois disso, apresente os testes estruturados.\n"
      ],
      "text/plain": [
       "<IPython.core.display.Markdown object>"
      ]
     },
     "metadata": {},
     "output_type": "display_data"
    },
    {
     "data": {
      "text/markdown": [
       "----"
      ],
      "text/plain": [
       "<IPython.core.display.Markdown object>"
      ]
     },
     "metadata": {},
     "output_type": "display_data"
    },
    {
     "data": {
      "text/markdown": [
       "*Resposta:*"
      ],
      "text/plain": [
       "<IPython.core.display.Markdown object>"
      ]
     },
     "metadata": {},
     "output_type": "display_data"
    },
    {
     "data": {
      "text/markdown": [
       "----"
      ],
      "text/plain": [
       "<IPython.core.display.Markdown object>"
      ]
     },
     "metadata": {},
     "output_type": "display_data"
    },
    {
     "data": {
      "text/markdown": [
       "Vamos abordar cada requisito, analisando seu objetivo, cenários válidos, cenários inválidos e casos limites, antes de formular os testes no formato Gherkin.\n",
       "\n",
       "### Requisito 1: O campo de nome de usuário deve aceitar apenas e-mails válidos.\n",
       "\n",
       "**Objetivo da regra:** Garantir que o campo de nome de usuário aceite apenas e-mails que estejam em um formato válido, evitando assim tentativas de login com dados incorretos.\n",
       "\n",
       "**Cenários válidos:**\n",
       "- O usuário insere um e-mail válido, como \"usuario@dominio.com\".\n",
       "- O usuário insere um e-mail com subdomínio, como \"usuario@sub.dominio.com\".\n",
       "- O usuário insere um e-mail com caracteres especiais permitidos, como \"usuario123@dominio.co.uk\".\n",
       "\n",
       "**Cenários inválidos:**\n",
       "- O usuário insere um e-mail sem \"@\" como \"usuario.dominio.com\".\n",
       "- O usuário insere um e-mail sem domínio, como \"usuario@\".\n",
       "- O usuário insere um e-mail vazio.\n",
       "- O usuário insere um e-mail com espaços, como \" usuario@dominio.com \".\n",
       "- O usuário insere um e-mail com caracteres especiais inválidos, como \"usu@rio*dominio.com\".\n",
       "\n",
       "**Casos limite e exceções:**\n",
       "- O usuário insere um e-mail com o limite máximo de caracteres, como \"um@dominio.com\" (validar o limite de 254 caracteres totais).\n",
       "  \n",
       "### Requisito 2: A senha deve ter entre 8 e 20 caracteres, contendo letras maiúsculas, minúsculas, números e caracteres especiais.\n",
       "\n",
       "**Objetivo da regra:** Assegurar que as senhas atendam a critérios de segurança, dificultando o acesso não autorizado.\n",
       "\n",
       "**Cenários válidos:**\n",
       "- O usuário insere uma senha como \"Senha@1234\" com 12 caracteres.\n",
       "- O usuário insere uma senha com 8 caracteres, como \"Pwd@1a\".\n",
       "- O usuário insere uma senha de exatamente 20 caracteres, como \"Senh@UnoDosTres456!\".\n",
       "\n",
       "**Cenários inválidos:**\n",
       "- O usuário insere uma senha com menos de 8 caracteres, como \"Pwd1!\".\n",
       "- O usuário insere uma senha com mais de 20 caracteres, como \"SenhaMuitoLonga@123456\".\n",
       "- O usuário insere uma senha que não contém letras maiúsculas, como \"senha@1234\".\n",
       "- O usuário insere uma senha que não contém letras minúsculas, como \"SENHA@1234\".\n",
       "- O usuário insere uma senha que não contém números, como \"Senha@abcde\".\n",
       "- O usuário insere uma senha que não contém caracteres especiais, como \"Senha1234\".\n",
       "\n",
       "**Casos limite e exceções:**\n",
       "- Testar senhas do exato tamanho mínimo (8 caracteres) e máximo (20 caracteres).\n",
       "\n",
       "### Requisito 3: O sistema deve permitir no máximo 3 tentativas de login. Após isso, um captcha deve ser exibido.\n",
       "\n",
       "**Objetivo da regra:** Proteger a conta contra ataques de força bruta, limitando o número de tentativas.\n",
       "\n",
       "**Cenários válidos:**\n",
       "- O usuário insere credenciais erradas na primeira e na segunda tentativas e pode ainda tentar na terceira.\n",
       "- O usuário insere credenciais erradas em 3 tentativas consecutivas e, na próxima operação, um captcha é exibido.\n",
       "\n",
       "**Cenários inválidos:**\n",
       "- O usuário tenta se logar mais de 3 vezes sem verificação (deve ser impedido de prosseguir).\n",
       "\n",
       "**Casos limite e exceções:**\n",
       "- O usuário alterna entre tentativas corretas e incorretas, testando se o limite de 3 permanece.\n",
       "\n",
       "### Requisito 4: O link \"lembrar senha\" deve levar o usuário para a tela correspondente.\n",
       "\n",
       "**Objetivo da regra:** Fornecer uma opção para recuperar ou redefinir a senha caso o usuário não a lembre.\n",
       "\n",
       "**Cenários válidos:**\n",
       "- O usuário clica no link \"lembrar senha\" e é redirecionado para a tela correta de recuperação de senha.\n",
       "\n",
       "**Cenários inválidos:**\n",
       "- O link \"lembrar senha\" não leva o usuário a lugar algum (verificar que ele funciona).\n",
       "\n",
       "**Casos limite e exceções:**\n",
       "- Verificar se os usuários que já estão logados ao clicar no link \"lembrar senha\" são redirecionados corretamente.\n",
       "\n",
       "---\n",
       "\n",
       "### Testes Estruturados em Gherkin\n",
       "\n",
       "```gherkin\n",
       "## Requisito 1: Validação de e-mails\n",
       "**Teste 1**: Validação do campo de nome de usuário  \n",
       "**Cenário**: O usuário insere um e-mail válido  \n",
       "**Dado** que o usuário está na tela de login  \n",
       "**Quando** ele digita \"usuario@dominio.com\"  \n",
       "**Então** o sistema deve aceitar o e-mail\n",
       "\n",
       "**Cenário**: O usuário insere um e-mail inválido  \n",
       "**Dado** que o usuário está na tela de login  \n",
       "**Quando** ele digita \"usuario.dominio.com\"  \n",
       "**Então** o sistema deve mostrar uma mensagem de erro indicando que o e-mail é inválido\n",
       "\n",
       "## Requisito 2: Validação de senha\n",
       "**Teste 2**: Validação do campo de senha  \n",
       "**Cenário**: O usuário insere uma senha válida  \n",
       "**Dado** que o usuário está na tela de login  \n",
       "**Quando** ele digita \"Senha@1234\"  \n",
       "**Então** o sistema deve aceitar a senha\n",
       "\n",
       "**Cenário**: O usuário insere uma senha inválida  \n",
       "**Dado** que o usuário está na tela de login  \n",
       "**Quando** ele digita \"senha\"  \n",
       "**Então** o sistema deve mostrar uma mensagem de erro indicando que a senha não atende aos critérios\n",
       "\n",
       "## Requisito 3: Limite de tentativas de login\n",
       "**Teste 3**: Tentativas de login  \n",
       "**Cenário**: O usuário excede o limite de tentativas de login  \n",
       "**Dado** que o usuário está na tela de login  \n",
       "**Quando** ele tenta logar com credenciais erradas 3 vezes  \n",
       "**Então** um captcha deve ser exibido\n",
       "\n",
       "## Requisito 4: Funcionalidade do link \"lembrar senha\"\n",
       "**Teste 4**: Redirecionamento do link \"lembrar senha\"  \n",
       "**Cenário**: O usuário clica no link \"lembrar senha\"  \n",
       "**Dado** que o usuário está na tela de login  \n",
       "**Quando** ele clica no link \"lembrar senha\"  \n",
       "**Então** ele deve ser redirecionado para a tela de recuperação de senha\n",
       "```\n",
       "\n",
       "Esses são os testes estruturados que foram elaborados a partir da análise dos requisitos da tela de login. Cada teste abrange tanto cenários válidos quanto inválidos, garantindo assim a validação completa e eficaz da funcionalidade."
      ],
      "text/plain": [
       "<IPython.core.display.Markdown object>"
      ]
     },
     "metadata": {},
     "output_type": "display_data"
    },
    {
     "data": {
      "text/markdown": [
       "----"
      ],
      "text/plain": [
       "<IPython.core.display.Markdown object>"
      ]
     },
     "metadata": {},
     "output_type": "display_data"
    }
   ],
   "source": [
    "prompt = \"\"\"\n",
    "Você é um **engenheiro de QA experiente**, responsável por validar os requisitos de uma tela de login.\n",
    "\n",
    "Antes de criar o plano de testes, **pense passo a passo sobre cada requisito**, identificando possíveis cenários de uso, limites, exceções e validações.\n",
    "\n",
    "**Requisitos da tela de login**:\n",
    "\n",
    "* O campo de nome de usuário deve aceitar apenas e-mails válidos.\n",
    "* A senha deve ter entre 8 e 20 caracteres, contendo letras maiúsculas, minúsculas, números e caracteres especiais.\n",
    "* O sistema deve permitir no máximo 3 tentativas de login. Após isso, um captcha deve ser exibido.\n",
    "* O link \"lembrar senha\" deve levar o usuário para a tela correspondente.\n",
    "\n",
    "Siga esta cadeia de pensamento:\n",
    "\n",
    "1. Para cada requisito, identifique **o objetivo da regra**.\n",
    "2. Em seguida, pense em **cenários válidos** e **cenários inválidos**.\n",
    "3. Considere também **casos limite e exceções possíveis**.\n",
    "4. Por fim, **gere os testes com base nesse raciocínio**, no formato Gherkin (Given–When–Then), conforme exemplo abaixo:\n",
    "\n",
    "```\n",
    "**Teste 1**: Verificação de acesso com credenciais válidas  \n",
    "**Cenário**: O usuário entra com dados corretos\n",
    "\n",
    "**Dado** que o usuário está na tela de login  \n",
    "**Quando** ele digita o e-mail e a senha corretos  \n",
    "**Então** o sistema deve redirecioná-lo para a página inicial\n",
    "```\n",
    "\n",
    "Comece pensando em voz alta sobre o primeiro requisito e continue com os demais. Depois disso, apresente os testes estruturados.\n",
    "\"\"\"\n",
    "\n",
    "display(Markdown(f\"*Prompt:*\"))\n",
    "display(Markdown(f\"----\"))\n",
    "display(Markdown(f\"{prompt}\"))\n",
    "display(Markdown(f\"----\"))\n",
    "\n",
    "response = llm.invoke(prompt)\n",
    "\n",
    "display(Markdown(f\"*Resposta:*\"))\n",
    "display(Markdown(f\"----\"))\n",
    "display(Markdown(f\"{response.content}\"))\n",
    "display(Markdown(f\"----\"))"
   ]
  },
  {
   "cell_type": "code",
   "execution_count": null,
   "id": "90f5f315-3043-40ef-8252-9e1fc0b0a7b7",
   "metadata": {},
   "outputs": [],
   "source": []
  }
 ],
 "metadata": {
  "kernelspec": {
   "display_name": "Python 3 (ipykernel)",
   "language": "python",
   "name": "python3"
  },
  "language_info": {
   "codemirror_mode": {
    "name": "ipython",
    "version": 3
   },
   "file_extension": ".py",
   "mimetype": "text/x-python",
   "name": "python",
   "nbconvert_exporter": "python",
   "pygments_lexer": "ipython3",
   "version": "3.11.9"
  }
 },
 "nbformat": 4,
 "nbformat_minor": 5
}
