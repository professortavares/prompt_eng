{
 "cells": [
  {
   "cell_type": "markdown",
   "id": "d55031bb-06ae-4ebb-aeb1-87f6b62e417d",
   "metadata": {},
   "source": [
    "# Auto CoT - Auto Chain-of-Thought\n",
    "\n",
    "É uma extensão automatizada da técnica tradicional de Chain-of-Thought (CoT). A ideia central é gerar automaticamente cadeias de raciocínio passo a passo (em vez de criá-las manualmente) para instruir modelos de linguagem em tarefas de raciocínio complexo."
   ]
  },
  {
   "cell_type": "code",
   "execution_count": 1,
   "id": "3ebc3792-3106-43a6-a8fa-386dbda56cdf",
   "metadata": {},
   "outputs": [],
   "source": [
    "# Imports necessários\n",
    "from langchain_openai import ChatOpenAI\n",
    "from IPython.display import display, Markdown\n",
    "from pathlib import Path\n",
    "import os\n",
    "from dotenv import load_dotenv"
   ]
  },
  {
   "cell_type": "code",
   "execution_count": 2,
   "id": "34ed353e-667f-4abd-b84c-e7842058ff7e",
   "metadata": {},
   "outputs": [
    {
     "data": {
      "text/plain": [
       "True"
      ]
     },
     "execution_count": 2,
     "metadata": {},
     "output_type": "execute_result"
    }
   ],
   "source": [
    "dotenv_path = Path(\"../.env\")\n",
    "load_dotenv(dotenv_path=dotenv_path)"
   ]
  },
  {
   "cell_type": "code",
   "execution_count": 3,
   "id": "c7bf986c-5c98-4361-b3e6-f82c33ced699",
   "metadata": {},
   "outputs": [],
   "source": [
    "os.environ[\"OPENAI_API_KEY\"] = os.getenv(\"OPENAI_API_KEY\")\n",
    "llm = ChatOpenAI(model=\"gpt-4o-mini\")"
   ]
  },
  {
   "cell_type": "markdown",
   "id": "da4ecdb2-d628-43cd-aff4-9ad6221e431f",
   "metadata": {},
   "source": [
    "## **PROMPT 01:** Aqui vou fazer um prompt Auto CoT para o analista de QA"
   ]
  },
  {
   "cell_type": "code",
   "execution_count": 5,
   "id": "cf5fc8f3-ebe7-4e7d-a35e-3a70e0e0d861",
   "metadata": {},
   "outputs": [
    {
     "data": {
      "text/markdown": [
       "*Prompt:*"
      ],
      "text/plain": [
       "<IPython.core.display.Markdown object>"
      ]
     },
     "metadata": {},
     "output_type": "display_data"
    },
    {
     "data": {
      "text/markdown": [
       "----"
      ],
      "text/plain": [
       "<IPython.core.display.Markdown object>"
      ]
     },
     "metadata": {},
     "output_type": "display_data"
    },
    {
     "data": {
      "text/markdown": [
       "\n",
       "Você é um engenheiro de QA experiente, responsável por validar funcionalidades de sistemas web.\n",
       "\n",
       "Sua tarefa é gerar **cadeias de raciocínio passo a passo** para criar planos de teste baseados nos requisitos da tela de login abaixo. Para cada requisito, pense de **três formas diferentes** sobre como ele pode ser validado, incluindo:\n",
       "- Objetivo da regra\n",
       "- Casos de sucesso\n",
       "- Casos de erro\n",
       "- Casos limite\n",
       "- Possíveis falhas de segurança\n",
       "- Considerações de acessibilidade ou usabilidade\n",
       "\n",
       "Requisitos:\n",
       "1. O campo de nome de usuário deve aceitar apenas e-mails válidos.\n",
       "2. A senha deve ter entre 8 e 20 caracteres, contendo letras maiúsculas, minúsculas, números e caracteres especiais.\n",
       "3. O sistema deve permitir no máximo 3 tentativas de login. Após isso, um captcha deve ser exibido.\n",
       "4. O link \"lembrar senha\" deve redirecionar corretamente para a tela de recuperação.\n",
       "\n",
       "**Instruções:**\n",
       "- Para cada requisito, gere **3 raciocínios distintos**, como se estivessem vindo de profissionais diferentes.\n",
       "- Não gere ainda os testes. Apenas pense passo a passo sobre como cada requisito deve ser abordado.\n",
       "- Use uma estrutura clara como:\n",
       "  - Raciocínio A:\n",
       "  - Raciocínio B:\n",
       "  - Raciocínio C:\n",
       "\n",
       "Por fim, **gere os testes com base no melhor raciocínio de cada requisito**, no formato Gherkin (Given–When–Then), conforme exemplo abaixo:\n",
       "\n",
       "```\n",
       "**Teste 1**: Verificação de acesso com credenciais válidas  \n",
       "**Cenário**: O usuário entra com dados corretos\n",
       "\n",
       "**Dado** que o usuário está na tela de login  \n",
       "**Quando** ele digita o e-mail e a senha corretos  \n",
       "**Então** o sistema deve redirecioná-lo para a página inicial\n",
       "```\n",
       "\n"
      ],
      "text/plain": [
       "<IPython.core.display.Markdown object>"
      ]
     },
     "metadata": {},
     "output_type": "display_data"
    },
    {
     "data": {
      "text/markdown": [
       "----"
      ],
      "text/plain": [
       "<IPython.core.display.Markdown object>"
      ]
     },
     "metadata": {},
     "output_type": "display_data"
    },
    {
     "data": {
      "text/markdown": [
       "*Resposta:*"
      ],
      "text/plain": [
       "<IPython.core.display.Markdown object>"
      ]
     },
     "metadata": {},
     "output_type": "display_data"
    },
    {
     "data": {
      "text/markdown": [
       "----"
      ],
      "text/plain": [
       "<IPython.core.display.Markdown object>"
      ]
     },
     "metadata": {},
     "output_type": "display_data"
    },
    {
     "data": {
      "text/markdown": [
       "### Requisito 1: O campo de nome de usuário deve aceitar apenas e-mails válidos.\n",
       "\n",
       "**Raciocínio A:**\n",
       "- Objetivo da regra: Garantir que o campo de nome de usuário só receba entradas de e-mail válidas para evitar falhas de autenticação.\n",
       "- Casos de sucesso: O usuário inseriu \"usuario@exemplo.com\" e o sistema aceitou.\n",
       "- Casos de erro: O usuário inseriu \"usuario@exemplo\" e o sistema rejeitou a entrada.\n",
       "- Casos limite: O usuário inseriu \"a@b.co\" (um e-mail válido, mas minimalista) e o sistema aceitou.\n",
       "- Possíveis falhas de segurança: Um e-mail como \"usuario<script>alert('xss')</script>@exemplo.com\" deve ser tratado para evitar ataques de injeção.\n",
       "- Considerações de acessibilidade ou usabilidade: O sistema deve fornecer mensagens claras de erro e dicas de que tipo de e-mail é aceito.\n",
       "\n",
       "**Raciocínio B:**\n",
       "- Objetivo da regra: Assegurar a integridade dos dados de login.\n",
       "- Casos de sucesso: O uso de um e-mail corretamente formatado (ex.: \"usuario@dominio.com\").\n",
       "- Casos de erro: E-mails faltando o domínio (\"usuario@\") ou com formato incorreto (\"usuario@@dominio.com\").\n",
       "- Casos limite: E-mails longos perto do limite de 254 caracteres, como \"usuario@umdominiolongo.com.br\", devem ser aceitos.\n",
       "- Possíveis falhas de segurança: O sistema não deve permitir que e-mails que contenham comandos maliciosos sejam aceitos.\n",
       "- Considerações de acessibilidade ou usabilidade: O campo deve ser indicado como \"Nome de usuário (e-mail)\" para evitar confusão.\n",
       "\n",
       "**Raciocínio C:**\n",
       "- Objetivo da regra: Prevenção de falhas de autenticação com e-mails mal formados.\n",
       "- Casos de sucesso: Usuários que inserem \"nome.sobrenome@dominio.com\" são capazes de login.\n",
       "- Casos de erro: E-mails sem o sinal \"@\" ou com caracteres inválidos devem ser negados pelo sistema.\n",
       "- Casos limite: E-mails começando ou terminando com um ponto (\".\") devem ser rejeitados.\n",
       "- Possíveis falhas de segurança: Permitir e-mails não verificados pode levar à criação de contas falsas ou phishing.\n",
       "- Considerações de acessibilidade ou usabilidade: Feedback em tempo real durante a digitação do e-mail pode ajudar os usuários.\n",
       "\n",
       "### Requisito 2: A senha deve ter entre 8 e 20 caracteres, contendo letras maiúsculas, minúsculas, números e caracteres especiais.\n",
       "\n",
       "**Raciocínio A:**\n",
       "- Objetivo da regra: Garantir que as senhas sejam suficientemente complexas para aumentar a segurança.\n",
       "- Casos de sucesso: Uma senha como \"Senha123!\" é aceita.\n",
       "- Casos de erro: Uma senha apenas com letras \"abcdefg\" é rejeitada.\n",
       "- Casos limite: Senhas de 8 e 20 caracteres com a combinação correta de tipos de caráter devem ser aceitas.\n",
       "- Possíveis falhas de segurança: Senhas que só usam números devem ser rejeitadas.\n",
       "- Considerações de acessibilidade ou usabilidade: O sistema deve ter um indicador visual de força da senha.\n",
       "\n",
       "**Raciocínio B:**\n",
       "- Objetivo da regra: Prevenir senhas fracas que possam ser facilmente descobertas.\n",
       "- Casos de sucesso: Senhas complexas que atendem a todos os critérios são aceitas.\n",
       "- Casos de erro: Senhas com menos de 8 ou mais de 20 caracteres são rejeitadas.\n",
       "- Casos limite: Testar senhas exatamente na fronteira de 8 e 20 caracteres, como \"Abc1!xyz\" e \"A1!bcdefghijklmnopqrstu\".\n",
       "- Possíveis falhas de segurança: Aceitar senhas que incluem sequências óbvias como \"12345678\" deve ser evitado.\n",
       "- Considerações de acessibilidade ou usabilidade: O campo de senha deve incluir uma sugestão de requisitos para ajudar na criação de senhas.\n",
       "\n",
       "**Raciocínio C:**\n",
       "- Objetivo da regra: Assegurar que a complexidade da senha evita acessos não autorizados.\n",
       "- Casos de sucesso: Senhas que combinam todos os requisitos são aceitas.\n",
       "- Casos de erro: Senhas muito curtas ou que não incluem todos os tipos de caráter são negadas.\n",
       "- Casos limite: Senhas em preto e branco (ex.: apenas caracteres minúsculos, sem números e sem especiais) devem ser rejeitadas.\n",
       "- Possíveis falhas de segurança: O sistema deve ter proteção contra tentativas de quebra de senha (brute-force).\n",
       "- Considerações de acessibilidade ou usabilidade: Fornecer uma função de \"mostrar/ocultar\" senha pode ajudar usuários a inserir senhas corretamente.\n",
       "\n",
       "### Requisito 3: O sistema deve permitir no máximo 3 tentativas de login. Após isso, um captcha deve ser exibido.\n",
       "\n",
       "**Raciocínio A:**\n",
       "- Objetivo da regra: Proteger o sistema de tentativas de login maliciosas.\n",
       "- Casos de sucesso: Um usuário faz 3 tentativas com credenciais inválidas e o captcha é mostrado.\n",
       "- Casos de erro: Um usuário consegue realizar várias tentativas sem ser interrompido.\n",
       "- Casos limite: Um usuário faz exatamente 3 tentativas antes do captcha.\n",
       "- Possíveis falhas de segurança: Um captcha mal implementado pode ser contornado ou não funcionar corretamente.\n",
       "- Considerações de acessibilidade ou usabilidade: O captcha deve ser acessível a usuários com deficiência.\n",
       "\n",
       "**Raciocínio B:**\n",
       "- Objetivo da regra: Limitar tentativas de login para aumentar a segurança.\n",
       "- Casos de sucesso: Após 3 tentativas erradas, o usuário é solicitado a completar um captcha.\n",
       "- Casos de erro: O sistema não mostra o captcha após 3 tentativas.\n",
       "- Casos limite: Verificar o comportamento do sistema após a quarta tentativa.\n",
       "- Possíveis falhas de segurança: Um usuário pode usar ataques distribuídos para contornar o limite.\n",
       "- Considerações de acessibilidade ou usabilidade: O captcha deve ter opções alternativas para acessibilidade.\n",
       "\n",
       "**Raciocínio C:**\n",
       "- Objetivo da regra: Impedir acesso não autorizado através de múltiplas tentativas.\n",
       "- Casos de sucesso: O sistema mostra o captcha após a terceira tentativa falha.\n",
       "- Casos de erro: O sistema exibe o captcha em momentos errados ou sem necessidade.\n",
       "- Casos limite: Testar o que acontece se o usuário tenta logar logo após resolver o captcha.\n",
       "- Possíveis falhas de segurança: Um captcha que não é aleatório pode ser explorado.\n",
       "- Considerações de acessibilidade ou usabilidade: O uso de schematics adequados deve garantir que a validação seja amigável.\n",
       "\n",
       "### Requisito 4: O link \"lembrar senha\" deve redirecionar corretamente para a tela de recuperação.\n",
       "\n",
       "**Raciocínio A:**\n",
       "- Objetivo da regra: Garantir que usuários que esqueceram suas senhas possam recuperá-las de forma fácil.\n",
       "- Casos de sucesso: O link leva o usuário à página correta de recuperação.\n",
       "- Casos de erro: O link não redireciona ou leva a uma página de erro.\n",
       "- Casos limite: Verificar o comportamento do link em diferentes navegadores e dispositivos.\n",
       "- Possíveis falhas de segurança: O link não deve expor informações sensíveis.\n",
       "- Considerações de acessibilidade ou usabilidade: O link deve ter um texto claro e acessível.\n",
       "\n",
       "**Raciocínio B:**\n",
       "- Objetivo da regra: Facilitar a recuperação de senha com processos claros.\n",
       "- Casos de sucesso: O usuário clica no link e é redirecionado corretamente.\n",
       "- Casos de erro: O link está inativo ou leva para uma página errada.\n",
       "- Casos limite: Navegação do link sem uma conexão de internet ativa.\n",
       "- Possíveis falhas de segurança: O link não deve permitir que usuários mal-intencionados acessem informações privadas.\n",
       "- Considerações de acessibilidade ou usabilidade: O link deve ser distinguido visualmente e fácil de encontrar.\n",
       "\n",
       "**Raciocínio C:**\n",
       "- Objetivo da regra: Simplificar a recuperação de senhas esquecidas para usuários.\n",
       "- Casos de sucesso: O link \"lembrar senha\" é clicado e leva à tela correta.\n",
       "- Casos de erro: Um erro de redirecionamento leva a uma tela de login novamente.\n",
       "- Casos limite: Testar a funcionalidade com usuários que não estão logados.\n",
       "- Possíveis falhas de segurança: O redirecionamento deve ser seguro e não causar vazamento de informações.\n",
       "- Considerações de acessibilidade ou usabilidade: O tempo de resposta do link deve ser rápido e consistir com práticas de design acessível.\n",
       "\n",
       "---\n",
       "\n",
       "### Testes Gherkin com base no melhor raciocínio de cada requisito\n",
       "\n",
       "**Teste 1**: Validação do campo de nome de usuário para aceitar apenas e-mails válidos  \n",
       "**Cenário**: Inserir um e-mail válido  \n",
       "**Dado** que o usuário na tela de login  \n",
       "**Quando** ele digita \"usuario@exemplo.com\"  \n",
       "**Então** o sistema deve aceitar a entrada  \n",
       "\n",
       "**Teste 2**: Validação das regras de complexidade da senha  \n",
       "**Cenário**: Inserir senha válida  \n",
       "**Dado** que o usuário está na tela de login  \n",
       "**Quando** ele digita uma senha \"Senha123!\"  \n",
       "**Então** o sistema deve aceitar a senha  \n",
       "\n",
       "**Teste 3**: Limitação de tentativas de login  \n",
       "**Cenário**: Após três tentativas de login falhadas  \n",
       "**Dado** que o usuário tentou logar com a senha errada três vezes   \n",
       "**Quando** ele tenta uma quarta vez  \n",
       "**Então** o sistema deve apresentar um captcha  \n",
       "\n",
       "**Teste 4**: Redirecionamento do link \"lembrar senha\"  \n",
       "**Cenário**: Clicar no link \"lembrar senha\"  \n",
       "**Dado** que o usuário está na tela de login  \n",
       "**Quando** ele clica no link \"lembrar senha\"  \n",
       "**Então** o sistema deve redirecioná-lo para a tela de recuperação de senha  "
      ],
      "text/plain": [
       "<IPython.core.display.Markdown object>"
      ]
     },
     "metadata": {},
     "output_type": "display_data"
    },
    {
     "data": {
      "text/markdown": [
       "----"
      ],
      "text/plain": [
       "<IPython.core.display.Markdown object>"
      ]
     },
     "metadata": {},
     "output_type": "display_data"
    }
   ],
   "source": [
    "prompt = \"\"\"\n",
    "Você é um engenheiro de QA experiente, responsável por validar funcionalidades de sistemas web.\n",
    "\n",
    "Sua tarefa é gerar **cadeias de raciocínio passo a passo** para criar planos de teste baseados nos requisitos da tela de login. \n",
    "Para cada requisito, pense de **três formas diferentes** sobre como ele pode ser validado, incluindo:\n",
    "- Objetivo da regra\n",
    "- Casos de sucesso\n",
    "- Casos de erro\n",
    "- Casos limite\n",
    "- Possíveis falhas de segurança\n",
    "- Considerações de acessibilidade ou usabilidade\n",
    "\n",
    "Requisitos:\n",
    "1. O campo de nome de usuário deve aceitar apenas e-mails válidos.\n",
    "2. A senha deve ter entre 8 e 20 caracteres, contendo letras maiúsculas, minúsculas, números e caracteres especiais.\n",
    "3. O sistema deve permitir no máximo 3 tentativas de login. Após isso, um captcha deve ser exibido.\n",
    "4. O link \"lembrar senha\" deve redirecionar corretamente para a tela de recuperação.\n",
    "\n",
    "**Instruções:**\n",
    "- Para cada requisito, gere **3 raciocínios distintos**, como se estivessem vindo de profissionais diferentes.\n",
    "- Não gere ainda os testes. Apenas pense passo a passo sobre como cada requisito deve ser abordado.\n",
    "- Use uma estrutura clara como:\n",
    "  - Raciocínio A:\n",
    "  - Raciocínio B:\n",
    "  - Raciocínio C:\n",
    "\n",
    "Por fim, **gere os testes com base no melhor raciocínio de cada requisito**, no formato Gherkin (Given–When–Then), conforme exemplo abaixo:\n",
    "\n",
    "```\n",
    "**Teste 1**: Verificação de acesso com credenciais válidas  \n",
    "**Cenário**: O usuário entra com dados corretos\n",
    "\n",
    "**Dado** que o usuário está na tela de login  \n",
    "**Quando** ele digita o e-mail e a senha corretos  \n",
    "**Então** o sistema deve redirecioná-lo para a página inicial\n",
    "```\n",
    "  \n",
    "\"\"\"\n",
    "\n",
    "display(Markdown(f\"*Prompt:*\"))\n",
    "display(Markdown(f\"----\"))\n",
    "display(Markdown(f\"{prompt}\"))\n",
    "display(Markdown(f\"----\"))\n",
    "\n",
    "response = llm.invoke(prompt)\n",
    "\n",
    "display(Markdown(f\"*Resposta:*\"))\n",
    "display(Markdown(f\"----\"))\n",
    "display(Markdown(f\"{response.content}\"))\n",
    "display(Markdown(f\"----\"))"
   ]
  },
  {
   "cell_type": "code",
   "execution_count": null,
   "id": "90f5f315-3043-40ef-8252-9e1fc0b0a7b7",
   "metadata": {},
   "outputs": [],
   "source": []
  }
 ],
 "metadata": {
  "kernelspec": {
   "display_name": "Python 3 (ipykernel)",
   "language": "python",
   "name": "python3"
  },
  "language_info": {
   "codemirror_mode": {
    "name": "ipython",
    "version": 3
   },
   "file_extension": ".py",
   "mimetype": "text/x-python",
   "name": "python",
   "nbconvert_exporter": "python",
   "pygments_lexer": "ipython3",
   "version": "3.11.9"
  }
 },
 "nbformat": 4,
 "nbformat_minor": 5
}
