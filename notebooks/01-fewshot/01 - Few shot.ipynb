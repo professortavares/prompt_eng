{
 "cells": [
  {
   "cell_type": "markdown",
   "id": "d55031bb-06ae-4ebb-aeb1-87f6b62e417d",
   "metadata": {},
   "source": [
    "# FEW SHOT\n",
    "\n",
    "Estudo de prompts FEW SHOT"
   ]
  },
  {
   "cell_type": "code",
   "execution_count": 1,
   "id": "3ebc3792-3106-43a6-a8fa-386dbda56cdf",
   "metadata": {},
   "outputs": [],
   "source": [
    "# Imports necessários\n",
    "from langchain_openai import ChatOpenAI\n",
    "from IPython.display import display, Markdown\n",
    "from pathlib import Path\n",
    "import os\n",
    "from dotenv import load_dotenv"
   ]
  },
  {
   "cell_type": "code",
   "execution_count": 2,
   "id": "34ed353e-667f-4abd-b84c-e7842058ff7e",
   "metadata": {},
   "outputs": [
    {
     "data": {
      "text/plain": [
       "True"
      ]
     },
     "execution_count": 2,
     "metadata": {},
     "output_type": "execute_result"
    }
   ],
   "source": [
    "dotenv_path = Path(\"../.env\")\n",
    "load_dotenv(dotenv_path=dotenv_path)"
   ]
  },
  {
   "cell_type": "code",
   "execution_count": 3,
   "id": "c7bf986c-5c98-4361-b3e6-f82c33ced699",
   "metadata": {},
   "outputs": [],
   "source": [
    "os.environ[\"OPENAI_API_KEY\"] = os.getenv(\"OPENAI_API_KEY\")\n",
    "llm = ChatOpenAI(model=\"gpt-4o-mini\")"
   ]
  },
  {
   "cell_type": "markdown",
   "id": "953b2335-5dac-4764-b158-ec35d3e1aada",
   "metadata": {},
   "source": [
    "## Verificação se a inteface está funcionando"
   ]
  },
  {
   "cell_type": "code",
   "execution_count": 4,
   "id": "98ad17df-ab73-4526-b5b8-76db36cbd0a1",
   "metadata": {},
   "outputs": [
    {
     "data": {
      "text/markdown": [
       "*Resposta:*"
      ],
      "text/plain": [
       "<IPython.core.display.Markdown object>"
      ]
     },
     "metadata": {},
     "output_type": "display_data"
    },
    {
     "data": {
      "text/markdown": [
       "----"
      ],
      "text/plain": [
       "<IPython.core.display.Markdown object>"
      ]
     },
     "metadata": {},
     "output_type": "display_data"
    },
    {
     "data": {
      "text/markdown": [
       "Olá! Estou bem, obrigado. E você? Como posso ajudar hoje?"
      ],
      "text/plain": [
       "<IPython.core.display.Markdown object>"
      ]
     },
     "metadata": {},
     "output_type": "display_data"
    },
    {
     "data": {
      "text/markdown": [
       "----"
      ],
      "text/plain": [
       "<IPython.core.display.Markdown object>"
      ]
     },
     "metadata": {},
     "output_type": "display_data"
    }
   ],
   "source": [
    "prompt = \"\"\"\n",
    "Olá, tudo bem?\n",
    "\"\"\"\n",
    "\n",
    "response = llm.invoke(prompt)\n",
    "\n",
    "display(Markdown(f\"*Resposta:*\"))\n",
    "display(Markdown(f\"----\"))\n",
    "display(Markdown(f\"{response.content}\"))\n",
    "display(Markdown(f\"----\"))"
   ]
  },
  {
   "cell_type": "markdown",
   "id": "d2dfef36-3126-48af-9364-10c3dde7d5a9",
   "metadata": {},
   "source": [
    "## Aqui considero que a conversa **não** tem memória"
   ]
  },
  {
   "cell_type": "code",
   "execution_count": 5,
   "id": "82bc01c8-403e-4d47-b343-aed167815004",
   "metadata": {},
   "outputs": [
    {
     "data": {
      "text/markdown": [
       "*Resposta:*"
      ],
      "text/plain": [
       "<IPython.core.display.Markdown object>"
      ]
     },
     "metadata": {},
     "output_type": "display_data"
    },
    {
     "data": {
      "text/markdown": [
       "----"
      ],
      "text/plain": [
       "<IPython.core.display.Markdown object>"
      ]
     },
     "metadata": {},
     "output_type": "display_data"
    },
    {
     "data": {
      "text/markdown": [
       "Eu disse que sou um modelo de linguagem treinado para ajudar em diversas questões e fornecer informações. Como posso te ajudar hoje?"
      ],
      "text/plain": [
       "<IPython.core.display.Markdown object>"
      ]
     },
     "metadata": {},
     "output_type": "display_data"
    },
    {
     "data": {
      "text/markdown": [
       "----"
      ],
      "text/plain": [
       "<IPython.core.display.Markdown object>"
      ]
     },
     "metadata": {},
     "output_type": "display_data"
    }
   ],
   "source": [
    "prompt = \"\"\"\n",
    "O que você disse?\n",
    "\"\"\"\n",
    "\n",
    "response = llm.invoke(prompt)\n",
    "\n",
    "display(Markdown(f\"*Resposta:*\"))\n",
    "display(Markdown(f\"----\"))\n",
    "display(Markdown(f\"{response.content}\"))\n",
    "display(Markdown(f\"----\"))"
   ]
  },
  {
   "cell_type": "markdown",
   "id": "14376a7f-7707-4e35-8e79-9456edf41e7d",
   "metadata": {},
   "source": [
    "## **PROMPT 01:** Aqui vou fazer um prompt Zero-shot"
   ]
  },
  {
   "cell_type": "code",
   "execution_count": 6,
   "id": "f1beefe4-3be7-4a3b-b5fc-dc5e690b48db",
   "metadata": {},
   "outputs": [
    {
     "data": {
      "text/markdown": [
       "*Prompt:*"
      ],
      "text/plain": [
       "<IPython.core.display.Markdown object>"
      ]
     },
     "metadata": {},
     "output_type": "display_data"
    },
    {
     "data": {
      "text/markdown": [
       "----"
      ],
      "text/plain": [
       "<IPython.core.display.Markdown object>"
      ]
     },
     "metadata": {},
     "output_type": "display_data"
    },
    {
     "data": {
      "text/markdown": [
       "\n",
       "Faça uma função simples, em python, para classificar os lados de um triângulo\n"
      ],
      "text/plain": [
       "<IPython.core.display.Markdown object>"
      ]
     },
     "metadata": {},
     "output_type": "display_data"
    },
    {
     "data": {
      "text/markdown": [
       "----"
      ],
      "text/plain": [
       "<IPython.core.display.Markdown object>"
      ]
     },
     "metadata": {},
     "output_type": "display_data"
    },
    {
     "data": {
      "text/markdown": [
       "*Resposta:*"
      ],
      "text/plain": [
       "<IPython.core.display.Markdown object>"
      ]
     },
     "metadata": {},
     "output_type": "display_data"
    },
    {
     "data": {
      "text/markdown": [
       "----"
      ],
      "text/plain": [
       "<IPython.core.display.Markdown object>"
      ]
     },
     "metadata": {},
     "output_type": "display_data"
    },
    {
     "data": {
      "text/markdown": [
       "Você pode criar uma função em Python para classificar os lados de um triângulo da seguinte forma:\n",
       "\n",
       "```python\n",
       "def classificar_triangulo(a, b, c):\n",
       "    \"\"\"\n",
       "    Classifica um triângulo com base nos comprimentos dos seus lados.\n",
       "    \n",
       "    Parâmetros:\n",
       "    a (float): Comprimento do lado a.\n",
       "    b (float): Comprimento do lado b.\n",
       "    c (float): Comprimento do lado c.\n",
       "\n",
       "    Retorna:\n",
       "    str: A classificação do triângulo (\"Equilátero\", \"Isósceles\", \"Escaleno\" ou \"Não é um triângulo\").\n",
       "    \"\"\"\n",
       "    if a <= 0 or b <= 0 or c <= 0:\n",
       "        return \"Não é um triângulo\"\n",
       "\n",
       "    # Verifica se os lados podem formar um triângulo\n",
       "    if a + b > c and a + c > b and b + c > a:\n",
       "        if a == b == c:\n",
       "            return \"Equilátero\"\n",
       "        elif a == b or a == c or b == c:\n",
       "            return \"Isósceles\"\n",
       "        else:\n",
       "            return \"Escaleno\"\n",
       "    else:\n",
       "        return \"Não é um triângulo\"\n",
       "\n",
       "# Exemplo de uso\n",
       "a = 5\n",
       "b = 5\n",
       "c = 8\n",
       "print(classificar_triangulo(a, b, c))  # Saída: Isósceles\n",
       "```\n",
       "\n",
       "### Explicação da Função:\n",
       "1. **Parâmetros**: A função recebe três lados do triângulo como entradas.\n",
       "2. **Condições de Triângulo**: Primeiro, a função verifica se os lados são positivos. Em seguida, verifica se os lados satisfazem a desigualdade triangular.\n",
       "3. **Classificação**:\n",
       "   - **Equilátero**: Todos os lados são iguais.\n",
       "   - **Isósceles**: Dois lados são iguais.\n",
       "   - **Escaleno**: Todos os lados são diferentes.\n",
       "4. Se os lados não formarem um triângulo válido, a função retorna uma mensagem indicando isso. \n",
       "\n",
       "Você pode testar a função com diferentes valores de `a`, `b` e `c` para ver como ela classifica os triângulos."
      ],
      "text/plain": [
       "<IPython.core.display.Markdown object>"
      ]
     },
     "metadata": {},
     "output_type": "display_data"
    },
    {
     "data": {
      "text/markdown": [
       "----"
      ],
      "text/plain": [
       "<IPython.core.display.Markdown object>"
      ]
     },
     "metadata": {},
     "output_type": "display_data"
    }
   ],
   "source": [
    "prompt = \"\"\"\n",
    "Faça uma função simples, em python, para classificar os lados de um triângulo\n",
    "\"\"\"\n",
    "\n",
    "display(Markdown(f\"*Prompt:*\"))\n",
    "display(Markdown(f\"----\"))\n",
    "display(Markdown(f\"{prompt}\"))\n",
    "display(Markdown(f\"----\"))\n",
    "\n",
    "response = llm.invoke(prompt)\n",
    "\n",
    "display(Markdown(f\"*Resposta:*\"))\n",
    "display(Markdown(f\"----\"))\n",
    "display(Markdown(f\"{response.content}\"))\n",
    "display(Markdown(f\"----\"))"
   ]
  },
  {
   "cell_type": "markdown",
   "id": "da4ecdb2-d628-43cd-aff4-9ad6221e431f",
   "metadata": {},
   "source": [
    "## **PROMPT 02:** Aqui vou fazer um prompt 1 shot, ou seja, com 1 exemplo"
   ]
  },
  {
   "cell_type": "code",
   "execution_count": 7,
   "id": "cf5fc8f3-ebe7-4e7d-a35e-3a70e0e0d861",
   "metadata": {},
   "outputs": [
    {
     "data": {
      "text/markdown": [
       "*Prompt:*"
      ],
      "text/plain": [
       "<IPython.core.display.Markdown object>"
      ]
     },
     "metadata": {},
     "output_type": "display_data"
    },
    {
     "data": {
      "text/markdown": [
       "----"
      ],
      "text/plain": [
       "<IPython.core.display.Markdown object>"
      ]
     },
     "metadata": {},
     "output_type": "display_data"
    },
    {
     "data": {
      "text/markdown": [
       "\n",
       "Considere o seguinte exemplo de função em python para soma de 2 números reais:\n",
       "\n",
       "```python\n",
       "def somar_numeros(a: float = 0.0, b: float = 0.0) -> float:\n",
       "    \"\"\"\n",
       "    Soma dois números do tipo float.\n",
       "\n",
       "    Parâmetros:\n",
       "    ----------\n",
       "    a : float, default = 0.0\n",
       "        O primeiro número a ser somado.\n",
       "    b : float, default = 0.0\n",
       "        O segundo número a ser somado.\n",
       "\n",
       "    Retorno:\n",
       "    -------\n",
       "    float\n",
       "        A soma de a e b.\n",
       "\n",
       "    Exceções:\n",
       "    --------\n",
       "    Levanta TypeError se os parâmetros não puderem ser convertidos para float.\n",
       "    \"\"\"\n",
       "    try:\n",
       "        # Conversão explícita para garantir que os valores sejam float\n",
       "        a = float(a)\n",
       "        b = float(b)\n",
       "        return a + b\n",
       "    except (TypeError, ValueError) as e:\n",
       "        raise TypeError(\"Os parâmetros devem ser números (int ou float)\") from e\n",
       "\n",
       "# Exemplos de uso\n",
       "print(somar_numeros(2.5, 3.5))    # 6.0\n",
       "print(somar_numeros(4))           # 4.0 (usa default para b)\n",
       "print(somar_numeros())            # 0.0 (usa default para a e b)\n",
       "```\n",
       "Agora faça uma função simples, em python, para classificar os lados de um triângulo.\n"
      ],
      "text/plain": [
       "<IPython.core.display.Markdown object>"
      ]
     },
     "metadata": {},
     "output_type": "display_data"
    },
    {
     "data": {
      "text/markdown": [
       "----"
      ],
      "text/plain": [
       "<IPython.core.display.Markdown object>"
      ]
     },
     "metadata": {},
     "output_type": "display_data"
    },
    {
     "data": {
      "text/markdown": [
       "*Resposta:*"
      ],
      "text/plain": [
       "<IPython.core.display.Markdown object>"
      ]
     },
     "metadata": {},
     "output_type": "display_data"
    },
    {
     "data": {
      "text/markdown": [
       "----"
      ],
      "text/plain": [
       "<IPython.core.display.Markdown object>"
      ]
     },
     "metadata": {},
     "output_type": "display_data"
    },
    {
     "data": {
      "text/markdown": [
       "Claro! Aqui está uma função em Python que classifica os lados de um triângulo com base nos comprimentos fornecidos. A função determina se o triângulo é equilátero, isósceles ou escaleno.\n",
       "\n",
       "```python\n",
       "def classificar_triangulo(a: float, b: float, c: float) -> str:\n",
       "    \"\"\"\n",
       "    Classifica um triângulo com base no comprimento de seus lados.\n",
       "\n",
       "    Parâmetros:\n",
       "    ----------\n",
       "    a : float\n",
       "        O comprimento do primeiro lado.\n",
       "    b : float\n",
       "        O comprimento do segundo lado.\n",
       "    c : float\n",
       "        O comprimento do terceiro lado.\n",
       "\n",
       "    Retorno:\n",
       "    -------\n",
       "    str\n",
       "        A classificação do triângulo: 'Equilátero', 'Isósceles' ou 'Escaleno'.\n",
       "\n",
       "    Exceções:\n",
       "    --------\n",
       "    Levanta ValueError se os lados não puderem formar um triângulo.\n",
       "    \"\"\"\n",
       "    # Verifica se os lados formam um triângulo\n",
       "    if a <= 0 or b <= 0 or c <= 0:\n",
       "        raise ValueError(\"Os comprimentos dos lados devem ser positivos.\")\n",
       "    \n",
       "    if a + b <= c or a + c <= b or b + c <= a:\n",
       "        raise ValueError(\"Os lados fornecidos não formam um triângulo.\")\n",
       "\n",
       "    # Classifica o triângulo\n",
       "    if a == b == c:\n",
       "        return \"Equilátero\"\n",
       "    elif a == b or b == c or a == c:\n",
       "        return \"Isósceles\"\n",
       "    else:\n",
       "        return \"Escaleno\"\n",
       "\n",
       "# Exemplos de uso\n",
       "print(classificar_triangulo(3, 3, 3))  # 'Equilátero'\n",
       "print(classificar_triangulo(3, 4, 3))  # 'Isósceles'\n",
       "print(classificar_triangulo(3, 4, 5))  # 'Escaleno'\n",
       "```\n",
       "\n",
       "### Explicação do código:\n",
       "- A função `classificar_triangulo` recebe três parâmetros (`a`, `b`, `c`), que representam os lados do triângulo.\n",
       "- Ela verifica se os valores dos lados são positivos e se eles satisfazem a desigualdade triangular.\n",
       "- Em seguida, classifica o triângulo como 'Equilátero', 'Isósceles' ou 'Escaleno' com base nos comprimentos dos lados.\n",
       "- Se os lados não puderem formar um triângulo (por exemplo, se a soma de dois lados for menor ou igual ao terceiro lado), a função levantará um `ValueError`."
      ],
      "text/plain": [
       "<IPython.core.display.Markdown object>"
      ]
     },
     "metadata": {},
     "output_type": "display_data"
    },
    {
     "data": {
      "text/markdown": [
       "----"
      ],
      "text/plain": [
       "<IPython.core.display.Markdown object>"
      ]
     },
     "metadata": {},
     "output_type": "display_data"
    }
   ],
   "source": [
    "prompt = '''\n",
    "Considere o seguinte exemplo de função em python para soma de 2 números reais:\n",
    "\n",
    "```python\n",
    "def somar_numeros(a: float = 0.0, b: float = 0.0) -> float:\n",
    "    \"\"\"\n",
    "    Soma dois números do tipo float.\n",
    "\n",
    "    Parâmetros:\n",
    "    ----------\n",
    "    a : float, default = 0.0\n",
    "        O primeiro número a ser somado.\n",
    "    b : float, default = 0.0\n",
    "        O segundo número a ser somado.\n",
    "\n",
    "    Retorno:\n",
    "    -------\n",
    "    float\n",
    "        A soma de a e b.\n",
    "\n",
    "    Exceções:\n",
    "    --------\n",
    "    Levanta TypeError se os parâmetros não puderem ser convertidos para float.\n",
    "    \"\"\"\n",
    "    try:\n",
    "        # Conversão explícita para garantir que os valores sejam float\n",
    "        a = float(a)\n",
    "        b = float(b)\n",
    "        return a + b\n",
    "    except (TypeError, ValueError) as e:\n",
    "        raise TypeError(\"Os parâmetros devem ser números (int ou float)\") from e\n",
    "\n",
    "# Exemplos de uso\n",
    "print(somar_numeros(2.5, 3.5))    # 6.0\n",
    "print(somar_numeros(4))           # 4.0 (usa default para b)\n",
    "print(somar_numeros())            # 0.0 (usa default para a e b)\n",
    "```\n",
    "Agora faça uma função simples, em python, para classificar os lados de um triângulo.\n",
    "'''\n",
    "\n",
    "display(Markdown(f\"*Prompt:*\"))\n",
    "display(Markdown(f\"----\"))\n",
    "display(Markdown(f\"{prompt}\"))\n",
    "display(Markdown(f\"----\"))\n",
    "\n",
    "response = llm.invoke(prompt)\n",
    "\n",
    "display(Markdown(f\"*Resposta:*\"))\n",
    "display(Markdown(f\"----\"))\n",
    "display(Markdown(f\"{response.content}\"))\n",
    "display(Markdown(f\"----\"))"
   ]
  },
  {
   "cell_type": "markdown",
   "id": "cefcdbda-4aff-4abd-a1ef-cfb5771fb722",
   "metadata": {},
   "source": [
    "### Testando se a função funciona..."
   ]
  },
  {
   "cell_type": "code",
   "execution_count": 8,
   "id": "0ac026b5-52f9-4278-b684-b7c007ce87ca",
   "metadata": {},
   "outputs": [
    {
     "name": "stdout",
     "output_type": "stream",
     "text": [
      "Equilátero\n",
      "Isósceles\n",
      "Escaleno\n"
     ]
    }
   ],
   "source": [
    "def classificar_triangulo(a: float, b: float, c: float) -> str:\n",
    "    \"\"\"\n",
    "    Classifica um triângulo com base nos comprimentos de seus lados.\n",
    "\n",
    "    Parâmetros:\n",
    "    ----------\n",
    "    a, b, c : float\n",
    "        Comprimentos dos lados do triângulo.\n",
    "\n",
    "    Retorno:\n",
    "    -------\n",
    "    str\n",
    "        A classificação do triângulo: \"Equilátero\", \"Isósceles\" ou \"Escaleno\".\n",
    "        \n",
    "    Exceções:\n",
    "    --------\n",
    "    Levanta ValueError se os lados não formarem um triângulo válido.\n",
    "    \"\"\"\n",
    "    # Verifica se os lados formam um triângulo válido\n",
    "    if a <= 0 or b <= 0 or c <= 0:\n",
    "        raise ValueError(\"Os comprimentos dos lados devem ser números positivos.\")\n",
    "    \n",
    "    # Condições para classificação do triângulo\n",
    "    if a + b <= c or a + c <= b or b + c <= a:\n",
    "        raise ValueError(\"Os lados fornecidos não formam um triângulo válido.\")\n",
    "\n",
    "    if a == b == c:\n",
    "        return \"Equilátero\"\n",
    "    elif a == b or b == c or a == c:\n",
    "        return \"Isósceles\"\n",
    "    else:\n",
    "        return \"Escaleno\"\n",
    "\n",
    "# Exemplos de uso\n",
    "print(classificar_triangulo(3, 3, 3))   # Equilátero\n",
    "print(classificar_triangulo(3, 4, 3))   # Isósceles\n",
    "print(classificar_triangulo(3, 4, 5))   # Escaleno"
   ]
  },
  {
   "cell_type": "code",
   "execution_count": null,
   "id": "36f76255-ced5-4a96-91ab-052126d87138",
   "metadata": {},
   "outputs": [],
   "source": []
  }
 ],
 "metadata": {
  "kernelspec": {
   "display_name": "Python 3 (ipykernel)",
   "language": "python",
   "name": "python3"
  },
  "language_info": {
   "codemirror_mode": {
    "name": "ipython",
    "version": 3
   },
   "file_extension": ".py",
   "mimetype": "text/x-python",
   "name": "python",
   "nbconvert_exporter": "python",
   "pygments_lexer": "ipython3",
   "version": "3.11.9"
  }
 },
 "nbformat": 4,
 "nbformat_minor": 5
}
