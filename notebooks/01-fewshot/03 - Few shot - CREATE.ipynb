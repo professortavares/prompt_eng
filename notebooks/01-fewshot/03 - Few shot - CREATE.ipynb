{
 "cells": [
  {
   "cell_type": "markdown",
   "id": "44415b7f-a518-4ef6-b421-5c4ba994d569",
   "metadata": {},
   "source": [
    "# FEW SHOT - CREATE\n",
    "\n",
    "CREATE significa:\n",
    "- Caracterização: Definição do papel ou persona do modelo.\n",
    "- Requisição: Solicitação principal.\n",
    "- Exemplos: Amostras para guiar a resposta.\n",
    "- Ajustes: Modificações ou restrições.\n",
    "- Tipo: Formato ou estilo da saída.\n",
    "- Extras: Informações adicionais relevantes."
   ]
  },
  {
   "cell_type": "code",
   "execution_count": 1,
   "id": "37354857-38cc-4e93-91d2-4fc8c795771e",
   "metadata": {},
   "outputs": [],
   "source": [
    "# Imports necessários\n",
    "from langchain_openai import ChatOpenAI\n",
    "from IPython.display import display, Markdown\n",
    "from pathlib import Path\n",
    "import os\n",
    "from dotenv import load_dotenv"
   ]
  },
  {
   "cell_type": "code",
   "execution_count": 2,
   "id": "57cc9f85-ceff-46d3-ab66-2ec0b2251365",
   "metadata": {},
   "outputs": [
    {
     "data": {
      "text/plain": [
       "True"
      ]
     },
     "execution_count": 2,
     "metadata": {},
     "output_type": "execute_result"
    }
   ],
   "source": [
    "dotenv_path = Path(\"../.env\")\n",
    "load_dotenv(dotenv_path=dotenv_path)"
   ]
  },
  {
   "cell_type": "code",
   "execution_count": 3,
   "id": "922515c7-8b86-4f7b-9a86-a7dd89550546",
   "metadata": {},
   "outputs": [],
   "source": [
    "os.environ[\"OPENAI_API_KEY\"] = os.getenv(\"OPENAI_API_KEY\")\n",
    "llm = ChatOpenAI(model=\"gpt-4o-mini\")"
   ]
  },
  {
   "cell_type": "markdown",
   "id": "b3231c89-aef8-434a-89bc-2db864b73cfd",
   "metadata": {},
   "source": [
    "## Aqui vou usar o template CREATE"
   ]
  },
  {
   "cell_type": "code",
   "execution_count": 4,
   "id": "048d96f1-18c9-425f-a524-cae3e16731e5",
   "metadata": {},
   "outputs": [
    {
     "data": {
      "text/markdown": [
       "*Prompt:*"
      ],
      "text/plain": [
       "<IPython.core.display.Markdown object>"
      ]
     },
     "metadata": {},
     "output_type": "display_data"
    },
    {
     "data": {
      "text/markdown": [
       "----"
      ],
      "text/plain": [
       "<IPython.core.display.Markdown object>"
      ]
     },
     "metadata": {},
     "output_type": "display_data"
    },
    {
     "data": {
      "text/markdown": [
       "\n",
       "**C — Caracterização**\n",
       "Você é um engenheiro de QA experiente, especialista em testes funcionais escritos no estilo Gherkin.\n",
       "\n",
       "**R — Requisição**\n",
       "Crie um plano de testes funcional baseado na história técnica descrita ao final do prompt.\n",
       "\n",
       "**E — Exemplos**\n",
       "A seguir estão exemplos genéricos que demonstram **exatamente o formato** em que os testes devem ser escritos:\n",
       "\n",
       "```\n",
       "**Teste 1**: Verificar acesso ao painel  \n",
       "**Cenário**: Usuário autenticado acessa painel principal  \n",
       "**Dado** que o usuário está logado  \n",
       "**Quando** acessa a URL \"/painel\"  \n",
       "**Então** ele deve visualizar a página com o título \"Painel Principal\"\n",
       "\n",
       "**Teste 2**: Campo obrigatório não preenchido  \n",
       "**Cenário**: Validação de campo obrigatório  \n",
       "\n",
       "**Dado** que o usuário deixa o campo \"nome\" em branco  \n",
       "**Quando** tenta salvar o formulário  \n",
       "**Então** o sistema deve exibir a mensagem \"Campo obrigatório\"\n",
       "```\n",
       "\n",
       "> (Os exemplos não correspondem ao requisito da tela de login, mas **demonstram claramente o padrão desejado de resposta**.)\n",
       "\n",
       "**A — Ajustes**\n",
       "Mantenha esse mesmo padrão de escrita nos seus testes: título, cenário, e blocos Gherkin. Evite mudar o estilo ou a sequência.\n",
       "\n",
       "**T — Tipo**\n",
       "Formato: texto estruturado conforme os exemplos, com blocos Given–When–Then (Dado / Quando / Então) bem definidos.\n",
       "\n",
       "**E — Extras**\n",
       "Considere casos positivos (fluxos válidos) e negativos (erros, limites, exceções). O objetivo é garantir cobertura total dos requisitos.\n",
       "\n",
       "Requisitos:\n",
       "* O campo de nome de usuário deve aceitar apenas e-mails válidos.\n",
       "* A senha deve ter entre 8 e 20 caracteres, contendo letras maiúsculas, minúsculas, números e caracteres especiais.\n",
       "* O sistema deve permitir no máximo 3 tentativas de login. Após isso, um captcha deve ser exibido.\n",
       "* O link \"lembrar senha\" deve levar o usuário para a tela correspondente.\n"
      ],
      "text/plain": [
       "<IPython.core.display.Markdown object>"
      ]
     },
     "metadata": {},
     "output_type": "display_data"
    },
    {
     "data": {
      "text/markdown": [
       "----"
      ],
      "text/plain": [
       "<IPython.core.display.Markdown object>"
      ]
     },
     "metadata": {},
     "output_type": "display_data"
    },
    {
     "data": {
      "text/markdown": [
       "*Resposta:*"
      ],
      "text/plain": [
       "<IPython.core.display.Markdown object>"
      ]
     },
     "metadata": {},
     "output_type": "display_data"
    },
    {
     "data": {
      "text/markdown": [
       "----"
      ],
      "text/plain": [
       "<IPython.core.display.Markdown object>"
      ]
     },
     "metadata": {},
     "output_type": "display_data"
    },
    {
     "data": {
      "text/markdown": [
       "**Teste 1**: Verificar formato de e-mail  \n",
       "**Cenário**: Validação do campo de nome de usuário  \n",
       "\n",
       "**Dado** que o usuário preenche o campo \"nome de usuário\" com \"usuario@dominio.com\"  \n",
       "**Quando** tenta fazer login  \n",
       "**Então** o sistema deve permitir o login com sucesso  \n",
       "\n",
       "**Cenário**: E-mail inválido  \n",
       "\n",
       "**Dado** que o usuário preenche o campo \"nome de usuário\" com \"usuario@dominio\"  \n",
       "**Quando** tenta fazer login  \n",
       "**Então** o sistema deve exibir a mensagem \"E-mail inválido\"  \n",
       "\n",
       "---\n",
       "\n",
       "**Teste 2**: Verificar requisitos de senha  \n",
       "**Cenário**: Senha válida  \n",
       "\n",
       "**Dado** que o usuário preenche o campo \"senha\" com \"Senha123!\"  \n",
       "**Quando** tenta fazer login  \n",
       "**Então** o sistema deve permitir o login com sucesso  \n",
       "\n",
       "**Cenário**: Senha curta  \n",
       "\n",
       "**Dado** que o usuário preenche o campo \"senha\" com \"Short1!\"  \n",
       "**Quando** tenta fazer login  \n",
       "**Então** o sistema deve exibir a mensagem \"A senha deve ter entre 8 e 20 caracteres\"  \n",
       "\n",
       "**Cenário**: Senha longa  \n",
       "\n",
       "**Dado** que o usuário preenche o campo \"senha\" com \"SenhaExtremamenteLonga123!\"  \n",
       "**Quando** tenta fazer login  \n",
       "**Então** o sistema deve exibir a mensagem \"A senha deve ter entre 8 e 20 caracteres\"  \n",
       "\n",
       "**Cenário**: Senha sem caracteres especiais  \n",
       "\n",
       "**Dado** que o usuário preenche o campo \"senha\" com \"SenhaSemEspecial1\"  \n",
       "**Quando** tenta fazer login  \n",
       "**Então** o sistema deve exibir a mensagem \"A senha deve conter letras maiúsculas, minúsculas, números e caracteres especiais\"  \n",
       "\n",
       "---\n",
       "\n",
       "**Teste 3**: Verificar tentativas de login  \n",
       "**Cenário**: Login bem-sucedido após 3 tentativas falhas  \n",
       "\n",
       "**Dado** que o usuário preenche o campo \"nome de usuário\" com \"usuario@dominio.com\"  \n",
       "**E** que o usuário preenche o campo \"senha\" com \"SenhaIncorrreta1!\"  \n",
       "**Quando** tenta fazer login 3 vezes seguidas  \n",
       "**Então** o sistema deve exibir um captcha  \n",
       "\n",
       "**Cenário**: Exibir captcha após tentativas falhas  \n",
       "\n",
       "**Dado** que o usuário preenche o campo \"nome de usuário\" com \"usuario@dominio.com\"  \n",
       "**E** que o usuário preenche o campo \"senha\" com \"SenhaIncorrreta1!\" para 3 tentativas  \n",
       "**Quando** tenta fazer login pela quarta vez  \n",
       "**Então** o sistema deve exibir um captcha  \n",
       "\n",
       "---\n",
       "\n",
       "**Teste 4**: Verificar link \"lembrar senha\"  \n",
       "**Cenário**: Acesso à tela de recuperação de senha  \n",
       "\n",
       "**Dado** que o usuário está na página de login  \n",
       "**Quando** clica no link \"lembrar senha\"  \n",
       "**Então** ele deve ser redirecionado para a página de recuperação de senha  "
      ],
      "text/plain": [
       "<IPython.core.display.Markdown object>"
      ]
     },
     "metadata": {},
     "output_type": "display_data"
    },
    {
     "data": {
      "text/markdown": [
       "----"
      ],
      "text/plain": [
       "<IPython.core.display.Markdown object>"
      ]
     },
     "metadata": {},
     "output_type": "display_data"
    }
   ],
   "source": [
    "prompt = \"\"\"\n",
    "**C — Caracterização**\n",
    "Você é um engenheiro de QA experiente, especialista em testes funcionais escritos no estilo Gherkin.\n",
    "\n",
    "**R — Requisição**\n",
    "Crie um plano de testes funcional baseado na história técnica descrita ao final do prompt.\n",
    "\n",
    "**E — Exemplos**\n",
    "A seguir estão exemplos genéricos que demonstram **exatamente o formato** em que os testes devem ser escritos:\n",
    "\n",
    "```\n",
    "**Teste 1**: Verificar acesso ao painel  \n",
    "**Cenário**: Usuário autenticado acessa painel principal  \n",
    "**Dado** que o usuário está logado  \n",
    "**Quando** acessa a URL \"/painel\"  \n",
    "**Então** ele deve visualizar a página com o título \"Painel Principal\"\n",
    "\n",
    "**Teste 2**: Campo obrigatório não preenchido  \n",
    "**Cenário**: Validação de campo obrigatório  \n",
    "\n",
    "**Dado** que o usuário deixa o campo \"nome\" em branco  \n",
    "**Quando** tenta salvar o formulário  \n",
    "**Então** o sistema deve exibir a mensagem \"Campo obrigatório\"\n",
    "```\n",
    "\n",
    "> (Os exemplos não correspondem ao requisito da tela de login, mas **demonstram claramente o padrão desejado de resposta**.)\n",
    "\n",
    "**A — Ajustes**\n",
    "Mantenha esse mesmo padrão de escrita nos seus testes: título, cenário, e blocos Gherkin. Evite mudar o estilo ou a sequência.\n",
    "\n",
    "**T — Tipo**\n",
    "Formato: texto estruturado conforme os exemplos, com blocos Given–When–Then (Dado / Quando / Então) bem definidos.\n",
    "\n",
    "**E — Extras**\n",
    "Considere casos positivos (fluxos válidos) e negativos (erros, limites, exceções). O objetivo é garantir cobertura total dos requisitos.\n",
    "\n",
    "Requisitos:\n",
    "* O campo de nome de usuário deve aceitar apenas e-mails válidos.\n",
    "* A senha deve ter entre 8 e 20 caracteres, contendo letras maiúsculas, minúsculas, números e caracteres especiais.\n",
    "* O sistema deve permitir no máximo 3 tentativas de login. Após isso, um captcha deve ser exibido.\n",
    "* O link \"lembrar senha\" deve levar o usuário para a tela correspondente.\n",
    "\"\"\"\n",
    "\n",
    "display(Markdown(f\"*Prompt:*\"))\n",
    "display(Markdown(f\"----\"))\n",
    "display(Markdown(f\"{prompt}\"))\n",
    "display(Markdown(f\"----\"))\n",
    "\n",
    "response = llm.invoke(prompt)\n",
    "\n",
    "display(Markdown(f\"*Resposta:*\"))\n",
    "display(Markdown(f\"----\"))\n",
    "display(Markdown(f\"{response.content}\"))\n",
    "display(Markdown(f\"----\"))"
   ]
  },
  {
   "cell_type": "markdown",
   "id": "fb449b27-b954-4ba2-869f-766f999f58fb",
   "metadata": {},
   "source": [
    "## Mesmo prompt, porém para o formato tabela"
   ]
  },
  {
   "cell_type": "code",
   "execution_count": 5,
   "id": "00976606-99d3-43a6-90a4-423f364cad04",
   "metadata": {},
   "outputs": [
    {
     "data": {
      "text/markdown": [
       "*Prompt:*"
      ],
      "text/plain": [
       "<IPython.core.display.Markdown object>"
      ]
     },
     "metadata": {},
     "output_type": "display_data"
    },
    {
     "data": {
      "text/markdown": [
       "----"
      ],
      "text/plain": [
       "<IPython.core.display.Markdown object>"
      ]
     },
     "metadata": {},
     "output_type": "display_data"
    },
    {
     "data": {
      "text/markdown": [
       "\n",
       "**C — Caracterização**\n",
       "Você é um engenheiro de QA experiente, responsável por elaborar planos de testes claros, objetivos e bem estruturados.\n",
       "\n",
       "**R — Requisição**\n",
       "Com base nos requisitos funcionais fornecidos, elabore um plano de testes no **formato de tabela**.\n",
       "\n",
       "**E — Exemplos**\n",
       "A seguir, veja dois exemplos genéricos que demonstram o formato exato esperado da resposta:\n",
       "\n",
       "| Nº do Teste | Título                     | Pré-condições        | Ação                                             | Resultado Esperado                         |\n",
       "| ----------- | -------------------------- | -------------------- | ------------------------------------------------ | ------------------------------------------ |\n",
       "| 1           | E-mail inválido não aceito | Tela de login aberta | Inserir \"usuariosemarroba.com\" e clicar em Login | Mensagem de erro \"E-mail inválido\" exibida |\n",
       "| 2           | Senha curta bloqueada      | Tela de login aberta | Inserir \"abc123\" como senha e clicar em Login    | Mensagem de erro \"Senha inválida\" exibida  |\n",
       "\n",
       "**A — Ajustes**\n",
       "Utilize exatamente o formato da tabela acima. Não altere os nomes das colunas. Certifique-se de cobrir **todos os requisitos** especificados.\n",
       "\n",
       "**T — Tipo**\n",
       "Formato: Tabela com as colunas:\n",
       "\n",
       "* Nº do Teste\n",
       "* Título\n",
       "* Pré-condições\n",
       "* Ação\n",
       "* Resultado Esperado\n",
       "\n",
       "**E — Extras**\n",
       "Considere casos positivos (fluxos válidos) e negativos (erros, limites, exceções). O objetivo é garantir cobertura total dos requisitos.\n",
       "\n",
       "Requisitos:\n",
       "* O campo de nome de usuário deve aceitar apenas e-mails válidos.\n",
       "* A senha deve ter entre 8 e 20 caracteres, contendo letras maiúsculas, minúsculas, números e caracteres especiais.\n",
       "* O sistema deve permitir no máximo 3 tentativas de login. Após isso, um captcha deve ser exibido.\n",
       "* O link \"lembrar senha\" deve levar o usuário para a tela correspondente.\n"
      ],
      "text/plain": [
       "<IPython.core.display.Markdown object>"
      ]
     },
     "metadata": {},
     "output_type": "display_data"
    },
    {
     "data": {
      "text/markdown": [
       "----"
      ],
      "text/plain": [
       "<IPython.core.display.Markdown object>"
      ]
     },
     "metadata": {},
     "output_type": "display_data"
    },
    {
     "data": {
      "text/markdown": [
       "*Resposta:*"
      ],
      "text/plain": [
       "<IPython.core.display.Markdown object>"
      ]
     },
     "metadata": {},
     "output_type": "display_data"
    },
    {
     "data": {
      "text/markdown": [
       "----"
      ],
      "text/plain": [
       "<IPython.core.display.Markdown object>"
      ]
     },
     "metadata": {},
     "output_type": "display_data"
    },
    {
     "data": {
      "text/markdown": [
       "| Nº do Teste | Título                                 | Pré-condições                     | Ação                                                       | Resultado Esperado                                         |\n",
       "|-------------|----------------------------------------|-----------------------------------|------------------------------------------------------------|-----------------------------------------------------------|\n",
       "| 1           | E-mail válido aceito                   | Tela de login aberta              | Inserir \"usuario@exemplo.com\" e clicar em Login            | Redirecionamento para a página principal                   |\n",
       "| 2           | E-mail inválido não aceito             | Tela de login aberta              | Inserir \"usuariosemarroba.com\" e clicar em Login          | Mensagem de erro \"E-mail inválido\" exibida                 |\n",
       "| 3           | E-mail inválido com formato errado     | Tela de login aberta              | Inserir \"usuario@.com\" e clicar em Login                   | Mensagem de erro \"E-mail inválido\" exibida                 |\n",
       "| 4           | Senha válida aceita                    | Tela de login aberta              | Inserir \"Senha123!\" como senha e clicar em Login           | Redirecionamento para a página principal                   |\n",
       "| 5           | Senha curta bloqueada                  | Tela de login aberta              | Inserir \"abc123\" como senha e clicar em Login              | Mensagem de erro \"Senha inválida\" exibida                  |\n",
       "| 6           | Senha longa demais bloqueada           | Tela de login aberta              | Inserir \"SenhaMuitoLonga123!\" como senha e clicar em Login | Mensagem de erro \"Senha inválida\" exibida                  |\n",
       "| 7           | Senha sem caracteres especiais          | Tela de login aberta              | Inserir \"Senha1234\" como senha e clicar em Login           | Mensagem de erro \"Senha inválida\" exibida                  |\n",
       "| 8           | Senha sem letra maiúscula              | Tela de login aberta              | Inserir \"senhaespecial123!\" como senha e clicar em Login   | Mensagem de erro \"Senha inválida\" exibida                  |\n",
       "| 9           | Tentativas de login limitadas          | Tela de login aberta              | Inserir \"usuario@exemplo.com\" e \"senhaerrada\" 3 vezes     | Exibição de captcha após 3 tentativas de login falhadas    |\n",
       "| 10          | Captcha visível após falhas de login    | Tela de captcha exibida           | Preencher captcha e clicar em Login                        | Tentativa de login com captcha realizada                    |\n",
       "| 11          | Funcionamento do link \"lembrar senha\"  | Tela de login aberta              | Clicar no link \"lembrar senha\"                            | Redirecionamento para a tela de recuperação de senha       |"
      ],
      "text/plain": [
       "<IPython.core.display.Markdown object>"
      ]
     },
     "metadata": {},
     "output_type": "display_data"
    },
    {
     "data": {
      "text/markdown": [
       "----"
      ],
      "text/plain": [
       "<IPython.core.display.Markdown object>"
      ]
     },
     "metadata": {},
     "output_type": "display_data"
    }
   ],
   "source": [
    "prompt = \"\"\"\n",
    "**C — Caracterização**\n",
    "Você é um engenheiro de QA experiente, responsável por elaborar planos de testes claros, objetivos e bem estruturados.\n",
    "\n",
    "**R — Requisição**\n",
    "Com base nos requisitos funcionais fornecidos, elabore um plano de testes no **formato de tabela**.\n",
    "\n",
    "**E — Exemplos**\n",
    "A seguir, veja dois exemplos genéricos que demonstram o formato exato esperado da resposta:\n",
    "\n",
    "| Nº do Teste | Título                     | Pré-condições        | Ação                                             | Resultado Esperado                         |\n",
    "| ----------- | -------------------------- | -------------------- | ------------------------------------------------ | ------------------------------------------ |\n",
    "| 1           | E-mail inválido não aceito | Tela de login aberta | Inserir \"usuariosemarroba.com\" e clicar em Login | Mensagem de erro \"E-mail inválido\" exibida |\n",
    "| 2           | Senha curta bloqueada      | Tela de login aberta | Inserir \"abc123\" como senha e clicar em Login    | Mensagem de erro \"Senha inválida\" exibida  |\n",
    "\n",
    "**A — Ajustes**\n",
    "Utilize exatamente o formato da tabela acima. Não altere os nomes das colunas. Certifique-se de cobrir **todos os requisitos** especificados.\n",
    "\n",
    "**T — Tipo**\n",
    "Formato: Tabela com as colunas:\n",
    "\n",
    "* Nº do Teste\n",
    "* Título\n",
    "* Pré-condições\n",
    "* Ação\n",
    "* Resultado Esperado\n",
    "\n",
    "**E — Extras**\n",
    "Considere casos positivos (fluxos válidos) e negativos (erros, limites, exceções). O objetivo é garantir cobertura total dos requisitos.\n",
    "\n",
    "Requisitos:\n",
    "* O campo de nome de usuário deve aceitar apenas e-mails válidos.\n",
    "* A senha deve ter entre 8 e 20 caracteres, contendo letras maiúsculas, minúsculas, números e caracteres especiais.\n",
    "* O sistema deve permitir no máximo 3 tentativas de login. Após isso, um captcha deve ser exibido.\n",
    "* O link \"lembrar senha\" deve levar o usuário para a tela correspondente.\n",
    "\"\"\"\n",
    "\n",
    "display(Markdown(f\"*Prompt:*\"))\n",
    "display(Markdown(f\"----\"))\n",
    "display(Markdown(f\"{prompt}\"))\n",
    "display(Markdown(f\"----\"))\n",
    "\n",
    "response = llm.invoke(prompt)\n",
    "\n",
    "display(Markdown(f\"*Resposta:*\"))\n",
    "display(Markdown(f\"----\"))\n",
    "display(Markdown(f\"{response.content}\"))\n",
    "display(Markdown(f\"----\"))"
   ]
  },
  {
   "cell_type": "markdown",
   "id": "fb525d34-9d86-4b02-a131-5f98408d421e",
   "metadata": {},
   "source": [
    "## Aqui não temos memória..."
   ]
  },
  {
   "cell_type": "code",
   "execution_count": 6,
   "id": "d18d9046-9e1b-4a2e-a8d1-df89ee91fc1f",
   "metadata": {},
   "outputs": [
    {
     "data": {
      "text/markdown": [
       "*Prompt:*"
      ],
      "text/plain": [
       "<IPython.core.display.Markdown object>"
      ]
     },
     "metadata": {},
     "output_type": "display_data"
    },
    {
     "data": {
      "text/markdown": [
       "----"
      ],
      "text/plain": [
       "<IPython.core.display.Markdown object>"
      ]
     },
     "metadata": {},
     "output_type": "display_data"
    },
    {
     "data": {
      "text/markdown": [
       "\n",
       "Adicione mais casos de testes, por favor.\n"
      ],
      "text/plain": [
       "<IPython.core.display.Markdown object>"
      ]
     },
     "metadata": {},
     "output_type": "display_data"
    },
    {
     "data": {
      "text/markdown": [
       "----"
      ],
      "text/plain": [
       "<IPython.core.display.Markdown object>"
      ]
     },
     "metadata": {},
     "output_type": "display_data"
    },
    {
     "data": {
      "text/markdown": [
       "*Resposta:*"
      ],
      "text/plain": [
       "<IPython.core.display.Markdown object>"
      ]
     },
     "metadata": {},
     "output_type": "display_data"
    },
    {
     "data": {
      "text/markdown": [
       "----"
      ],
      "text/plain": [
       "<IPython.core.display.Markdown object>"
      ]
     },
     "metadata": {},
     "output_type": "display_data"
    },
    {
     "data": {
      "text/markdown": [
       "Claro! Para poder ajudá-lo melhor, poderia fornecer mais detalhes sobre o que você gostaria que os casos de teste abordassem? Por exemplo, qual o contexto (software, algoritmo, sistema, etc.) e quais são os requisitos ou funcionalidades que devem ser testados? Com essas informações, poderei sugerir casos de teste mais específicos e relevantes."
      ],
      "text/plain": [
       "<IPython.core.display.Markdown object>"
      ]
     },
     "metadata": {},
     "output_type": "display_data"
    },
    {
     "data": {
      "text/markdown": [
       "----"
      ],
      "text/plain": [
       "<IPython.core.display.Markdown object>"
      ]
     },
     "metadata": {},
     "output_type": "display_data"
    }
   ],
   "source": [
    "prompt = \"\"\"\n",
    "Adicione mais casos de testes, por favor.\n",
    "\"\"\"\n",
    "\n",
    "display(Markdown(f\"*Prompt:*\"))\n",
    "display(Markdown(f\"----\"))\n",
    "display(Markdown(f\"{prompt}\"))\n",
    "display(Markdown(f\"----\"))\n",
    "\n",
    "response = llm.invoke(prompt)\n",
    "\n",
    "display(Markdown(f\"*Resposta:*\"))\n",
    "display(Markdown(f\"----\"))\n",
    "display(Markdown(f\"{response.content}\"))\n",
    "display(Markdown(f\"----\"))"
   ]
  },
  {
   "cell_type": "code",
   "execution_count": null,
   "id": "423f5788-f569-4ef5-b8bd-000fa0c3d359",
   "metadata": {},
   "outputs": [],
   "source": []
  },
  {
   "cell_type": "code",
   "execution_count": null,
   "id": "5cf5bfcc-6781-4bf7-b020-bec33d26ce41",
   "metadata": {},
   "outputs": [],
   "source": []
  }
 ],
 "metadata": {
  "kernelspec": {
   "display_name": "Python 3 (ipykernel)",
   "language": "python",
   "name": "python3"
  },
  "language_info": {
   "codemirror_mode": {
    "name": "ipython",
    "version": 3
   },
   "file_extension": ".py",
   "mimetype": "text/x-python",
   "name": "python",
   "nbconvert_exporter": "python",
   "pygments_lexer": "ipython3",
   "version": "3.11.9"
  }
 },
 "nbformat": 4,
 "nbformat_minor": 5
}
