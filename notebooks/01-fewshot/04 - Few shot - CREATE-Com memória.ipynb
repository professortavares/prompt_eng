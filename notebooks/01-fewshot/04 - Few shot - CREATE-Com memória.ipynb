{
 "cells": [
  {
   "cell_type": "markdown",
   "id": "44415b7f-a518-4ef6-b421-5c4ba994d569",
   "metadata": {},
   "source": [
    "# FEW SHOT - CREATE (agora com memória)\n",
    "\n",
    "CREATE significa:\n",
    "- Caracterização: Definição do papel ou persona do modelo.\n",
    "- Requisição: Solicitação principal.\n",
    "- Exemplos: Amostras para guiar a resposta.\n",
    "- Ajustes: Modificações ou restrições.\n",
    "- Tipo: Formato ou estilo da saída.\n",
    "- Extras: Informações adicionais relevantes."
   ]
  },
  {
   "cell_type": "code",
   "execution_count": 1,
   "id": "37354857-38cc-4e93-91d2-4fc8c795771e",
   "metadata": {},
   "outputs": [],
   "source": [
    "# Imports necessários\n",
    "from langchain.chat_models import init_chat_model\n",
    "from langgraph.checkpoint.memory import MemorySaver\n",
    "from langchain_core.messages import HumanMessage\n",
    "from langgraph.graph import START, MessagesState, StateGraph\n",
    "\n",
    "from IPython.display import display, Markdown\n",
    "from pathlib import Path\n",
    "import os\n",
    "from dotenv import load_dotenv"
   ]
  },
  {
   "cell_type": "code",
   "execution_count": 2,
   "id": "57cc9f85-ceff-46d3-ab66-2ec0b2251365",
   "metadata": {},
   "outputs": [
    {
     "data": {
      "text/plain": [
       "True"
      ]
     },
     "execution_count": 2,
     "metadata": {},
     "output_type": "execute_result"
    }
   ],
   "source": [
    "dotenv_path = Path(\"../.env\")\n",
    "load_dotenv(dotenv_path=dotenv_path)"
   ]
  },
  {
   "cell_type": "code",
   "execution_count": 3,
   "id": "922515c7-8b86-4f7b-9a86-a7dd89550546",
   "metadata": {},
   "outputs": [],
   "source": [
    "os.environ[\"OPENAI_API_KEY\"] = os.getenv(\"OPENAI_API_KEY\")\n",
    "model = init_chat_model(\"gpt-4o-mini\", model_provider=\"openai\")"
   ]
  },
  {
   "cell_type": "code",
   "execution_count": 4,
   "id": "fbe90121-8bfb-4cf5-b8b2-f0a0ecc21fb5",
   "metadata": {},
   "outputs": [],
   "source": [
    "# Define a new graph\n",
    "workflow = StateGraph(state_schema=MessagesState)\n",
    "\n",
    "# Define the function that calls the model\n",
    "def call_model(state: MessagesState):\n",
    "    response = model.invoke(state[\"messages\"])\n",
    "    return {\"messages\": response}\n",
    "\n",
    "# Define the (single) node in the graph\n",
    "workflow.add_edge(START, \"model\")\n",
    "workflow.add_node(\"model\", call_model)\n",
    "\n",
    "# Add memory\n",
    "memory = MemorySaver()\n",
    "app = workflow.compile(checkpointer=memory)\n",
    "config = {\"configurable\": {\"thread_id\": \"abc123\"}}"
   ]
  },
  {
   "cell_type": "markdown",
   "id": "b3231c89-aef8-434a-89bc-2db864b73cfd",
   "metadata": {},
   "source": [
    "## Aqui vou usar o template CREATE"
   ]
  },
  {
   "cell_type": "code",
   "execution_count": 5,
   "id": "048d96f1-18c9-425f-a524-cae3e16731e5",
   "metadata": {},
   "outputs": [
    {
     "data": {
      "text/markdown": [
       "*Prompt:*"
      ],
      "text/plain": [
       "<IPython.core.display.Markdown object>"
      ]
     },
     "metadata": {},
     "output_type": "display_data"
    },
    {
     "data": {
      "text/markdown": [
       "----"
      ],
      "text/plain": [
       "<IPython.core.display.Markdown object>"
      ]
     },
     "metadata": {},
     "output_type": "display_data"
    },
    {
     "data": {
      "text/markdown": [
       "\n",
       "**C — Caracterização**\n",
       "Você é um engenheiro de QA experiente, especialista em testes funcionais escritos no estilo Gherkin.\n",
       "\n",
       "**R — Requisição**\n",
       "Crie um plano de testes funcional baseado na história técnica descrita ao final do prompt.\n",
       "\n",
       "**E — Exemplos**\n",
       "A seguir estão exemplos genéricos que demonstram **exatamente o formato** em que os testes devem ser escritos:\n",
       "\n",
       "```\n",
       "**Teste 1**: Verificar acesso ao painel  \n",
       "**Cenário**: Usuário autenticado acessa painel principal  \n",
       "**Dado** que o usuário está logado  \n",
       "**Quando** acessa a URL \"/painel\"  \n",
       "**Então** ele deve visualizar a página com o título \"Painel Principal\"\n",
       "\n",
       "**Teste 2**: Campo obrigatório não preenchido  \n",
       "**Cenário**: Validação de campo obrigatório  \n",
       "\n",
       "**Dado** que o usuário deixa o campo \"nome\" em branco  \n",
       "**Quando** tenta salvar o formulário  \n",
       "**Então** o sistema deve exibir a mensagem \"Campo obrigatório\"\n",
       "```\n",
       "\n",
       "> (Os exemplos não correspondem ao requisito da tela de login, mas **demonstram claramente o padrão desejado de resposta**.)\n",
       "\n",
       "**A — Ajustes**\n",
       "Mantenha esse mesmo padrão de escrita nos seus testes: título, cenário, e blocos Gherkin. Evite mudar o estilo ou a sequência.\n",
       "\n",
       "**T — Tipo**\n",
       "Formato: texto estruturado conforme os exemplos, com blocos Given–When–Then (Dado / Quando / Então) bem definidos.\n",
       "\n",
       "**E — Extras**\n",
       "Considere casos positivos (fluxos válidos) e negativos (erros, limites, exceções). O objetivo é garantir cobertura total dos requisitos.\n",
       "\n",
       "Requisitos:\n",
       "* O campo de nome de usuário deve aceitar apenas e-mails válidos.\n",
       "* A senha deve ter entre 8 e 20 caracteres, contendo letras maiúsculas, minúsculas, números e caracteres especiais.\n",
       "* O sistema deve permitir no máximo 3 tentativas de login. Após isso, um captcha deve ser exibido.\n",
       "* O link \"lembrar senha\" deve levar o usuário para a tela correspondente.\n"
      ],
      "text/plain": [
       "<IPython.core.display.Markdown object>"
      ]
     },
     "metadata": {},
     "output_type": "display_data"
    },
    {
     "data": {
      "text/markdown": [
       "----"
      ],
      "text/plain": [
       "<IPython.core.display.Markdown object>"
      ]
     },
     "metadata": {},
     "output_type": "display_data"
    },
    {
     "data": {
      "text/markdown": [
       "*Resposta:*"
      ],
      "text/plain": [
       "<IPython.core.display.Markdown object>"
      ]
     },
     "metadata": {},
     "output_type": "display_data"
    },
    {
     "data": {
      "text/markdown": [
       "----"
      ],
      "text/plain": [
       "<IPython.core.display.Markdown object>"
      ]
     },
     "metadata": {},
     "output_type": "display_data"
    },
    {
     "data": {
      "text/markdown": [
       "**Teste 1**: Validação de e-mail no campo de nome de usuário  \n",
       "**Cenário**: Usuário preenche um e-mail válido  \n",
       "**Dado** que o usuário está na tela de login  \n",
       "**Quando** preenche o campo \"nome de usuário\" com \"usuario@exemplo.com\"  \n",
       "**Então** o sistema deve aceitar o e-mail como válido  \n",
       "\n",
       "**Teste 2**: Validação de e-mail no campo de nome de usuário  \n",
       "**Cenário**: Usuário preenche um e-mail inválido  \n",
       "**Dado** que o usuário está na tela de login  \n",
       "**Quando** preenche o campo \"nome de usuário\" com \"usuario-exemplo.com\"  \n",
       "**Então** o sistema deve exibir a mensagem \"Por favor, insira um e-mail válido\"  \n",
       "\n",
       "**Teste 3**: Validação da senha  \n",
       "**Cenário**: Usuário preenche a senha correta  \n",
       "**Dado** que o usuário está na tela de login  \n",
       "**Quando** preenche o campo \"senha\" com \"Senha@123\"  \n",
       "**Então** o sistema deve aceitar a senha como válida  \n",
       "\n",
       "**Teste 4**: Validação da senha  \n",
       "**Cenário**: Usuário preenche a senha com menos de 8 caracteres  \n",
       "**Dado** que o usuário está na tela de login  \n",
       "**Quando** preenche o campo \"senha\" com \"abc\"  \n",
       "**Então** o sistema deve exibir a mensagem \"A senha deve ter entre 8 e 20 caracteres\"  \n",
       "\n",
       "**Teste 5**: Validação da senha  \n",
       "**Cenário**: Usuário preenche a senha com mais de 20 caracteres  \n",
       "**Dado** que o usuário está na tela de login  \n",
       "**Quando** preenche o campo \"senha\" com \"SenhaMuitoLonga123@\"  \n",
       "**Então** o sistema deve exibir a mensagem \"A senha deve ter entre 8 e 20 caracteres\"  \n",
       "\n",
       "**Teste 6**: Validação da senha  \n",
       "**Cenário**: Usuário preenche a senha sem caracteres especiais  \n",
       "**Dado** que o usuário está na tela de login  \n",
       "**Quando** preenche o campo \"senha\" com \"Senha123\"  \n",
       "**Então** o sistema deve exibir a mensagem \"A senha deve conter letras maiúsculas, minúsculas, números e caracteres especiais\"  \n",
       "\n",
       "**Teste 7**: Tentativas de login  \n",
       "**Cenário**: Usuário tenta logar com credenciais incorretas três vezes  \n",
       "**Dado** que o usuário está na tela de login  \n",
       "**Quando** tenta fazer login com \"usuario@exemplo.com\" e \"senhaErrada\" três vezes seguidas  \n",
       "**Então** o sistema deve exibir um captcha  \n",
       "\n",
       "**Teste 8**: Link de lembrar senha  \n",
       "**Cenário**: Usuário clica no link \"lembrar senha\"  \n",
       "**Dado** que o usuário está na tela de login  \n",
       "**Quando** clica no link \"lembrar senha\"  \n",
       "**Então** o usuário deve ser redirecionado para a tela de recuperação de senha  "
      ],
      "text/plain": [
       "<IPython.core.display.Markdown object>"
      ]
     },
     "metadata": {},
     "output_type": "display_data"
    },
    {
     "data": {
      "text/markdown": [
       "----"
      ],
      "text/plain": [
       "<IPython.core.display.Markdown object>"
      ]
     },
     "metadata": {},
     "output_type": "display_data"
    }
   ],
   "source": [
    "prompt = \"\"\"\n",
    "**C — Caracterização**\n",
    "Você é um engenheiro de QA experiente, especialista em testes funcionais escritos no estilo Gherkin.\n",
    "\n",
    "**R — Requisição**\n",
    "Crie um plano de testes funcional baseado na história técnica descrita ao final do prompt.\n",
    "\n",
    "**E — Exemplos**\n",
    "A seguir estão exemplos genéricos que demonstram **exatamente o formato** em que os testes devem ser escritos:\n",
    "\n",
    "```\n",
    "**Teste 1**: Verificar acesso ao painel  \n",
    "**Cenário**: Usuário autenticado acessa painel principal  \n",
    "**Dado** que o usuário está logado  \n",
    "**Quando** acessa a URL \"/painel\"  \n",
    "**Então** ele deve visualizar a página com o título \"Painel Principal\"\n",
    "\n",
    "**Teste 2**: Campo obrigatório não preenchido  \n",
    "**Cenário**: Validação de campo obrigatório  \n",
    "\n",
    "**Dado** que o usuário deixa o campo \"nome\" em branco  \n",
    "**Quando** tenta salvar o formulário  \n",
    "**Então** o sistema deve exibir a mensagem \"Campo obrigatório\"\n",
    "```\n",
    "\n",
    "> (Os exemplos não correspondem ao requisito da tela de login, mas **demonstram claramente o padrão desejado de resposta**.)\n",
    "\n",
    "**A — Ajustes**\n",
    "Mantenha esse mesmo padrão de escrita nos seus testes: título, cenário, e blocos Gherkin. Evite mudar o estilo ou a sequência.\n",
    "\n",
    "**T — Tipo**\n",
    "Formato: texto estruturado conforme os exemplos, com blocos Given–When–Then (Dado / Quando / Então) bem definidos.\n",
    "\n",
    "**E — Extras**\n",
    "Considere casos positivos (fluxos válidos) e negativos (erros, limites, exceções). O objetivo é garantir cobertura total dos requisitos.\n",
    "\n",
    "Requisitos:\n",
    "* O campo de nome de usuário deve aceitar apenas e-mails válidos.\n",
    "* A senha deve ter entre 8 e 20 caracteres, contendo letras maiúsculas, minúsculas, números e caracteres especiais.\n",
    "* O sistema deve permitir no máximo 3 tentativas de login. Após isso, um captcha deve ser exibido.\n",
    "* O link \"lembrar senha\" deve levar o usuário para a tela correspondente.\n",
    "\"\"\"\n",
    "\n",
    "display(Markdown(f\"*Prompt:*\"))\n",
    "display(Markdown(f\"----\"))\n",
    "display(Markdown(f\"{prompt}\"))\n",
    "display(Markdown(f\"----\"))\n",
    "\n",
    "input_messages = [HumanMessage(prompt)]\n",
    "output = app.invoke({\"messages\": input_messages}, config)\n",
    "resposta = output[\"messages\"][-1].content\n",
    "\n",
    "display(Markdown(f\"*Resposta:*\"))\n",
    "display(Markdown(f\"----\"))\n",
    "display(Markdown(f\"{resposta}\"))\n",
    "display(Markdown(f\"----\"))"
   ]
  },
  {
   "cell_type": "markdown",
   "id": "804cee06-43d8-469a-b281-b5e2969c4a6e",
   "metadata": {},
   "source": [
    "## Vamos testar a memória"
   ]
  },
  {
   "cell_type": "code",
   "execution_count": 6,
   "id": "d18d9046-9e1b-4a2e-a8d1-df89ee91fc1f",
   "metadata": {},
   "outputs": [
    {
     "data": {
      "text/markdown": [
       "*Prompt:*"
      ],
      "text/plain": [
       "<IPython.core.display.Markdown object>"
      ]
     },
     "metadata": {},
     "output_type": "display_data"
    },
    {
     "data": {
      "text/markdown": [
       "----"
      ],
      "text/plain": [
       "<IPython.core.display.Markdown object>"
      ]
     },
     "metadata": {},
     "output_type": "display_data"
    },
    {
     "data": {
      "text/markdown": [
       "\n",
       "Adicione mais casos de testes, por favor.\n"
      ],
      "text/plain": [
       "<IPython.core.display.Markdown object>"
      ]
     },
     "metadata": {},
     "output_type": "display_data"
    },
    {
     "data": {
      "text/markdown": [
       "----"
      ],
      "text/plain": [
       "<IPython.core.display.Markdown object>"
      ]
     },
     "metadata": {},
     "output_type": "display_data"
    },
    {
     "data": {
      "text/markdown": [
       "*Resposta:*"
      ],
      "text/plain": [
       "<IPython.core.display.Markdown object>"
      ]
     },
     "metadata": {},
     "output_type": "display_data"
    },
    {
     "data": {
      "text/markdown": [
       "----"
      ],
      "text/plain": [
       "<IPython.core.display.Markdown object>"
      ]
     },
     "metadata": {},
     "output_type": "display_data"
    },
    {
     "data": {
      "text/markdown": [
       "Claro! Aqui estão mais casos de teste para garantir uma cobertura ainda melhor dos requisitos:\n",
       "\n",
       "**Teste 9**: Login com credenciais corretas  \n",
       "**Cenário**: Usuário loga com e-mail e senha válidos  \n",
       "**Dado** que o usuário está na tela de login  \n",
       "**Quando** preenche o campo \"nome de usuário\" com \"usuario@exemplo.com\"  \n",
       "**E** preenche o campo \"senha\" com \"Senha@123\"  \n",
       "**E** clica no botão \"Entrar\"  \n",
       "**Então** o sistema deve redirecioná-lo para a página inicial do aplicativo  \n",
       "\n",
       "**Teste 10**: Tentativas de login com e-mail inválido  \n",
       "**Cenário**: Usuário tenta logar com um e-mail inválido  \n",
       "**Dado** que o usuário está na tela de login  \n",
       "**Quando** preenche o campo \"nome de usuário\" com \"usuario-exemplo.com\"  \n",
       "**E** preenche o campo \"senha\" com \"Senha@123\"  \n",
       "**E** clica no botão \"Entrar\"  \n",
       "**Então** o sistema deve exibir a mensagem \"Por favor, insira um e-mail válido\"  \n",
       "\n",
       "**Teste 11**: Login após captcha exibido  \n",
       "**Cenário**: Usuário tenta logar após 3 tentativas incorretas  \n",
       "**Dado** que o usuário já completou 3 tentativas de login sem sucesso  \n",
       "**E** o captcha está sendo exibido  \n",
       "**Quando** o usuário preenche o captcha corretamente e tenta logar novamente com credenciais corretas  \n",
       "**Então** o sistema deve redirecioná-lo para a página inicial do aplicativo  \n",
       "\n",
       "**Teste 12**: Login após captcha exibido - tentativa incorreta  \n",
       "**Cenário**: Usuário completa o captcha mas tenta logar com credenciais incorretas  \n",
       "**Dado** que o usuário já completou 3 tentativas de login sem sucesso  \n",
       "**E** o captcha está sendo exibido  \n",
       "**Quando** o usuário preenche o captcha corretamente e tenta logar novamente com \"usuario@exemplo.com\" e \"senhaErrada\"  \n",
       "**Então** o sistema deve exibir a mensagem \"Credenciais incorrectas\"  \n",
       "\n",
       "**Teste 13**: Campo de nome de usuário vazio  \n",
       "**Cenário**: Usuário tenta fazer login sem preencher o campo de nome de usuário  \n",
       "**Dado** que o usuário está na tela de login  \n",
       "**Quando** deixa o campo \"nome de usuário\" em branco  \n",
       "**E** preenche o campo \"senha\" com \"Senha@123\"  \n",
       "**E** clica no botão \"Entrar\"  \n",
       "**Então** o sistema deve exibir a mensagem \"Campo obrigatório\"  \n",
       "\n",
       "**Teste 14**: Campo de senha vazio  \n",
       "**Cenário**: Usuário tenta fazer login sem preencher o campo de senha  \n",
       "**Dado** que o usuário está na tela de login  \n",
       "**Quando** preenche o campo \"nome de usuário\" com \"usuario@exemplo.com\"  \n",
       "**E** deixa o campo \"senha\" em branco  \n",
       "**E** clica no botão \"Entrar\"  \n",
       "**Então** o sistema deve exibir a mensagem \"Campo obrigatório\"  \n",
       "\n",
       "**Teste 15**: Acessar página de recuperação de senha e retorno  \n",
       "**Cenário**: Usuário volta da tela de recuperação de senha  \n",
       "**Dado** que o usuário está na tela de recuperação de senha  \n",
       "**Quando** clica no link \"Voltar ao login\"  \n",
       "**Então** o sistema deve redirecioná-lo para a tela de login  \n",
       "\n",
       "**Teste 16**: Validação de senha sem número  \n",
       "**Cenário**: Usuário preenche a senha sem números  \n",
       "**Dado** que o usuário está na tela de login  \n",
       "**Quando** preenche o campo \"senha\" com \"Senha@Abc\"  \n",
       "**Então** o sistema deve exibir a mensagem \"A senha deve conter letras maiúsculas, minúsculas, números e caracteres especiais\"  \n",
       "\n",
       "**Teste 17**: Validação de senha sem letra maiúscula  \n",
       "**Cenário**: Usuário preenche a senha sem letras maiúsculas  \n",
       "**Dado** que o usuário está na tela de login  \n",
       "**Quando** preenche o campo \"senha\" com \"senha123@\"  \n",
       "**Então** o sistema deve exibir a mensagem \"A senha deve conter letras maiúsculas, minúsculas, números e caracteres especiais\"  \n",
       "\n",
       "Esses novos testes visam fortalecer a cobertura e aumentar a robustez das validações presentes no sistema de login."
      ],
      "text/plain": [
       "<IPython.core.display.Markdown object>"
      ]
     },
     "metadata": {},
     "output_type": "display_data"
    },
    {
     "data": {
      "text/markdown": [
       "----"
      ],
      "text/plain": [
       "<IPython.core.display.Markdown object>"
      ]
     },
     "metadata": {},
     "output_type": "display_data"
    }
   ],
   "source": [
    "prompt = \"\"\"\n",
    "Adicione mais casos de testes, por favor.\n",
    "\"\"\"\n",
    "\n",
    "display(Markdown(f\"*Prompt:*\"))\n",
    "display(Markdown(f\"----\"))\n",
    "display(Markdown(f\"{prompt}\"))\n",
    "display(Markdown(f\"----\"))\n",
    "\n",
    "input_messages = [HumanMessage(prompt)]\n",
    "output = app.invoke({\"messages\": input_messages}, config)\n",
    "resposta = output[\"messages\"][-1].content\n",
    "\n",
    "display(Markdown(f\"*Resposta:*\"))\n",
    "display(Markdown(f\"----\"))\n",
    "display(Markdown(f\"{resposta}\"))\n",
    "display(Markdown(f\"----\"))"
   ]
  },
  {
   "cell_type": "markdown",
   "id": "54fa6b3c-bc58-4389-8328-5d1c65f9ad19",
   "metadata": {},
   "source": [
    "## Pedindo para alterar o formato"
   ]
  },
  {
   "cell_type": "code",
   "execution_count": 7,
   "id": "423f5788-f569-4ef5-b8bd-000fa0c3d359",
   "metadata": {},
   "outputs": [
    {
     "data": {
      "text/markdown": [
       "*Prompt:*"
      ],
      "text/plain": [
       "<IPython.core.display.Markdown object>"
      ]
     },
     "metadata": {},
     "output_type": "display_data"
    },
    {
     "data": {
      "text/markdown": [
       "----"
      ],
      "text/plain": [
       "<IPython.core.display.Markdown object>"
      ]
     },
     "metadata": {},
     "output_type": "display_data"
    },
    {
     "data": {
      "text/markdown": [
       "\n",
       "Agora coloque no formato tabela, conforme exemplo abaixo:\n",
       "\n",
       "| Nº do Teste | Título                     | Pré-condições        | Ação                                             | Resultado Esperado                         |\n",
       "| ----------- | -------------------------- | -------------------- | ------------------------------------------------ | ------------------------------------------ |\n",
       "| 1           | E-mail inválido não aceito | Tela de login aberta | Inserir \"usuariosemarroba.com\" e clicar em Login | Mensagem de erro \"E-mail inválido\" exibida |\n",
       "| 2           | Senha curta bloqueada      | Tela de login aberta | Inserir \"abc123\" como senha e clicar em Login    | Mensagem de erro \"Senha inválida\" exibida  |\n"
      ],
      "text/plain": [
       "<IPython.core.display.Markdown object>"
      ]
     },
     "metadata": {},
     "output_type": "display_data"
    },
    {
     "data": {
      "text/markdown": [
       "----"
      ],
      "text/plain": [
       "<IPython.core.display.Markdown object>"
      ]
     },
     "metadata": {},
     "output_type": "display_data"
    },
    {
     "data": {
      "text/markdown": [
       "*Resposta:*"
      ],
      "text/plain": [
       "<IPython.core.display.Markdown object>"
      ]
     },
     "metadata": {},
     "output_type": "display_data"
    },
    {
     "data": {
      "text/markdown": [
       "----"
      ],
      "text/plain": [
       "<IPython.core.display.Markdown object>"
      ]
     },
     "metadata": {},
     "output_type": "display_data"
    },
    {
     "data": {
      "text/markdown": [
       "Claro! Aqui está o conjunto de testes em formato de tabela:\n",
       "\n",
       "| Nº do Teste | Título                                    | Pré-condições              | Ação                                                   | Resultado Esperado                                                       |\n",
       "| ----------- | ---------------------------------------- | -------------------------- | ------------------------------------------------------ | ------------------------------------------------------------------------ |\n",
       "| 1           | E-mail válido aceito                    | Tela de login aberta       | Inserir \"usuario@exemplo.com\" e clicar em Login       | Login realizado com sucesso e redirecionamento para a página inicial     |\n",
       "| 2           | E-mail inválido não aceito              | Tela de login aberta       | Inserir \"usuario-exemplo.com\" e clicar em Login       | Mensagem de erro \"Por favor, insira um e-mail válido\" exibida            |\n",
       "| 3           | Senha válida aceita                      | Tela de login aberta       | Inserir \"Senha@123\" e clicar em Login                  | Login realizado com sucesso e redirecionamento para a página inicial     |\n",
       "| 4           | Senha curta bloqueada                   | Tela de login aberta       | Inserir \"abc\" como senha e clicar em Login             | Mensagem de erro \"A senha deve ter entre 8 e 20 caracteres\" exibida      |\n",
       "| 5           | Senha longa bloqueada                   | Tela de login aberta       | Inserir \"SenhaMuitoLonga123@\" como senha              | Mensagem de erro \"A senha deve ter entre 8 e 20 caracteres\" exibida      |\n",
       "| 6           | Senha sem caractere especial            | Tela de login aberta       | Inserir \"Senha123\" como senha                          | Mensagem de erro \"A senha deve conter letras maiúsculas, minúsculas, números e caracteres especiais\" exibida |\n",
       "| 7           | Excesso de tentativas de login          | Tela de login aberta       | Tentar logar 3 vezes com \"usuario@exemplo.com\" e \"senhaErrada\" | Captcha exibido                                                          |\n",
       "| 8           | Navegação para lembrar senha             | Tela de login aberta       | Clicar no link \"lembrar senha\"                         | Redirecionamento para a tela de recuperação de senha                    |\n",
       "| 9           | Login com credenciais corretas          | Tela de login aberta       | Inserir \"usuario@exemplo.com\" e \"Senha@123\" e clicar em Login | Login realizado com sucesso e redirecionamento para a página inicial     |\n",
       "| 10          | Tentativa de login com e-mail inválido  | Tela de login aberta       | Inserir \"usuario-exemplo.com\" e \"Senha@123\" e clicar em Login | Mensagem de erro \"Por favor, insira um e-mail válido\" exibida            |\n",
       "| 11          | Login após captcha exibido               | Após 3 tentativas de login sem sucesso | Inserir captcha corretamente e tentar logar com credenciais corretas | Login realizado com sucesso e redirecionamento para a página inicial     |\n",
       "| 12          | Login após captcha - tentativa incorreta | Após 3 tentativas de login sem sucesso | Inserir captcha corretamente e tentar logar com \"usuario@exemplo.com\" e \"senhaErrada\" | Mensagem de erro \"Credenciais incorretas\" exibida                        |\n",
       "| 13          | Campo de nome de usuário vazio          | Tela de login aberta       | Deixar campo \"nome de usuário\" em branco e preencher \"Senha@123\" e clicar em Login | Mensagem de erro \"Campo obrigatório\" exibida                             |\n",
       "| 14          | Campo de senha vazio                    | Tela de login aberta       | Preencher \"usuario@exemplo.com\" em \"nome de usuário\" e deixar \"senha\" em branco e clicar em Login | Mensagem de erro \"Campo obrigatório\" exibida                             |\n",
       "| 15          | Acesso de volta da recuperação de senha | Tela de recuperação de senha| Clicar no link \"Voltar ao login\"                        | Redirecionamento para a tela de login                                     |\n",
       "| 16          | Senha sem número bloqueada              | Tela de login aberta       | Inserir \"Senha@Abc\" e clicar em Login                  | Mensagem de erro \"A senha deve conter letras maiúsculas, minúsculas, números e caracteres especiais\" exibida |\n",
       "| 17          | Senha sem letra maiúscula bloqueada     | Tela de login aberta       | Inserir \"senha123@\" e clicar em Login                   | Mensagem de erro \"A senha deve conter letras maiúsculas, minúsculas, números e caracteres especiais\" exibida |\n",
       "\n",
       "Essa tabela abrange os diversos cenários de teste, incluindo casos positivos e negativos para garantir a funcionalidade do sistema de login."
      ],
      "text/plain": [
       "<IPython.core.display.Markdown object>"
      ]
     },
     "metadata": {},
     "output_type": "display_data"
    },
    {
     "data": {
      "text/markdown": [
       "----"
      ],
      "text/plain": [
       "<IPython.core.display.Markdown object>"
      ]
     },
     "metadata": {},
     "output_type": "display_data"
    }
   ],
   "source": [
    "prompt = \"\"\"\n",
    "Agora coloque no formato tabela, conforme exemplo abaixo:\n",
    "\n",
    "| Nº do Teste | Título                     | Pré-condições        | Ação                                             | Resultado Esperado                         |\n",
    "| ----------- | -------------------------- | -------------------- | ------------------------------------------------ | ------------------------------------------ |\n",
    "| 1           | E-mail inválido não aceito | Tela de login aberta | Inserir \"usuariosemarroba.com\" e clicar em Login | Mensagem de erro \"E-mail inválido\" exibida |\n",
    "| 2           | Senha curta bloqueada      | Tela de login aberta | Inserir \"abc123\" como senha e clicar em Login    | Mensagem de erro \"Senha inválida\" exibida  |\n",
    "\"\"\"\n",
    "\n",
    "display(Markdown(f\"*Prompt:*\"))\n",
    "display(Markdown(f\"----\"))\n",
    "display(Markdown(f\"{prompt}\"))\n",
    "display(Markdown(f\"----\"))\n",
    "\n",
    "input_messages = [HumanMessage(prompt)]\n",
    "output = app.invoke({\"messages\": input_messages}, config)\n",
    "resposta = output[\"messages\"][-1].content\n",
    "\n",
    "display(Markdown(f\"*Resposta:*\"))\n",
    "display(Markdown(f\"----\"))\n",
    "display(Markdown(f\"{resposta}\"))\n",
    "display(Markdown(f\"----\"))"
   ]
  },
  {
   "cell_type": "code",
   "execution_count": null,
   "id": "5cf5bfcc-6781-4bf7-b020-bec33d26ce41",
   "metadata": {},
   "outputs": [],
   "source": []
  }
 ],
 "metadata": {
  "kernelspec": {
   "display_name": "Python 3 (ipykernel)",
   "language": "python",
   "name": "python3"
  },
  "language_info": {
   "codemirror_mode": {
    "name": "ipython",
    "version": 3
   },
   "file_extension": ".py",
   "mimetype": "text/x-python",
   "name": "python",
   "nbconvert_exporter": "python",
   "pygments_lexer": "ipython3",
   "version": "3.11.9"
  }
 },
 "nbformat": 4,
 "nbformat_minor": 5
}
