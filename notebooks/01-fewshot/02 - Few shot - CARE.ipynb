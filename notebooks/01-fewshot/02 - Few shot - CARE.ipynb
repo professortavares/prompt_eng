{
 "cells": [
  {
   "cell_type": "markdown",
   "id": "44415b7f-a518-4ef6-b421-5c4ba994d569",
   "metadata": {},
   "source": [
    "# FEW SHOT - CARE\n",
    "\n",
    "CARE significa:\n",
    "- Give the (CONTEXT)\n",
    "- Describe (ACTION)\n",
    "- Clarify the (RESULT)\n",
    "- Give the (EXAMPLE)"
   ]
  },
  {
   "cell_type": "code",
   "execution_count": 1,
   "id": "37354857-38cc-4e93-91d2-4fc8c795771e",
   "metadata": {},
   "outputs": [],
   "source": [
    "# Imports necessários\n",
    "from langchain_openai import ChatOpenAI\n",
    "from IPython.display import display, Markdown\n",
    "from pathlib import Path\n",
    "import os\n",
    "from dotenv import load_dotenv"
   ]
  },
  {
   "cell_type": "code",
   "execution_count": 2,
   "id": "57cc9f85-ceff-46d3-ab66-2ec0b2251365",
   "metadata": {},
   "outputs": [
    {
     "data": {
      "text/plain": [
       "True"
      ]
     },
     "execution_count": 2,
     "metadata": {},
     "output_type": "execute_result"
    }
   ],
   "source": [
    "dotenv_path = Path(\"../.env\")\n",
    "load_dotenv(dotenv_path=dotenv_path)"
   ]
  },
  {
   "cell_type": "code",
   "execution_count": 3,
   "id": "922515c7-8b86-4f7b-9a86-a7dd89550546",
   "metadata": {},
   "outputs": [],
   "source": [
    "os.environ[\"OPENAI_API_KEY\"] = os.getenv(\"OPENAI_API_KEY\")\n",
    "llm = ChatOpenAI(model=\"gpt-4o-mini\")"
   ]
  },
  {
   "cell_type": "markdown",
   "id": "b3231c89-aef8-434a-89bc-2db864b73cfd",
   "metadata": {},
   "source": [
    "## Aqui vou usar o template CARE"
   ]
  },
  {
   "cell_type": "code",
   "execution_count": 4,
   "id": "048d96f1-18c9-425f-a524-cae3e16731e5",
   "metadata": {},
   "outputs": [
    {
     "data": {
      "text/markdown": [
       "*Prompt:*"
      ],
      "text/plain": [
       "<IPython.core.display.Markdown object>"
      ]
     },
     "metadata": {},
     "output_type": "display_data"
    },
    {
     "data": {
      "text/markdown": [
       "----"
      ],
      "text/plain": [
       "<IPython.core.display.Markdown object>"
      ]
     },
     "metadata": {},
     "output_type": "display_data"
    },
    {
     "data": {
      "text/markdown": [
       "\n",
       "**C – Context (Contexto):**\n",
       "Você é um engenheiro de QA experiente. Sua tarefa é elaborar planos de teste funcionais baseados em requisitos técnicos. As saídas devem ser apresentadas em formato Gherkin (Given–When–Then), com títulos organizados por número e cenário.\n",
       "\n",
       "**A – Action (Ação):**\n",
       "Crie os testes com base nos requisitos descritos, utilizando o mesmo formato demonstrado no exemplo abaixo.\n",
       "\n",
       "**R – Result (Resultado esperado):**\n",
       "Espera-se uma lista de testes com título, cenário e passos estruturados (Given–When–Then), cobrindo todos os pontos do requisito com clareza e objetividade.\n",
       "\n",
       "**E – Example (Exemplo apenas de **formato**, não do conteúdo):**\n",
       "\n",
       "```\n",
       "**Teste 1**: Verificação de acesso com credenciais válidas  \n",
       "**Cenário**: O usuário entra com dados corretos\n",
       "\n",
       "**Dado** que o usuário está na tela de login  \n",
       "**Quando** ele digita o e-mail e a senha corretos  \n",
       "**Então** o sistema deve redirecioná-lo para a página inicial\n",
       "```\n",
       "Agora, utilizando o mesmo **formato do exemplo acima**, elabore os testes para os seguintes requisitos da **tela de login**:\n",
       "\n",
       "* O campo de nome de usuário deve aceitar apenas e-mails válidos.\n",
       "* A senha deve ter entre 8 e 20 caracteres, contendo letras maiúsculas, minúsculas, números e caracteres especiais.\n",
       "* O sistema deve permitir no máximo 3 tentativas de login. Após isso, um captcha deve ser exibido.\n",
       "* O link \"lembrar senha\" deve levar o usuário para a tela correspondente.\n",
       "\n"
      ],
      "text/plain": [
       "<IPython.core.display.Markdown object>"
      ]
     },
     "metadata": {},
     "output_type": "display_data"
    },
    {
     "data": {
      "text/markdown": [
       "----"
      ],
      "text/plain": [
       "<IPython.core.display.Markdown object>"
      ]
     },
     "metadata": {},
     "output_type": "display_data"
    },
    {
     "data": {
      "text/markdown": [
       "*Resposta:*"
      ],
      "text/plain": [
       "<IPython.core.display.Markdown object>"
      ]
     },
     "metadata": {},
     "output_type": "display_data"
    },
    {
     "data": {
      "text/markdown": [
       "----"
      ],
      "text/plain": [
       "<IPython.core.display.Markdown object>"
      ]
     },
     "metadata": {},
     "output_type": "display_data"
    },
    {
     "data": {
      "text/markdown": [
       "```\n",
       "**Teste 1**: Validação do campo de nome de usuário  \n",
       "**Cenário**: O usuário entra com um e-mail válido\n",
       "\n",
       "**Dado** que o usuário está na tela de login  \n",
       "**Quando** ele digita um e-mail válido no campo de nome de usuário  \n",
       "**Então** o sistema deve aceitar o e-mail como válido  \n",
       "\n",
       "\n",
       "**Teste 2**: Validação do campo de nome de usuário  \n",
       "**Cenário**: O usuário entra com um e-mail inválido\n",
       "\n",
       "**Dado** que o usuário está na tela de login  \n",
       "**Quando** ele digita um e-mail inválido no campo de nome de usuário  \n",
       "**Então** o sistema deve exibir uma mensagem de erro indicando que o e-mail é inválido  \n",
       "\n",
       "\n",
       "**Teste 3**: Verificação da validação da senha  \n",
       "**Cenário**: O usuário entra com uma senha válida\n",
       "\n",
       "**Dado** que o usuário está na tela de login  \n",
       "**Quando** ele digita uma senha que contém entre 8 e 20 caracteres, incluindo letras maiúsculas, minúsculas, números e caracteres especiais  \n",
       "**Então** o sistema deve aceitar a senha como válida  \n",
       "\n",
       "\n",
       "**Teste 4**: Verificação da validação da senha  \n",
       "**Cenário**: O usuário entra com uma senha inválida\n",
       "\n",
       "**Dado** que o usuário está na tela de login  \n",
       "**Quando** ele digita uma senha que não atende aos critérios (menos de 8 ou mais de 20 caracteres ou falta de letras, números ou caracteres especiais)  \n",
       "**Então** o sistema deve exibir uma mensagem de erro indicando que a senha é inválida  \n",
       "\n",
       "\n",
       "**Teste 5**: Limite de tentativas de login  \n",
       "**Cenário**: O usuário tenta fazer login três vezes com credenciais incorretas\n",
       "\n",
       "**Dado** que o usuário está na tela de login  \n",
       "**Quando** ele tenta logar com credenciais incorretas três vezes  \n",
       "**Então** o sistema deve exibir um captcha na tela  \n",
       "\n",
       "\n",
       "**Teste 6**: Exibição do link \"lembrar senha\"  \n",
       "**Cenário**: O usuário clica no link \"lembrar senha\"\n",
       "\n",
       "**Dado** que o usuário está na tela de login  \n",
       "**Quando** ele clica no link \"lembrar senha\"  \n",
       "**Então** o sistema deve redirecioná-lo para a tela correspondente de recuperação de senha\n",
       "```"
      ],
      "text/plain": [
       "<IPython.core.display.Markdown object>"
      ]
     },
     "metadata": {},
     "output_type": "display_data"
    },
    {
     "data": {
      "text/markdown": [
       "----"
      ],
      "text/plain": [
       "<IPython.core.display.Markdown object>"
      ]
     },
     "metadata": {},
     "output_type": "display_data"
    }
   ],
   "source": [
    "prompt = \"\"\"\n",
    "**C – Context (Contexto):**\n",
    "Você é um engenheiro de QA experiente. Sua tarefa é elaborar planos de teste funcionais \n",
    "baseados em requisitos técnicos. As saídas devem ser apresentadas em formato Gherkin (Given–When–Then), \n",
    "com títulos organizados por número e cenário.\n",
    "\n",
    "**A – Action (Ação):**\n",
    "Crie os testes com base nos requisitos descritos, utilizando o mesmo formato demonstrado no \n",
    "exemplo abaixo.\n",
    "\n",
    "**R – Result (Resultado esperado):**\n",
    "Espera-se uma lista de testes com título, cenário e passos estruturados (Given–When–Then), \n",
    "cobrindo todos os pontos do requisito com clareza e objetividade.\n",
    "\n",
    "**E – Example (Exemplo apenas de **formato**, não do conteúdo):**\n",
    "\n",
    "```\n",
    "**Teste 1**: Verificação de acesso com credenciais válidas  \n",
    "**Cenário**: O usuário entra com dados corretos\n",
    "\n",
    "**Dado** que o usuário está na tela de login  \n",
    "**Quando** ele digita o e-mail e a senha corretos  \n",
    "**Então** o sistema deve redirecioná-lo para a página inicial\n",
    "```\n",
    "Agora, utilizando o mesmo **formato do exemplo acima**, elabore os testes para os seguintes requisitos da **tela de login**:\n",
    "\n",
    "* O campo de nome de usuário deve aceitar apenas e-mails válidos.\n",
    "* A senha deve ter entre 8 e 20 caracteres, contendo letras maiúsculas, minúsculas, números e caracteres especiais.\n",
    "* O sistema deve permitir no máximo 3 tentativas de login. Após isso, um captcha deve ser exibido.\n",
    "* O link \"lembrar senha\" deve levar o usuário para a tela correspondente.\n",
    "\n",
    "\"\"\"\n",
    "\n",
    "display(Markdown(f\"*Prompt:*\"))\n",
    "display(Markdown(f\"----\"))\n",
    "display(Markdown(f\"{prompt}\"))\n",
    "display(Markdown(f\"----\"))\n",
    "\n",
    "response = llm.invoke(prompt)\n",
    "\n",
    "display(Markdown(f\"*Resposta:*\"))\n",
    "display(Markdown(f\"----\"))\n",
    "display(Markdown(f\"{response.content}\"))\n",
    "display(Markdown(f\"----\"))"
   ]
  },
  {
   "cell_type": "code",
   "execution_count": null,
   "id": "5a0c9dc1-ea7f-4740-889a-beaf84f4a0ea",
   "metadata": {},
   "outputs": [],
   "source": []
  }
 ],
 "metadata": {
  "kernelspec": {
   "display_name": "Python 3 (ipykernel)",
   "language": "python",
   "name": "python3"
  },
  "language_info": {
   "codemirror_mode": {
    "name": "ipython",
    "version": 3
   },
   "file_extension": ".py",
   "mimetype": "text/x-python",
   "name": "python",
   "nbconvert_exporter": "python",
   "pygments_lexer": "ipython3",
   "version": "3.11.9"
  }
 },
 "nbformat": 4,
 "nbformat_minor": 5
}
