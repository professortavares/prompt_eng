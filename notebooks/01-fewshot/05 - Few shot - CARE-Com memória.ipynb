{
 "cells": [
  {
   "cell_type": "markdown",
   "id": "44415b7f-a518-4ef6-b421-5c4ba994d569",
   "metadata": {},
   "source": [
    "# FEW SHOT - CARE (com e sem memória)\n",
    "\n",
    "CARE significa:\n",
    "- Give the (CONTEXT)\n",
    "- Describe (ACTION)\n",
    "- Clarify the (RESULT)\n",
    "- Give the (EXAMPLE)\n",
    "\n",
    "**Objetivo:** Criar um sistema completo (de ponta a ponta) apenas utilizando os prompts"
   ]
  },
  {
   "cell_type": "code",
   "execution_count": 1,
   "id": "37354857-38cc-4e93-91d2-4fc8c795771e",
   "metadata": {},
   "outputs": [],
   "source": [
    "# Imports necessários\n",
    "from langchain.chat_models import init_chat_model\n",
    "from langgraph.checkpoint.memory import MemorySaver\n",
    "from langchain_core.messages import HumanMessage\n",
    "from langgraph.graph import START, MessagesState, StateGraph\n",
    "from langchain_openai import ChatOpenAI\n",
    "\n",
    "from IPython.display import display, Markdown\n",
    "from pathlib import Path\n",
    "import os\n",
    "from dotenv import load_dotenv"
   ]
  },
  {
   "cell_type": "code",
   "execution_count": 2,
   "id": "57cc9f85-ceff-46d3-ab66-2ec0b2251365",
   "metadata": {},
   "outputs": [
    {
     "data": {
      "text/plain": [
       "True"
      ]
     },
     "execution_count": 2,
     "metadata": {},
     "output_type": "execute_result"
    }
   ],
   "source": [
    "dotenv_path = Path(\"../.env\")\n",
    "load_dotenv(dotenv_path=dotenv_path)"
   ]
  },
  {
   "cell_type": "code",
   "execution_count": 3,
   "id": "922515c7-8b86-4f7b-9a86-a7dd89550546",
   "metadata": {},
   "outputs": [],
   "source": [
    "os.environ[\"OPENAI_API_KEY\"] = os.getenv(\"OPENAI_API_KEY\")\n",
    "model = init_chat_model(\"gpt-4o-mini\", model_provider=\"openai\")"
   ]
  },
  {
   "cell_type": "code",
   "execution_count": 4,
   "id": "fbe90121-8bfb-4cf5-b8b2-f0a0ecc21fb5",
   "metadata": {},
   "outputs": [],
   "source": [
    "# Define a new graph\n",
    "workflow = StateGraph(state_schema=MessagesState)\n",
    "\n",
    "# Define the function that calls the model\n",
    "def call_model(state: MessagesState):\n",
    "    response = model.invoke(state[\"messages\"])\n",
    "    return {\"messages\": response}\n",
    "\n",
    "# Define the (single) node in the graph\n",
    "workflow.add_edge(START, \"model\")\n",
    "workflow.add_node(\"model\", call_model)\n",
    "\n",
    "# Add memory\n",
    "memory = MemorySaver()\n",
    "app = workflow.compile(checkpointer=memory)\n",
    "config = {\"configurable\": {\"thread_id\": \"abc123\"}}"
   ]
  },
  {
   "cell_type": "code",
   "execution_count": 5,
   "id": "c9181b41-7657-4e5f-ba45-7c187ed871ee",
   "metadata": {},
   "outputs": [],
   "source": [
    "# servirá para simular algumas respostas\n",
    "llm_sem_memoria = ChatOpenAI(model=\"gpt-4o-mini\")"
   ]
  },
  {
   "cell_type": "markdown",
   "id": "b3231c89-aef8-434a-89bc-2db864b73cfd",
   "metadata": {},
   "source": [
    "## Aqui vou usar o template CARE"
   ]
  },
  {
   "cell_type": "code",
   "execution_count": 6,
   "id": "048d96f1-18c9-425f-a524-cae3e16731e5",
   "metadata": {},
   "outputs": [
    {
     "data": {
      "text/markdown": [
       "*Prompt:*"
      ],
      "text/plain": [
       "<IPython.core.display.Markdown object>"
      ]
     },
     "metadata": {},
     "output_type": "display_data"
    },
    {
     "data": {
      "text/markdown": [
       "----"
      ],
      "text/plain": [
       "<IPython.core.display.Markdown object>"
      ]
     },
     "metadata": {},
     "output_type": "display_data"
    },
    {
     "data": {
      "text/markdown": [
       "\n",
       "**Contexto:**\n",
       "Você é um Product Manager  muito experiente que trabalha em uma fábrica de software. Sua tarefa é especificar um plano para a construção de um sistema (web e app) que sirva como um cardápio virtual. Esse sistema deve servir tanto aos restaurantes que o utilizam para o cadastro daquilo que servem (lanches, entradas, pratos principais, bebidas etc), quanto para os clientes dos restaurantes. Além disso, para os restaurantes deve existir um módulo para um dashboard para analisar os produtos.\n",
       "\n",
       "**Ação:**\n",
       "Crie um plando para construção desse sistema, com as etapas macro, equipes envolvidas, etapas que podem ser executadas em paralelo e quais aquelas que possuem predecessoras\n",
       "\n",
       "**Resultado:**\n",
       "Espera-se uma tabela (ou outro formato mais interessante) que represente este plano\n",
       "\n",
       "**Exemplo (do que deve existir na saída):**\n",
       "Etapa 1: [Nome da etapa] [Equipes] [Etapas Predecessoras] [Etapa que pode ser executada em paralelo]\n",
       "Etapa 2: [Nome da etapa] [Equipes] [Etapas Predecessoras] [Etapa que pode ser executada em paralelo]\n",
       "...\n",
       "Etapa n: [Nome da etapa] [Equipes] [Etapas Predecessoras] [Etapa que pode ser executada em paralelo]"
      ],
      "text/plain": [
       "<IPython.core.display.Markdown object>"
      ]
     },
     "metadata": {},
     "output_type": "display_data"
    },
    {
     "data": {
      "text/markdown": [
       "----"
      ],
      "text/plain": [
       "<IPython.core.display.Markdown object>"
      ]
     },
     "metadata": {},
     "output_type": "display_data"
    },
    {
     "data": {
      "text/markdown": [
       "*Resposta:*"
      ],
      "text/plain": [
       "<IPython.core.display.Markdown object>"
      ]
     },
     "metadata": {},
     "output_type": "display_data"
    },
    {
     "data": {
      "text/markdown": [
       "----"
      ],
      "text/plain": [
       "<IPython.core.display.Markdown object>"
      ]
     },
     "metadata": {},
     "output_type": "display_data"
    },
    {
     "data": {
      "text/markdown": [
       "Abaixo está um plano estruturado para a construção de um sistema de cardápio virtual, organizado em formato de tabela. As etapas incluem as equipes envolvidas, as etapas predecessoras que precisam ser concluídas antes do início de cada etapa e as etapas que podem ser executadas em paralelo:\n",
       "\n",
       "| **Etapa** | **Nome da Etapa**                       | **Equipes**                          | **Etapas Predecessoras**      | **Etapas que podem ser executadas em paralelo** |\n",
       "|-----------|-----------------------------------------|-------------------------------------|-------------------------------|------------------------------------------------|\n",
       "| 1         | Levantamento de Requisitos              | Product Management, UX/UI Design    | Nenhuma                       | Equipe de Desenvolvimento (Definição de Arquitetura) |\n",
       "| 2         | Definição da Arquitetura                | Desenvolvimento, Product Management  | Etapa 1                       | Equipe de Design (Wireframes e Prototipagem)  |\n",
       "| 3         | Wireframes e Prototipagem               | UX/UI Design                        | Etapa 1                       | Equipe de Desenvolvimento (Definição de Arquitetura) |\n",
       "| 4         | Desenvolvimento da Interface do Usuário  | Desenvolvimento, UX/UI Design       | Etapas 2, 3                   | Nenhuma                                          |\n",
       "| 5         | Implementação da Lógica de Negócio      | Desenvolvimento                     | Etapa 2                       | Equipe de QA (Teste de Integração)              |\n",
       "| 6         | Desenvolvimento do Módulo de Dashboard   | Desenvolvimento                     | Etapa 2                       | Equipe de QA (Teste de Integração)              |\n",
       "| 7         | Integração do Sistema                    | Desenvolvimento                     | Etapas 4, 5, 6                | Equipe de QA (Teste de Integração)              |\n",
       "| 8         | Testes de Funcionalidade e Usabilidade   | QA, UX/UI Design                    | Etapa 7                       | Nenhuma                                          |\n",
       "| 9         | Implementação de Feedback dos Testes     | Desenvolvimento, QA                 | Etapa 8                       | Nenhuma                                          |\n",
       "| 10        | Preparação para Lançamento               | Product Management, Marketing       | Etapas 8, 9                   | Nenhuma                                          |\n",
       "| 11        | Lançamento do Sistema                    | Todos os times                      | Etapa 10                      | Nenhuma                                          |\n",
       "| 12        | Monitoramento Pós-Lançamento             | Suporte, Product Management         | Etapa 11                      | Nenhuma                                          |\n",
       "\n",
       "### Descrição das Etapas\n",
       "\n",
       "1. **Levantamento de Requisitos**: Coletar informações sobre necessidades dos restaurantes e clientes.\n",
       "2. **Definição da Arquitetura**: Estabelecer a estrutura técnica do sistema, incluindo tecnologias a serem utilizadas.\n",
       "3. **Wireframes e Prototipagem**: Criar maquetes de tela para a interface do usuário e protótipos interativos.\n",
       "4. **Desenvolvimento da Interface do Usuário**: Codificação das interfaces de usuário para aplicativos e web.\n",
       "5. **Implementação da Lógica de Negócio**: Desenvolvimento das regras que operacionalizam o sistema.\n",
       "6. **Desenvolvimento do Módulo de Dashboard**: Implementação de funcionalidades de análise e relatórios para restaurantes.\n",
       "7. **Integração do Sistema**: Conexão entre todos os componentes do sistema para funcionalidade completa.\n",
       "8. **Testes de Funcionalidade e Usabilidade**: Validar o sistema para detectar bugs e melhorar a experiência do usuário.\n",
       "9. **Implementação de Feedback dos Testes**: Fazer ajustes conforme as descobertas dos testes realizados.\n",
       "10. **Preparação para Lançamento**: Planejar e executar ações de marketing e pré-lançamento.\n",
       "11. **Lançamento do Sistema**: Disponibilizar o sistema para o público-alvo.\n",
       "12. **Monitoramento Pós-Lançamento**: Monitorar a performance do sistema e coletar feedback dos usuários.\n",
       "\n",
       "Esse plano proporciona uma visão clara das etapas necessárias para o desenvolvimento do sistema de cardápio virtual, destacando a interdependência entre as equipes e as atividades."
      ],
      "text/plain": [
       "<IPython.core.display.Markdown object>"
      ]
     },
     "metadata": {},
     "output_type": "display_data"
    },
    {
     "data": {
      "text/markdown": [
       "----"
      ],
      "text/plain": [
       "<IPython.core.display.Markdown object>"
      ]
     },
     "metadata": {},
     "output_type": "display_data"
    }
   ],
   "source": [
    "prompt = \"\"\"\n",
    "**Contexto:**\n",
    "Você é um Product Manager  muito experiente que trabalha em uma fábrica de software. Sua tarefa é especificar um plano para a construção de um sistema (web e app) que sirva como um cardápio virtual. Esse sistema deve servir tanto aos restaurantes que o utilizam para o cadastro daquilo que servem (lanches, entradas, pratos principais, bebidas etc), quanto para os clientes dos restaurantes. Além disso, para os restaurantes deve existir um módulo para um dashboard para analisar os produtos.\n",
    "\n",
    "**Ação:**\n",
    "Crie um plando para construção desse sistema, com as etapas macro, equipes envolvidas, etapas que podem ser executadas em paralelo e quais aquelas que possuem predecessoras\n",
    "\n",
    "**Resultado:**\n",
    "Espera-se uma tabela (ou outro formato mais interessante) que represente este plano\n",
    "\n",
    "**Exemplo (do que deve existir na saída):**\n",
    "Etapa 1: [Nome da etapa] [Equipes] [Etapas Predecessoras] [Etapa que pode ser executada em paralelo]\n",
    "Etapa 2: [Nome da etapa] [Equipes] [Etapas Predecessoras] [Etapa que pode ser executada em paralelo]\n",
    "...\n",
    "Etapa n: [Nome da etapa] [Equipes] [Etapas Predecessoras] [Etapa que pode ser executada em paralelo]\"\"\"\n",
    "\n",
    "display(Markdown(f\"*Prompt:*\"))\n",
    "display(Markdown(f\"----\"))\n",
    "display(Markdown(f\"{prompt}\"))\n",
    "display(Markdown(f\"----\"))\n",
    "\n",
    "input_messages = [HumanMessage(prompt)]\n",
    "output = app.invoke({\"messages\": input_messages}, config)\n",
    "resposta = output[\"messages\"][-1].content\n",
    "\n",
    "display(Markdown(f\"*Resposta:*\"))\n",
    "display(Markdown(f\"----\"))\n",
    "display(Markdown(f\"{resposta}\"))\n",
    "display(Markdown(f\"----\"))"
   ]
  },
  {
   "cell_type": "markdown",
   "id": "804cee06-43d8-469a-b281-b5e2969c4a6e",
   "metadata": {},
   "source": [
    "## Vamos transformar a resposta anterior"
   ]
  },
  {
   "cell_type": "code",
   "execution_count": 7,
   "id": "d18d9046-9e1b-4a2e-a8d1-df89ee91fc1f",
   "metadata": {},
   "outputs": [
    {
     "data": {
      "text/markdown": [
       "*Prompt:*"
      ],
      "text/plain": [
       "<IPython.core.display.Markdown object>"
      ]
     },
     "metadata": {},
     "output_type": "display_data"
    },
    {
     "data": {
      "text/markdown": [
       "----"
      ],
      "text/plain": [
       "<IPython.core.display.Markdown object>"
      ]
     },
     "metadata": {},
     "output_type": "display_data"
    },
    {
     "data": {
      "text/markdown": [
       "\n",
       "**Transforme:**\n",
       "Transforme este plano em um esquema de cronograma, onde as colunas representam \n",
       "mês 1, mês 2, e assim sucessivamente, e as linhas são as etapas\n"
      ],
      "text/plain": [
       "<IPython.core.display.Markdown object>"
      ]
     },
     "metadata": {},
     "output_type": "display_data"
    },
    {
     "data": {
      "text/markdown": [
       "----"
      ],
      "text/plain": [
       "<IPython.core.display.Markdown object>"
      ]
     },
     "metadata": {},
     "output_type": "display_data"
    },
    {
     "data": {
      "text/markdown": [
       "*Resposta:*"
      ],
      "text/plain": [
       "<IPython.core.display.Markdown object>"
      ]
     },
     "metadata": {},
     "output_type": "display_data"
    },
    {
     "data": {
      "text/markdown": [
       "----"
      ],
      "text/plain": [
       "<IPython.core.display.Markdown object>"
      ]
     },
     "metadata": {},
     "output_type": "display_data"
    },
    {
     "data": {
      "text/markdown": [
       "Aqui está um esquema de cronograma organizado por meses, onde as colunas representam os meses de desenvolvimento e as linhas representam as etapas do plano. O cronograma assume uma duração aproximada para cada etapa. Note que o número de meses e a duração de cada etapa podem ser ajustados de acordo com a programação real do projeto.\n",
       "\n",
       "| **Etapas**                                | **Mês 1**  | **Mês 2**  | **Mês 3**  | **Mês 4**  | **Mês 5**  | **Mês 6**  |\n",
       "|-------------------------------------------|------------|------------|------------|------------|------------|------------|\n",
       "| 1. Levantamento de Requisitos             | ███████    |            |            |            |            |            |\n",
       "| 2. Definição da Arquitetura               |            | ██████     |            |            |            |            |\n",
       "| 3. Wireframes e Prototipagem              |            | ██████     |            |            |            |            |\n",
       "| 4. Desenvolvimento da Interface do Usuário |            |            | █████████  |            |            |            |\n",
       "| 5. Implementação da Lógica de Negócio     |            |            | ██         | ████       |            |            |\n",
       "| 6. Desenvolvimento do Módulo de Dashboard  |            |            | ██         | ████       |            |            |\n",
       "| 7. Integração do Sistema                   |            |            |            | ██████     |            |            |\n",
       "| 8. Testes de Funcionalidade e Usabilidade  |            |            |            |            | █████████  |            |\n",
       "| 9. Implementação de Feedback dos Testes    |            |            |            |            | ██         | ████       |\n",
       "| 10. Preparação para Lançamento            |            |            |            |            |            | ██████     |\n",
       "| 11. Lançamento do Sistema                  |            |            |            |            |            | ████       |\n",
       "| 12. Monitoramento Pós-Lançamento           |            |            |            |            |            | ██         |\n",
       "\n",
       "### Explicações\n",
       "\n",
       "- As células preenchidas (█) representam o período em que uma determinada etapa está em andamento.\n",
       "- Levantamento de Requisitos é feito no primeiro mês.\n",
       "- Definição da Arquitetura e Wireframes e Prototipagem são realizadas simultaneamente no segundo mês.\n",
       "- O desenvolvimento da interface do usuário ocorre no terceiro mês.\n",
       "- A implementação da lógica de negócio e o desenvolvimento do módulo de dashboard acontecem em paralelo no final do terceiro e início do quarto mês.\n",
       "- A integração do sistema é realizada no quarto mês, seguida pelos testes de funcionalidade e usabilidade no quinto mês.\n",
       "- A implementação do feedback dos testes é feita no final do quinto mês até o início do sexto.\n",
       "- A preparação para o lançamento é realizada no sexto mês, seguida pelo lançamento do sistema.\n",
       "- O monitoramento pós-lançamento ocorre após o lançamento, no final do sexto mês.\n",
       "\n",
       "Observação: Este cronograma é uma representação simplificada e pode variar dependendo de diversos fatores, como a complexidade do sistema, disponibilidade de recursos e outras prioridades do projeto."
      ],
      "text/plain": [
       "<IPython.core.display.Markdown object>"
      ]
     },
     "metadata": {},
     "output_type": "display_data"
    },
    {
     "data": {
      "text/markdown": [
       "----"
      ],
      "text/plain": [
       "<IPython.core.display.Markdown object>"
      ]
     },
     "metadata": {},
     "output_type": "display_data"
    }
   ],
   "source": [
    "prompt = \"\"\"\n",
    "**Transforme:**\n",
    "Transforme este plano em um esquema de cronograma, onde as colunas representam \n",
    "mês 1, mês 2, e assim sucessivamente, e as linhas são as etapas\n",
    "\"\"\"\n",
    "\n",
    "display(Markdown(f\"*Prompt:*\"))\n",
    "display(Markdown(f\"----\"))\n",
    "display(Markdown(f\"{prompt}\"))\n",
    "display(Markdown(f\"----\"))\n",
    "\n",
    "input_messages = [HumanMessage(prompt)]\n",
    "output = app.invoke({\"messages\": input_messages}, config)\n",
    "resposta = output[\"messages\"][-1].content\n",
    "\n",
    "display(Markdown(f\"*Resposta:*\"))\n",
    "display(Markdown(f\"----\"))\n",
    "display(Markdown(f\"{resposta}\"))\n",
    "display(Markdown(f\"----\"))"
   ]
  },
  {
   "cell_type": "markdown",
   "id": "54fa6b3c-bc58-4389-8328-5d1c65f9ad19",
   "metadata": {},
   "source": [
    "## Etapa 1 - Levantamento de Requisitos"
   ]
  },
  {
   "cell_type": "code",
   "execution_count": 8,
   "id": "423f5788-f569-4ef5-b8bd-000fa0c3d359",
   "metadata": {},
   "outputs": [
    {
     "data": {
      "text/markdown": [
       "*Prompt:*"
      ],
      "text/plain": [
       "<IPython.core.display.Markdown object>"
      ]
     },
     "metadata": {},
     "output_type": "display_data"
    },
    {
     "data": {
      "text/markdown": [
       "----"
      ],
      "text/plain": [
       "<IPython.core.display.Markdown object>"
      ]
     },
     "metadata": {},
     "output_type": "display_data"
    },
    {
     "data": {
      "text/markdown": [
       "\n",
       "**Contexto:**\n",
       "Haja como a equipe de desenvolvimento (juntamente com o Product Management e UX/UI Design) \n",
       "que está acompanhando os representantes dos restaurantes para a execução da etapa 1 - Levantamento de Requisitos\n",
       "\n",
       "Ação:\n",
       "Crie uma lista de perguntas que devem ser feitas da equipe de desenvolvimento para a \n",
       "equipe de representantes dos restaurantes\n",
       "\n",
       "Resultado:\n",
       "Essa lista ajudará a guiar o levamentamento de requisitos para a construção o \n",
       "sistema de cadápio. Seja o mais abrangente possível\n",
       "\n",
       "Exemplo (do formato da lista de perguntas):\n",
       "Pergunta 1: [Escopo da pergunta] [Pergunta]\n",
       "Pergunta 2: [Escopo da pergunta] [Pergunta]\n",
       "....\n",
       "Pergunta n: [Escopo da pergunta] [Pergunta]"
      ],
      "text/plain": [
       "<IPython.core.display.Markdown object>"
      ]
     },
     "metadata": {},
     "output_type": "display_data"
    },
    {
     "data": {
      "text/markdown": [
       "----"
      ],
      "text/plain": [
       "<IPython.core.display.Markdown object>"
      ]
     },
     "metadata": {},
     "output_type": "display_data"
    },
    {
     "data": {
      "text/markdown": [
       "*Resposta:*"
      ],
      "text/plain": [
       "<IPython.core.display.Markdown object>"
      ]
     },
     "metadata": {},
     "output_type": "display_data"
    },
    {
     "data": {
      "text/markdown": [
       "----"
      ],
      "text/plain": [
       "<IPython.core.display.Markdown object>"
      ]
     },
     "metadata": {},
     "output_type": "display_data"
    },
    {
     "data": {
      "text/markdown": [
       "Aqui está uma lista abrangente de perguntas que a equipe de desenvolvimento, juntamente com o Product Management e o UX/UI Design, pode fazer aos representantes dos restaurantes durante a etapa de Levantamento de Requisitos para a construção do sistema de cardápio virtual:\n",
       "\n",
       "### Lista de Perguntas\n",
       "\n",
       "**Pergunta 1: Necessidades Gerais**  \n",
       "Quais são seus principais objetivos ao utilizar um sistema de cardápio virtual?\n",
       "\n",
       "**Pergunta 2: Público-Alvo**  \n",
       "Quem são os principais usuários do sistema? (Ex: clientes, funcionários, gerentes)\n",
       "\n",
       "**Pergunta 3: Funcionalidade do Cardápio**  \n",
       "Quais tipos de itens você gostaria de incluir no cardápio? (Ex: lanches, bebidas, sobremesas, promoções)\n",
       "\n",
       "**Pergunta 4: Cadastro de Itens**  \n",
       "Como você gostaria de gerenciar o cadastro de novos itens no cardápio? (Ex: manualmente, importação de dados)\n",
       "\n",
       "**Pergunta 5: Descrições dos Produtos**  \n",
       "Que informações você gostaria de incluir para cada item no cardápio? (Ex: descrição, preço, ingredientes, alérgenos)\n",
       "\n",
       "**Pergunta 6: Imagens dos Produtos**  \n",
       "As fotos dos itens são importantes para você? Se sim, qual a quantidade de imagens e a qualidade desejada?\n",
       "\n",
       "**Pergunta 7: Atualizações em Tempo Real**  \n",
       "Com que frequência você precisa atualizar o cardápio? (Ex: diariamente, semanalmente)\n",
       "\n",
       "**Pergunta 8: Promoções e Destaques**  \n",
       "Como você gostaria de apresentar promoções ou itens em destaque no cardápio?\n",
       "\n",
       "**Pergunta 9: Opções de Personalização**  \n",
       "Os clientes podem personalizar pedidos? Se sim, quais opções são importantes? (Ex: escolher ingredientes)\n",
       "\n",
       "**Pergunta 10: Acessibilidade**  \n",
       "O cardápio precisa estar disponível em diferentes idiomas? Quais idiomas são necessários?\n",
       "\n",
       "**Pergunta 11: Dashboard de Análises**  \n",
       "Que métricas ou dados você gostaria de visualizar no dashboard? (Ex: vendas por item, popularidade de pratos)\n",
       "\n",
       "**Pergunta 12: Relatórios**  \n",
       "Você precisa de relatórios periódicos? Quais informações eles devem conter?\n",
       "\n",
       "**Pergunta 13: Integrações**  \n",
       "Você utiliza outras ferramentas ou sistemas (ex: contabilidade, estoque) que precisarão ser integrados ao novo sistema?\n",
       "\n",
       "**Pergunta 14: Autenticação e Segurança**  \n",
       "Quais são suas necessidades em relação ao acesso do sistema? (Ex: múltiplos níveis de usuário, autenticação de dois fatores)\n",
       "\n",
       "**Pergunta 15: Suporte a Múltiplas Localizações**  \n",
       "Se o seu restaurante tiver várias localizações, como você gostaria de gerenciar o cardápio para cada uma?\n",
       "\n",
       "**Pergunta 16: Feedback dos Clientes**  \n",
       "Você gostaria de incluir uma funcionalidade que permita aos clientes fornecer feedback sobre os itens do cardápio?\n",
       "\n",
       "**Pergunta 17: Experiência do Usuário**  \n",
       "Quais características de design e experiência de usuário você considera essenciais para um cardápio virtual?\n",
       "\n",
       "**Pergunta 18: Configurações e Preferências do Usuário**  \n",
       "Como você gostaria que os usuários configurassem suas preferências e opções de visualização do cardápio?\n",
       "\n",
       "**Pergunta 19: Operação Offline**  \n",
       "Haverá necessidade de acesso offline ao sistema? Se sim, em qual situação isso seria relevante?\n",
       "\n",
       "**Pergunta 20: Tempo e Orçamento**  \n",
       "Qual é o seu prazo ideal para ter o sistema implementado e operando? Existe um orçamento específico que devemos considerar?\n",
       "\n",
       "Essas perguntas devem ajudar a coletar informações valiosas sobre as necessidades e expectativas dos restaurantes em relação ao sistema de cardápio virtual, garantindo que o produto final atenda suas demandas."
      ],
      "text/plain": [
       "<IPython.core.display.Markdown object>"
      ]
     },
     "metadata": {},
     "output_type": "display_data"
    },
    {
     "data": {
      "text/markdown": [
       "----"
      ],
      "text/plain": [
       "<IPython.core.display.Markdown object>"
      ]
     },
     "metadata": {},
     "output_type": "display_data"
    }
   ],
   "source": [
    "prompt = \"\"\"\n",
    "**Contexto:**\n",
    "Haja como a equipe de desenvolvimento (juntamente com o Product Management e UX/UI Design) \n",
    "que está acompanhando os representantes dos restaurantes para a execução da etapa 1 - Levantamento de Requisitos\n",
    "\n",
    "Ação:\n",
    "Crie uma lista de perguntas que devem ser feitas da equipe de desenvolvimento para a \n",
    "equipe de representantes dos restaurantes\n",
    "\n",
    "Resultado:\n",
    "Essa lista ajudará a guiar o levamentamento de requisitos para a construção o \n",
    "sistema de cadápio. Seja o mais abrangente possível\n",
    "\n",
    "Exemplo (do formato da lista de perguntas):\n",
    "Pergunta 1: [Escopo da pergunta] [Pergunta]\n",
    "Pergunta 2: [Escopo da pergunta] [Pergunta]\n",
    "....\n",
    "Pergunta n: [Escopo da pergunta] [Pergunta]\"\"\"\n",
    "\n",
    "display(Markdown(f\"*Prompt:*\"))\n",
    "display(Markdown(f\"----\"))\n",
    "display(Markdown(f\"{prompt}\"))\n",
    "display(Markdown(f\"----\"))\n",
    "\n",
    "input_messages = [HumanMessage(prompt)]\n",
    "output = app.invoke({\"messages\": input_messages}, config)\n",
    "resposta = output[\"messages\"][-1].content\n",
    "\n",
    "display(Markdown(f\"*Resposta:*\"))\n",
    "display(Markdown(f\"----\"))\n",
    "display(Markdown(f\"{resposta}\"))\n",
    "display(Markdown(f\"----\"))"
   ]
  },
  {
   "cell_type": "markdown",
   "id": "790ac93f-eb71-40e0-99b5-de1b827f0ffe",
   "metadata": {},
   "source": [
    "### Simulando a resposta dos representantes dos restaurantes (LLM sem memória)"
   ]
  },
  {
   "cell_type": "code",
   "execution_count": 10,
   "id": "b930daec-d7c6-41ce-b408-d80b82c0ee6f",
   "metadata": {},
   "outputs": [
    {
     "data": {
      "text/markdown": [
       "*Prompt:*"
      ],
      "text/plain": [
       "<IPython.core.display.Markdown object>"
      ]
     },
     "metadata": {},
     "output_type": "display_data"
    },
    {
     "data": {
      "text/markdown": [
       "----"
      ],
      "text/plain": [
       "<IPython.core.display.Markdown object>"
      ]
     },
     "metadata": {},
     "output_type": "display_data"
    },
    {
     "data": {
      "text/markdown": [
       "\n",
       "Haja com um membro de Representantes de Restaurantes que estejam interessados na construção\n",
       "de um sistema de cardápio virtual. Você deverá responder o e-mail abaixo de forma a sanar as dúvidas\n",
       "da equipe de desenvolvimento:\n",
       "\n",
       "-------------\n",
       "\n",
       "Olá, bom dia!\n",
       "Somos da equipe de desenvolvimento da fábrica de software ACME.\n",
       "Estamos desenvolvendo o sistema de cardápio virtual e gostaríamos \n",
       "de tirar algumas dúvidas a respeito do sistema.\n",
       "\n",
       "Seguem as dúvidas,\n",
       "Atenciosamente,\n",
       "Equipe de SW ACME\n",
       "\n",
       "\n",
       "Lista de Perguntas:\n",
       "Pergunta 1: Necessidades Gerais\n",
       "Quais são seus principais objetivos ao utilizar um sistema de cardápio virtual?\n",
       "\n",
       "Pergunta 2: Público-Alvo\n",
       "Quem são os principais usuários do sistema? (Ex: clientes, funcionários, gerentes)\n",
       "\n",
       "Pergunta 3: Funcionalidade do Cardápio\n",
       "Quais tipos de itens você gostaria de incluir no cardápio? (Ex: lanches, bebidas, sobremesas, promoções)\n",
       "\n",
       "Pergunta 4: Cadastro de Itens\n",
       "Como você gostaria de gerenciar o cadastro de novos itens no cardápio? (Ex: manualmente, importação de dados)\n",
       "\n",
       "Pergunta 5: Descrições dos Produtos\n",
       "Que informações você gostaria de incluir para cada item no cardápio? (Ex: descrição, preço, ingredientes, alérgenos)\n",
       "\n",
       "Pergunta 6: Imagens dos Produtos\n",
       "As fotos dos itens são importantes para você? Se sim, qual a quantidade de imagens e a qualidade desejada?\n",
       "\n",
       "Pergunta 7: Atualizações em Tempo Real\n",
       "Com que frequência você precisa atualizar o cardápio? (Ex: diariamente, semanalmente)\n",
       "\n",
       "Pergunta 8: Promoções e Destaques\n",
       "Como você gostaria de apresentar promoções ou itens em destaque no cardápio?\n",
       "\n",
       "Pergunta 9: Opções de Personalização\n",
       "Os clientes podem personalizar pedidos? Se sim, quais opções são importantes? (Ex: escolher ingredientes)\n",
       "\n",
       "Pergunta 10: Acessibilidade\n",
       "O cardápio precisa estar disponível em diferentes idiomas? Quais idiomas são necessários?\n",
       "\n",
       "Pergunta 11: Dashboard de Análises\n",
       "Que métricas ou dados você gostaria de visualizar no dashboard? (Ex: vendas por item, popularidade de pratos)\n",
       "\n",
       "Pergunta 12: Relatórios\n",
       "Você precisa de relatórios periódicos? Quais informações eles devem conter?\n",
       "\n",
       "Pergunta 13: Integrações\n",
       "Você utiliza outras ferramentas ou sistemas (ex: contabilidade, estoque) que precisarão ser integrados ao novo sistema?\n",
       "\n",
       "Pergunta 14: Autenticação e Segurança\n",
       "Quais são suas necessidades em relação ao acesso do sistema? (Ex: múltiplos níveis de usuário, autenticação de dois fatores)\n",
       "\n",
       "Pergunta 15: Suporte a Múltiplas Localizações\n",
       "Se o seu restaurante tiver várias localizações, como você gostaria de gerenciar o cardápio para cada uma?\n",
       "\n",
       "Pergunta 16: Feedback dos Clientes\n",
       "Você gostaria de incluir uma funcionalidade que permita aos clientes fornecer feedback sobre os itens do cardápio?\n",
       "\n",
       "Pergunta 17: Experiência do Usuário\n",
       "Quais características de design e experiência de usuário você considera essenciais para um cardápio virtual?\n",
       "\n",
       "Pergunta 18: Configurações e Preferências do Usuário\n",
       "Como você gostaria que os usuários configurassem suas preferências e opções de visualização do cardápio?\n",
       "\n",
       "Pergunta 19: Operação Offline\n",
       "Haverá necessidade de acesso offline ao sistema? Se sim, em qual situação isso seria relevante?\n",
       "\n",
       "Pergunta 20: Tempo e Orçamento\n",
       "Qual é o seu prazo ideal para ter o sistema implementado e operando? Existe um orçamento específico que devemos considerar?\n",
       "\n"
      ],
      "text/plain": [
       "<IPython.core.display.Markdown object>"
      ]
     },
     "metadata": {},
     "output_type": "display_data"
    },
    {
     "data": {
      "text/markdown": [
       "----"
      ],
      "text/plain": [
       "<IPython.core.display.Markdown object>"
      ]
     },
     "metadata": {},
     "output_type": "display_data"
    },
    {
     "data": {
      "text/markdown": [
       "*Resposta:*"
      ],
      "text/plain": [
       "<IPython.core.display.Markdown object>"
      ]
     },
     "metadata": {},
     "output_type": "display_data"
    },
    {
     "data": {
      "text/markdown": [
       "----"
      ],
      "text/plain": [
       "<IPython.core.display.Markdown object>"
      ]
     },
     "metadata": {},
     "output_type": "display_data"
    },
    {
     "data": {
      "text/markdown": [
       "Olá, equipe da ACME,\n",
       "\n",
       "Bom dia! Agradeço por entrar em contato e pela oportunidade de esclarecer as dúvidas sobre o sistema de cardápio virtual. Vamos às perguntas:\n",
       "\n",
       "**1. Necessidades Gerais**  \n",
       "Nossos principais objetivos ao utilizar um sistema de cardápio virtual incluem oferecer uma experiência melhor aos clientes, aumentar a agilidade no processo de pedidos e facilitar a atualização e gerenciamento dos itens do cardápio.\n",
       "\n",
       "**2. Público-Alvo**  \n",
       "Os principais usuários do sistema são clientes, funcionários do restaurante e gerentes. O foco está em proporcionar uma experiência intuitiva para os clientes, ao mesmo tempo em que facilita o trabalho dos funcionários na cozinha e atendimento.\n",
       "\n",
       "**3. Funcionalidade do Cardápio**  \n",
       "Gostaríamos de incluir uma variedade de itens, como lanches, bebidas, sobremesas e promoções. A capacidade de destacar pratos específicos e opções sazonais seria um adicional benéfico.\n",
       "\n",
       "**4. Cadastro de Itens**  \n",
       "Preferimos gerenciar o cadastro de novos itens manualmente, mas também gostaríamos de ter uma opção para importar dados quando necessário, especialmente ao adicionar novos produtos em massa.\n",
       "\n",
       "**5. Descrições dos Produtos**  \n",
       "Para cada item no cardápio, gostaríamos de incluir descrição, preço, ingredientes e informações sobre alérgenos. Isso ajuda os clientes a fazer escolhas informadas.\n",
       "\n",
       "**6. Imagens dos Produtos**  \n",
       "As fotos dos itens são extremamente importantes. Idealmente, gostaríamos de incluir de 1 a 3 imagens de cada item, com qualidade alta para destacar a apresentação dos pratos.\n",
       "\n",
       "**7. Atualizações em Tempo Real**  \n",
       "Precisamos atualizar o cardápio com frequência semanal, ou conforme necessário, por conta de alterações de estoque e novas promoções.\n",
       "\n",
       "**8. Promoções e Destaques**  \n",
       "As promoções ou itens em destaque devem ser apresentados de forma clara, talvez com uma seção específica no topo do cardápio ou com um destaque visual que chame a atenção dos clientes.\n",
       "\n",
       "**9. Opções de Personalização**  \n",
       "Sim, os clientes devem poder personalizar pedidos. É essencial ter opções para escolher ingredientes e adaptações em pratos, como substituições ou remoções de itens.\n",
       "\n",
       "**10. Acessibilidade**  \n",
       "O cardápio deve estar disponível em português e inglês inicialmente. Se o público internacional crescer, outras línguas poderão ser consideradas.\n",
       "\n",
       "**11. Dashboard de Análises**  \n",
       "Gostaríamos de visualizar métricas como vendas por item, popularidade de pratos e dados demográficos dos clientes. Essas informações são cruciais para o planejamento de estoque e promoções.\n",
       "\n",
       "**12. Relatórios**  \n",
       "Sim, precisamos de relatórios periódicos que incluam vendas totais, itens mais vendidos e retorno sobre promoções, com foco em informações que ajudem a tomar decisões estratégicas.\n",
       "\n",
       "**13. Integrações**  \n",
       "Atualmente usamos um sistema de contabilidade que precisará ser integrado ao novo sistema para facilitar o gerenciamento financeiro e de estoque.\n",
       "\n",
       "**14. Autenticação e Segurança**  \n",
       "É importante ter múltiplos níveis de usuário, permitindo diferentes permissões de acesso. A autenticação de dois fatores também é desejável para segurança adicional.\n",
       "\n",
       "**15. Suporte a Múltiplas Localizações**  \n",
       "Se tivermos várias localizações, gostaríamos de gerenciar o cardápio centralmente, mas com a flexibilidade de personalizar itens para diferentes locais conforme a necessidade.\n",
       "\n",
       "**16. Feedback dos Clientes**  \n",
       "Sim, gostaríamos de incluir uma funcionalidade para que os clientes possam fornecer feedback sobre os itens do cardápio. Isso nos ajudará a melhorar continuamente nossos produtos.\n",
       "\n",
       "**17. Experiência do Usuário**  \n",
       "Características essenciais incluem um design limpo e atrativo, navegação intuitiva e carregamento rápido. O sistema deve ser responsivo e bem otimizado para dispositivos móveis.\n",
       "\n",
       "**18. Configurações e Preferências do Usuário**  \n",
       "Desejamos que os usuários possam configurar suas preferências de visualização, como categoria de itens ou filtros para opções vegetarianas, por exemplo.\n",
       "\n",
       "**19. Operação Offline**  \n",
       "Sim, o acesso offline será relevante, especialmente em situações de conexão instável. Isso permitiria que a equipe continuasse a operar em momentos críticos.\n",
       "\n",
       "**20. Tempo e Orçamento**  \n",
       "Idealmente, gostaríamos de ter o sistema implementado em um prazo de três meses. O orçamento a ser considerado está em discussão, mas buscamos uma solução que atenda nossas necessidades sem comprometer a qualidade.\n",
       "\n",
       "Estou à disposição para quaisquer outras dúvidas ou esclarecimentos que precisem. \n",
       "\n",
       "Atenciosamente,  \n",
       "[Seu Nome]  \n",
       "[Seu Cargo]  \n",
       "[Nome do Restaurante]  \n",
       "[Seu Contato] "
      ],
      "text/plain": [
       "<IPython.core.display.Markdown object>"
      ]
     },
     "metadata": {},
     "output_type": "display_data"
    },
    {
     "data": {
      "text/markdown": [
       "----"
      ],
      "text/plain": [
       "<IPython.core.display.Markdown object>"
      ]
     },
     "metadata": {},
     "output_type": "display_data"
    }
   ],
   "source": [
    "prompt = \"\"\"\n",
    "Haja com um membro de Representantes de Restaurantes que estejam interessados na construção\n",
    "de um sistema de cardápio virtual. Você deverá responder o e-mail abaixo de forma a sanar as dúvidas\n",
    "da equipe de desenvolvimento:\n",
    "\n",
    "-------------\n",
    "\n",
    "Olá, bom dia!\n",
    "Somos da equipe de desenvolvimento da fábrica de software ACME.\n",
    "Estamos desenvolvendo o sistema de cardápio virtual e gostaríamos \n",
    "de tirar algumas dúvidas a respeito do sistema.\n",
    "\n",
    "Seguem as dúvidas,\n",
    "Atenciosamente,\n",
    "Equipe de SW ACME\n",
    "\n",
    "\n",
    "Lista de Perguntas:\n",
    "Pergunta 1: Necessidades Gerais\n",
    "Quais são seus principais objetivos ao utilizar um sistema de cardápio virtual?\n",
    "\n",
    "Pergunta 2: Público-Alvo\n",
    "Quem são os principais usuários do sistema? (Ex: clientes, funcionários, gerentes)\n",
    "\n",
    "Pergunta 3: Funcionalidade do Cardápio\n",
    "Quais tipos de itens você gostaria de incluir no cardápio? (Ex: lanches, bebidas, sobremesas, promoções)\n",
    "\n",
    "Pergunta 4: Cadastro de Itens\n",
    "Como você gostaria de gerenciar o cadastro de novos itens no cardápio? (Ex: manualmente, importação de dados)\n",
    "\n",
    "Pergunta 5: Descrições dos Produtos\n",
    "Que informações você gostaria de incluir para cada item no cardápio? (Ex: descrição, preço, ingredientes, alérgenos)\n",
    "\n",
    "Pergunta 6: Imagens dos Produtos\n",
    "As fotos dos itens são importantes para você? Se sim, qual a quantidade de imagens e a qualidade desejada?\n",
    "\n",
    "Pergunta 7: Atualizações em Tempo Real\n",
    "Com que frequência você precisa atualizar o cardápio? (Ex: diariamente, semanalmente)\n",
    "\n",
    "Pergunta 8: Promoções e Destaques\n",
    "Como você gostaria de apresentar promoções ou itens em destaque no cardápio?\n",
    "\n",
    "Pergunta 9: Opções de Personalização\n",
    "Os clientes podem personalizar pedidos? Se sim, quais opções são importantes? (Ex: escolher ingredientes)\n",
    "\n",
    "Pergunta 10: Acessibilidade\n",
    "O cardápio precisa estar disponível em diferentes idiomas? Quais idiomas são necessários?\n",
    "\n",
    "Pergunta 11: Dashboard de Análises\n",
    "Que métricas ou dados você gostaria de visualizar no dashboard? (Ex: vendas por item, popularidade de pratos)\n",
    "\n",
    "Pergunta 12: Relatórios\n",
    "Você precisa de relatórios periódicos? Quais informações eles devem conter?\n",
    "\n",
    "Pergunta 13: Integrações\n",
    "Você utiliza outras ferramentas ou sistemas (ex: contabilidade, estoque) que precisarão ser integrados ao novo sistema?\n",
    "\n",
    "Pergunta 14: Autenticação e Segurança\n",
    "Quais são suas necessidades em relação ao acesso do sistema? (Ex: múltiplos níveis de usuário, autenticação de dois fatores)\n",
    "\n",
    "Pergunta 15: Suporte a Múltiplas Localizações\n",
    "Se o seu restaurante tiver várias localizações, como você gostaria de gerenciar o cardápio para cada uma?\n",
    "\n",
    "Pergunta 16: Feedback dos Clientes\n",
    "Você gostaria de incluir uma funcionalidade que permita aos clientes fornecer feedback sobre os itens do cardápio?\n",
    "\n",
    "Pergunta 17: Experiência do Usuário\n",
    "Quais características de design e experiência de usuário você considera essenciais para um cardápio virtual?\n",
    "\n",
    "Pergunta 18: Configurações e Preferências do Usuário\n",
    "Como você gostaria que os usuários configurassem suas preferências e opções de visualização do cardápio?\n",
    "\n",
    "Pergunta 19: Operação Offline\n",
    "Haverá necessidade de acesso offline ao sistema? Se sim, em qual situação isso seria relevante?\n",
    "\n",
    "Pergunta 20: Tempo e Orçamento\n",
    "Qual é o seu prazo ideal para ter o sistema implementado e operando? Existe um orçamento específico que devemos considerar?\n",
    "\n",
    "\"\"\"\n",
    "\n",
    "display(Markdown(f\"*Prompt:*\"))\n",
    "display(Markdown(f\"----\"))\n",
    "display(Markdown(f\"{prompt}\"))\n",
    "display(Markdown(f\"----\"))\n",
    "\n",
    "response = llm_sem_memoria.invoke(prompt)\n",
    "\n",
    "display(Markdown(f\"*Resposta:*\"))\n",
    "display(Markdown(f\"----\"))\n",
    "display(Markdown(f\"{response.content}\"))\n",
    "display(Markdown(f\"----\"))"
   ]
  },
  {
   "cell_type": "markdown",
   "id": "a08abeeb-7e11-4c28-835c-c674a9cdba8d",
   "metadata": {},
   "source": [
    "## Etapa 2 - Definição da Arquitetura"
   ]
  },
  {
   "cell_type": "code",
   "execution_count": 11,
   "id": "d74f0e3c-1dfd-4d75-ad73-3ad75f011023",
   "metadata": {},
   "outputs": [
    {
     "data": {
      "text/markdown": [
       "*Prompt:*"
      ],
      "text/plain": [
       "<IPython.core.display.Markdown object>"
      ]
     },
     "metadata": {},
     "output_type": "display_data"
    },
    {
     "data": {
      "text/markdown": [
       "----"
      ],
      "text/plain": [
       "<IPython.core.display.Markdown object>"
      ]
     },
     "metadata": {},
     "output_type": "display_data"
    },
    {
     "data": {
      "text/markdown": [
       "\n",
       "**Contexto:**\n",
       "Haja como a equipe de desenvolvimento (juntamente com o Product Management) \n",
       "que está acompanhando os representantes dos restaurantes para a execução da etapa 2 - Definição da Arquitetura\n",
       "\n",
       "Ação:\n",
       "Faça uma definição da arquitetura do sistema, de forma a atender os principais requisitos que serão listados no final.\n",
       "\n",
       "Resultado:\n",
       "A definição da arquitetura ajudará ao arquiteto de software a tomar as melhores decisões.\n",
       "\n",
       "Exemplo (do formato da lista de perguntas):\n",
       "Definição 1: [Componente] [Explicação do componente]\n",
       "Definição 2: [Componente] [Explicação do componente]\n",
       "Definição n: [Componente] [Explicação do componente]\n",
       "\n",
       "Segue os principais requisitos informados pelos representantes dos restaurantes:\n",
       "\n",
       "1. Necessidades Gerais\n",
       "Nossos principais objetivos ao utilizar um sistema de cardápio virtual incluem oferecer uma experiência melhor aos clientes, aumentar a agilidade no processo de pedidos e facilitar a atualização e gerenciamento dos itens do cardápio.\n",
       "\n",
       "2. Público-Alvo\n",
       "Os principais usuários do sistema são clientes, funcionários do restaurante e gerentes. O foco está em proporcionar uma experiência intuitiva para os clientes, ao mesmo tempo em que facilita o trabalho dos funcionários na cozinha e atendimento.\n",
       "\n",
       "3. Funcionalidade do Cardápio\n",
       "Gostaríamos de incluir uma variedade de itens, como lanches, bebidas, sobremesas e promoções. A capacidade de destacar pratos específicos e opções sazonais seria um adicional benéfico.\n",
       "\n",
       "4. Cadastro de Itens\n",
       "Preferimos gerenciar o cadastro de novos itens manualmente, mas também gostaríamos de ter uma opção para importar dados quando necessário, especialmente ao adicionar novos produtos em massa.\n",
       "\n",
       "5. Descrições dos Produtos\n",
       "Para cada item no cardápio, gostaríamos de incluir descrição, preço, ingredientes e informações sobre alérgenos. Isso ajuda os clientes a fazer escolhas informadas.\n",
       "\n",
       "6. Imagens dos Produtos\n",
       "As fotos dos itens são extremamente importantes. Idealmente, gostaríamos de incluir de 1 a 3 imagens de cada item, com qualidade alta para destacar a apresentação dos pratos.\n",
       "\n",
       "7. Atualizações em Tempo Real\n",
       "Precisamos atualizar o cardápio com frequência semanal, ou conforme necessário, por conta de alterações de estoque e novas promoções.\n",
       "\n",
       "8. Promoções e Destaques\n",
       "As promoções ou itens em destaque devem ser apresentados de forma clara, talvez com uma seção específica no topo do cardápio ou com um destaque visual que chame a atenção dos clientes.\n",
       "\n",
       "9. Opções de Personalização\n",
       "Sim, os clientes devem poder personalizar pedidos. É essencial ter opções para escolher ingredientes e adaptações em pratos, como substituições ou remoções de itens.\n",
       "\n",
       "10. Acessibilidade\n",
       "O cardápio deve estar disponível em português e inglês inicialmente. Se o público internacional crescer, outras línguas poderão ser consideradas.\n",
       "\n",
       "11. Dashboard de Análises\n",
       "Gostaríamos de visualizar métricas como vendas por item, popularidade de pratos e dados demográficos dos clientes. Essas informações são cruciais para o planejamento de estoque e promoções.\n",
       "\n",
       "12. Relatórios\n",
       "Sim, precisamos de relatórios periódicos que incluam vendas totais, itens mais vendidos e retorno sobre promoções, com foco em informações que ajudem a tomar decisões estratégicas.\n",
       "\n",
       "13. Integrações\n",
       "Atualmente usamos um sistema de contabilidade que precisará ser integrado ao novo sistema para facilitar o gerenciamento financeiro e de estoque.\n",
       "\n",
       "14. Autenticação e Segurança\n",
       "É importante ter múltiplos níveis de usuário, permitindo diferentes permissões de acesso. A autenticação de dois fatores também é desejável para segurança adicional.\n",
       "\n",
       "15. Suporte a Múltiplas Localizações\n",
       "Se tivermos várias localizações, gostaríamos de gerenciar o cardápio centralmente, mas com a flexibilidade de personalizar itens para diferentes locais conforme a necessidade.\n",
       "\n",
       "16. Feedback dos Clientes\n",
       "Sim, gostaríamos de incluir uma funcionalidade para que os clientes possam fornecer feedback sobre os itens do cardápio. Isso nos ajudará a melhorar continuamente nossos produtos.\n",
       "\n",
       "17. Experiência do Usuário\n",
       "Características essenciais incluem um design limpo e atrativo, navegação intuitiva e carregamento rápido. O sistema deve ser responsivo e bem otimizado para dispositivos móveis.\n",
       "\n",
       "18. Configurações e Preferências do Usuário\n",
       "Desejamos que os usuários possam configurar suas preferências de visualização, como categoria de itens ou filtros para opções vegetarianas, por exemplo.\n",
       "\n",
       "19. Operação Offline\n",
       "Sim, o acesso offline será relevante, especialmente em situações de conexão instável. Isso permitiria que a equipe continuasse a operar em momentos críticos.\n",
       "\n",
       "20. Tempo e Orçamento\n",
       "Idealmente, gostaríamos de ter o sistema implementado em um prazo de três meses. O orçamento a ser considerado está em discussão, mas buscamos uma solução que atenda nossas necessidades sem comprometer a qualidade.\n",
       "\n"
      ],
      "text/plain": [
       "<IPython.core.display.Markdown object>"
      ]
     },
     "metadata": {},
     "output_type": "display_data"
    },
    {
     "data": {
      "text/markdown": [
       "----"
      ],
      "text/plain": [
       "<IPython.core.display.Markdown object>"
      ]
     },
     "metadata": {},
     "output_type": "display_data"
    },
    {
     "data": {
      "text/markdown": [
       "*Resposta:*"
      ],
      "text/plain": [
       "<IPython.core.display.Markdown object>"
      ]
     },
     "metadata": {},
     "output_type": "display_data"
    },
    {
     "data": {
      "text/markdown": [
       "----"
      ],
      "text/plain": [
       "<IPython.core.display.Markdown object>"
      ]
     },
     "metadata": {},
     "output_type": "display_data"
    },
    {
     "data": {
      "text/markdown": [
       "Aqui está uma definição da arquitetura do sistema de cardápio virtual, estruturada em componentes. Cada definição inclui uma explicação para ajudar a entender como cada parte atende aos requisitos listados.\n",
       "\n",
       "### Definição da Arquitetura do Sistema\n",
       "\n",
       "**Definição 1: Frontend (Interface do Usuário)**  \n",
       "**Componente:** Aplicativo Web e Móvel  \n",
       "**Explicação do componente:** A interface do usuário será desenvolvida usando tecnologias modernas como React para a web e React Native para dispositivos móveis, garantindo uma experiência responsiva e fluida. Este componente deve proporcionar uma navegação intuitiva, fácil acesso às opções de cardápio e personalização de pedidos, alinhando-se aos requisitos de design e experiência do usuário.\n",
       "\n",
       "---\n",
       "\n",
       "**Definição 2: Backend (Lógica de Negócio)**  \n",
       "**Componente:** API RESTful  \n",
       "**Explicação do componente:** O backend será construído utilizando uma arquitetura RESTful em Node.js com Express, permitindo uma comunicação eficiente entre o frontend e o banco de dados. Esta arquitetura suportará operações CRUD (Criar, Ler, Atualizar, Deletar) para o gerenciamento do cardápio, promoções e feedback dos clientes, garantindo que as necessidades de atualização em tempo real e cadastro sejam atendidas.\n",
       "\n",
       "---\n",
       "\n",
       "**Definição 3: Banco de Dados**  \n",
       "**Componente:** Banco de Dados Relacional (PostgreSQL)  \n",
       "**Explicação do componente:** Um banco de dados relational será utilizado para armazenar informações sobre itens do cardápio, usuários, pedidos, feedback e relatórios. O PostgreSQL oferece robustez e escalabilidade, permitindo o gerenciamento centralizado do cardápio e suporte a múltiplas localizações, conforme necessário.\n",
       "\n",
       "---\n",
       "\n",
       "**Definição 4: Sistema de Autenticação**  \n",
       "**Componente:** Autenticação JWT (JSON Web Token)  \n",
       "**Explicação do componente:** Para gerenciar o acesso seguro ao sistema, será implementado um sistema de autenticação baseado em JWT, que inclui múltiplos níveis de usuário (clientes, funcionários, gerentes) e a opção de autenticação de dois fatores. Isso vai de encontro aos requisitos de segurança e proteção de dados sensíveis.\n",
       "\n",
       "---\n",
       "\n",
       "**Definição 5: Sistema de Upload de Imagens**  \n",
       "**Componente:** Armazenamento em Nuvem (Amazon S3)  \n",
       "**Explicação do componente:** Para armazenar e servir as imagens dos pratos em alta qualidade de forma eficiente, utilizaremos uma solução de armazenamento em nuvem, como o Amazon S3. Isso garante que as imagens possam ser carregadas rapidamente e sejam facilmente gerenciáveis, conforme necessário para cada item do cardápio.\n",
       "\n",
       "---\n",
       "\n",
       "**Definição 6: Integração com Sistemas Externos**  \n",
       "**Componente:** API para Integração com Sistemas de Contabilidade  \n",
       "**Explicação do componente:** Este componente permitirá a comunicação entre o novo sistema de cardápio e o sistema de contabilidade existente, utilizando APIs REST para troca de dados de vendas e estoque, garantindo eficiência no gerenciamento financeiro e operacional.\n",
       "\n",
       "---\n",
       "\n",
       "**Definição 7: Módulo de Análises e Relatórios**  \n",
       "**Componente:** Ferramenta de BI (Business Intelligence)  \n",
       "**Explicação do componente:** Um módulo de análises será integrado ao backend para coletar e apresentar métricas como vendas, popularidade de pratos e dados demográficos dos clientes. Usaremos bibliotecas como Chart.js para visualização de dados e relatórios auto-gerados que auxiliam na tomada de decisões estratégicas.\n",
       "\n",
       "---\n",
       "\n",
       "**Definição 8: Seção de Feedback do Cliente**  \n",
       "**Componente:** Formulário de Feedback  \n",
       "**Explicação do componente:** Um formulário simples e intuitivo será disponibilizado no frontend para coleta de feedback dos clientes sobre os itens do cardápio. Os dados coletados serão enviados ao backend para análise, possibilitando melhorias contínuas com base nas opiniões dos usuários.\n",
       "\n",
       "---\n",
       "\n",
       "**Definição 9: Funcionalidade Offline**  \n",
       "**Componente:** Armazenamento Local (IndexedDB)  \n",
       "**Explicação do componente:** Para garantir o funcionamento em situações de conexão instável, implementaremos uma solução de armazenamento local utilizando IndexedDB nas aplicações web e SQLite nas aplicações móveis. Isso permitirá que os usuários acessem informações essenciais do cardápio e façam pedidos mesmo offline.\n",
       "\n",
       "---\n",
       "\n",
       "**Definição 10: Configurações e Preferências do Usuário**  \n",
       "**Componente:** Interface para Preferências do Usuário  \n",
       "**Explicação do componente:** Uma seção dedicada permitirá aos usuários configurar suas preferências, como filtros para opções vegetarianas e seleção de categorias do cardápio. As escolha dos usuários serão armazenadas no banco de dados, proporcionando uma experiência mais personalizada.\n",
       "\n",
       "---\n",
       "\n",
       "### Conclusão\n",
       "\n",
       "Essa arquitetura é desenhada para atender a todos os requisitos listados, proporcionando uma solução escalável, segura e eficiente para o sistema de cardápio virtual. Cada componente interage de forma coesa, garantindo que as funcionalidades atendam às necessidades dos restaurantes e ofereçam uma experiência excelente aos clientes. Essa definição irá guiar o arquiteto de software ao tomar decisões sobre tecnologias e implementações específicas."
      ],
      "text/plain": [
       "<IPython.core.display.Markdown object>"
      ]
     },
     "metadata": {},
     "output_type": "display_data"
    },
    {
     "data": {
      "text/markdown": [
       "----"
      ],
      "text/plain": [
       "<IPython.core.display.Markdown object>"
      ]
     },
     "metadata": {},
     "output_type": "display_data"
    }
   ],
   "source": [
    "prompt = \"\"\"\n",
    "**Contexto:**\n",
    "Haja como a equipe de desenvolvimento (juntamente com o Product Management) \n",
    "que está acompanhando os representantes dos restaurantes para a execução da etapa 2 - Definição da Arquitetura\n",
    "\n",
    "Ação:\n",
    "Faça uma definição da arquitetura do sistema, de forma a atender os principais requisitos que serão listados no final.\n",
    "\n",
    "Resultado:\n",
    "A definição da arquitetura ajudará ao arquiteto de software a tomar as melhores decisões.\n",
    "\n",
    "Exemplo (do formato da lista de perguntas):\n",
    "Definição 1: [Componente] [Explicação do componente]\n",
    "Definição 2: [Componente] [Explicação do componente]\n",
    "Definição n: [Componente] [Explicação do componente]\n",
    "\n",
    "Segue os principais requisitos informados pelos representantes dos restaurantes:\n",
    "\n",
    "1. Necessidades Gerais\n",
    "Nossos principais objetivos ao utilizar um sistema de cardápio virtual incluem oferecer uma experiência melhor aos clientes, aumentar a agilidade no processo de pedidos e facilitar a atualização e gerenciamento dos itens do cardápio.\n",
    "\n",
    "2. Público-Alvo\n",
    "Os principais usuários do sistema são clientes, funcionários do restaurante e gerentes. O foco está em proporcionar uma experiência intuitiva para os clientes, ao mesmo tempo em que facilita o trabalho dos funcionários na cozinha e atendimento.\n",
    "\n",
    "3. Funcionalidade do Cardápio\n",
    "Gostaríamos de incluir uma variedade de itens, como lanches, bebidas, sobremesas e promoções. A capacidade de destacar pratos específicos e opções sazonais seria um adicional benéfico.\n",
    "\n",
    "4. Cadastro de Itens\n",
    "Preferimos gerenciar o cadastro de novos itens manualmente, mas também gostaríamos de ter uma opção para importar dados quando necessário, especialmente ao adicionar novos produtos em massa.\n",
    "\n",
    "5. Descrições dos Produtos\n",
    "Para cada item no cardápio, gostaríamos de incluir descrição, preço, ingredientes e informações sobre alérgenos. Isso ajuda os clientes a fazer escolhas informadas.\n",
    "\n",
    "6. Imagens dos Produtos\n",
    "As fotos dos itens são extremamente importantes. Idealmente, gostaríamos de incluir de 1 a 3 imagens de cada item, com qualidade alta para destacar a apresentação dos pratos.\n",
    "\n",
    "7. Atualizações em Tempo Real\n",
    "Precisamos atualizar o cardápio com frequência semanal, ou conforme necessário, por conta de alterações de estoque e novas promoções.\n",
    "\n",
    "8. Promoções e Destaques\n",
    "As promoções ou itens em destaque devem ser apresentados de forma clara, talvez com uma seção específica no topo do cardápio ou com um destaque visual que chame a atenção dos clientes.\n",
    "\n",
    "9. Opções de Personalização\n",
    "Sim, os clientes devem poder personalizar pedidos. É essencial ter opções para escolher ingredientes e adaptações em pratos, como substituições ou remoções de itens.\n",
    "\n",
    "10. Acessibilidade\n",
    "O cardápio deve estar disponível em português e inglês inicialmente. Se o público internacional crescer, outras línguas poderão ser consideradas.\n",
    "\n",
    "11. Dashboard de Análises\n",
    "Gostaríamos de visualizar métricas como vendas por item, popularidade de pratos e dados demográficos dos clientes. Essas informações são cruciais para o planejamento de estoque e promoções.\n",
    "\n",
    "12. Relatórios\n",
    "Sim, precisamos de relatórios periódicos que incluam vendas totais, itens mais vendidos e retorno sobre promoções, com foco em informações que ajudem a tomar decisões estratégicas.\n",
    "\n",
    "13. Integrações\n",
    "Atualmente usamos um sistema de contabilidade que precisará ser integrado ao novo sistema para facilitar o gerenciamento financeiro e de estoque.\n",
    "\n",
    "14. Autenticação e Segurança\n",
    "É importante ter múltiplos níveis de usuário, permitindo diferentes permissões de acesso. A autenticação de dois fatores também é desejável para segurança adicional.\n",
    "\n",
    "15. Suporte a Múltiplas Localizações\n",
    "Se tivermos várias localizações, gostaríamos de gerenciar o cardápio centralmente, mas com a flexibilidade de personalizar itens para diferentes locais conforme a necessidade.\n",
    "\n",
    "16. Feedback dos Clientes\n",
    "Sim, gostaríamos de incluir uma funcionalidade para que os clientes possam fornecer feedback sobre os itens do cardápio. Isso nos ajudará a melhorar continuamente nossos produtos.\n",
    "\n",
    "17. Experiência do Usuário\n",
    "Características essenciais incluem um design limpo e atrativo, navegação intuitiva e carregamento rápido. O sistema deve ser responsivo e bem otimizado para dispositivos móveis.\n",
    "\n",
    "18. Configurações e Preferências do Usuário\n",
    "Desejamos que os usuários possam configurar suas preferências de visualização, como categoria de itens ou filtros para opções vegetarianas, por exemplo.\n",
    "\n",
    "19. Operação Offline\n",
    "Sim, o acesso offline será relevante, especialmente em situações de conexão instável. Isso permitiria que a equipe continuasse a operar em momentos críticos.\n",
    "\n",
    "20. Tempo e Orçamento\n",
    "Idealmente, gostaríamos de ter o sistema implementado em um prazo de três meses. O orçamento a ser considerado está em discussão, mas buscamos uma solução que atenda nossas necessidades sem comprometer a qualidade.\n",
    "\n",
    "\"\"\"\n",
    "\n",
    "display(Markdown(f\"*Prompt:*\"))\n",
    "display(Markdown(f\"----\"))\n",
    "display(Markdown(f\"{prompt}\"))\n",
    "display(Markdown(f\"----\"))\n",
    "\n",
    "input_messages = [HumanMessage(prompt)]\n",
    "output = app.invoke({\"messages\": input_messages}, config)\n",
    "resposta = output[\"messages\"][-1].content\n",
    "\n",
    "display(Markdown(f\"*Resposta:*\"))\n",
    "display(Markdown(f\"----\"))\n",
    "display(Markdown(f\"{resposta}\"))\n",
    "display(Markdown(f\"----\"))"
   ]
  },
  {
   "cell_type": "markdown",
   "id": "b9b4f93a-356a-4f35-9f19-a2bc839b5bfa",
   "metadata": {},
   "source": [
    "## Etapa 3: Wireframes e Prototipagem"
   ]
  },
  {
   "cell_type": "code",
   "execution_count": 12,
   "id": "59a3502e-1d93-442c-b220-f8825de90be9",
   "metadata": {},
   "outputs": [
    {
     "data": {
      "text/markdown": [
       "*Prompt:*"
      ],
      "text/plain": [
       "<IPython.core.display.Markdown object>"
      ]
     },
     "metadata": {},
     "output_type": "display_data"
    },
    {
     "data": {
      "text/markdown": [
       "----"
      ],
      "text/plain": [
       "<IPython.core.display.Markdown object>"
      ]
     },
     "metadata": {},
     "output_type": "display_data"
    },
    {
     "data": {
      "text/markdown": [
       "\n",
       "**Contexto:**\n",
       "Haja como a equipe de UX/UI Design\n",
       "que desenvolverá os protótipos e wireframes do sistema\n",
       "\n",
       "Ação:\n",
       "Você deverá criar um protótipo de média fidelidade, utilizando html, css e javascript (no mesmo arquivo) de modo\n",
       "a simular a tela de Cadastro de Alimentos do cardápio virtual. Considere que um administrador esteja devidamente\n",
       "logado e tenha permissão para tal. \n",
       "\n",
       "Resultado:\n",
       "O protótipo deverá conter todos os campos necessários para o cadastro dos alimentos na plataforma\n",
       "\n"
      ],
      "text/plain": [
       "<IPython.core.display.Markdown object>"
      ]
     },
     "metadata": {},
     "output_type": "display_data"
    },
    {
     "data": {
      "text/markdown": [
       "----"
      ],
      "text/plain": [
       "<IPython.core.display.Markdown object>"
      ]
     },
     "metadata": {},
     "output_type": "display_data"
    },
    {
     "data": {
      "text/markdown": [
       "*Resposta:*"
      ],
      "text/plain": [
       "<IPython.core.display.Markdown object>"
      ]
     },
     "metadata": {},
     "output_type": "display_data"
    },
    {
     "data": {
      "text/markdown": [
       "----"
      ],
      "text/plain": [
       "<IPython.core.display.Markdown object>"
      ]
     },
     "metadata": {},
     "output_type": "display_data"
    },
    {
     "data": {
      "text/markdown": [
       "Abaixo está um exemplo de um protótipo de média fidelidade para a tela de Cadastro de Alimentos do cardápio virtual, utilizando HTML, CSS e JavaScript no mesmo arquivo. Este protótipo simula o formulário que um administrador utilizaria para cadastrar um novo item no cardápio.\n",
       "\n",
       "```html\n",
       "<!DOCTYPE html>\n",
       "<html lang=\"pt-BR\">\n",
       "<head>\n",
       "    <meta charset=\"UTF-8\">\n",
       "    <meta name=\"viewport\" content=\"width=device-width, initial-scale=1.0\">\n",
       "    <title>Cadastro de Alimentos - Cardápio Virtual</title>\n",
       "    <style>\n",
       "        body {\n",
       "            font-family: Arial, sans-serif;\n",
       "            background-color: #f4f4f4;\n",
       "            margin: 0;\n",
       "            padding: 20px;\n",
       "        }\n",
       "        .container {\n",
       "            max-width: 600px;\n",
       "            background: #fff;\n",
       "            padding: 20px;\n",
       "            border-radius: 5px;\n",
       "            box-shadow: 0 2px 10px rgba(0, 0, 0, 0.1);\n",
       "            margin: auto;\n",
       "        }\n",
       "        h1 {\n",
       "            text-align: center;\n",
       "            color: #333;\n",
       "        }\n",
       "        label {\n",
       "            display: block;\n",
       "            margin: 10px 0 5px;\n",
       "        }\n",
       "        input[type=\"text\"], input[type=\"number\"], textarea, select {\n",
       "            width: 100%;\n",
       "            padding: 10px;\n",
       "            margin: 10px 0;\n",
       "            border: 1px solid #ccc;\n",
       "            border-radius: 5px;\n",
       "        }\n",
       "        input[type=\"file\"] {\n",
       "            margin: 10px 0;\n",
       "        }\n",
       "        button {\n",
       "            background: #28a745;\n",
       "            color: white;\n",
       "            border: none;\n",
       "            padding: 10px;\n",
       "            border-radius: 5px;\n",
       "            cursor: pointer;\n",
       "            width: 100%;\n",
       "        }\n",
       "        button:hover {\n",
       "            background: #218838;\n",
       "        }\n",
       "        .alert {\n",
       "            display: none;\n",
       "            margin-top: 20px;\n",
       "            padding: 10px;\n",
       "            background: #d4edda;\n",
       "            color: #155724;\n",
       "            border: 1px solid #c3e6cb;\n",
       "            border-radius: 5px;\n",
       "        }\n",
       "    </style>\n",
       "</head>\n",
       "<body>\n",
       "\n",
       "<div class=\"container\">\n",
       "    <h1>Cadastro de Alimentos</h1>\n",
       "\n",
       "    <form id=\"foodForm\">\n",
       "        <label for=\"name\">Nome do Alimento:</label>\n",
       "        <input type=\"text\" id=\"name\" name=\"name\" required>\n",
       "\n",
       "        <label for=\"description\">Descrição:</label>\n",
       "        <textarea id=\"description\" name=\"description\" rows=\"4\" required></textarea>\n",
       "\n",
       "        <label for=\"price\">Preço:</label>\n",
       "        <input type=\"number\" id=\"price\" name=\"price\" step=\"0.01\" required>\n",
       "\n",
       "        <label for=\" ingredients\">Ingredientes:</label>\n",
       "        <textarea id=\"ingredients\" name=\"ingredients\" rows=\"4\" required></textarea>\n",
       "\n",
       "        <label for=\"image\">Imagem do Alimento:</label>\n",
       "        <input type=\"file\" id=\"image\" name=\"image\" accept=\"image/*\" required>\n",
       "\n",
       "        <label for=\"category\">Categoria:</label>\n",
       "        <select id=\"category\" name=\"category\" required>\n",
       "            <option value=\"\">Selecione uma categoria</option>\n",
       "            <option value=\"entrada\">Entrada</option>\n",
       "            <option value=\"prato\">Prato Principal</option>\n",
       "            <option value=\"sobremesa\">Sobremesa</option>\n",
       "            <option value=\"bebida\">Bebida</option>\n",
       "        </select>\n",
       "\n",
       "        <label for=\"allergens\">Alergênicos (opcional):</label>\n",
       "        <input type=\"text\" id=\"allergens\" name=\"allergens\">\n",
       "\n",
       "        <button type=\"submit\">Cadastrar Alimento</button>\n",
       "    </form>\n",
       "\n",
       "    <div class=\"alert\" id=\"alertMessage\">Alimento cadastrado com sucesso!</div>\n",
       "</div>\n",
       "\n",
       "<script>\n",
       "    document.getElementById('foodForm').addEventListener('submit', function (event) {\n",
       "        event.preventDefault(); // Evita o envio real do formulário para demonstração\n",
       "\n",
       "        // Aqui você pode implementar a lógica para enviar os dados para o servidor\n",
       "\n",
       "        // Simula a mensagem de sucesso\n",
       "        document.getElementById('alertMessage').style.display = 'block';\n",
       "        setTimeout(() => {\n",
       "            document.getElementById('alertMessage').style.display = 'none';\n",
       "        }, 3000); // Mensagem desaparece após 3 segundos\n",
       "    });\n",
       "</script>\n",
       "\n",
       "</body>\n",
       "</html>\n",
       "```\n",
       "\n",
       "### Descrição do Protótipo\n",
       "\n",
       "1. **Campos do Formulário**:\n",
       "   - **Nome do Alimento**: Campo para o nome do alimento.\n",
       "   - **Descrição**: Um campo de texto onde o administrador pode descrever o alimento.\n",
       "   - **Preço**: Campo numérico para o preço do alimento.\n",
       "   - **Ingredientes**: Campo para listar os ingredientes do prato.\n",
       "   - **Imagem do Alimento**: Opção de upload de uma imagem.\n",
       "   - **Categoria**: Um menu suspenso para selecionar a categoria do alimento (entrada, prato principal, sobremesa, bebida).\n",
       "   - **Alergênicos**: Campo opcional para listar alérgenos.\n",
       "\n",
       "2. **Botão de Cadastro**: Um botão que, ao ser pressionado, simula o envio do formulário e exibe uma mensagem de sucesso.\n",
       "\n",
       "3. **Mensagem de Sucesso**: Após o envio do formulário, uma mensagem de sucesso é exibida por 3 segundos para simular a confirmação de que o alimento foi cadastrado.\n",
       "\n",
       "### Como Testar\n",
       "- Para testar, copie o código em um arquivo HTML e abra-o em um navegador web. Você verá a interface de cadastro e poderá interagir com os campos e simular a adição de alimentos."
      ],
      "text/plain": [
       "<IPython.core.display.Markdown object>"
      ]
     },
     "metadata": {},
     "output_type": "display_data"
    },
    {
     "data": {
      "text/markdown": [
       "----"
      ],
      "text/plain": [
       "<IPython.core.display.Markdown object>"
      ]
     },
     "metadata": {},
     "output_type": "display_data"
    }
   ],
   "source": [
    "prompt = \"\"\"\n",
    "**Contexto:**\n",
    "Haja como a equipe de UX/UI Design\n",
    "que desenvolverá os protótipos e wireframes do sistema\n",
    "\n",
    "Ação:\n",
    "Você deverá criar um protótipo de média fidelidade, utilizando html, css e javascript (no mesmo arquivo) de modo\n",
    "a simular a tela de Cadastro de Alimentos do cardápio virtual. Considere que um administrador esteja devidamente\n",
    "logado e tenha permissão para tal. \n",
    "\n",
    "Resultado:\n",
    "O protótipo deverá conter todos os campos necessários para o cadastro dos alimentos na plataforma\n",
    "\n",
    "\"\"\"\n",
    "\n",
    "display(Markdown(f\"*Prompt:*\"))\n",
    "display(Markdown(f\"----\"))\n",
    "display(Markdown(f\"{prompt}\"))\n",
    "display(Markdown(f\"----\"))\n",
    "\n",
    "input_messages = [HumanMessage(prompt)]\n",
    "output = app.invoke({\"messages\": input_messages}, config)\n",
    "resposta = output[\"messages\"][-1].content\n",
    "\n",
    "display(Markdown(f\"*Resposta:*\"))\n",
    "display(Markdown(f\"----\"))\n",
    "display(Markdown(f\"{resposta}\"))\n",
    "display(Markdown(f\"----\"))"
   ]
  },
  {
   "cell_type": "markdown",
   "id": "25acb046-4d71-40a4-bf1f-dcf4cf6643ee",
   "metadata": {},
   "source": [
    "## Etapa 8 - Testes de Funcionalidade e Usabilidade"
   ]
  },
  {
   "cell_type": "code",
   "execution_count": 13,
   "id": "05e4a189-0ab7-485c-a5e6-a17e46fc8bb0",
   "metadata": {},
   "outputs": [
    {
     "data": {
      "text/markdown": [
       "*Prompt:*"
      ],
      "text/plain": [
       "<IPython.core.display.Markdown object>"
      ]
     },
     "metadata": {},
     "output_type": "display_data"
    },
    {
     "data": {
      "text/markdown": [
       "----"
      ],
      "text/plain": [
       "<IPython.core.display.Markdown object>"
      ]
     },
     "metadata": {},
     "output_type": "display_data"
    },
    {
     "data": {
      "text/markdown": [
       "\n",
       "**Contexto:**\n",
       "Haja como a equipe de QA ou UX/UI Design\n",
       "que será responsável por construir um plano de testes para a tela de cadastro\n",
       "de alimentos. \n",
       "\n",
       "Ação:\n",
       "Crie um plano de testes no formato 'Azure Test Plan'. Lembre-se dos requisitos dessa\n",
       "tela e do wireframe que você fez.\n",
       "\n",
       "Resultado:\n",
       "Um arquivo csv que seja compatível com o formato 'Azure Test Plan'\n",
       "\n",
       "Exemplo (das colunas que devem existir neste plano de testes):\n",
       "\"ID\", \"Work Item Type\", \"Title\", \"Test Step\", \"Step Action\", \"Step Expected\", \"Area Path\", \"Assigned To\", \"State\"\n"
      ],
      "text/plain": [
       "<IPython.core.display.Markdown object>"
      ]
     },
     "metadata": {},
     "output_type": "display_data"
    },
    {
     "data": {
      "text/markdown": [
       "----"
      ],
      "text/plain": [
       "<IPython.core.display.Markdown object>"
      ]
     },
     "metadata": {},
     "output_type": "display_data"
    },
    {
     "data": {
      "text/markdown": [
       "*Resposta:*"
      ],
      "text/plain": [
       "<IPython.core.display.Markdown object>"
      ]
     },
     "metadata": {},
     "output_type": "display_data"
    },
    {
     "data": {
      "text/markdown": [
       "----"
      ],
      "text/plain": [
       "<IPython.core.display.Markdown object>"
      ]
     },
     "metadata": {},
     "output_type": "display_data"
    },
    {
     "data": {
      "text/markdown": [
       "Abaixo está um exemplo de plano de testes no formato CSV compatível com o 'Azure Test Plan', focando na tela de Cadastro de Alimentos. Esse arquivo inclui os requisitos identificados e as interações que podem ser realizadas na tela. Você pode copiar o conteúdo abaixo e salvá-lo em um arquivo chamado `Plano_de_Testes_Cadastro_Alimentos.csv`.\n",
       "\n",
       "```csv\n",
       "\"ID\",\"Work Item Type\",\"Title\",\"Test Step\",\"Step Action\",\"Step Expected\",\"Area Path\",\"Assigned To\",\"State\"\n",
       "\"1\",\"Test Case\",\"Cadastrar Alimento - Verificar Nome\",\"1\",\"Preencher o campo 'Nome do Alimento' com um nome válido.\",\"O nome do alimento deve ser aceito sem erros. \",\"Cardápio Virtual - Cadastro de Alimentos\",\"Nome do Testador\",\"New\"\n",
       "\"2\",\"Test Case\",\"Cadastrar Alimento - Verificar Descrição\",\"2\",\"Preencher o campo 'Descrição' com uma descrição válida.\",\"A descrição deve ser aceita sem erros.\",\"Cardápio Virtual - Cadastro de Alimentos\",\"Nome do Testador\",\"New\"\n",
       "\"3\",\"Test Case\",\"Cadastrar Alimento - Verificar Preço\",\"3\",\"Preencher o campo 'Preço' com um valor numérico positivo.\",\"O preço deve ser aceito sem erros.\",\"Cardápio Virtual - Cadastro de Alimentos\",\"Nome do Testador\",\"New\"\n",
       "\"4\",\"Test Case\",\"Cadastrar Alimento - Verificar Ingredientes\",\"4\",\"Preencher o campo 'Ingredientes' com conteúdo válido.\",\"Os ingredientes devem ser aceitos sem erros.\",\"Cardápio Virtual - Cadastro de Alimentos\",\"Nome do Testador\",\"New\"\n",
       "\"5\",\"Test Case\",\"Cadastrar Alimento - Verificar Upload de Imagem\",\"5\",\"Selecionar uma imagem válida para o campo 'Imagem do Alimento'.\",\"A imagem deve ser carregada sem erros e deve aparecer na visualização (se aplicável).\",\"Cardápio Virtual - Cadastro de Alimentos\",\"Nome do Testador\",\"New\"\n",
       "\"6\",\"Test Case\",\"Cadastrar Alimento - Verificar Categoria\",\"6\",\"Selecionar uma categoria no menu suspenso.\",\"A categoria deve ser selecionada corretamente sem erros.\",\"Cardápio Virtual - Cadastro de Alimentos\",\"Nome do Testador\",\"New\"\n",
       "\"7\",\"Test Case\",\"Cadastrar Alimento - Verificar Alergênicos\",\"7\",\"Preencher o campo 'Alergênicos' com conteúdo opcional.\",\"O campo de alergênicos deve ser aceito sem erros, mesmo que esteja vazio.\",\"Cardápio Virtual - Cadastro de Alimentos\",\"Nome do Testador\",\"New\"\n",
       "\"8\",\"Test Case\",\"Cadastrar Alimento - Verificar Botão de Cadastro\",\"8\",\"Clicar no botão 'Cadastrar Alimento'.\",\"Uma mensagem de sucesso deve ser exibida e o formulário deve ser limpo.\",\"Cardápio Virtual - Cadastro de Alimentos\",\"Nome do Testador\",\"New\"\n",
       "\"9\",\"Test Case\",\"Cadastrar Alimento - Verificar Campos Obrigatórios\",\"9\",\"Tentar enviar o formulário com campos obrigatórios vazios.\",\"Deve ser exibida uma mensagem de erro indicando que todos os campos obrigatórios precisam ser preenchidos.\",\"Cardápio Virtual - Cadastro de Alimentos\",\"Nome do Testador\",\"New\"\n",
       "\"10\",\"Test Case\",\"Cadastrar Alimento - Verificar Limitações de Tamanho\",\"10\",\"Inserir texto muito longo em 'Nome do Alimento' ou 'Descrição'.\",\"Deve haver uma mensagem de erro ou a entrada deve ser truncada se exceder o limite definido.\",\"Cardápio Virtual - Cadastro de Alimentos\",\"Nome do Testador\",\"New\"\n",
       "```\n",
       "\n",
       "### Descrição do Conteúdo\n",
       "\n",
       "- **ID**: Identificador único de cada caso de teste.\n",
       "- **Work Item Type**: Tipo de item de trabalho, neste caso, todos são \"Test Case\".\n",
       "- **Title**: Título descritivo do caso de teste.\n",
       "- **Test Step**: Identificador da etapa do teste.\n",
       "- **Step Action**: Ação a ser realizada durante o teste.\n",
       "- **Step Expected**: Resultado esperado após a execução da ação.\n",
       "- **Area Path**: Caminho da área ao qual o teste está associado, ajudando na organização.\n",
       "- **Assigned To**: Nome do testador responsável pelo caso de teste (pode ser preenchido com o nome real posteriormente).\n",
       "- **State**: Estado do caso de teste, que pode ser \"New\", \"In Progress\" ou \"Completed\".\n",
       "\n",
       "### Como Usar\n",
       "\n",
       "1. Copie o conteúdo acima.\n",
       "2. Crie um novo arquivo no seu computador e cole o conteúdo.\n",
       "3. Salve o arquivo com a extensão `.csv`, por exemplo, `Plano_de_Testes_Cadastro_Alimentos.csv`.\n",
       "4. Importe o arquivo para o Azure DevOps ou use-o como referência para a criação de testes manuais.\n",
       "\n",
       "O formato CSV permite fácil importação e gerenciamento no Azure Test Plans, facilitando a execução e a verificação dos testes relacionados à tela de Cadastro de Alimentos."
      ],
      "text/plain": [
       "<IPython.core.display.Markdown object>"
      ]
     },
     "metadata": {},
     "output_type": "display_data"
    },
    {
     "data": {
      "text/markdown": [
       "----"
      ],
      "text/plain": [
       "<IPython.core.display.Markdown object>"
      ]
     },
     "metadata": {},
     "output_type": "display_data"
    }
   ],
   "source": [
    "prompt = \"\"\"\n",
    "**Contexto:**\n",
    "Haja como a equipe de QA ou UX/UI Design\n",
    "que será responsável por construir um plano de testes para a tela de cadastro\n",
    "de alimentos. \n",
    "\n",
    "Ação:\n",
    "Crie um plano de testes no formato 'Azure Test Plan'. Lembre-se dos requisitos dessa\n",
    "tela e do wireframe que você fez.\n",
    "\n",
    "Resultado:\n",
    "Um arquivo csv que seja compatível com o formato 'Azure Test Plan'\n",
    "\n",
    "Exemplo (das colunas que devem existir neste plano de testes):\n",
    "\"ID\", \"Work Item Type\", \"Title\", \"Test Step\", \"Step Action\", \"Step Expected\", \"Area Path\", \"Assigned To\", \"State\"\n",
    "\"\"\"\n",
    "\n",
    "display(Markdown(f\"*Prompt:*\"))\n",
    "display(Markdown(f\"----\"))\n",
    "display(Markdown(f\"{prompt}\"))\n",
    "display(Markdown(f\"----\"))\n",
    "\n",
    "input_messages = [HumanMessage(prompt)]\n",
    "output = app.invoke({\"messages\": input_messages}, config)\n",
    "resposta = output[\"messages\"][-1].content\n",
    "\n",
    "display(Markdown(f\"*Resposta:*\"))\n",
    "display(Markdown(f\"----\"))\n",
    "display(Markdown(f\"{resposta}\"))\n",
    "display(Markdown(f\"----\"))"
   ]
  },
  {
   "cell_type": "code",
   "execution_count": null,
   "id": "da9a483f-e945-42ee-8e6a-138c18f38b04",
   "metadata": {},
   "outputs": [],
   "source": []
  }
 ],
 "metadata": {
  "kernelspec": {
   "display_name": "Python 3 (ipykernel)",
   "language": "python",
   "name": "python3"
  },
  "language_info": {
   "codemirror_mode": {
    "name": "ipython",
    "version": 3
   },
   "file_extension": ".py",
   "mimetype": "text/x-python",
   "name": "python",
   "nbconvert_exporter": "python",
   "pygments_lexer": "ipython3",
   "version": "3.11.9"
  }
 },
 "nbformat": 4,
 "nbformat_minor": 5
}
