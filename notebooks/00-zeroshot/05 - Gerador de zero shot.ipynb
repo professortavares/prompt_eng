{
 "cells": [
  {
   "cell_type": "markdown",
   "id": "3e83bff3-b084-4083-b3c9-e0c747c02466",
   "metadata": {},
   "source": [
    "# Gerador de prompts Zero Shots a partir de um template"
   ]
  },
  {
   "cell_type": "code",
   "execution_count": 1,
   "id": "d408f68b-b2fe-40fb-9339-372806f5d141",
   "metadata": {},
   "outputs": [],
   "source": [
    "# Imports necessários\n",
    "from langchain_openai import ChatOpenAI\n",
    "from IPython.display import display, Markdown\n",
    "from pathlib import Path\n",
    "import os\n",
    "from dotenv import load_dotenv"
   ]
  },
  {
   "cell_type": "code",
   "execution_count": 2,
   "id": "268a01fc-e441-4a39-a03d-42955ce046f3",
   "metadata": {},
   "outputs": [
    {
     "data": {
      "text/plain": [
       "True"
      ]
     },
     "execution_count": 2,
     "metadata": {},
     "output_type": "execute_result"
    }
   ],
   "source": [
    "dotenv_path = Path(\"../.env\")\n",
    "load_dotenv(dotenv_path=dotenv_path)"
   ]
  },
  {
   "cell_type": "code",
   "execution_count": 3,
   "id": "4b565892-8fc2-4a73-852b-f7c1fa28d0fd",
   "metadata": {},
   "outputs": [],
   "source": [
    "os.environ[\"OPENAI_API_KEY\"] = os.getenv(\"OPENAI_API_KEY\")\n",
    "llm = ChatOpenAI(model=\"gpt-4o-mini\")"
   ]
  },
  {
   "cell_type": "markdown",
   "id": "83758835-d1aa-48d4-b7f1-3f02308c974c",
   "metadata": {},
   "source": [
    "## Meta-prompt"
   ]
  },
  {
   "cell_type": "code",
   "execution_count": 5,
   "id": "07754d69-7747-4ac8-8283-2b42d04acb4e",
   "metadata": {},
   "outputs": [
    {
     "data": {
      "text/markdown": [
       "*Prompt:*"
      ],
      "text/plain": [
       "<IPython.core.display.Markdown object>"
      ]
     },
     "metadata": {},
     "output_type": "display_data"
    },
    {
     "data": {
      "text/markdown": [
       "----"
      ],
      "text/plain": [
       "<IPython.core.display.Markdown object>"
      ]
     },
     "metadata": {},
     "output_type": "display_data"
    },
    {
     "data": {
      "text/markdown": [
       "\n",
       "Você é um especialista em engenharia de prompts com foco em qualidade de software.\n",
       "Sua tarefa é construir um **novo prompt no formato CREO** (Contexto, Pedido, Explicação, Resultado), a partir de um conjunto de **requisitos funcionais** fornecido.\n",
       "\n",
       "O objetivo é permitir que profissionais de QA utilizem esse prompt para gerar planos de teste com o auxílio de um modelo de linguagem.\n",
       "\n",
       "Siga a estrutura abaixo:\n",
       "\n",
       "1. **Contexto:** Informe a situação em que os testes serão aplicados, como o tipo de sistema, a tela ou funcionalidade em questão, e o papel do profissional de QA.\n",
       "2. **Pedido:** Especifique que a LLM deve gerar um plano de testes funcional.\n",
       "3. **Explicação:** Detalhe o que se espera da LLM (por exemplo, cobrir todos os requisitos, formato da resposta, critérios de qualidade).\n",
       "4. **Resultado:** Descreva claramente a forma de saída esperada, como uma lista de testes, uma tabela, ou qualquer estrutura útil.\n",
       "\n",
       "### Requisitos de entrada:\n",
       "\n",
       "```\n",
       "[INSERIR AQUI OS REQUISITOS FUNCIONAIS]\n",
       "```\n",
       "\n",
       "### Exemplo de uso:\n",
       "\n",
       "Você receberá um conjunto como o exemplo abaixo:\n",
       "\n",
       "```\n",
       "* O campo de nome de usuário deve aceitar apenas e-mails válidos.\n",
       "* A senha deve ter entre 8 e 20 caracteres, contendo letras maiúsculas, minúsculas, números e caracteres especiais.\n",
       "* O sistema deve permitir no máximo 3 tentativas de login. Após isso, um captcha deve ser exibido.\n",
       "* O link \"lembrar senha\" deve redirecionar corretamente para a tela de recuperação de senha.\n",
       "```\n",
       "\n",
       "A partir disso, gere um prompt completo no padrão **CREO**, pronto para uso com uma LLM.\n"
      ],
      "text/plain": [
       "<IPython.core.display.Markdown object>"
      ]
     },
     "metadata": {},
     "output_type": "display_data"
    },
    {
     "data": {
      "text/markdown": [
       "----"
      ],
      "text/plain": [
       "<IPython.core.display.Markdown object>"
      ]
     },
     "metadata": {},
     "output_type": "display_data"
    },
    {
     "data": {
      "text/markdown": [
       "*Resposta:*"
      ],
      "text/plain": [
       "<IPython.core.display.Markdown object>"
      ]
     },
     "metadata": {},
     "output_type": "display_data"
    },
    {
     "data": {
      "text/markdown": [
       "----"
      ],
      "text/plain": [
       "<IPython.core.display.Markdown object>"
      ]
     },
     "metadata": {},
     "output_type": "display_data"
    },
    {
     "data": {
      "text/markdown": [
       "**Contexto:** Você é um profissional de QA responsável por garantir a qualidade do sistema de login de um aplicativo web. Este sistema possui funcionalidades críticas, como a validação de e-mails, requisitos de senha e segurança de tentativas de login. A partir dos requisitos funcionais, seu objetivo é desenvolver um plano de testes abrangente para assegurar que todas as funcionalidades estão operando conforme esperado.\n",
       "\n",
       "**Pedido:** Gere um plano de testes funcional para o sistema de login, baseado nos requisitos fornecidos.\n",
       "\n",
       "**Explicação:** O plano de testes deve incluir casos de teste que verifiquem cada um dos requisitos funcionais listados. Certifique-se de cobrir todos os aspectos relevantes de usabilidade, segurança e funcionamento correto dos links. A saída deve incluir informações como o objetivo de cada teste, as etapas a serem seguidas, os dados de entrada necessários e os resultados esperados. Além disso, os testes devem ser organizados de forma clara e compreensível.\n",
       "\n",
       "**Resultado:** A saída esperada deve ser uma lista estruturada de casos de teste, contendo:\n",
       "1. Um cabeçalho para cada caso de teste (ID do teste, descrição, pré-condições).\n",
       "2. Passos detalhados a serem seguidos para executar o teste.\n",
       "3. Dados de entrada específicos para cada teste.\n",
       "4. Resultados esperados para cada cenário.\n",
       "5. Indicações sobre o status do teste (pode ser \"Passou\", \"Falhou\" ou \"A ser testado\").\n",
       "\n",
       "### Requisitos de entrada:\n",
       "\n",
       "```\n",
       "* O campo de nome de usuário deve aceitar apenas e-mails válidos.\n",
       "* A senha deve ter entre 8 e 20 caracteres, contendo letras maiúsculas, minúsculas, números e caracteres especiais.\n",
       "* O sistema deve permitir no máximo 3 tentativas de login. Após isso, um captcha deve ser exibido.\n",
       "* O link \"lembrar senha\" deve redirecionar corretamente para a tela de recuperação de senha.\n",
       "```"
      ],
      "text/plain": [
       "<IPython.core.display.Markdown object>"
      ]
     },
     "metadata": {},
     "output_type": "display_data"
    },
    {
     "data": {
      "text/markdown": [
       "----"
      ],
      "text/plain": [
       "<IPython.core.display.Markdown object>"
      ]
     },
     "metadata": {},
     "output_type": "display_data"
    }
   ],
   "source": [
    "prompt = \"\"\"\n",
    "Você é um especialista em engenharia de prompts com foco em qualidade de software.\n",
    "Sua tarefa é construir um **novo prompt no formato CREO** (Contexto, Pedido, Explicação, Resultado), a partir de um conjunto de **requisitos funcionais** fornecido.\n",
    "\n",
    "O objetivo é permitir que profissionais de QA utilizem esse prompt para gerar planos de teste com o auxílio de um modelo de linguagem.\n",
    "\n",
    "Siga a estrutura abaixo:\n",
    "\n",
    "1. **Contexto:** Informe a situação em que os testes serão aplicados, como o tipo de sistema, a tela ou funcionalidade em questão, e o papel do profissional de QA.\n",
    "2. **Pedido:** Especifique que a LLM deve gerar um plano de testes funcional.\n",
    "3. **Explicação:** Detalhe o que se espera da LLM (por exemplo, cobrir todos os requisitos, formato da resposta, critérios de qualidade).\n",
    "4. **Resultado:** Descreva claramente a forma de saída esperada, como uma lista de testes, uma tabela, ou qualquer estrutura útil.\n",
    "\n",
    "### Requisitos de entrada:\n",
    "\n",
    "```\n",
    "[INSERIR AQUI OS REQUISITOS FUNCIONAIS]\n",
    "```\n",
    "\n",
    "### Exemplo de uso:\n",
    "\n",
    "Você receberá um conjunto como o exemplo abaixo:\n",
    "\n",
    "```\n",
    "* O campo de nome de usuário deve aceitar apenas e-mails válidos.\n",
    "* A senha deve ter entre 8 e 20 caracteres, contendo letras maiúsculas, minúsculas, números e caracteres especiais.\n",
    "* O sistema deve permitir no máximo 3 tentativas de login. Após isso, um captcha deve ser exibido.\n",
    "* O link \"lembrar senha\" deve redirecionar corretamente para a tela de recuperação de senha.\n",
    "```\n",
    "\n",
    "A partir disso, gere um prompt completo no padrão **CREO**, pronto para uso com uma LLM.\n",
    "\"\"\"\n",
    "\n",
    "\n",
    "display(Markdown(f\"*Prompt:*\"))\n",
    "display(Markdown(f\"----\"))\n",
    "display(Markdown(f\"{prompt}\"))\n",
    "display(Markdown(f\"----\"))\n",
    "\n",
    "response = llm.invoke(prompt)\n",
    "\n",
    "display(Markdown(f\"*Resposta:*\"))\n",
    "display(Markdown(f\"----\"))\n",
    "display(Markdown(f\"{response.content}\"))\n",
    "display(Markdown(f\"----\"))"
   ]
  },
  {
   "cell_type": "markdown",
   "id": "92d2955a-5dd3-4fd2-9eb1-1879ed3628af",
   "metadata": {},
   "source": [
    "## Utilizando a resposta anterior para gerar o novo prompt"
   ]
  },
  {
   "cell_type": "code",
   "execution_count": 6,
   "id": "c71cc7eb-d80c-4103-ba53-eecb41c68618",
   "metadata": {},
   "outputs": [
    {
     "data": {
      "text/markdown": [
       "*Prompt:*"
      ],
      "text/plain": [
       "<IPython.core.display.Markdown object>"
      ]
     },
     "metadata": {},
     "output_type": "display_data"
    },
    {
     "data": {
      "text/markdown": [
       "----"
      ],
      "text/plain": [
       "<IPython.core.display.Markdown object>"
      ]
     },
     "metadata": {},
     "output_type": "display_data"
    },
    {
     "data": {
      "text/markdown": [
       "**Contexto:** Você é um profissional de QA responsável por garantir a qualidade do sistema de login de um aplicativo web. Este sistema possui funcionalidades críticas, como a validação de e-mails, requisitos de senha e segurança de tentativas de login. A partir dos requisitos funcionais, seu objetivo é desenvolver um plano de testes abrangente para assegurar que todas as funcionalidades estão operando conforme esperado.\n",
       "\n",
       "**Pedido:** Gere um plano de testes funcional para o sistema de login, baseado nos requisitos fornecidos.\n",
       "\n",
       "**Explicação:** O plano de testes deve incluir casos de teste que verifiquem cada um dos requisitos funcionais listados. Certifique-se de cobrir todos os aspectos relevantes de usabilidade, segurança e funcionamento correto dos links. A saída deve incluir informações como o objetivo de cada teste, as etapas a serem seguidas, os dados de entrada necessários e os resultados esperados. Além disso, os testes devem ser organizados de forma clara e compreensível.\n",
       "\n",
       "**Resultado:** A saída esperada deve ser uma lista estruturada de casos de teste, contendo:\n",
       "1. Um cabeçalho para cada caso de teste (ID do teste, descrição, pré-condições).\n",
       "2. Passos detalhados a serem seguidos para executar o teste.\n",
       "3. Dados de entrada específicos para cada teste.\n",
       "4. Resultados esperados para cada cenário.\n",
       "5. Indicações sobre o status do teste (pode ser \"Passou\", \"Falhou\" ou \"A ser testado\").\n",
       "\n",
       "### Requisitos de entrada:\n",
       "\n",
       "```\n",
       "* O campo de nome de usuário deve aceitar apenas e-mails válidos.\n",
       "* A senha deve ter entre 8 e 20 caracteres, contendo letras maiúsculas, minúsculas, números e caracteres especiais.\n",
       "* O sistema deve permitir no máximo 3 tentativas de login. Após isso, um captcha deve ser exibido.\n",
       "* O link \"lembrar senha\" deve redirecionar corretamente para a tela de recuperação de senha.\n",
       "```"
      ],
      "text/plain": [
       "<IPython.core.display.Markdown object>"
      ]
     },
     "metadata": {},
     "output_type": "display_data"
    },
    {
     "data": {
      "text/markdown": [
       "----"
      ],
      "text/plain": [
       "<IPython.core.display.Markdown object>"
      ]
     },
     "metadata": {},
     "output_type": "display_data"
    },
    {
     "data": {
      "text/markdown": [
       "*Resposta:*"
      ],
      "text/plain": [
       "<IPython.core.display.Markdown object>"
      ]
     },
     "metadata": {},
     "output_type": "display_data"
    },
    {
     "data": {
      "text/markdown": [
       "----"
      ],
      "text/plain": [
       "<IPython.core.display.Markdown object>"
      ]
     },
     "metadata": {},
     "output_type": "display_data"
    },
    {
     "data": {
      "text/markdown": [
       "### Plano de Testes Funcional para o Sistema de Login\n",
       "\n",
       "#### Caso de Teste 1: Validação do Campo de Nome de Usuário\n",
       "- **ID do Teste:** TC001\n",
       "- **Descrição:** Verificar que o campo de nome de usuário aceita apenas e-mails válidos.\n",
       "- **Pré-condições:** O usuário está na página de login.\n",
       "\n",
       "**Passos:**\n",
       "1. Acessar a página de login.\n",
       "2. Inserir um e-mail válido (ex: usuario@dominio.com) no campo de nome de usuário.\n",
       "3. Inserir uma senha válida no campo de senha.\n",
       "4. Clicar no botão \"Login\".\n",
       "\n",
       "**Dados de Entrada:**\n",
       "- Nome de usuário: usuario@dominio.com\n",
       "- Senha: Senha123!\n",
       "\n",
       "**Resultado Esperado:**\n",
       "- O usuário deve ser autenticado e redirecionado para a página principal do aplicativo.\n",
       "\n",
       "**Status do Teste:** A ser testado\n",
       "\n",
       "---\n",
       "\n",
       "#### Caso de Teste 2: Validação do Campo de Nome de Usuário (E-mail Inválido)\n",
       "- **ID do Teste:** TC002\n",
       "- **Descrição:** Verificar que o sistema rejeita e-mails inválidos.\n",
       "- **Pré-condições:** O usuário está na página de login.\n",
       "\n",
       "**Passos:**\n",
       "1. Acessar a página de login.\n",
       "2. Inserir um e-mail inválido (ex: usuario@dominio) no campo de nome de usuário.\n",
       "3. Inserir uma senha válida no campo de senha.\n",
       "4. Clicar no botão \"Login\".\n",
       "\n",
       "**Dados de Entrada:**\n",
       "- Nome de usuário: usuario@dominio\n",
       "- Senha: Senha123!\n",
       "\n",
       "**Resultado Esperado:**\n",
       "- Uma mensagem de erro deve ser exibida informando que o e-mail é inválido.\n",
       "\n",
       "**Status do Teste:** A ser testado\n",
       "\n",
       "---\n",
       "\n",
       "#### Caso de Teste 3: Validação da Senha\n",
       "- **ID do Teste:** TC003\n",
       "- **Descrição:** Verificar que a senha atende aos requisitos de complexidade.\n",
       "- **Pré-condições:** O usuário está na página de login.\n",
       "\n",
       "**Passos:**\n",
       "1. Acessar a página de login.\n",
       "2. Inserir um e-mail válido no campo de nome de usuário.\n",
       "3. Inserir uma senha inválida (ex: senha123) que não cumpre os requisitos especificados.\n",
       "4. Clicar no botão \"Login\".\n",
       "\n",
       "**Dados de Entrada:**\n",
       "- Nome de usuário: usuario@dominio.com\n",
       "- Senha: senha123\n",
       "\n",
       "**Resultado Esperado:**\n",
       "- Uma mensagem de erro deve ser exibida informando que a senha não atende aos requisitos de complexidade.\n",
       "\n",
       "**Status do Teste:** A ser testado\n",
       "\n",
       "---\n",
       "\n",
       "#### Caso de Teste 4: Tentativas de Login\n",
       "- **ID do Teste:** TC004\n",
       "- **Descrição:** Verificar o limite de tentativas de login e a exibição do captcha.\n",
       "- **Pré-condições:** O usuário está na página de login.\n",
       "\n",
       "**Passos:**\n",
       "1. Acessar a página de login.\n",
       "2. Inserir um e-mail válido no campo de nome de usuário.\n",
       "3. Inserir uma senha inválida e clicar em \"Login\". (Repetir 3 vezes)\n",
       "4. Na quarta tentativa, clicar em \"Login\".\n",
       "\n",
       "**Dados de Entrada:**\n",
       "- Nome de usuário: usuario@dominio.com\n",
       "- Senha: senhaerrada! (em todas as tentativas)\n",
       "\n",
       "**Resultado Esperado:**\n",
       "- Após três tentativas falhas, o captcha deve ser exibido, dando a opção de verificar se o usuário é humano.\n",
       "\n",
       "**Status do Teste:** A ser testado\n",
       "\n",
       "---\n",
       "\n",
       "#### Caso de Teste 5: Funcionalidade do Link \"Lembrar Senha\"\n",
       "- **ID do Teste:** TC005\n",
       "- **Descrição:** Verificar o redirecionamento correto do link \"lembrar senha\".\n",
       "- **Pré-condições:** O usuário está na página de login.\n",
       "\n",
       "**Passos:**\n",
       "1. Acessar a página de login.\n",
       "2. Clicar no link \"lembrar senha\".\n",
       "\n",
       "**Dados de Entrada:** N/A\n",
       "\n",
       "**Resultado Esperado:**\n",
       "- O usuário deve ser redirecionado para a tela de recuperação de senha.\n",
       "\n",
       "**Status do Teste:** A ser testado\n",
       "\n",
       "---\n",
       "\n",
       "### Conclusão\n",
       "Esse plano de testes aborda todos os requisitos funcionais do sistema de login. Cada teste deve ser realizado em um ambiente controlado para garantir a confiabilidade dos resultados, e os status dos testes devem ser atualizados conforme as execuções forem realizadas."
      ],
      "text/plain": [
       "<IPython.core.display.Markdown object>"
      ]
     },
     "metadata": {},
     "output_type": "display_data"
    },
    {
     "data": {
      "text/markdown": [
       "----"
      ],
      "text/plain": [
       "<IPython.core.display.Markdown object>"
      ]
     },
     "metadata": {},
     "output_type": "display_data"
    }
   ],
   "source": [
    "prompt = response.content\n",
    "\n",
    "display(Markdown(f\"*Prompt:*\"))\n",
    "display(Markdown(f\"----\"))\n",
    "display(Markdown(f\"{prompt}\"))\n",
    "display(Markdown(f\"----\"))\n",
    "\n",
    "response = llm.invoke(prompt)\n",
    "\n",
    "display(Markdown(f\"*Resposta:*\"))\n",
    "display(Markdown(f\"----\"))\n",
    "display(Markdown(f\"{response.content}\"))\n",
    "display(Markdown(f\"----\"))"
   ]
  },
  {
   "cell_type": "code",
   "execution_count": null,
   "id": "da698d16-c152-42e7-9fd1-f115d8d1e19c",
   "metadata": {},
   "outputs": [],
   "source": []
  }
 ],
 "metadata": {
  "kernelspec": {
   "display_name": "Python 3 (ipykernel)",
   "language": "python",
   "name": "python3"
  },
  "language_info": {
   "codemirror_mode": {
    "name": "ipython",
    "version": 3
   },
   "file_extension": ".py",
   "mimetype": "text/x-python",
   "name": "python",
   "nbconvert_exporter": "python",
   "pygments_lexer": "ipython3",
   "version": "3.11.9"
  }
 },
 "nbformat": 4,
 "nbformat_minor": 5
}
