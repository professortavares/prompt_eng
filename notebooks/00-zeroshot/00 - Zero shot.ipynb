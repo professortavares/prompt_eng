{
 "cells": [
  {
   "cell_type": "markdown",
   "id": "d55031bb-06ae-4ebb-aeb1-87f6b62e417d",
   "metadata": {},
   "source": [
    "# ZERO SHOT\n",
    "\n",
    "Estudo de prompts compeletamente ZERO SHOT"
   ]
  },
  {
   "cell_type": "code",
   "execution_count": 1,
   "id": "3ebc3792-3106-43a6-a8fa-386dbda56cdf",
   "metadata": {},
   "outputs": [],
   "source": [
    "# Imports necessários\n",
    "from langchain_ollama import ChatOllama\n",
    "\n",
    "from IPython.display import display, Markdown"
   ]
  },
  {
   "cell_type": "markdown",
   "id": "c7fad9ae-bf49-4e9b-8e86-4616d1d9a8cf",
   "metadata": {},
   "source": [
    "Utilização o llama 3.2 via interface Ollama \n",
    "Ref.:\n",
    "\n",
    "https://github.com/ollama/ollama \n",
    "\n",
    "https://ollama.com/library/llama3.2"
   ]
  },
  {
   "cell_type": "code",
   "execution_count": 2,
   "id": "34ed353e-667f-4abd-b84c-e7842058ff7e",
   "metadata": {},
   "outputs": [],
   "source": [
    "llm = ChatOllama(model=\"llama3.2\")"
   ]
  },
  {
   "cell_type": "markdown",
   "id": "953b2335-5dac-4764-b158-ec35d3e1aada",
   "metadata": {},
   "source": [
    "## Verificação se a inteface está funcionando"
   ]
  },
  {
   "cell_type": "code",
   "execution_count": 3,
   "id": "98ad17df-ab73-4526-b5b8-76db36cbd0a1",
   "metadata": {},
   "outputs": [
    {
     "data": {
      "text/markdown": [
       "*Resposta:*"
      ],
      "text/plain": [
       "<IPython.core.display.Markdown object>"
      ]
     },
     "metadata": {},
     "output_type": "display_data"
    },
    {
     "data": {
      "text/markdown": [
       "----"
      ],
      "text/plain": [
       "<IPython.core.display.Markdown object>"
      ]
     },
     "metadata": {},
     "output_type": "display_data"
    },
    {
     "data": {
      "text/markdown": [
       "Olá! Estou aqui para ajudar. Como posso ser útil para você hoje? Você tem alguma pergunta ou precisa de ajuda com algo em particular?"
      ],
      "text/plain": [
       "<IPython.core.display.Markdown object>"
      ]
     },
     "metadata": {},
     "output_type": "display_data"
    },
    {
     "data": {
      "text/markdown": [
       "----"
      ],
      "text/plain": [
       "<IPython.core.display.Markdown object>"
      ]
     },
     "metadata": {},
     "output_type": "display_data"
    }
   ],
   "source": [
    "prompt = \"\"\"\n",
    "Olá, tudo bem?\n",
    "\"\"\"\n",
    "\n",
    "response = llm.invoke(prompt)\n",
    "\n",
    "display(Markdown(f\"*Resposta:*\"))\n",
    "display(Markdown(f\"----\"))\n",
    "display(Markdown(f\"{response.content}\"))\n",
    "display(Markdown(f\"----\"))"
   ]
  },
  {
   "cell_type": "markdown",
   "id": "d2dfef36-3126-48af-9364-10c3dde7d5a9",
   "metadata": {},
   "source": [
    "## Aqui considero que a conversa **não** tem memória"
   ]
  },
  {
   "cell_type": "code",
   "execution_count": 4,
   "id": "82bc01c8-403e-4d47-b343-aed167815004",
   "metadata": {},
   "outputs": [
    {
     "data": {
      "text/markdown": [
       "*Resposta:*"
      ],
      "text/plain": [
       "<IPython.core.display.Markdown object>"
      ]
     },
     "metadata": {},
     "output_type": "display_data"
    },
    {
     "data": {
      "text/markdown": [
       "----"
      ],
      "text/plain": [
       "<IPython.core.display.Markdown object>"
      ]
     },
     "metadata": {},
     "output_type": "display_data"
    },
    {
     "data": {
      "text/markdown": [
       "Não disse nada ainda. Essa é a nossa primeira conversa. Como posso ajudá-lo hoje?"
      ],
      "text/plain": [
       "<IPython.core.display.Markdown object>"
      ]
     },
     "metadata": {},
     "output_type": "display_data"
    },
    {
     "data": {
      "text/markdown": [
       "----"
      ],
      "text/plain": [
       "<IPython.core.display.Markdown object>"
      ]
     },
     "metadata": {},
     "output_type": "display_data"
    }
   ],
   "source": [
    "prompt = \"\"\"\n",
    "O que você disse?\n",
    "\"\"\"\n",
    "\n",
    "response = llm.invoke(prompt)\n",
    "\n",
    "display(Markdown(f\"*Resposta:*\"))\n",
    "display(Markdown(f\"----\"))\n",
    "display(Markdown(f\"{response.content}\"))\n",
    "display(Markdown(f\"----\"))"
   ]
  },
  {
   "cell_type": "markdown",
   "id": "14376a7f-7707-4e35-8e79-9456edf41e7d",
   "metadata": {},
   "source": [
    "## **PROMPT 01:** Aqui vou fazer um prompt totalmente sem estratégia (zero-shot)"
   ]
  },
  {
   "cell_type": "code",
   "execution_count": 5,
   "id": "f1beefe4-3be7-4a3b-b5fc-dc5e690b48db",
   "metadata": {},
   "outputs": [
    {
     "data": {
      "text/markdown": [
       "*Resposta:*"
      ],
      "text/plain": [
       "<IPython.core.display.Markdown object>"
      ]
     },
     "metadata": {},
     "output_type": "display_data"
    },
    {
     "data": {
      "text/markdown": [
       "----"
      ],
      "text/plain": [
       "<IPython.core.display.Markdown object>"
      ]
     },
     "metadata": {},
     "output_type": "display_data"
    },
    {
     "data": {
      "text/markdown": [
       "Olá! Estou aqui para ajudar.\n",
       "\n",
       "Para analisar um sistema de software e verificar sua funcionalidade, eu precisarei de mais informações sobre o sistema em questão. Por favor, forneça-me os seguintes detalhes:\n",
       "\n",
       "1. **Descrição do sistema**: Qual é o propósito do sistema? Quais são as funções principais?\n",
       "2. **Código-fonte**: Forneça-me o código-fonte do sistema (ou uma lista de arquivos relevantes). Isso me permitirá analisar o código e identificar possíveis problemas.\n",
       "3. **Ambiente de desenvolvimento**: Qual é o ambiente em que o sistema foi desenvolvido? Qual é a linguagem de programação, framework, banco de dados, etc.??\n",
       "4. **Testes unitários e integração**: Forneça-me informações sobre os testes unitários e integração realizados para o sistema.\n",
       "\n",
       "Com essas informações, posso começar a analisar o sistema e identificar possíveis problemas ou melhorias que possam ser feitas.\n",
       "\n",
       "**Passos de análise**\n",
       "\n",
       "Aqui estão os passos que eu farei:\n",
       "\n",
       "1. **Análise da estrutura do código**: Vou analisar a estrutura do código, incluindo a organização de arquivos, a utilização de bibliotecas e frameworks, e a forma como as funcionalidades são implementadas.\n",
       "2. **Verificação de erros comuns**: Vou procurar por erros comuns, como:\n",
       " * Erros de sintaxe e lógica\n",
       " * Falta de validação de entrada\n",
       " * Uso inadequado de recursos de sistema\n",
       " * Falta de documentação ou manutenção\n",
       "3. **Análise de desempenho**: Vou avaliar a performance do sistema, incluindo:\n",
       " * Tempo de resposta\n",
       " * Consumo de memória e recursos de sistema\n",
       "4. **Análise de segurança**: Vou verificar se o sistema tem medidas de segurança adequadas, como:\n",
       " * Autenticação e autorização\n",
       " * Criptografia de dados\n",
       "5. **Testes unitários e integração**: Vou avaliar a qualidade dos testes unitários e integração para garantir que o sistema esteja funcionando corretamente em diferentes cenários.\n",
       "\n",
       "**Melhorias sugeridas**\n",
       "\n",
       "Depois da análise, eu sugerierei melhorias para o sistema, incluindo:\n",
       "\n",
       "1. **Ajuste de código**: Sugiro ajustes no código para melhorar a legibilidade, manutenção e desempenho.\n",
       "2. **Adição de recursos**: Sugero adicionais recursos, como testes unitários e integração, documentação e análise de segurança.\n",
       "3. **Revisão da arquitetura**: Sugiro uma revisão da arquitetura do sistema para melhorar sua escalabilidade, flexibilidade e manutenibilidade.\n",
       "\n",
       "**Garantindo a qualidade**\n",
       "\n",
       "Para garantir que o sistema esteja funcionando corretamente, eu sugiero:\n",
       "\n",
       "1. **Testes rigorosos**: Realize testes rigorosos para o sistema antes de lançá-lo.\n",
       "2. **Documentação atualizada**: Atualize a documentação do sistema para refletir os mudanças e melhorias.\n",
       "3. **Manutenção regular**: Estabeleça uma rotina de manutenção regular para garantir que o sistema continue funcionando corretamente.\n",
       "\n",
       "Espero ter suas informações e poder começar a analisar o sistema de software!"
      ],
      "text/plain": [
       "<IPython.core.display.Markdown object>"
      ]
     },
     "metadata": {},
     "output_type": "display_data"
    },
    {
     "data": {
      "text/markdown": [
       "----"
      ],
      "text/plain": [
       "<IPython.core.display.Markdown object>"
      ]
     },
     "metadata": {},
     "output_type": "display_data"
    }
   ],
   "source": [
    "prompt = \"\"\"\n",
    "Olá, preciso que você analise um sistema de software para verificar \n",
    "se ele está funcionando corretamente. Diga se há problemas, o que \n",
    "pode ser melhorado e como garantir que a qualidade esteja boa. \n",
    "Faça isso da melhor forma que conseguir.\n",
    "\"\"\"\n",
    "\n",
    "response = llm.invoke(prompt)\n",
    "\n",
    "display(Markdown(f\"*Resposta:*\"))\n",
    "display(Markdown(f\"----\"))\n",
    "display(Markdown(f\"{response.content}\"))\n",
    "display(Markdown(f\"----\"))"
   ]
  },
  {
   "cell_type": "markdown",
   "id": "1ad9b69d-ea7b-4506-92eb-ca90594cd62a",
   "metadata": {},
   "source": [
    "### Por que esse prompt é ruim?\n",
    "\n",
    "* Vago e genérico: \"um sistema de software\" — qual sistema? Que tipo? Web, mobile, backend?\n",
    "* Sem escopo definido: \"funcionando corretamente\" — em termos de usabilidade, performance, segurança?\n",
    "* Sem dados de entrada: o modelo não tem acesso a documentação, requisitos, prints ou código.\n",
    "* Sem papel ou formato esperado: ele não sabe se deve agir como QA, engenheiro de testes, analista funcional etc.\n",
    "* Sem tarefa clara: o que significa \"verificar\", \"problemas\", ou \"melhorar\"? São testes? Auditoria? Revisão"
   ]
  },
  {
   "cell_type": "markdown",
   "id": "da4ecdb2-d628-43cd-aff4-9ad6221e431f",
   "metadata": {},
   "source": [
    "## **PROMPT 02:** Aqui vou fazer um prompt **com um pouco** de estratégia (ainda zero-shot)"
   ]
  },
  {
   "cell_type": "code",
   "execution_count": 6,
   "id": "cf5fc8f3-ebe7-4e7d-a35e-3a70e0e0d861",
   "metadata": {},
   "outputs": [
    {
     "data": {
      "text/markdown": [
       "*Resposta:*"
      ],
      "text/plain": [
       "<IPython.core.display.Markdown object>"
      ]
     },
     "metadata": {},
     "output_type": "display_data"
    },
    {
     "data": {
      "text/markdown": [
       "----"
      ],
      "text/plain": [
       "<IPython.core.display.Markdown object>"
      ]
     },
     "metadata": {},
     "output_type": "display_data"
    },
    {
     "data": {
      "text/markdown": [
       "**Plano de Testes para Tela de Login**\n",
       "\n",
       "**Objetivo:**\n",
       "Verificar a funcionalidade e a usabilidade da tela de login, garantindo que os usuários possam realizar o processo de login com sucesso.\n",
       "\n",
       "**Requisitos do Teste:**\n",
       "\n",
       "1. **Teste de Funcionalidade:**\n",
       "\t* Verificar se o campo para o nome de usuário está presente na tela.\n",
       "\t* Verificar se o campo para a senha está presente na tela.\n",
       "\t* Verificar se o link \"Lembrar Senha\" está presente na tela.\n",
       "\t* Verificar se o usuário pode digitar texto nos campos de entrada.\n",
       "\t* Verificar se o usuário pode clicar no link \"Lembrar Senha\".\n",
       "2. **Teste de Usabilidade:**\n",
       "\t* Verificar se a tela é visualmente atraente e fácil de usar.\n",
       "\t* Verificar se os campos de entrada estão alinhados corretamente.\n",
       "\t* Verificar se o link \"Lembrar Senha\" está bem posicionado e facilmente acessível.\n",
       "3. **Teste de Estresse:**\n",
       "\t* Simular diferentes cenários de login (ex: usuário comentei a senha, usuário não conhece sua senha, etc.)\n",
       "4. **Teste de Aceitação:**\n",
       "\t* Verificar se o login é feito com sucesso após inserir os dados corretos.\n",
       "\t* Verificar se o usuário pode acessar as funcionalidades da aplicação após logar.\n",
       "\n",
       "**Passos do Teste:**\n",
       "\n",
       "1.1 - Acesse a tela de login e verifique se ela está apresentada corretamente.\n",
       "\n",
       "1.2 - Verifique se os campos de entrada estão presentes na tela e funcionam corretamente (digitar texto, etc.)\n",
       "\n",
       "1.3 - Clique no link \"Lembrar Senha\" e verifique se ele funciona corretamente (mostrar senha, etc.)\n",
       "\n",
       "1.4 - Tente logar com uma senha incorreta e verifique se o sistema exibe um erro.\n",
       "\n",
       "1.5 - Tente logar com uma senha correta e verifique se o sistema permite acesso às funcionalidades da aplicação.\n",
       "\n",
       "2.1 - Verifique se a tela é visualmente atraente e fácil de usar.\n",
       "\n",
       "2.2 - Verifique se os campos de entrada estão alinhados corretamente e são fáceis de entender.\n",
       "\n",
       "2.3 - Verifique se o link \"Lembrar Senha\" está bem posicionado e facilmente acessível.\n",
       "\n",
       "3.1 - Simule diferentes cenários de login (ex: usuário comentei a senha, usuário não conhece sua senha, etc.)\n",
       "\n",
       "4.1 - Verifique se o login é feito com sucesso após inserir os dados corretos.\n",
       "\n",
       "4.2 - Verifique se o usuário pode acessar as funcionalidades da aplicação após logar.\n",
       "\n",
       "**Critérios de Aceitação:**\n",
       "\n",
       "* A tela de login está apresentada corretamente e é fácil de usar.\n",
       "* Os campos de entrada estão presentes na tela e funcionam corretamente.\n",
       "* O link \"Lembrar Senha\" funciona corretamente.\n",
       "* O login é feito com sucesso após inserir os dados corretos.\n",
       "* O usuário pode acessar as funcionalidades da aplicação após logar.\n",
       "\n",
       "**Relatório de Teste:**\n",
       "\n",
       "Inclua todos os resultados dos testes, incluindo erros e falhas encontradas. Forneça sugestões de melhoria para a tela de login."
      ],
      "text/plain": [
       "<IPython.core.display.Markdown object>"
      ]
     },
     "metadata": {},
     "output_type": "display_data"
    },
    {
     "data": {
      "text/markdown": [
       "----"
      ],
      "text/plain": [
       "<IPython.core.display.Markdown object>"
      ]
     },
     "metadata": {},
     "output_type": "display_data"
    }
   ],
   "source": [
    "prompt = \"\"\"\n",
    "Crie um plano de testes para uma tela de login. \n",
    "Essa tela tem um campo para o nome de usuário, \n",
    "outro campo para a senha e um link com a opção \"lembrar senha\".\n",
    "\"\"\"\n",
    "\n",
    "response = llm.invoke(prompt)\n",
    "\n",
    "display(Markdown(f\"*Resposta:*\"))\n",
    "display(Markdown(f\"----\"))\n",
    "display(Markdown(f\"{response.content}\"))\n",
    "display(Markdown(f\"----\"))"
   ]
  },
  {
   "cell_type": "markdown",
   "id": "1aacd944-ff95-4f78-bba8-84b9a1a16dbd",
   "metadata": {},
   "source": [
    "### Por que este prompt é melhor que o anterior?\n",
    "\n",
    "* **Mais direcionado** do que o anterior, pois define um contexto funcional (tela de login) e os elementos presentes.\n",
    "* **Ainda zero-shot**, pois não há definição de papel (ex: \"aja como um engenheiro de QA\"), nem formatação esperada (ex: lista, tabela), nem foco (ex: testes funcionais, de segurança, de usabilidade).\n",
    "* **Pode gerar uma resposta razoável**, mas com variação de qualidade dependendo do modelo e da interpretação subjetiva."
   ]
  },
  {
   "cell_type": "markdown",
   "id": "a224931d-c86a-441a-a4bf-c11bb016c826",
   "metadata": {},
   "source": [
    "## **PROMPT 03:** Aqui vou fazer um prompt com **propósito especifico** (ainda zero-shot)\n",
    "\n",
    "Aqui vamos nos basear em uma história técnica hipotética (Teste de Funcionalidade)"
   ]
  },
  {
   "cell_type": "code",
   "execution_count": 7,
   "id": "1062c8ee-2f86-4f81-be1e-cd246e36f6c8",
   "metadata": {},
   "outputs": [
    {
     "data": {
      "text/markdown": [
       "*Resposta:*"
      ],
      "text/plain": [
       "<IPython.core.display.Markdown object>"
      ]
     },
     "metadata": {},
     "output_type": "display_data"
    },
    {
     "data": {
      "text/markdown": [
       "----"
      ],
      "text/plain": [
       "<IPython.core.display.Markdown object>"
      ]
     },
     "metadata": {},
     "output_type": "display_data"
    },
    {
     "data": {
      "text/markdown": [
       "**Plano de Testes para Funcionalidade de Login**\n",
       "\n",
       "**Objetivo:**\n",
       "Validar que a funcionalidade de login atende às regras específicas estabelecidas.\n",
       "\n",
       "**Testes:**\n",
       "\n",
       "### Teste 1: Nome de Usuário e E-mail Válido\n",
       "\n",
       "* **Preparação:** Criar um novo usuário com nome de usuário válido (exemplo: \"johndoe@example.com\").\n",
       "* **Execução:**\n",
       "\t+ Submeter o formulário de login com o nome de usuário válido.\n",
       "\t+ Verificar se o sistema aceita o e-mail como válido.\n",
       "* **Expectativa:** O sistema deve aceitar o e-mail como válido e permitir o login.\n",
       "\n",
       "### Teste 2: Senha Invalída (menos de 8 caracteres)\n",
       "\n",
       "* **Preparação:** Criar um novo usuário com senha invalida (exemplo: \"abc\").\n",
       "* **Execução:**\n",
       "\t+ Submeter o formulário de login com a senha inválida.\n",
       "\t+ Verificar se o sistema exibe uma mensagem de erro e não permite o login.\n",
       "* **Expectativa:** O sistema deve exibir uma mensagem de erro e não permitir o login.\n",
       "\n",
       "### Teste 3: Senha Invalída (mais de 20 caracteres)\n",
       "\n",
       "* **Preparação:** Criar um novo usuário com senha inválida (exemplo: \"a\".*b*c...\").\n",
       "* **Execução:**\n",
       "\t+ Submeter o formulário de login com a senha inválida.\n",
       "\t+ Verificar se o sistema exibe uma mensagem de erro e não permite o login.\n",
       "* **Expectativa:** O sistema deve exibir uma mensagem de erro e não permitir o login.\n",
       "\n",
       "### Teste 4: Senha Invalída ( sem letras maiúsculas)\n",
       "\n",
       "* **Preparação:** Criar um novo usuário com senha inválida (exemplo: \"abc123!\").\n",
       "* **Execução:**\n",
       "\t+ Submeter o formulário de login com a senha inválida.\n",
       "\t+ Verificar se o sistema exibe uma mensagem de erro e não permite o login.\n",
       "* **Expectativa:** O sistema deve exibir uma mensagem de erro e não permitir o login.\n",
       "\n",
       "### Teste 5: Senha Invalída ( sem números)\n",
       "\n",
       "* **Preparação:** Criar um novo usuário com senha inválida (exemplo: \"abc!@#\").\n",
       "* **Execução:**\n",
       "\t+ Submeter o formulário de login com a senha inválida.\n",
       "\t+ Verificar se o sistema exibe uma mensagem de erro e não permite o login.\n",
       "* **Expectativa:** O sistema deve exibir uma mensagem de erro e não permitir o login.\n",
       "\n",
       "### Teste 6: Senha Invalída ( sem caracteres especiais)\n",
       "\n",
       "* **Preparação:** Criar um novo usuário com senha inválida (exemplo: \"abc123\").\n",
       "* **Execução:**\n",
       "\t+ Submeter o formulário de login com a senha inválida.\n",
       "\t+ Verificar se o sistema exibe uma mensagem de erro e não permite o login.\n",
       "* **Expectativa:** O sistema deve exibir uma mensagem de erro e não permitir o login.\n",
       "\n",
       "### Teste 7: Tentativas de Login (3 tentativas)\n",
       "\n",
       "* **Preparação:** Criar um novo usuário com senha válida (exemplo: \"abc123!@#\").\n",
       "* **Execução:**\n",
       "\t+ Submeter o formulário de login com a senha inválida (exemplo: \"abc123!\").\n",
       "\t+ Verificar se o sistema exibe uma mensagem de erro e não permite o login.\n",
       "\t+ Submeter o formulário de login novamente com a senha inválida (exemplo: \"abc123!@#\").\n",
       "\t+ Verificar se o sistema exibe uma mensagem de erro e não permite o login.\n",
       "\t+ Submeter o formulário de login novamente com a senha inválida (exemplo: \"abc123!\").\n",
       "\t+ Verificar se o sistema exibe um captcha após a 3ª tentativa.\n",
       "* **Expectativa:** O sistema deve exibir uma mensagem de erro e não permitir o login na terceira tentativa, seguindo do código abaixo:\n",
       "\n",
       "### Teste 8: Link \"Lembrei Sua Senha\"\n",
       "\n",
       "* **Preparação:** Criar um novo usuário com senha válida (exemplo: \"abc123!@#\").\n",
       "* **Execução:**\n",
       "\t+ Submeter o formulário de login com a senha inválida (exemplo: \"abc123!\").\n",
       "\t+ Verificar se o sistema exibe uma mensagem de erro e não permite o login.\n",
       "\t+ Clicar no link \"Lembrei Sua Senha\".\n",
       "\t+ Verificar se o sistema redireciona para a tela correspondente.\n",
       "* **Expectativa:** O sistema deve redirecionar para a tela correspondente após clicar no link.\n",
       "\n",
       "**Análise:**\n",
       "O plano de testes demonstra que foi verificado se a funcionalidade de login atende às regras estabelecidas, incluindo a validação do e-mail, a validade da senha, as tentativas de login e o sistema de lembrete de senha."
      ],
      "text/plain": [
       "<IPython.core.display.Markdown object>"
      ]
     },
     "metadata": {},
     "output_type": "display_data"
    },
    {
     "data": {
      "text/markdown": [
       "----"
      ],
      "text/plain": [
       "<IPython.core.display.Markdown object>"
      ]
     },
     "metadata": {},
     "output_type": "display_data"
    }
   ],
   "source": [
    "prompt = \"\"\"\n",
    "Crie um plano de testes para uma funcionalidade de login que deve seguir as seguintes regras:\n",
    "\n",
    "* O campo de nome de usuário deve aceitar apenas e-mails válidos.\n",
    "* A senha deve ter entre 8 e 20 caracteres, contendo letras maiúsculas, minúsculas, números e caracteres especiais.\n",
    "* O sistema deve permitir no máximo 3 tentativas de login. Após isso, um captcha deve ser exibido.\n",
    "* O link \"lembrar senha\" deve levar o usuário para a tela correspondente.\n",
    "\"\"\"\n",
    "\n",
    "response = llm.invoke(prompt)\n",
    "\n",
    "display(Markdown(f\"*Resposta:*\"))\n",
    "display(Markdown(f\"----\"))\n",
    "display(Markdown(f\"{response.content}\"))\n",
    "display(Markdown(f\"----\"))"
   ]
  },
  {
   "cell_type": "markdown",
   "id": "6cf3168d-ff58-4dd7-bcd1-eea1485fd680",
   "metadata": {},
   "source": [
    "### Por que este prompt é melhor que o anterior?\n",
    "\n",
    "* **Propósito claro**: gerar testes com base em requisitos funcionais.\n",
    "* **História técnica bem definida**: ajuda o modelo a focar em cenários específicos.\n",
    "* **Ainda zero-shot**: não orienta o papel (\"aja como...\"), o tipo de teste (funcional, caixa preta, unitário), nem o formato (lista, Gherkin, tabela etc.).\n",
    "* Pode gerar uma resposta melhor que o zero-shot genérico, mas ainda com variações de completude e forma."
   ]
  }
 ],
 "metadata": {
  "kernelspec": {
   "display_name": "Python 3 (ipykernel)",
   "language": "python",
   "name": "python3"
  },
  "language_info": {
   "codemirror_mode": {
    "name": "ipython",
    "version": 3
   },
   "file_extension": ".py",
   "mimetype": "text/x-python",
   "name": "python",
   "nbconvert_exporter": "python",
   "pygments_lexer": "ipython3",
   "version": "3.11.9"
  }
 },
 "nbformat": 4,
 "nbformat_minor": 5
}
