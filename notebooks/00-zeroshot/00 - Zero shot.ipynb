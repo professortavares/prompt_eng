{
 "cells": [
  {
   "cell_type": "markdown",
   "id": "d55031bb-06ae-4ebb-aeb1-87f6b62e417d",
   "metadata": {},
   "source": [
    "# ZERO SHOT\n",
    "\n",
    "Estudo de prompts compeletamente ZERO SHOT"
   ]
  },
  {
   "cell_type": "code",
   "execution_count": 1,
   "id": "3ebc3792-3106-43a6-a8fa-386dbda56cdf",
   "metadata": {},
   "outputs": [],
   "source": [
    "# Imports necessários\n",
    "from langchain_openai import ChatOpenAI\n",
    "from IPython.display import display, Markdown\n",
    "from pathlib import Path\n",
    "import os\n",
    "from dotenv import load_dotenv"
   ]
  },
  {
   "cell_type": "code",
   "execution_count": 2,
   "id": "34ed353e-667f-4abd-b84c-e7842058ff7e",
   "metadata": {},
   "outputs": [
    {
     "data": {
      "text/plain": [
       "True"
      ]
     },
     "execution_count": 2,
     "metadata": {},
     "output_type": "execute_result"
    }
   ],
   "source": [
    "dotenv_path = Path(\"../.env\")\n",
    "load_dotenv(dotenv_path=dotenv_path)"
   ]
  },
  {
   "cell_type": "code",
   "execution_count": 3,
   "id": "c7bf986c-5c98-4361-b3e6-f82c33ced699",
   "metadata": {},
   "outputs": [],
   "source": [
    "os.environ[\"OPENAI_API_KEY\"] = os.getenv(\"OPENAI_API_KEY\")\n",
    "llm = ChatOpenAI(model=\"gpt-4o-mini\")"
   ]
  },
  {
   "cell_type": "markdown",
   "id": "953b2335-5dac-4764-b158-ec35d3e1aada",
   "metadata": {},
   "source": [
    "## Verificação se a inteface está funcionando"
   ]
  },
  {
   "cell_type": "code",
   "execution_count": 4,
   "id": "98ad17df-ab73-4526-b5b8-76db36cbd0a1",
   "metadata": {},
   "outputs": [
    {
     "data": {
      "text/markdown": [
       "*Resposta:*"
      ],
      "text/plain": [
       "<IPython.core.display.Markdown object>"
      ]
     },
     "metadata": {},
     "output_type": "display_data"
    },
    {
     "data": {
      "text/markdown": [
       "----"
      ],
      "text/plain": [
       "<IPython.core.display.Markdown object>"
      ]
     },
     "metadata": {},
     "output_type": "display_data"
    },
    {
     "data": {
      "text/markdown": [
       "Olá! Tudo bem, e você? Como posso ajudar hoje?"
      ],
      "text/plain": [
       "<IPython.core.display.Markdown object>"
      ]
     },
     "metadata": {},
     "output_type": "display_data"
    },
    {
     "data": {
      "text/markdown": [
       "----"
      ],
      "text/plain": [
       "<IPython.core.display.Markdown object>"
      ]
     },
     "metadata": {},
     "output_type": "display_data"
    }
   ],
   "source": [
    "prompt = \"\"\"\n",
    "Olá, tudo bem?\n",
    "\"\"\"\n",
    "\n",
    "response = llm.invoke(prompt)\n",
    "\n",
    "display(Markdown(f\"*Resposta:*\"))\n",
    "display(Markdown(f\"----\"))\n",
    "display(Markdown(f\"{response.content}\"))\n",
    "display(Markdown(f\"----\"))"
   ]
  },
  {
   "cell_type": "markdown",
   "id": "d2dfef36-3126-48af-9364-10c3dde7d5a9",
   "metadata": {},
   "source": [
    "## Aqui considero que a conversa **não** tem memória"
   ]
  },
  {
   "cell_type": "code",
   "execution_count": 5,
   "id": "82bc01c8-403e-4d47-b343-aed167815004",
   "metadata": {},
   "outputs": [
    {
     "data": {
      "text/markdown": [
       "*Resposta:*"
      ],
      "text/plain": [
       "<IPython.core.display.Markdown object>"
      ]
     },
     "metadata": {},
     "output_type": "display_data"
    },
    {
     "data": {
      "text/markdown": [
       "----"
      ],
      "text/plain": [
       "<IPython.core.display.Markdown object>"
      ]
     },
     "metadata": {},
     "output_type": "display_data"
    },
    {
     "data": {
      "text/markdown": [
       "Olá! Eu sou um assistente virtual aqui para ajudar. O que você gostaria de saber ou discutir?"
      ],
      "text/plain": [
       "<IPython.core.display.Markdown object>"
      ]
     },
     "metadata": {},
     "output_type": "display_data"
    },
    {
     "data": {
      "text/markdown": [
       "----"
      ],
      "text/plain": [
       "<IPython.core.display.Markdown object>"
      ]
     },
     "metadata": {},
     "output_type": "display_data"
    }
   ],
   "source": [
    "prompt = \"\"\"\n",
    "O que você disse?\n",
    "\"\"\"\n",
    "\n",
    "response = llm.invoke(prompt)\n",
    "\n",
    "display(Markdown(f\"*Resposta:*\"))\n",
    "display(Markdown(f\"----\"))\n",
    "display(Markdown(f\"{response.content}\"))\n",
    "display(Markdown(f\"----\"))"
   ]
  },
  {
   "cell_type": "markdown",
   "id": "14376a7f-7707-4e35-8e79-9456edf41e7d",
   "metadata": {},
   "source": [
    "## **PROMPT 01:** Aqui vou fazer um prompt totalmente sem estratégia (zero-shot)"
   ]
  },
  {
   "cell_type": "code",
   "execution_count": 6,
   "id": "f1beefe4-3be7-4a3b-b5fc-dc5e690b48db",
   "metadata": {},
   "outputs": [
    {
     "data": {
      "text/markdown": [
       "*Resposta:*"
      ],
      "text/plain": [
       "<IPython.core.display.Markdown object>"
      ]
     },
     "metadata": {},
     "output_type": "display_data"
    },
    {
     "data": {
      "text/markdown": [
       "----"
      ],
      "text/plain": [
       "<IPython.core.display.Markdown object>"
      ]
     },
     "metadata": {},
     "output_type": "display_data"
    },
    {
     "data": {
      "text/markdown": [
       "Olá! Para analisar um sistema de software e verificar se ele está funcionando corretamente, podemos seguir um conjunto estruturado de etapas. Vamos abordar os principais aspectos, como testes, usabilidade, performance, segurança e manutenção. Aqui está uma análise detalhada:\n",
       "\n",
       "### 1. Testes\n",
       "#### a. Testes Funcionais\n",
       "- **Verificação de Requisitos:** Assegure-se de que todas as funcionalidades especificadas nos requisitos estão implementadas e funcionando.\n",
       "- **Testes Manuais e Automatizados:** Realize testes manuais para cenários específicos e implemente testes automatizados para funcionalidades críticas.\n",
       "\n",
       "#### b. Testes de Integração\n",
       "- Verifique se os diferentes módulos do sistema estão se comunicando corretamente e se a integração com serviços externos (API, banco de dados) está funcionando.\n",
       "\n",
       "#### c. Testes de Performance\n",
       "- **Carga:** Teste o sistema em situações de carga alta para garantir que ele suporta o número esperado de usuários simultâneos.\n",
       "- **Stress Test:** Identifique o ponto de quebra do sistema.\n",
       "\n",
       "#### d. Testes de Segurança\n",
       "- Realize testes de penetração para identificar vulnerabilidades.\n",
       "- Verifique políticas de autenticação e autorização.\n",
       "\n",
       "### 2. Usabilidade\n",
       "- **Interface do Usuário (UI):** Avalie a interface do usuário em termos de clareza, estética e facilidade de uso.\n",
       "- **Experiência do Usuário (UX):** Colete feedback de usuários reais para entender como eles interagem com o sistema e quais pontos podem ser melhorados.\n",
       "\n",
       "### 3. Performance\n",
       "- Monitore o tempo de resposta do sistema e a utilização de recursos (CPU, memória, etc.).\n",
       "- Identifique gargalos no desempenho e otimize consultas ao banco de dados e processos que consomem muitos recursos.\n",
       "\n",
       "### 4. Segurança\n",
       "- **Criptografia:** Assegure que dados sensíveis estão sendo criptografados tanto em trânsito quanto em repouso.\n",
       "- **Atualizações e Patches:** Mantenha todas as bibliotecas e dependências atualizadas para evitar vulnerabilidades conhecidas.\n",
       "- **Logs de Auditoria:** Implemente logs para rastrear atividades suspeitas e ações dos usuários.\n",
       "\n",
       "### 5. Manutenção e Suporte\n",
       "- **Documentação:** Certifique-se de que toda a documentação técnica e de usuário está atualizada e acessível.\n",
       "- **Processo de Atualizações:** Estabeleça um ciclo de lançamento regular para correções e novas funcionalidades.\n",
       "- **Suporte ao Cliente:** Tenha um sistema de suporte ao cliente eficiente para tratar problemas e feedback rapidamente.\n",
       "\n",
       "### Como Garantir a Qualidade\n",
       "- **Revisões de Código:** Realize revisões de código regulares para manter padrões de qualidade e identificar problemas.\n",
       "- **Cultura de Qualidade:** Promova uma cultura de qualidade entre a equipe de desenvolvimento, onde todos estão comprometidos em prevenir problemas e manter um padrão elevado.\n",
       "- **Monitoramento Contínuo:** Utilize ferramentas de monitoramento para observar o desempenho e a saúde do sistema em produção.\n",
       "- **Feedback Contínuo:** Estabeleça um canal de feedback com os usuários para garantir que suas necessidades estão sendo atendidas e para identificar possíveis melhorias.\n",
       "\n",
       "### Conclusão\n",
       "A análise de um sistema de software envolve múltiplos aspectos que devem ser considerados em conjunto. Se problemas forem identificados em qualquer uma dessas áreas, é importante abordá-los sistematicamente. Implementar melhorias contínuas e estabelecer boas práticas desde o início do ciclo de desenvolvimento irá garantir que a qualidade do software permaneça alta. Se precisar de orientações mais específicas ou exemplos, sinta-se à vontade para perguntar!"
      ],
      "text/plain": [
       "<IPython.core.display.Markdown object>"
      ]
     },
     "metadata": {},
     "output_type": "display_data"
    },
    {
     "data": {
      "text/markdown": [
       "----"
      ],
      "text/plain": [
       "<IPython.core.display.Markdown object>"
      ]
     },
     "metadata": {},
     "output_type": "display_data"
    }
   ],
   "source": [
    "prompt = \"\"\"\n",
    "Olá, preciso que você analise um sistema de software para verificar \n",
    "se ele está funcionando corretamente. Diga se há problemas, o que \n",
    "pode ser melhorado e como garantir que a qualidade esteja boa. \n",
    "Faça isso da melhor forma que conseguir.\n",
    "\"\"\"\n",
    "\n",
    "response = llm.invoke(prompt)\n",
    "\n",
    "display(Markdown(f\"*Resposta:*\"))\n",
    "display(Markdown(f\"----\"))\n",
    "display(Markdown(f\"{response.content}\"))\n",
    "display(Markdown(f\"----\"))"
   ]
  },
  {
   "cell_type": "markdown",
   "id": "1ad9b69d-ea7b-4506-92eb-ca90594cd62a",
   "metadata": {},
   "source": [
    "### Por que esse prompt é ruim?\n",
    "\n",
    "* Vago e genérico: \"um sistema de software\" — qual sistema? Que tipo? Web, mobile, backend?\n",
    "* Sem escopo definido: \"funcionando corretamente\" — em termos de usabilidade, performance, segurança?\n",
    "* Sem dados de entrada: o modelo não tem acesso a documentação, requisitos, prints ou código.\n",
    "* Sem papel ou formato esperado: ele não sabe se deve agir como QA, engenheiro de testes, analista funcional etc.\n",
    "* Sem tarefa clara: o que significa \"verificar\", \"problemas\", ou \"melhorar\"? São testes? Auditoria? Revisão"
   ]
  },
  {
   "cell_type": "markdown",
   "id": "da4ecdb2-d628-43cd-aff4-9ad6221e431f",
   "metadata": {},
   "source": [
    "## **PROMPT 02:** Aqui vou fazer um prompt **com um pouco** de estratégia (ainda zero-shot)"
   ]
  },
  {
   "cell_type": "code",
   "execution_count": 7,
   "id": "cf5fc8f3-ebe7-4e7d-a35e-3a70e0e0d861",
   "metadata": {},
   "outputs": [
    {
     "data": {
      "text/markdown": [
       "*Resposta:*"
      ],
      "text/plain": [
       "<IPython.core.display.Markdown object>"
      ]
     },
     "metadata": {},
     "output_type": "display_data"
    },
    {
     "data": {
      "text/markdown": [
       "----"
      ],
      "text/plain": [
       "<IPython.core.display.Markdown object>"
      ]
     },
     "metadata": {},
     "output_type": "display_data"
    },
    {
     "data": {
      "text/markdown": [
       "**Plano de Testes para Tela de Login**\n",
       "\n",
       "**Objetivo:** Validar a funcionalidade, usabilidade e segurança da tela de login com um campo para nome de usuário, um campo para senha e a opção \"lembrar senha\".\n",
       "\n",
       "---\n",
       "\n",
       "### 1. **Identificação do Teste**\n",
       "   - **Teste:** Tela de Login\n",
       "   - **Data:** [Inserir Data]\n",
       "   - **Responsável:** [Inserir Nome do Responsável]\n",
       "   - **Versão do Sistema:** [Inserir Versão]\n",
       "\n",
       "### 2. **Escopo dos Testes**\n",
       "   - Funcionalidade dos campos de entrada\n",
       "   - Validade e segurança dos dados\n",
       "   - Comportamento e usabilidade da interface\n",
       "   - Funcionalidade do link \"lembrar senha\"\n",
       "\n",
       "### 3. **Requisitos do Sistema**\n",
       "   - Os campos devem aceitar entradas válidas.\n",
       "   - O sistema deve validar as credenciais.\n",
       "   - Mensagens de erro devem ser apresentadas de forma clara.\n",
       "   - O link \"lembrar senha\" deve redirecionar o usuário para a funcionalidade correta.\n",
       "\n",
       "---\n",
       "\n",
       "### 4. **Casos de Teste**\n",
       "\n",
       "| ID  | Descrição do Caso de Teste                                        | Pré-condição                      | Passos                                                                                      | Resultado Esperado                                       | Status |\n",
       "|-----|-------------------------------------------------------------------|----------------------------------|---------------------------------------------------------------------------------------------|---------------------------------------------------------|--------|\n",
       "| TC01| Verificar campo de nome de usuário vazio                          | Tela de login acessada           | 1. Deixar o campo de nome de usuário vazio. 2. Tentar realizar o login.                   | Mensagem de erro: \"Nome de usuário não pode ser vazio.\" |        |\n",
       "| TC02| Verificar campo de senha vazio                                    | Tela de login acessada           | 1. Deixar o campo de senha vazio. 2. Tentar realizar o login.                             | Mensagem de erro: \"Senha não pode ser vazia.\"           |        |\n",
       "| TC03| Login com credenciais válidas                                     | Conta existente                   | 1. Inserir nome de usuário válido. 2. Inserir senha válida. 3. Clicar no botão de login.   | Redirecionamento para a página inicial do usuário.      |        |\n",
       "| TC04| Login com credenciais inválidas                                   | Conta existente                   | 1. Inserir nome de usuário inválido. 2. Inserir senha válida. 3. Clicar no botão de login. | Mensagem de erro: \"Credenciais inválidas.\"               |        |\n",
       "| TC05| Login com nome de usuário válido e senha inválida                | Conta existente                   | 1. Inserir nome de usuário válido. 2. Inserir senha inválida. 3. Clicar no botão de login. | Mensagem de erro: \"Credenciais inválidas.\"               |        |\n",
       "| TC06| Verificar funcionalidade do link \"lembrar senha\"                 | Tela de login acessada           | 1. Clicar no link \"lembrar senha\".                                                          | Redirecionamento para a página de recuperação de senha.  |        |\n",
       "| TC07| Verificar comportamento com nome de usuário e senha inválidos    | Tela de login acessada           | 1. Inserir nome de usuário e senha inválidos. 2. Clicar no botão de login.                 | Mensagem de erro: \"Credenciais inválidas.\"               |        |\n",
       "| TC08| Verificar se o botão de login está desabilitado quando os campos estão vazios | Tela de login acessada | 1. Deixar campos de nome de usuário e senha vazios.                                        | Botão de login deve estar desabilitado.                  |        |\n",
       "| TC09| Testar límite de caracteres dos campos                            | Tela de login acessada           | 1. Inserir 256 caracteres no campo de nome de usuário. 2. Inserir 256 caracteres no campo de senha. | Mensagem de erro ou campo não deve aceitar mais de 255 caracteres. |        |\n",
       "| TC10| Verificar a segurança da senha digitada                          | Tela de login acessada           | 1. Inserir uma senha qualquer. 2. Observar a visualização da senha.                        | A senha deve ser exibida como pontos ou asteriscos.     |        |\n",
       "| TC11| Testar o redirecionamento após logout                             | Usuário já logado                | 1. Realizar o login. 2. Sair da conta. 3. Tentar acessar a página inicial.                 | Deve ser redirecionado para a página de login.           |        |\n",
       "\n",
       "---\n",
       "\n",
       "### 5. **Critérios de Aceitação**\n",
       "   - Todos os testes devem ser realizados sem falhas.\n",
       "   - As mensagens de erro devem apresentar clareza e serem compreensíveis ao usuário.\n",
       "   - O redirecionamento após login e logout deve funcionar corretamente.\n",
       "   - O design deve ser responsivo, funcionando em diferentes dispositivos.\n",
       "\n",
       "### 6. **Ambiente de Teste**\n",
       "   - Navegadores: Chrome, Firefox, Safari, Edge.\n",
       "   - Dispositivos: Desktop, tablet, smartphone.\n",
       "   - Sistema Operacional: Windows, macOS, Linux, Android, iOS.\n",
       "\n",
       "### 7. **Resultados e Observações**\n",
       "   - Os resultados dos testes devem ser documentados, com observações sobre qualquer comportamento inesperado ou falhas encontradas.\n",
       "\n",
       "### 8. **Encerramento**\n",
       "   - O teste será considerado completo quando todos os casos de teste forem executados e todos os erros identificados forem tratados.\n",
       "\n",
       "---\n",
       "\n",
       "**Nota:** Este plano deve ser atualizado conforme necessário com base em feedback de testes anteriores e alterações na aplicação."
      ],
      "text/plain": [
       "<IPython.core.display.Markdown object>"
      ]
     },
     "metadata": {},
     "output_type": "display_data"
    },
    {
     "data": {
      "text/markdown": [
       "----"
      ],
      "text/plain": [
       "<IPython.core.display.Markdown object>"
      ]
     },
     "metadata": {},
     "output_type": "display_data"
    }
   ],
   "source": [
    "prompt = \"\"\"\n",
    "Crie um plano de testes para uma tela de login. \n",
    "Essa tela tem um campo para o nome de usuário, \n",
    "outro campo para a senha e um link com a opção \"lembrar senha\".\n",
    "\"\"\"\n",
    "\n",
    "response = llm.invoke(prompt)\n",
    "\n",
    "display(Markdown(f\"*Resposta:*\"))\n",
    "display(Markdown(f\"----\"))\n",
    "display(Markdown(f\"{response.content}\"))\n",
    "display(Markdown(f\"----\"))"
   ]
  },
  {
   "cell_type": "markdown",
   "id": "1aacd944-ff95-4f78-bba8-84b9a1a16dbd",
   "metadata": {},
   "source": [
    "### Por que este prompt é melhor que o anterior?\n",
    "\n",
    "* **Mais direcionado** do que o anterior, pois define um contexto funcional (tela de login) e os elementos presentes.\n",
    "* **Ainda zero-shot**, pois não há definição de papel (ex: \"aja como um engenheiro de QA\"), nem formatação esperada (ex: lista, tabela), nem foco (ex: testes funcionais, de segurança, de usabilidade).\n",
    "* **Pode gerar uma resposta razoável**, mas com variação de qualidade dependendo do modelo e da interpretação subjetiva."
   ]
  },
  {
   "cell_type": "markdown",
   "id": "a224931d-c86a-441a-a4bf-c11bb016c826",
   "metadata": {},
   "source": [
    "## **PROMPT 03:** Aqui vou fazer um prompt com **propósito especifico** (ainda zero-shot)\n",
    "\n",
    "Aqui vamos nos basear em uma história técnica hipotética (Teste de Funcionalidade)"
   ]
  },
  {
   "cell_type": "code",
   "execution_count": 8,
   "id": "1062c8ee-2f86-4f81-be1e-cd246e36f6c8",
   "metadata": {},
   "outputs": [
    {
     "data": {
      "text/markdown": [
       "*Resposta:*"
      ],
      "text/plain": [
       "<IPython.core.display.Markdown object>"
      ]
     },
     "metadata": {},
     "output_type": "display_data"
    },
    {
     "data": {
      "text/markdown": [
       "----"
      ],
      "text/plain": [
       "<IPython.core.display.Markdown object>"
      ]
     },
     "metadata": {},
     "output_type": "display_data"
    },
    {
     "data": {
      "text/markdown": [
       "Abaixo está um plano de testes para a funcionalidade de login descrita. O plano inclui uma série de casos de teste que abrangem as diferentes regras e cenários de uso da funcionalidade.\n",
       "\n",
       "### Plano de Testes para Funcionalidade de Login\n",
       "\n",
       "#### 1. Identificação dos Testes\n",
       "- **Versão do Sistema:** 1.0\n",
       "- **Módulo:** Autenticação de Usuário\n",
       "- **Data:** [Data Atual]\n",
       "- **Responsável:** [Nome do Testador]\n",
       "\n",
       "#### 2. Objetivo do Teste\n",
       "Testar a funcionalidade de login do sistema, garantindo que todas as regras definidas sejam respeitadas e que a experiência do usuário seja a esperada.\n",
       "\n",
       "#### 3. Casos de Teste\n",
       "\n",
       "| ID do Caso de Teste | Descrição do Teste | Pré-condições | Dados de Teste | Resultado Esperado | Status |\n",
       "|---------------------|---------------------|----------------|-----------------|---------------------|--------|\n",
       "| TC001               | Testar login com e-mail válido | Tela de login apresentada | `usuario@dominio.com` e `Senha@123` | Acesso permitido ao sistema | Pass/Fail |\n",
       "| TC002               | Testar login com e-mail inválido | Tela de login apresentada | `usuario.dominio.com` e `Senha@123` | Mensagem de erro informando que o e-mail é inválido | Pass/Fail |\n",
       "| TC003               | Testar login com senha fora do limite mínimo | Tela de login apresentada | `usuario@dominio.com` e `1234567` | Mensagem de erro informando que a senha deve ter entre 8 e 20 caracteres | Pass/Fail |\n",
       "| TC004               | Testar login com senha fora do limite máximo | Tela de login apresentada | `usuario@dominio.com` e `senha@123456789012345678901` | Mensagem de erro informando que a senha deve ter entre 8 e 20 caracteres | Pass/Fail |\n",
       "| TC005               | Testar login com senha sem letras maiúsculas | Tela de login apresentada | `usuario@dominio.com` e `senha@123` | Mensagem de erro informando que a senha deve conter letras maiúsculas | Pass/Fail |\n",
       "| TC006               | Testar login com senha sem letras minúsculas | Tela de login apresentada | `usuario@dominio.com` e `SENHA@123` | Mensagem de erro informando que a senha deve conter letras minúsculas | Pass/Fail |\n",
       "| TC007               | Testar login com senha sem números | Tela de login apresentada | `usuario@dominio.com` e `Senha@abcd` | Mensagem de erro informando que a senha deve conter números | Pass/Fail |\n",
       "| TC008               | Testar login com senha sem caracteres especiais | Tela de login apresentada | `usuario@dominio.com` e `Senha123` | Mensagem de erro informando que a senha deve conter caracteres especiais | Pass/Fail |\n",
       "| TC009               | Testar login com 3 tentativas incorretas | Tela de login apresentada | `usuario@dominio.com` e `SenhaErrada1`, `SenhaErrada2`, `SenhaErrada3` | Após 3 tentativas, exibir captcha e bloquear a entrada | Pass/Fail |\n",
       "| TC010               | Testar recuperação de senha | Tela de login apresentada | Cliques no link “lembrar senha” | Redirecionar para a tela de recuperação de senha | Pass/Fail |\n",
       "| TC011               | Testar login com campos em branco | Tela de login apresentada | Campos de e-mail e senha em branco | Mensagem de erro informando que os campos não podem estar vazios | Pass/Fail |\n",
       "\n",
       "#### 4. Ambiente de Teste\n",
       "- **Sistema Operacional:** Windows, macOS, Linux\n",
       "- **Navegadores:** Chrome, Firefox, Safari, Edge\n",
       "- **Resolução de Tela:** Variada (desktop e mobile)\n",
       "\n",
       "#### 5. Critérios de Aceitação\n",
       "- Todos os casos de teste devem ser executados com sucesso.\n",
       "- Mensagens de erro devem ser claras e informativas.\n",
       "- A experiência do usuário deve ser fluida e intuitiva.\n",
       "\n",
       "#### 6. Considerações Finais\n",
       "Após a execução dos testes, a equipe de desenvolvimento deve ser informada sobre quaisquer erros ou inconsistências encontradas, permitindo a correção antes da liberação para produção. Recomenda-se uma nova rodada de testes após as correções implementadas.\n",
       "\n",
       "#### 7. Anexos\n",
       "- Diagramas de fluxo de login\n",
       "- Prototipagem da interface do usuário\n",
       "\n",
       "---\n",
       "\n",
       "Esse plano de testes pode ser adaptado conforme necessário, dependendo da especificidade do sistema em questão e das ferramentas de gerenciamento de testes usadas pela equipe. "
      ],
      "text/plain": [
       "<IPython.core.display.Markdown object>"
      ]
     },
     "metadata": {},
     "output_type": "display_data"
    },
    {
     "data": {
      "text/markdown": [
       "----"
      ],
      "text/plain": [
       "<IPython.core.display.Markdown object>"
      ]
     },
     "metadata": {},
     "output_type": "display_data"
    }
   ],
   "source": [
    "prompt = \"\"\"\n",
    "Crie um plano de testes para uma funcionalidade de login que deve seguir as seguintes regras:\n",
    "\n",
    "* O campo de nome de usuário deve aceitar apenas e-mails válidos.\n",
    "* A senha deve ter entre 8 e 20 caracteres, contendo letras maiúsculas, minúsculas, números e caracteres especiais.\n",
    "* O sistema deve permitir no máximo 3 tentativas de login. Após isso, um captcha deve ser exibido.\n",
    "* O link \"lembrar senha\" deve levar o usuário para a tela correspondente.\n",
    "\"\"\"\n",
    "\n",
    "response = llm.invoke(prompt)\n",
    "\n",
    "display(Markdown(f\"*Resposta:*\"))\n",
    "display(Markdown(f\"----\"))\n",
    "display(Markdown(f\"{response.content}\"))\n",
    "display(Markdown(f\"----\"))"
   ]
  },
  {
   "cell_type": "markdown",
   "id": "6cf3168d-ff58-4dd7-bcd1-eea1485fd680",
   "metadata": {},
   "source": [
    "### Por que este prompt é melhor que o anterior?\n",
    "\n",
    "* **Propósito claro**: gerar testes com base em requisitos funcionais.\n",
    "* **História técnica bem definida**: ajuda o modelo a focar em cenários específicos.\n",
    "* **Ainda zero-shot**: não orienta o papel (\"aja como...\"), o tipo de teste (funcional, caixa preta, unitário), nem o formato (lista, Gherkin, tabela etc.).\n",
    "* Pode gerar uma resposta melhor que o zero-shot genérico, mas ainda com variações de completude e forma."
   ]
  }
 ],
 "metadata": {
  "kernelspec": {
   "display_name": "Python 3 (ipykernel)",
   "language": "python",
   "name": "python3"
  },
  "language_info": {
   "codemirror_mode": {
    "name": "ipython",
    "version": 3
   },
   "file_extension": ".py",
   "mimetype": "text/x-python",
   "name": "python",
   "nbconvert_exporter": "python",
   "pygments_lexer": "ipython3",
   "version": "3.11.9"
  }
 },
 "nbformat": 4,
 "nbformat_minor": 5
}
