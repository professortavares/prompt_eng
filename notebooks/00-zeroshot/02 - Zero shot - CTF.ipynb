{
 "cells": [
  {
   "cell_type": "markdown",
   "id": "c7ea3230-a9bf-4eb7-8315-5655d1b33088",
   "metadata": {},
   "source": [
    "# ZERO SHOT - CTF\n",
    "\n",
    "RTF significa:\n",
    "\n",
    "* **Context (Contexto)** – Fornece informações relevantes sobre o cenário, o domínio ou o problema.\n",
    "* **Task (Tarefa)** – define o que o modelo deve fazer (ex: gerar plano de teste, criar casos, revisar código).\n",
    "* **Format (Formato)** – define como o resultado deve ser apresentado (ex: lista, tabela, em linguagem Gherkin, texto estruturado).\n",
    "\n",
    "Foco no **Papel** de quem está executando a ação.\n",
    "\n",
    "A técnica de prompt CTF (Context, Task, Format) é especialmente vantajosa por fornecer ao modelo uma base sólida de entendimento antes mesmo da execução da tarefa. "
   ]
  },
  {
   "cell_type": "code",
   "execution_count": 1,
   "id": "2bec1d33-8863-45f2-abe8-8cb1f1ad0c5a",
   "metadata": {},
   "outputs": [],
   "source": [
    "# Imports necessários\n",
    "from langchain_ollama import ChatOllama\n",
    "from IPython.display import display, Markdown"
   ]
  },
  {
   "cell_type": "code",
   "execution_count": 2,
   "id": "5c6d84b6-bfe6-40b0-8e5e-8fa9992853b5",
   "metadata": {},
   "outputs": [],
   "source": [
    "llm = ChatOllama(model=\"llama3.2\")"
   ]
  },
  {
   "cell_type": "markdown",
   "id": "15d0119c-353f-4134-a5da-61f4220682b2",
   "metadata": {},
   "source": [
    "## Aqui vou usar apenas zero shot com a definição do contexto (Context) e tarefa (Task)"
   ]
  },
  {
   "cell_type": "code",
   "execution_count": 3,
   "id": "c3adb196-4f52-494a-b50f-b05167db6f2d",
   "metadata": {},
   "outputs": [
    {
     "data": {
      "text/markdown": [
       "*Prompt:*"
      ],
      "text/plain": [
       "<IPython.core.display.Markdown object>"
      ]
     },
     "metadata": {},
     "output_type": "display_data"
    },
    {
     "data": {
      "text/markdown": [
       "----"
      ],
      "text/plain": [
       "<IPython.core.display.Markdown object>"
      ]
     },
     "metadata": {},
     "output_type": "display_data"
    },
    {
     "data": {
      "text/markdown": [
       "\n",
       "Você está atuando em um projeto de **qualidade de software** para uma \n",
       "aplicação que possui uma tela de login. A equipe de desenvolvimento \n",
       "entregou uma nova funcionalidade de autenticação que deve seguir os \n",
       "seguintes critérios:\n",
       "\n",
       "* O campo de nome de usuário deve aceitar apenas e-mails válidos.\n",
       "* A senha deve ter entre 8 e 20 caracteres, contendo letras maiúsculas, minúsculas, números e caracteres especiais.\n",
       "* O sistema deve permitir no máximo 3 tentativas de login. Após isso, um captcha deve ser exibido.\n",
       "* O link \"lembrar senha\" deve levar o usuário para a tela correspondente.\n",
       "\n",
       "Elabore um plano de testes com base nessas regras, assegurando que todos os comportamentos esperados \n",
       "sejam devidamente validados.\n"
      ],
      "text/plain": [
       "<IPython.core.display.Markdown object>"
      ]
     },
     "metadata": {},
     "output_type": "display_data"
    },
    {
     "data": {
      "text/markdown": [
       "----"
      ],
      "text/plain": [
       "<IPython.core.display.Markdown object>"
      ]
     },
     "metadata": {},
     "output_type": "display_data"
    },
    {
     "data": {
      "text/markdown": [
       "*Resposta:*"
      ],
      "text/plain": [
       "<IPython.core.display.Markdown object>"
      ]
     },
     "metadata": {},
     "output_type": "display_data"
    },
    {
     "data": {
      "text/markdown": [
       "----"
      ],
      "text/plain": [
       "<IPython.core.display.Markdown object>"
      ]
     },
     "metadata": {},
     "output_type": "display_data"
    },
    {
     "data": {
      "text/markdown": [
       "**Plano de Testes para Funcionalidade de Autenticação**\n",
       "\n",
       "**Objetivo:** Valificar a funcionalidade de autenticação da aplicação, garantindo que atende aos critérios estabelecidos.\n",
       "\n",
       "**Testes de Aceitação:**\n",
       "\n",
       "1. **Teste 1 - Válido e-mail**\n",
       " * Descrição: Verificar se o campo de nome de usuário aceita apenas e-mails válidos.\n",
       " * Teste:\n",
       "\t+ Inserir um e-mail válido no campo de nome de usuário.\n",
       "\t+ Submeter a requisição de login.\n",
       "\t+ Verificar que o sistema devolva uma resposta de sucesso (sem erros).\n",
       "2. **Teste 2 - Senha com critérios mínimos**\n",
       " * Descrição: Verificar se a senha tem pelo menos 8 caracteres e contém letras maiúsculas, minúsculas, números e caracteres especiais.\n",
       " * Teste:\n",
       "\t+ Inserir uma senha com 7 caracteres ou menos no campo de senha.\n",
       "\t+ Submeter a requisição de login.\n",
       "\t+ Verificar que o sistema devolva uma resposta de falha (com erros).\n",
       "3. **Teste 3 - Senha com critérios máximos**\n",
       " * Descrição: Verificar se a senha tem no máximo 20 caracteres e contém todas as características necessárias.\n",
       " * Teste:\n",
       "\t+ Inserir uma senha com mais de 20 caracteres no campo de senha.\n",
       "\t+ Submeter a requisição de login.\n",
       "\t+ Verificar que o sistema devolva uma resposta de falha (com erros).\n",
       "4. **Teste 4 - Senha com características específicas**\n",
       " * Descrição: Verificar se a senha contém todas as características necessárias (letras maiúsculas, minúsculas, números e caracteres especiais).\n",
       " * Teste:\n",
       "\t+ Inserir uma senha sem letras maiúsculas no campo de senha.\n",
       "\t+ Submeter a requisição de login.\n",
       "\t+ Verificar que o sistema devolva uma resposta de falha (com erros).\n",
       "\n",
       "**Testes de Tolerância:**\n",
       "\n",
       "1. **Teste 5 - Limite de tentativas**\n",
       " * Descrição: Verificar se o sistema exibe um captcha após a quarta tentativa de login inadescritiva.\n",
       " * Teste:\n",
       "\t+ Inserir uma senha inválida no campo de senha (4 vezes).\n",
       "\t+ Submeter a requisição de login após cada tentativa.\n",
       "\t+ Verificar que o sistema devolva uma resposta de falha (com erros) e exiba um captcha após a quarta tentativa.\n",
       "2. **Teste 6 - Link \"Lembrar Senha\"**\n",
       " * Descrição: Verificar se o link \"Lembrar Senha\" leva o usuário para a tela correspondente.\n",
       " * Teste:\n",
       " + Inserir uma senha inválida no campo de senha.\n",
       " + Clicar no link \"Lembrar Senha\".\n",
       " + Verificar que o sistema redirecione o usuário para a tela de login novamente.\n",
       "\n",
       "**Testes de Performance:**\n",
       "\n",
       "1. **Teste 7 - Tempo de resposta**\n",
       " * Descrição: Verificar se o sistema responde dentro do tempo esperado após uma tentativa de login.\n",
       " * Teste:\n",
       " + Inserir uma senha inválida no campo de senha.\n",
       " + Submeter a requisição de login.\n",
       " + Medir o tempo de resposta do sistema.\n",
       "\n",
       "**Testes de Segurança:**\n",
       "\n",
       "1. **Teste 8 - Autenticação com senhas**\n",
       " * Descrição: Verificar se o sistema valida as senhas de forma segura e confiável.\n",
       " * Teste:\n",
       " + Inserir uma senha inválida no campo de senha.\n",
       " + Submeter a requisição de login.\n",
       " + Verificar que o sistema devolva uma resposta de falha (com erros).\n",
       "\n",
       "**Testes de Usabilidade:**\n",
       "\n",
       "1. **Teste 9 - Interface do usuário**\n",
       " * Descrição: Verificar se a interface do usuário é intuitiva e fácil de usar para os usuários.\n",
       " * Teste:\n",
       " + Inserir um nome de usuário e senha no campo de login.\n",
       " + Submeter a requisição de login.\n",
       " + Verificar que o sistema exiba uma mensagem de sucesso ou falha.\n",
       "\n",
       "**Testes de Conformidade:**\n",
       "\n",
       "1. **Teste 10 - Conformidade com padrões**\n",
       " * Descrição: Verificar se o sistema atende aos padrões de segurança e conformidade estabelecidos.\n",
       " * Teste:\n",
       " + Verificar que o sistema utiliza protocolos de segurança adequados (HTTPS, SSL).\n",
       " + Verificar que o sistema armazena senhas de forma segura e confiável.\n",
       "\n",
       "**Plano de Execução:**\n",
       "\n",
       "* Realizar os testes descritos acima em um ambiente controlado.\n",
       "* Documentar os resultados dos testes e criar um relatório detalhado.\n",
       "* Revisar e aprimorar o plano de testes com base nos resultados dos testes."
      ],
      "text/plain": [
       "<IPython.core.display.Markdown object>"
      ]
     },
     "metadata": {},
     "output_type": "display_data"
    },
    {
     "data": {
      "text/markdown": [
       "----"
      ],
      "text/plain": [
       "<IPython.core.display.Markdown object>"
      ]
     },
     "metadata": {},
     "output_type": "display_data"
    }
   ],
   "source": [
    "prompt = \"\"\"\n",
    "Você está atuando em um projeto de **qualidade de software** para uma \n",
    "aplicação que possui uma tela de login. A equipe de desenvolvimento \n",
    "entregou uma nova funcionalidade de autenticação que deve seguir os \n",
    "seguintes critérios:\n",
    "\n",
    "* O campo de nome de usuário deve aceitar apenas e-mails válidos.\n",
    "* A senha deve ter entre 8 e 20 caracteres, contendo letras maiúsculas, minúsculas, números e caracteres especiais.\n",
    "* O sistema deve permitir no máximo 3 tentativas de login. Após isso, um captcha deve ser exibido.\n",
    "* O link \"lembrar senha\" deve levar o usuário para a tela correspondente.\n",
    "\n",
    "Elabore um plano de testes com base nessas regras, assegurando que todos os comportamentos esperados \n",
    "sejam devidamente validados.\n",
    "\"\"\"\n",
    "\n",
    "display(Markdown(f\"*Prompt:*\"))\n",
    "display(Markdown(f\"----\"))\n",
    "display(Markdown(f\"{prompt}\"))\n",
    "display(Markdown(f\"----\"))\n",
    "\n",
    "response = llm.invoke(prompt)\n",
    "\n",
    "display(Markdown(f\"*Resposta:*\"))\n",
    "display(Markdown(f\"----\"))\n",
    "display(Markdown(f\"{response.content}\"))\n",
    "display(Markdown(f\"----\"))"
   ]
  },
  {
   "cell_type": "markdown",
   "id": "610c845a-6e04-40f2-b3b1-f1332b40b0c7",
   "metadata": {},
   "source": [
    "## Aqui vou usar apenas zero shot com a definição do contexto (Context), tarefa (Task) e formato (Format)\n",
    "\n",
    "- Aqui vamos introduzir o **formato Gherkin (Given–When–Then)**"
   ]
  },
  {
   "cell_type": "code",
   "execution_count": 4,
   "id": "73a23023-96a4-43d4-bdb1-6fbac93b5642",
   "metadata": {},
   "outputs": [
    {
     "data": {
      "text/markdown": [
       "*Prompt:*"
      ],
      "text/plain": [
       "<IPython.core.display.Markdown object>"
      ]
     },
     "metadata": {},
     "output_type": "display_data"
    },
    {
     "data": {
      "text/markdown": [
       "----"
      ],
      "text/plain": [
       "<IPython.core.display.Markdown object>"
      ]
     },
     "metadata": {},
     "output_type": "display_data"
    },
    {
     "data": {
      "text/markdown": [
       "\n",
       "Você está atuando em um projeto de **qualidade de software** para uma \n",
       "aplicação que possui uma tela de login. A equipe de desenvolvimento \n",
       "entregou uma nova funcionalidade de autenticação que deve seguir os \n",
       "seguintes critérios:\n",
       "\n",
       "* O campo de nome de usuário deve aceitar apenas e-mails válidos.\n",
       "* A senha deve ter entre 8 e 20 caracteres, contendo letras maiúsculas, minúsculas, números e caracteres especiais.\n",
       "* O sistema deve permitir no máximo 3 tentativas de login. Após isso, um captcha deve ser exibido.\n",
       "* O link \"lembrar senha\" deve levar o usuário para a tela correspondente.\n",
       "\n",
       "Apresente os testes no **formato Gherkin (Given–When–Then)**, utilizando cenários claros e \n",
       "objetivos que validem cada uma das regras descritas.\n",
       "\n",
       "Elabore um plano de testes com base nessas regras, assegurando que todos os comportamentos \n",
       "esperados sejam devidamente validados.\n",
       "\n",
       "Siga **rigorosamente** o seguinte formato:\n",
       "\n",
       "```\n",
       "Teste n: Título do teste\n",
       "Cenário: Resumo do cenário testado\n",
       "\n",
       "Dado: uma determinada condição\n",
       "Quando: uma determinada ação \n",
       "Então: resultado esperado\n",
       "```\n"
      ],
      "text/plain": [
       "<IPython.core.display.Markdown object>"
      ]
     },
     "metadata": {},
     "output_type": "display_data"
    },
    {
     "data": {
      "text/markdown": [
       "----"
      ],
      "text/plain": [
       "<IPython.core.display.Markdown object>"
      ]
     },
     "metadata": {},
     "output_type": "display_data"
    },
    {
     "data": {
      "text/markdown": [
       "*Resposta:*"
      ],
      "text/plain": [
       "<IPython.core.display.Markdown object>"
      ]
     },
     "metadata": {},
     "output_type": "display_data"
    },
    {
     "data": {
      "text/markdown": [
       "----"
      ],
      "text/plain": [
       "<IPython.core.display.Markdown object>"
      ]
     },
     "metadata": {},
     "output_type": "display_data"
    },
    {
     "data": {
      "text/markdown": [
       "**Plano de Testes para Autenticação**\n",
       "\n",
       "**Teste 1: Validação do Campo de Nome de Usuário (E-mail Válido)**\n",
       "\n",
       "Cenário: Testar a validação do campo de nome de usuário com e-mail válido.\n",
       "\n",
       "Dado: O campo de nome de usuário está preenchido com um e-mail válido.\n",
       "Quando: Submeto o formulário de login com o campo de nome de usuário.\n",
       "Então: O sistema não exibe erro e permite que eu insira a senha.\n",
       "\n",
       "**Teste 2: Validação da Senha (Mínimo e Máximo de Caracteres)**\n",
       "\n",
       "Cenário: Testar a validação da senha com mínimo e máximo de caracteres permitidos.\n",
       "\n",
       "Dado: A senha está preenchida com entre 8 e 20 caracteres.\n",
       "Quando: Submeto o formulário de login com a senha.\n",
       "Então: O sistema não exibe erro e permite que eu insira o nome de usuário.\n",
       "\n",
       "**Teste 3: Validação da Senha (Caracteres Especiais)**\n",
       "\n",
       "Cenário: Testar a validação da senha com caracteres especiais permitidos.\n",
       "\n",
       "Dado: A senha está preenchida com letras maiúsculas, minúsculas, números e caracteres especiais.\n",
       "Quando: Submeto o formulário de login com a senha.\n",
       "Então: O sistema não exibe erro e permite que eu insira o nome de usuário.\n",
       "\n",
       "**Teste 4: Limitação do Número de Tentativas de Login**\n",
       "\n",
       "Cenário: Testar a limitação do número de tentativas de login.\n",
       "\n",
       "Dado: Eu tentei logar com 3 tentativas inválidas.\n",
       "Quando: Eu submeto o formulário de login pela quarta vez.\n",
       "Então: O sistema exibe um captcha e permite que eu insira novamente a senha.\n",
       "\n",
       "**Teste 5: Funcionalidade do Link \"Lembrar Senha\"**\n",
       "\n",
       "Cenário: Testar a funcionalidade do link \"Lembrar Senha\".\n",
       "\n",
       "Dado: Eu estou logado com uma conta válida.\n",
       "Quando: Eu clique no link \"Lembrar Senha\".\n",
       "Então: O sistema redireciona-me para a tela de lembrete de senha.\n",
       "\n",
       "**Teste 6: Validação do Campo de Nome de Usuário (E-mail Inválido)**\n",
       "\n",
       "Cenário: Testar a validação do campo de nome de usuário com e-mail inválido.\n",
       "\n",
       "Dado: O campo de nome de usuário está preenchido com um e-mail inválido.\n",
       "Quando: Submeto o formulário de login com o campo de nome de usuário.\n",
       "Então: O sistema exibe erro e não permite que eu insira a senha.\n",
       "\n",
       "**Teste 7: Validação da Senha (Senha Vazia)**\n",
       "\n",
       "Cenário: Testar a validação da senha vazia.\n",
       "\n",
       "Dado: A senha está preenchida com valor vazio.\n",
       "Quando: Submeto o formulário de login com a senha vazia.\n",
       "Então: O sistema exibe erro e não permite que eu insira o nome de usuário.\n",
       "\n",
       "**Teste 8: Validação da Senha (Senha Com Letras Maiúsculas, Minúsculas, Números e Caracteres Especiais)**\n",
       "\n",
       "Cenário: Testar a validação da senha com letras maiúsculas, minúsculas, números e caracteres especiais permitidos.\n",
       "\n",
       "Dado: A senha está preenchida com letras maiúsculas, minúsculas, números e caracteres especiais.\n",
       "Quando: Submeto o formulário de login com a senha.\n",
       "Então: O sistema não exibe erro e permite que eu insira o nome de usuário.\n",
       "\n",
       "Esses testes devem ser realizados em diferentes cenários para garantir que todos os comportamentos esperados sejam devidamente validados. Além disso, é importante realizar testes regressivos após cada atualização do código para garantir a compatibilidade e a funcionalidade correta da aplicação."
      ],
      "text/plain": [
       "<IPython.core.display.Markdown object>"
      ]
     },
     "metadata": {},
     "output_type": "display_data"
    },
    {
     "data": {
      "text/markdown": [
       "----"
      ],
      "text/plain": [
       "<IPython.core.display.Markdown object>"
      ]
     },
     "metadata": {},
     "output_type": "display_data"
    }
   ],
   "source": [
    "prompt = \"\"\"\n",
    "Você está atuando em um projeto de **qualidade de software** para uma \n",
    "aplicação que possui uma tela de login. A equipe de desenvolvimento \n",
    "entregou uma nova funcionalidade de autenticação que deve seguir os \n",
    "seguintes critérios:\n",
    "\n",
    "* O campo de nome de usuário deve aceitar apenas e-mails válidos.\n",
    "* A senha deve ter entre 8 e 20 caracteres, contendo letras maiúsculas, minúsculas, números e caracteres especiais.\n",
    "* O sistema deve permitir no máximo 3 tentativas de login. Após isso, um captcha deve ser exibido.\n",
    "* O link \"lembrar senha\" deve levar o usuário para a tela correspondente.\n",
    "\n",
    "Apresente os testes no **formato Gherkin (Given–When–Then)**, utilizando cenários claros e \n",
    "objetivos que validem cada uma das regras descritas.\n",
    "\n",
    "Elabore um plano de testes com base nessas regras, assegurando que todos os comportamentos \n",
    "esperados sejam devidamente validados.\n",
    "\n",
    "Siga **rigorosamente** o seguinte formato:\n",
    "\n",
    "```\n",
    "Teste n: Título do teste\n",
    "Cenário: Resumo do cenário testado\n",
    "\n",
    "Dado: uma determinada condição\n",
    "Quando: uma determinada ação \n",
    "Então: resultado esperado\n",
    "```\n",
    "\"\"\"\n",
    "\n",
    "display(Markdown(f\"*Prompt:*\"))\n",
    "display(Markdown(f\"----\"))\n",
    "display(Markdown(f\"{prompt}\"))\n",
    "display(Markdown(f\"----\"))\n",
    "\n",
    "response = llm.invoke(prompt)\n",
    "\n",
    "display(Markdown(f\"*Resposta:*\"))\n",
    "display(Markdown(f\"----\"))\n",
    "display(Markdown(f\"{response.content}\"))\n",
    "display(Markdown(f\"----\"))"
   ]
  },
  {
   "cell_type": "markdown",
   "id": "1208adef-8138-489f-b372-d5bd15bf0568",
   "metadata": {},
   "source": [
    "## Aqui vou usar apenas zero shot com a definição do papel (Role), tarefa (Task) e formato (Format)\n",
    "\n",
    "- Aqui vamos utilizar o formato de *checklist*"
   ]
  },
  {
   "cell_type": "code",
   "execution_count": 5,
   "id": "e95bb3d9-c6a5-4fb5-9aa3-9848687eccb0",
   "metadata": {},
   "outputs": [
    {
     "data": {
      "text/markdown": [
       "*Prompt:*"
      ],
      "text/plain": [
       "<IPython.core.display.Markdown object>"
      ]
     },
     "metadata": {},
     "output_type": "display_data"
    },
    {
     "data": {
      "text/markdown": [
       "----"
      ],
      "text/plain": [
       "<IPython.core.display.Markdown object>"
      ]
     },
     "metadata": {},
     "output_type": "display_data"
    },
    {
     "data": {
      "text/markdown": [
       "\n",
       "Você está atuando em um projeto de **qualidade de software** para uma \n",
       "aplicação que possui uma tela de login. A equipe de desenvolvimento \n",
       "entregou uma nova funcionalidade de autenticação que deve seguir os \n",
       "seguintes critérios:\n",
       "\n",
       "* O campo de nome de usuário deve aceitar apenas e-mails válidos.\n",
       "* A senha deve ter entre 8 e 20 caracteres, contendo letras maiúsculas, minúsculas, números e caracteres especiais.\n",
       "* O sistema deve permitir no máximo 3 tentativas de login. Após isso, um captcha deve ser exibido.\n",
       "* O link \"lembrar senha\" deve levar o usuário para a tela correspondente.\n",
       "\n",
       "Elabore um plano de testes com base nessas regras, assegurando que todos os comportamentos esperados \n",
       "sejam devidamente validados.\n",
       "\n",
       "Siga **rigorosamente** de checklist:\n",
       "\n",
       "```\n",
       "Teste n: \n",
       "\n",
       "[ ] Item 1\n",
       "[ ] Item 2\n",
       "[ ] Item 3\n",
       "[ ] ...\n",
       "[ ] Item n\n",
       "```\n"
      ],
      "text/plain": [
       "<IPython.core.display.Markdown object>"
      ]
     },
     "metadata": {},
     "output_type": "display_data"
    },
    {
     "data": {
      "text/markdown": [
       "----"
      ],
      "text/plain": [
       "<IPython.core.display.Markdown object>"
      ]
     },
     "metadata": {},
     "output_type": "display_data"
    },
    {
     "data": {
      "text/markdown": [
       "*Resposta:*"
      ],
      "text/plain": [
       "<IPython.core.display.Markdown object>"
      ]
     },
     "metadata": {},
     "output_type": "display_data"
    },
    {
     "data": {
      "text/markdown": [
       "----"
      ],
      "text/plain": [
       "<IPython.core.display.Markdown object>"
      ]
     },
     "metadata": {},
     "output_type": "display_data"
    },
    {
     "data": {
      "text/markdown": [
       "**Plano de Testes para Funcionalidade de Autenticação**\n",
       "\n",
       "**Teste 1: Validação do Campo de Nome de Usuário (Email)**\n",
       "\n",
       "* **Descrição:** Verificar se o campo de nome de usuário aceita apenas e-mails válidos.\n",
       "* **Critérios:**\n",
       " + O campo deve exibir uma lista de sugestões de e-mails válidos após digitar o endereço.\n",
       " + O sistema deve rejeitar e-mails inválidos ou não existentes.\n",
       "* **Testes:**\n",
       " + Inserir um endereço de e-mail válido e verificar se a lista de sugestões é exibida corretamente.\n",
       " + Inserir um endereço de e-mail inválido e verificar se o sistema o rejeita.\n",
       "\t- **Próximo:** Testar com outros casos de e-mails válidos e inválidos.\n",
       "\n",
       "**Teste 2: Validação da Senha**\n",
       "\n",
       "* **Descrição:** Verificar se a senha tem entre 8 e 20 caracteres, contendo letras maiúsculas, minúsculas, números e caracteres especiais.\n",
       "* **Critérios:**\n",
       " + A senha deve ter ao menos 8 caracteres e ao máximo 20 caracteres.\n",
       " + A senha deve conter pelo menos uma letra maiúscula e uma letra minúscula.\n",
       " + A senha deve conter pelo menos um número e um caractere especial.\n",
       "* **Testes:**\n",
       " + Inserir uma senha com menos de 8 caracteres e verificar se o sistema a aceita.\n",
       " + Inserir uma senha com mais de 20 caracteres e verificar se o sistema a aceita.\n",
       "\t- **Próximo:** Testar com outras combinações de características.\n",
       "\n",
       "**Teste 3: Limitação de Tentativas**\n",
       "\n",
       "* **Descrição:** Verificar se o sistema permite no máximo 3 tentativas de login e exibe um captcha após isso.\n",
       "* **Critérios:**\n",
       " + O sistema deve permitir 3 tentativas de login sem exibir um captcha.\n",
       " + Após a terceira tentativa, o sistema deve exibir um captcha.\n",
       "* **Testes:**\n",
       " + Realizar 3 tentativas de login com senhas válidas e verificar se o sistema as aceita corretamente.\n",
       "\t+ **Próximo:** Testar com mais tentativas para garantir que o sistema não permita mais do que 3 tentativas.\n",
       "\n",
       "**Teste 4: Função \"Lembrar Senha\"**\n",
       "\n",
       "* **Descrição:** Verificar se a função \"Lembrar Senha\" leva o usuário para a tela correspondente.\n",
       "* **Critérios:**\n",
       " + A função \"Lembrar Senha\" deve realizar uma troca segura de senhas com o servidor.\n",
       "\t- **Próximo:** Testar a função \"Lembrar Senha\" em diferentes cenários.\n",
       "\n",
       "**Teste 5: Exibição do Captcha**\n",
       "\n",
       "* **Descrição:** Verificar se o sistema exibe corretamente o captcha após o limite de tentativas.\n",
       "* **Critérios:**\n",
       " + O sistema deve exibir um captcha após a terceira tentativa de login.\n",
       "\t- **Próximo:** Testar a resposta ao captcha.\n",
       "\n",
       "** Checklist Completo:**\n",
       "\n",
       "Teste 1: [ ] Validação do Campo de Nome de Usuário (Email)\n",
       "Teste 2: [ ] Validação da Senha\n",
       "Teste 3: [ ] Limitação de Tentativas\n",
       "Teste 4: [ ] Função \"Lembrar Senha\"\n",
       "Teste 5: [ ] Exibição do Captcha"
      ],
      "text/plain": [
       "<IPython.core.display.Markdown object>"
      ]
     },
     "metadata": {},
     "output_type": "display_data"
    },
    {
     "data": {
      "text/markdown": [
       "----"
      ],
      "text/plain": [
       "<IPython.core.display.Markdown object>"
      ]
     },
     "metadata": {},
     "output_type": "display_data"
    }
   ],
   "source": [
    "prompt = \"\"\"\n",
    "Você está atuando em um projeto de **qualidade de software** para uma \n",
    "aplicação que possui uma tela de login. A equipe de desenvolvimento \n",
    "entregou uma nova funcionalidade de autenticação que deve seguir os \n",
    "seguintes critérios:\n",
    "\n",
    "* O campo de nome de usuário deve aceitar apenas e-mails válidos.\n",
    "* A senha deve ter entre 8 e 20 caracteres, contendo letras maiúsculas, minúsculas, números e caracteres especiais.\n",
    "* O sistema deve permitir no máximo 3 tentativas de login. Após isso, um captcha deve ser exibido.\n",
    "* O link \"lembrar senha\" deve levar o usuário para a tela correspondente.\n",
    "\n",
    "Elabore um plano de testes com base nessas regras, assegurando que todos os comportamentos esperados \n",
    "sejam devidamente validados.\n",
    "\n",
    "Siga **rigorosamente** de checklist:\n",
    "\n",
    "```\n",
    "Teste n: \n",
    "\n",
    "[ ] Item 1\n",
    "[ ] Item 2\n",
    "[ ] Item 3\n",
    "[ ] ...\n",
    "[ ] Item n\n",
    "```\n",
    "\"\"\"\n",
    "\n",
    "display(Markdown(f\"*Prompt:*\"))\n",
    "display(Markdown(f\"----\"))\n",
    "display(Markdown(f\"{prompt}\"))\n",
    "display(Markdown(f\"----\"))\n",
    "\n",
    "response = llm.invoke(prompt)\n",
    "\n",
    "display(Markdown(f\"*Resposta:*\"))\n",
    "display(Markdown(f\"----\"))\n",
    "display(Markdown(f\"{response.content}\"))\n",
    "display(Markdown(f\"----\"))"
   ]
  },
  {
   "cell_type": "code",
   "execution_count": null,
   "id": "16932eef-37ab-47c2-a5a9-c4a46014bc2d",
   "metadata": {},
   "outputs": [],
   "source": []
  },
  {
   "cell_type": "code",
   "execution_count": null,
   "id": "8afcabac-af23-476f-a990-2eeaa7890d0c",
   "metadata": {},
   "outputs": [],
   "source": []
  }
 ],
 "metadata": {
  "kernelspec": {
   "display_name": "Python 3 (ipykernel)",
   "language": "python",
   "name": "python3"
  },
  "language_info": {
   "codemirror_mode": {
    "name": "ipython",
    "version": 3
   },
   "file_extension": ".py",
   "mimetype": "text/x-python",
   "name": "python",
   "nbconvert_exporter": "python",
   "pygments_lexer": "ipython3",
   "version": "3.11.9"
  }
 },
 "nbformat": 4,
 "nbformat_minor": 5
}
