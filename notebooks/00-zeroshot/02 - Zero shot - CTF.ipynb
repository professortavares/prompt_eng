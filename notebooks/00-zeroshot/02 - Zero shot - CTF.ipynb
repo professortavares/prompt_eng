{
 "cells": [
  {
   "cell_type": "markdown",
   "id": "c7ea3230-a9bf-4eb7-8315-5655d1b33088",
   "metadata": {},
   "source": [
    "# ZERO SHOT - CTF\n",
    "\n",
    "RTF significa:\n",
    "\n",
    "* **Context (Contexto)** – Fornece informações relevantes sobre o cenário, o domínio ou o problema.\n",
    "* **Task (Tarefa)** – define o que o modelo deve fazer (ex: gerar plano de teste, criar casos, revisar código).\n",
    "* **Format (Formato)** – define como o resultado deve ser apresentado (ex: lista, tabela, em linguagem Gherkin, texto estruturado).\n",
    "\n",
    "Foco no **Contexto** de quem está executando a ação.\n",
    "\n",
    "A técnica de prompt CTF (Context, Task, Format) é especialmente vantajosa por fornecer ao modelo uma base sólida de entendimento antes mesmo da execução da tarefa. "
   ]
  },
  {
   "cell_type": "code",
   "execution_count": 1,
   "id": "2bec1d33-8863-45f2-abe8-8cb1f1ad0c5a",
   "metadata": {},
   "outputs": [],
   "source": [
    "# Imports necessários\n",
    "from langchain_openai import ChatOpenAI\n",
    "from IPython.display import display, Markdown\n",
    "from pathlib import Path\n",
    "import os\n",
    "from dotenv import load_dotenv"
   ]
  },
  {
   "cell_type": "code",
   "execution_count": 2,
   "id": "879518ba-002e-4750-b6ad-e05188a368dc",
   "metadata": {},
   "outputs": [
    {
     "data": {
      "text/plain": [
       "True"
      ]
     },
     "execution_count": 2,
     "metadata": {},
     "output_type": "execute_result"
    }
   ],
   "source": [
    "dotenv_path = Path(\"../.env\")\n",
    "load_dotenv(dotenv_path=dotenv_path)"
   ]
  },
  {
   "cell_type": "code",
   "execution_count": 3,
   "id": "5c6d84b6-bfe6-40b0-8e5e-8fa9992853b5",
   "metadata": {},
   "outputs": [],
   "source": [
    "os.environ[\"OPENAI_API_KEY\"] = os.getenv(\"OPENAI_API_KEY\")\n",
    "llm = ChatOpenAI(model=\"gpt-4o-mini\")"
   ]
  },
  {
   "cell_type": "markdown",
   "id": "15d0119c-353f-4134-a5da-61f4220682b2",
   "metadata": {},
   "source": [
    "## Aqui vou usar apenas zero shot com a definição do contexto (Context) e tarefa (Task)"
   ]
  },
  {
   "cell_type": "code",
   "execution_count": 4,
   "id": "c3adb196-4f52-494a-b50f-b05167db6f2d",
   "metadata": {},
   "outputs": [
    {
     "data": {
      "text/markdown": [
       "*Prompt:*"
      ],
      "text/plain": [
       "<IPython.core.display.Markdown object>"
      ]
     },
     "metadata": {},
     "output_type": "display_data"
    },
    {
     "data": {
      "text/markdown": [
       "----"
      ],
      "text/plain": [
       "<IPython.core.display.Markdown object>"
      ]
     },
     "metadata": {},
     "output_type": "display_data"
    },
    {
     "data": {
      "text/markdown": [
       "\n",
       "Você está atuando em um projeto de **qualidade de software** para uma \n",
       "aplicação que possui uma tela de login. A equipe de desenvolvimento \n",
       "entregou uma nova funcionalidade de autenticação que deve seguir os \n",
       "seguintes critérios:\n",
       "\n",
       "* O campo de nome de usuário deve aceitar apenas e-mails válidos.\n",
       "* A senha deve ter entre 8 e 20 caracteres, contendo letras maiúsculas, minúsculas, números e caracteres especiais.\n",
       "* O sistema deve permitir no máximo 3 tentativas de login. Após isso, um captcha deve ser exibido.\n",
       "* O link \"lembrar senha\" deve levar o usuário para a tela correspondente.\n",
       "\n",
       "Elabore um plano de testes com base nessas regras, assegurando que todos os comportamentos esperados \n",
       "sejam devidamente validados.\n"
      ],
      "text/plain": [
       "<IPython.core.display.Markdown object>"
      ]
     },
     "metadata": {},
     "output_type": "display_data"
    },
    {
     "data": {
      "text/markdown": [
       "----"
      ],
      "text/plain": [
       "<IPython.core.display.Markdown object>"
      ]
     },
     "metadata": {},
     "output_type": "display_data"
    },
    {
     "data": {
      "text/markdown": [
       "*Resposta:*"
      ],
      "text/plain": [
       "<IPython.core.display.Markdown object>"
      ]
     },
     "metadata": {},
     "output_type": "display_data"
    },
    {
     "data": {
      "text/markdown": [
       "----"
      ],
      "text/plain": [
       "<IPython.core.display.Markdown object>"
      ]
     },
     "metadata": {},
     "output_type": "display_data"
    },
    {
     "data": {
      "text/markdown": [
       "**Plano de Testes para Funcionalidade de Autenticação da Tela de Login**\n",
       "\n",
       "**1. Objetivo**\n",
       "Validar o comportamento da funcionalidade de autenticação da tela de login da aplicação, garantindo que todos os critérios apresentados sejam devidamente atendidos.\n",
       "\n",
       "**2. Escopo**\n",
       "Testar os seguintes critérios:\n",
       "- Validação de campos de entrada (nome de usuário e senha)\n",
       "- Limitação de tentativas de login e implementação de captcha\n",
       "- Funcionalidade do link \"lembrar senha\"\n",
       "\n",
       "**3. Metodologia de Teste**\n",
       "Serão realizados testes manuais e automatizados, visando cobrir casos positivos e negativos, conforme os critérios definidos.\n",
       "\n",
       "**4. Casos de Teste**\n",
       "\n",
       "### 4.1. Validação do Campo de Nome de Usuário\n",
       "**CT001 - Verificar aceitação de e-mails válidos**\n",
       "- **Objetivo:** Validar que apenas e-mails válidos são aceitos.\n",
       "- **Entradas:** \n",
       "  - `usuario@dominio.com` (válido)\n",
       "  - `usuario@dominio` (inválido)\n",
       "  - `usuario.com` (inválido)\n",
       "  - `@dominio.com` (inválido)\n",
       "  - `usuario@.com` (inválido)\n",
       "- **Resultado Esperado:** O sistema deve permitir o login apenas para o e-mail válido e exibir mensagem de erro para os inválidos.\n",
       "\n",
       "### 4.2. Validação do Campo de Senha\n",
       "**CT002 - Verificar requisitos da senha**\n",
       "- **Objetivo:** Validar os critérios de composição da senha.\n",
       "- **Entradas:**\n",
       "  - `Senha123!` (válido)\n",
       "  - `senha123` (inválido, sem letra maiúscula)\n",
       "  - `SENHA123` (inválido, sem letra minúscula)\n",
       "  - `Senha123` (inválido, sem caractere especial)\n",
       "  - `12345678` (inválido, sem letras)\n",
       "  - (8 caracteres, apenas letras: `abcdefgH`)\n",
       "  - (21 caracteres: `Senha123!VamosTestar`)\n",
       "- **Resultado Esperado:** O sistema deve aceitar apenas senhas que atendam todos os critérios e apresentar mensagens de erro para as inválidas.\n",
       "\n",
       "### 4.3. Limitação de Tentativas de Login\n",
       "**CT003 - Verificar limite de tentativas de login**\n",
       "- **Objetivo:** Validar o comportamento após tentativas de login falhadas.\n",
       "- **Entradas:**\n",
       "  - Tentar login 3 vezes com credenciais inválidas.\n",
       "- **Resultado Esperado:** Após a 3ª tentativa, o sistema deve apresentar um captcha e bloquear a tentativa de login até que o captcha seja resolvido.\n",
       "\n",
       "### 4.4. Funcionalidade do Link \"Lembrar Senha\"\n",
       "**CT004 - Verificar funcionalidade do link \"lembrar senha\"**\n",
       "- **Objetivo:** Validar que o link \"lembrar senha\" direciona para a tela correta.\n",
       "- **Entradas:**\n",
       "  - Clique no link \"lembrar senha\".\n",
       "- **Resultado Esperado:** O sistema deve redirecionar para a tela de recuperação de senha.\n",
       "\n",
       "### 4.5. Testes de Usabilidade e Interface\n",
       "**CT005 - Verificar mensagens de erro e feedbacks ao usuário**\n",
       "- **Objetivo:** Testar se as mensagens de erro e feedbacks são claros para o usuário.\n",
       "- **Entradas:** Utilizar entradas que gerem mensagens de erro e tentar logar.\n",
       "- **Resultado Esperado:** As mensagens de erro devem ser visíveis, compreensíveis e orientar o usuário sobre como corrigir os problemas.\n",
       "\n",
       "### 4.6. Testes de Segurança\n",
       "**CT006 - Testes de injeção e segurança**\n",
       "- **Objetivo:** Validar a resiliência do sistema a tentativas de injeção de SQL ou scripts maliciosos.\n",
       "- **Entradas:**\n",
       "  - `usuario' OR '1'='1` (tentativa de injeção SQL)\n",
       "  - `<script>alert('XSS')</script>` (tentativa de ataque XSS)\n",
       "- **Resultado Esperado:** O sistema deve rejeitar as tentativas sem executar os scripts ou comandos maliciosos.\n",
       "\n",
       "**5. Requisitos de Ambiente**\n",
       "- Acesso à aplicação.\n",
       "- Acesso ao banco de dados para verificar registros de tentativas de login.\n",
       "\n",
       "**6. Critérios de Aceitação**\n",
       "Os casos de teste devem passar com os resultados esperados, conforme descrito, para que a funcionalidade seja considerada aceita.\n",
       "\n",
       "**7. Relatório de Resultados**\n",
       "Após a execução dos testes, será gerado um relatório contendo:\n",
       "- Resultados de cada caso de teste.\n",
       "- Mensagens de erro e problemas encontrados.\n",
       "- Recomendações para melhorias, se necessárias. \n",
       "\n",
       "**8. Conclusão**\n",
       "Com este plano de testes, busca-se garantir a qualidade da funcionalidade de autenticação na aplicação, proporcionando uma boa experiência ao usuário e mantendo os padrões de segurança necessários."
      ],
      "text/plain": [
       "<IPython.core.display.Markdown object>"
      ]
     },
     "metadata": {},
     "output_type": "display_data"
    },
    {
     "data": {
      "text/markdown": [
       "----"
      ],
      "text/plain": [
       "<IPython.core.display.Markdown object>"
      ]
     },
     "metadata": {},
     "output_type": "display_data"
    }
   ],
   "source": [
    "prompt = \"\"\"\n",
    "Você está atuando em um projeto de **qualidade de software** para uma \n",
    "aplicação que possui uma tela de login. A equipe de desenvolvimento \n",
    "entregou uma nova funcionalidade de autenticação que deve seguir os \n",
    "seguintes critérios:\n",
    "\n",
    "* O campo de nome de usuário deve aceitar apenas e-mails válidos.\n",
    "* A senha deve ter entre 8 e 20 caracteres, contendo letras maiúsculas, minúsculas, números e caracteres especiais.\n",
    "* O sistema deve permitir no máximo 3 tentativas de login. Após isso, um captcha deve ser exibido.\n",
    "* O link \"lembrar senha\" deve levar o usuário para a tela correspondente.\n",
    "\n",
    "Elabore um plano de testes com base nessas regras, assegurando que todos os comportamentos esperados \n",
    "sejam devidamente validados.\n",
    "\"\"\"\n",
    "\n",
    "display(Markdown(f\"*Prompt:*\"))\n",
    "display(Markdown(f\"----\"))\n",
    "display(Markdown(f\"{prompt}\"))\n",
    "display(Markdown(f\"----\"))\n",
    "\n",
    "response = llm.invoke(prompt)\n",
    "\n",
    "display(Markdown(f\"*Resposta:*\"))\n",
    "display(Markdown(f\"----\"))\n",
    "display(Markdown(f\"{response.content}\"))\n",
    "display(Markdown(f\"----\"))"
   ]
  },
  {
   "cell_type": "markdown",
   "id": "610c845a-6e04-40f2-b3b1-f1332b40b0c7",
   "metadata": {},
   "source": [
    "## Aqui vou usar apenas zero shot com a definição do contexto (Context), tarefa (Task) e formato (Format)\n",
    "\n",
    "- Aqui vamos introduzir o **formato Gherkin (Given–When–Then)**"
   ]
  },
  {
   "cell_type": "code",
   "execution_count": 5,
   "id": "73a23023-96a4-43d4-bdb1-6fbac93b5642",
   "metadata": {},
   "outputs": [
    {
     "data": {
      "text/markdown": [
       "*Prompt:*"
      ],
      "text/plain": [
       "<IPython.core.display.Markdown object>"
      ]
     },
     "metadata": {},
     "output_type": "display_data"
    },
    {
     "data": {
      "text/markdown": [
       "----"
      ],
      "text/plain": [
       "<IPython.core.display.Markdown object>"
      ]
     },
     "metadata": {},
     "output_type": "display_data"
    },
    {
     "data": {
      "text/markdown": [
       "\n",
       "Você está atuando em um projeto de **qualidade de software** para uma \n",
       "aplicação que possui uma tela de login. A equipe de desenvolvimento \n",
       "entregou uma nova funcionalidade de autenticação que deve seguir os \n",
       "seguintes critérios:\n",
       "\n",
       "* O campo de nome de usuário deve aceitar apenas e-mails válidos.\n",
       "* A senha deve ter entre 8 e 20 caracteres, contendo letras maiúsculas, minúsculas, números e caracteres especiais.\n",
       "* O sistema deve permitir no máximo 3 tentativas de login. Após isso, um captcha deve ser exibido.\n",
       "* O link \"lembrar senha\" deve levar o usuário para a tela correspondente.\n",
       "\n",
       "Apresente os testes no **formato Gherkin (Given–When–Then)**, utilizando cenários claros e \n",
       "objetivos que validem cada uma das regras descritas.\n",
       "\n",
       "Elabore um plano de testes com base nessas regras, assegurando que todos os comportamentos \n",
       "esperados sejam devidamente validados.\n",
       "\n",
       "Siga **rigorosamente** o seguinte formato:\n",
       "\n",
       "```\n",
       "**Teste n**: Título do teste\n",
       "**Cenário**: Resumo do cenário testado\n",
       "\n",
       "**Dado**: uma determinada condição\n",
       "**Quando**: uma determinada ação \n",
       "**Então**: resultado esperado\n",
       "```\n"
      ],
      "text/plain": [
       "<IPython.core.display.Markdown object>"
      ]
     },
     "metadata": {},
     "output_type": "display_data"
    },
    {
     "data": {
      "text/markdown": [
       "----"
      ],
      "text/plain": [
       "<IPython.core.display.Markdown object>"
      ]
     },
     "metadata": {},
     "output_type": "display_data"
    },
    {
     "data": {
      "text/markdown": [
       "*Resposta:*"
      ],
      "text/plain": [
       "<IPython.core.display.Markdown object>"
      ]
     },
     "metadata": {},
     "output_type": "display_data"
    },
    {
     "data": {
      "text/markdown": [
       "----"
      ],
      "text/plain": [
       "<IPython.core.display.Markdown object>"
      ]
     },
     "metadata": {},
     "output_type": "display_data"
    },
    {
     "data": {
      "text/markdown": [
       "**Teste 1**: Validação do e-mail no campo de nome de usuário  \n",
       "**Cenário**: E-mail válido é aceito  \n",
       "\n",
       "**Dado**: que o usuário está na tela de login  \n",
       "**Quando**: o usuário insere um e-mail válido no campo de nome de usuário  \n",
       "**Então**: o sistema aceita o e-mail e permite prosseguir para o próximo campo\n",
       "\n",
       "---\n",
       "\n",
       "**Teste 2**: Validação do e-mail no campo de nome de usuário  \n",
       "**Cenário**: E-mail inválido não é aceito  \n",
       "\n",
       "**Dado**: que o usuário está na tela de login  \n",
       "**Quando**: o usuário insere um e-mail inválido no campo de nome de usuário  \n",
       "**Então**: o sistema exibe uma mensagem de erro indicando que o e-mail inserido não é válido\n",
       "\n",
       "---\n",
       "\n",
       "**Teste 3**: Validação da senha com caracteres insuficientes  \n",
       "**Cenário**: Senha com menos de 8 caracteres não é aceita  \n",
       "\n",
       "**Dado**: que o usuário está na tela de login  \n",
       "**Quando**: o usuário insere uma senha com menos de 8 caracteres  \n",
       "**Então**: o sistema exibe uma mensagem de erro informando que a senha deve ter entre 8 e 20 caracteres\n",
       "\n",
       "---\n",
       "\n",
       "**Teste 4**: Validação da senha com caracteres em excesso  \n",
       "**Cenário**: Senha com mais de 20 caracteres não é aceita  \n",
       "\n",
       "**Dado**: que o usuário está na tela de login  \n",
       "**Quando**: o usuário insere uma senha com mais de 20 caracteres  \n",
       "**Então**: o sistema exibe uma mensagem de erro informando que a senha deve ter entre 8 e 20 caracteres\n",
       "\n",
       "---\n",
       "\n",
       "**Teste 5**: Validação da complexidade da senha  \n",
       "**Cenário**: Senha sem todos os requisitos de complexidade não é aceita  \n",
       "\n",
       "**Dado**: que o usuário está na tela de login  \n",
       "**Quando**: o usuário insere uma senha que não possui letras maiúsculas, minúsculas, números e caracteres especiais  \n",
       "**Então**: o sistema exibe uma mensagem de erro informando que a senha deve conter todos os tipos de caracteres\n",
       "\n",
       "---\n",
       "\n",
       "**Teste 6**: Tentativas de login  \n",
       "**Cenário**: Três tentativas de login corretas  \n",
       "\n",
       "**Dado**: que o usuário está na tela de login  \n",
       "**Quando**: o usuário insere as credenciais corretas em até 3 tentativas  \n",
       "**Então**: o sistema permite o acesso ao sistema\n",
       "\n",
       "---\n",
       "\n",
       "**Teste 7**: Tentativas de login falhas  \n",
       "**Cenário**: Quatro tentativas de login falhas seguidas  \n",
       "\n",
       "**Dado**: que o usuário está na tela de login  \n",
       "**Quando**: o usuário insere credenciais incorretas em 4 tentativas seguidas  \n",
       "**Então**: o sistema exibe um captcha para o usuário\n",
       "\n",
       "---\n",
       "\n",
       "**Teste 8**: Funcionalidade do link \"lembrar senha\"  \n",
       "**Cenário**: Link \"lembrar senha\" conduz ao caminho correto  \n",
       "\n",
       "**Dado**: que o usuário está na tela de login  \n",
       "**Quando**: o usuário clica no link \"lembrar senha\"  \n",
       "**Então**: o sistema redireciona o usuário para a tela correspondente para recuperação de senha\n",
       "\n",
       "---\n",
       "\n",
       "Esse plano de testes abrange todas as regras descritas na funcionalidade de autenticação, garantindo que cada aspecto do sistema seja validado adequadamente."
      ],
      "text/plain": [
       "<IPython.core.display.Markdown object>"
      ]
     },
     "metadata": {},
     "output_type": "display_data"
    },
    {
     "data": {
      "text/markdown": [
       "----"
      ],
      "text/plain": [
       "<IPython.core.display.Markdown object>"
      ]
     },
     "metadata": {},
     "output_type": "display_data"
    }
   ],
   "source": [
    "prompt = \"\"\"\n",
    "Você está atuando em um projeto de **qualidade de software** para uma \n",
    "aplicação que possui uma tela de login. A equipe de desenvolvimento \n",
    "entregou uma nova funcionalidade de autenticação que deve seguir os \n",
    "seguintes critérios:\n",
    "\n",
    "* O campo de nome de usuário deve aceitar apenas e-mails válidos.\n",
    "* A senha deve ter entre 8 e 20 caracteres, contendo letras maiúsculas, minúsculas, números e caracteres especiais.\n",
    "* O sistema deve permitir no máximo 3 tentativas de login. Após isso, um captcha deve ser exibido.\n",
    "* O link \"lembrar senha\" deve levar o usuário para a tela correspondente.\n",
    "\n",
    "Apresente os testes no **formato Gherkin (Given–When–Then)**, utilizando cenários claros e \n",
    "objetivos que validem cada uma das regras descritas.\n",
    "\n",
    "Elabore um plano de testes com base nessas regras, assegurando que todos os comportamentos \n",
    "esperados sejam devidamente validados.\n",
    "\n",
    "Siga **rigorosamente** o seguinte formato:\n",
    "\n",
    "```\n",
    "**Teste n**: Título do teste\n",
    "**Cenário**: Resumo do cenário testado\n",
    "\n",
    "**Dado**: uma determinada condição\n",
    "**Quando**: uma determinada ação \n",
    "**Então**: resultado esperado\n",
    "```\n",
    "\"\"\"\n",
    "\n",
    "display(Markdown(f\"*Prompt:*\"))\n",
    "display(Markdown(f\"----\"))\n",
    "display(Markdown(f\"{prompt}\"))\n",
    "display(Markdown(f\"----\"))\n",
    "\n",
    "response = llm.invoke(prompt)\n",
    "\n",
    "display(Markdown(f\"*Resposta:*\"))\n",
    "display(Markdown(f\"----\"))\n",
    "display(Markdown(f\"{response.content}\"))\n",
    "display(Markdown(f\"----\"))"
   ]
  },
  {
   "cell_type": "markdown",
   "id": "1208adef-8138-489f-b372-d5bd15bf0568",
   "metadata": {},
   "source": [
    "## Aqui vou usar apenas zero shot com a definição do papel (Role), tarefa (Task) e formato (Format)\n",
    "\n",
    "- Aqui vamos utilizar o formato de *checklist*"
   ]
  },
  {
   "cell_type": "code",
   "execution_count": 6,
   "id": "e95bb3d9-c6a5-4fb5-9aa3-9848687eccb0",
   "metadata": {},
   "outputs": [
    {
     "data": {
      "text/markdown": [
       "*Prompt:*"
      ],
      "text/plain": [
       "<IPython.core.display.Markdown object>"
      ]
     },
     "metadata": {},
     "output_type": "display_data"
    },
    {
     "data": {
      "text/markdown": [
       "----"
      ],
      "text/plain": [
       "<IPython.core.display.Markdown object>"
      ]
     },
     "metadata": {},
     "output_type": "display_data"
    },
    {
     "data": {
      "text/markdown": [
       "\n",
       "Você está atuando em um projeto de **qualidade de software** para uma \n",
       "aplicação que possui uma tela de login. A equipe de desenvolvimento \n",
       "entregou uma nova funcionalidade de autenticação que deve seguir os \n",
       "seguintes critérios:\n",
       "\n",
       "* O campo de nome de usuário deve aceitar apenas e-mails válidos.\n",
       "* A senha deve ter entre 8 e 20 caracteres, contendo letras maiúsculas, minúsculas, números e caracteres especiais.\n",
       "* O sistema deve permitir no máximo 3 tentativas de login. Após isso, um captcha deve ser exibido.\n",
       "* O link \"lembrar senha\" deve levar o usuário para a tela correspondente.\n",
       "\n",
       "Elabore um plano de testes com base nessas regras, assegurando que todos os comportamentos esperados \n",
       "sejam devidamente validados.\n",
       "\n",
       "Siga **rigorosamente** de checklist:\n",
       "\n",
       "```\n",
       "Teste n: \n",
       "\n",
       "[ ] Item 1\n",
       "[ ] Item 2\n",
       "[ ] Item 3\n",
       "[ ] ...\n",
       "[ ] Item n\n",
       "```\n"
      ],
      "text/plain": [
       "<IPython.core.display.Markdown object>"
      ]
     },
     "metadata": {},
     "output_type": "display_data"
    },
    {
     "data": {
      "text/markdown": [
       "----"
      ],
      "text/plain": [
       "<IPython.core.display.Markdown object>"
      ]
     },
     "metadata": {},
     "output_type": "display_data"
    },
    {
     "data": {
      "text/markdown": [
       "*Resposta:*"
      ],
      "text/plain": [
       "<IPython.core.display.Markdown object>"
      ]
     },
     "metadata": {},
     "output_type": "display_data"
    },
    {
     "data": {
      "text/markdown": [
       "----"
      ],
      "text/plain": [
       "<IPython.core.display.Markdown object>"
      ]
     },
     "metadata": {},
     "output_type": "display_data"
    },
    {
     "data": {
      "text/markdown": [
       "Aqui está um plano de testes estruturado em formato de checklist, de acordo com as regras fornecidas para a funcionalidade de autenticação da aplicação:\n",
       "\n",
       "```\n",
       "Teste 1: Validação do campo de nome de usuário\n",
       "\n",
       "[ ] Testar se o campo aceita e-mails válidos (ex: usuario@exemplo.com).\n",
       "[ ] Testar se o campo rejeita e-mails inválidos (ex: usuario@exemplo).\n",
       "[ ] Testar se o campo rejeita entradas que não são e-mails (ex: \"usuario\").\n",
       "[ ] Testar se o campo aceita e-mails com diferentes domínios (ex: usuario@dominio.com, usuario@dominio.org).\n",
       "[ ] Testar se o campo rejeita e-mails duplicados.\n",
       "[ ] Testar se o campo aceita e-mails com subdomínios (ex: usuario@sub.dominio.com).\n",
       "[ ] Testar se o campo trata corretamente e-mails com caracteres especiais permitidos (ex: usuário+tag@dominio.com).\n",
       "\n",
       "Teste 2: Validação da senha\n",
       "\n",
       "[ ] Testar se a senha com menos de 8 caracteres é rejeitada.\n",
       "[ ] Testar se a senha com mais de 20 caracteres é rejeitada.\n",
       "[ ] Testar se a senha aceita letras maiúsculas, minúsculas, números e caracteres especiais.\n",
       "[ ] Testar se a senha formada apenas por letras minúsculas é rejeitada.\n",
       "[ ] Testar se a senha formada apenas por letras maiúsculas é rejeitada.\n",
       "[ ] Testar se a senha formada apenas por números é rejeitada.\n",
       "[ ] Testar se a senha formada apenas por caracteres especiais é rejeitada.\n",
       "[ ] Testar se a senha que contém uma combinação válida de caracteres é aceita.\n",
       "\n",
       "Teste 3: Tentativas de login\n",
       "\n",
       "[ ] Testar se o sistema permite exatamente 3 tentativas de login com credenciais inválidas.\n",
       "[ ] Testar se após 3 tentativas inválidas, o captcha é exibido.\n",
       "[ ] Testar se o captcha permanece visível após erro subsequente em tentativas de login.\n",
       "[ ] Testar se o sistema permite login com credenciais válidas após exibição do captcha.\n",
       "[ ] Testar se o sistema registra as tentativas de login corretamente.\n",
       "\n",
       "Teste 4: Link \"lembrar senha\"\n",
       "\n",
       "[ ] Testar se o link \"lembrar senha\" é exibido na tela de login.\n",
       "[ ] Testar se o link \"lembrar senha\" redireciona o usuário para a tela correspondente.\n",
       "[ ] Testar se a tela \"lembrar senha\" contém a funcionalidade de recuperação de senha.\n",
       "\n",
       "Teste 5: Acessibilidade e Usabilidade\n",
       "\n",
       "[ ] Testar se todos os campos e botões são acessíveis via teclado.\n",
       "[ ] Testar se as mensagens de erro são exibidas de forma clara e compreensível.\n",
       "[ ] Testar se a tela de login é responsiva e se adapta a diferentes tamanhos de tela.\n",
       "[ ] Testar se a formatação do sistema (tipografia, cores, espaçamento) é adequada e atende às diretrizes de acessibilidade.\n",
       "\n",
       "Teste 6: Segurança\n",
       "\n",
       "[ ] Testar se as senhas são criptografadas antes de serem armazenadas.\n",
       "[ ] Testar se o sistema bloqueia a conta após múltiplas tentativas de login falhadas (beyond captcha).\n",
       "[ ] Testar se as entradas são sanitizadas para evitar injeção de SQL ou XSS.\n",
       "\n",
       "```\n",
       "\n",
       "Esse plano de testes cobre as funcionalidades e as validações necessárias para garantir que a nova funcionalidade de autenticação esteja de acordo com os requisitos. Cada teste deve ser realizado e documentado de forma a garantir a rastreabilidade dos resultados."
      ],
      "text/plain": [
       "<IPython.core.display.Markdown object>"
      ]
     },
     "metadata": {},
     "output_type": "display_data"
    },
    {
     "data": {
      "text/markdown": [
       "----"
      ],
      "text/plain": [
       "<IPython.core.display.Markdown object>"
      ]
     },
     "metadata": {},
     "output_type": "display_data"
    }
   ],
   "source": [
    "prompt = \"\"\"\n",
    "Você está atuando em um projeto de **qualidade de software** para uma \n",
    "aplicação que possui uma tela de login. A equipe de desenvolvimento \n",
    "entregou uma nova funcionalidade de autenticação que deve seguir os \n",
    "seguintes critérios:\n",
    "\n",
    "* O campo de nome de usuário deve aceitar apenas e-mails válidos.\n",
    "* A senha deve ter entre 8 e 20 caracteres, contendo letras maiúsculas, minúsculas, números e caracteres especiais.\n",
    "* O sistema deve permitir no máximo 3 tentativas de login. Após isso, um captcha deve ser exibido.\n",
    "* O link \"lembrar senha\" deve levar o usuário para a tela correspondente.\n",
    "\n",
    "Elabore um plano de testes com base nessas regras, assegurando que todos os comportamentos esperados \n",
    "sejam devidamente validados.\n",
    "\n",
    "Siga **rigorosamente** de checklist:\n",
    "\n",
    "```\n",
    "Teste n: \n",
    "\n",
    "[ ] Item 1\n",
    "[ ] Item 2\n",
    "[ ] Item 3\n",
    "[ ] ...\n",
    "[ ] Item n\n",
    "```\n",
    "\"\"\"\n",
    "\n",
    "display(Markdown(f\"*Prompt:*\"))\n",
    "display(Markdown(f\"----\"))\n",
    "display(Markdown(f\"{prompt}\"))\n",
    "display(Markdown(f\"----\"))\n",
    "\n",
    "response = llm.invoke(prompt)\n",
    "\n",
    "display(Markdown(f\"*Resposta:*\"))\n",
    "display(Markdown(f\"----\"))\n",
    "display(Markdown(f\"{response.content}\"))\n",
    "display(Markdown(f\"----\"))"
   ]
  },
  {
   "cell_type": "code",
   "execution_count": null,
   "id": "16932eef-37ab-47c2-a5a9-c4a46014bc2d",
   "metadata": {},
   "outputs": [],
   "source": []
  },
  {
   "cell_type": "code",
   "execution_count": null,
   "id": "8afcabac-af23-476f-a990-2eeaa7890d0c",
   "metadata": {},
   "outputs": [],
   "source": []
  }
 ],
 "metadata": {
  "kernelspec": {
   "display_name": "Python 3 (ipykernel)",
   "language": "python",
   "name": "python3"
  },
  "language_info": {
   "codemirror_mode": {
    "name": "ipython",
    "version": 3
   },
   "file_extension": ".py",
   "mimetype": "text/x-python",
   "name": "python",
   "nbconvert_exporter": "python",
   "pygments_lexer": "ipython3",
   "version": "3.11.9"
  }
 },
 "nbformat": 4,
 "nbformat_minor": 5
}
