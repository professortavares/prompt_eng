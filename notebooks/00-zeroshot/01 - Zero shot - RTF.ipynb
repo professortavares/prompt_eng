{
 "cells": [
  {
   "cell_type": "markdown",
   "id": "c7ea3230-a9bf-4eb7-8315-5655d1b33088",
   "metadata": {},
   "source": [
    "# ZERO SHOT - RTF\n",
    "\n",
    "RTF significa:\n",
    "\n",
    "* **Role (Papel)** – define quem o modelo deve ser (ex: engenheiro de QA, desenvolvedor, analista).\n",
    "* **Task (Tarefa)** – define o que o modelo deve fazer (ex: gerar plano de teste, criar casos, revisar código).\n",
    "* **Format (Formato)** – define como o resultado deve ser apresentado (ex: lista, tabela, em linguagem Gherkin, texto estruturado)."
   ]
  },
  {
   "cell_type": "code",
   "execution_count": 1,
   "id": "2bec1d33-8863-45f2-abe8-8cb1f1ad0c5a",
   "metadata": {},
   "outputs": [],
   "source": [
    "# Imports necessários\n",
    "from langchain_ollama import ChatOllama\n",
    "from IPython.display import display, Markdown"
   ]
  },
  {
   "cell_type": "code",
   "execution_count": 2,
   "id": "5c6d84b6-bfe6-40b0-8e5e-8fa9992853b5",
   "metadata": {},
   "outputs": [],
   "source": [
    "llm = ChatOllama(model=\"llama3.2\")"
   ]
  },
  {
   "cell_type": "markdown",
   "id": "15d0119c-353f-4134-a5da-61f4220682b2",
   "metadata": {},
   "source": [
    "## Aqui vou usar apenas zero shot com a definição do papel (Role) e tarefa (Task)"
   ]
  },
  {
   "cell_type": "code",
   "execution_count": 3,
   "id": "c3adb196-4f52-494a-b50f-b05167db6f2d",
   "metadata": {},
   "outputs": [
    {
     "data": {
      "text/markdown": [
       "*Prompt:*"
      ],
      "text/plain": [
       "<IPython.core.display.Markdown object>"
      ]
     },
     "metadata": {},
     "output_type": "display_data"
    },
    {
     "data": {
      "text/markdown": [
       "----"
      ],
      "text/plain": [
       "<IPython.core.display.Markdown object>"
      ]
     },
     "metadata": {},
     "output_type": "display_data"
    },
    {
     "data": {
      "text/markdown": [
       "\n",
       "Você é um **engenheiro de QA experiente**, especializado em testes funcionais e validação de requisitos.\n",
       "Sua tarefa é **criar um plano de testes** com base na seguinte história técnica:\n",
       "\n",
       "* O campo de nome de usuário deve aceitar apenas e-mails válidos.\n",
       "* A senha deve ter entre 8 e 20 caracteres, contendo letras maiúsculas, minúsculas, números e caracteres especiais.\n",
       "* O sistema deve permitir no máximo 3 tentativas de login. Após isso, um captcha deve ser exibido.\n",
       "* O link \"lembrar senha\" deve levar o usuário para a tela correspondente.\n",
       "\n",
       "Desenvolva os testes necessários para garantir que essas regras sejam corretamente implementadas.\n"
      ],
      "text/plain": [
       "<IPython.core.display.Markdown object>"
      ]
     },
     "metadata": {},
     "output_type": "display_data"
    },
    {
     "data": {
      "text/markdown": [
       "----"
      ],
      "text/plain": [
       "<IPython.core.display.Markdown object>"
      ]
     },
     "metadata": {},
     "output_type": "display_data"
    },
    {
     "data": {
      "text/markdown": [
       "*Resposta:*"
      ],
      "text/plain": [
       "<IPython.core.display.Markdown object>"
      ]
     },
     "metadata": {},
     "output_type": "display_data"
    },
    {
     "data": {
      "text/markdown": [
       "----"
      ],
      "text/plain": [
       "<IPython.core.display.Markdown object>"
      ]
     },
     "metadata": {},
     "output_type": "display_data"
    },
    {
     "data": {
      "text/markdown": [
       "**Plano de Testes**\n",
       "\n",
       "**Teste 1: Campo de Nome de Usuário - Válido e-mail**\n",
       "\n",
       "* Objetivo: Verificar se o campo de nome de usuário aceita apenas e-mails válidos\n",
       "* Pré-requisitos:\n",
       " + Acesse o sistema com um e-mail válido\n",
       " + Crie uma conta no sistema\n",
       "* Passos do teste:\n",
       " 1. Digite um e-mail inválido (ex.: @gmail.com) em campo de nome de usuário\n",
       " 2. Pressione botão \"Registrar\"\n",
       " 3. Verifique se o sistema exibe mensagem de erro relacionada ao e-mail inválido\n",
       "\n",
       "**Teste 2: Campo de Senha - Longitudinal e caracteres**\n",
       "\n",
       "* Objetivo: Verificar se a senha tem entre 8 e 20 caracteres\n",
       "* Pré-requisitos:\n",
       " + Acesse o sistema com um e-mail válido\n",
       " + Crie uma conta no sistema\n",
       "* Passos do teste:\n",
       " 1. Digite uma senha de menos de 8 caracteres em campo de senha\n",
       " 2. Pressione botão \"Registrar\"\n",
       " 3. Verifique se o sistema exibe mensagem de erro relacionada à comprimentação da senha\n",
       " 4. Digite uma senha de mais de 20 caracteres em campo de senha\n",
       " 5. Pressione botão \"Registrar\"\n",
       " 6. Verifique se o sistema exibe mensagem de erro relacionada à comprimentação da senha\n",
       "\n",
       "**Teste 3: Campo de Senha - Caracteres especiais**\n",
       "\n",
       "* Objetivo: Verificar se a senha contém letras maiúsculas, minúsculas, números e caracteres especiais\n",
       "* Pré-requisitos:\n",
       " + Acesse o sistema com um e-mail válido\n",
       " + Crie uma conta no sistema\n",
       "* Passos do teste:\n",
       " 1. Digite uma senha sem letras maiúsculas em campo de senha\n",
       " 2. Pressione botão \"Registrar\"\n",
       " 3. Verifique se o sistema exibe mensagem de erro relacionada à falta de letras maiúsculas\n",
       " 4. Digite uma senha sem números em campo de senha\n",
       " 5. Pressione botão \"Registrar\"\n",
       " 6. Verifique se o sistema exibe mensagem de erro relacionada à falta de números\n",
       " 7. Digite uma senha com apenas caracteres especiais em campo de senha\n",
       " 8. Pressione botão \"Registrar\"\n",
       " 9. Verifique se o sistema exibe mensagem de erro relacionada a falta de letras maiúsculas e números.\n",
       "\n",
       "**Teste 4: Campo de Senha - Limites de tentativas**\n",
       "\n",
       "* Objetivo: Verificar se o sistema permite no máximo 3 tentativas de login\n",
       "* Pré-requisitos:\n",
       " + Acesse o sistema com um e-mail válido\n",
       " + Crie uma conta no sistema\n",
       "* Passos do teste:\n",
       " 1. Tente entrar com senha incorreta mais de 3 vezes em campo de senha\n",
       " 2. Pressione botão \"Registrar\"\n",
       " 3. Verifique se o sistema exibe mensagem de erro relacionada a limites de tentativas\n",
       " 4. Digite uma senha correta e pressione botão \"Registrar\"\n",
       "\n",
       "**Teste 5: Link \"Lembrar Senha\"**\n",
       "\n",
       "* Objetivo: Verificar se o link \"Lembrar Senha\" leva ao usuário para a tela correspondente\n",
       "* Pré-requisitos:\n",
       " + Acesse o sistema com um e-mail válido\n",
       " + Crie uma conta no sistema\n",
       "* Passos do teste:\n",
       " 1. Acesse o link de login do sistema\n",
       " 2. Pressione botão \"Lembrar Senha\"\n",
       " 3. Verifique se o sistema redireciona o usuário para a tela correspondente para lembrar senha\n",
       "\n",
       "**Teste de Revisão**\n",
       "\n",
       "* Objetivo: Realizar um teste de revisão para garantir que os testes anteriores não foram descumpridos\n",
       "* Pré-requisitos:\n",
       " + Acesse o sistema com um e-mail válido\n",
       " + Crie uma conta no sistema\n",
       "* Passos do teste:\n",
       " 1. Repita todos os passos dos testes anteriores\n",
       "\n",
       "**Relatório de Teste**\n",
       "\n",
       "O plano de teste apresentado garante a verificação das regras solicitadas, garantindo que o sistema funcione corretamente e seja seguro para os usuários."
      ],
      "text/plain": [
       "<IPython.core.display.Markdown object>"
      ]
     },
     "metadata": {},
     "output_type": "display_data"
    },
    {
     "data": {
      "text/markdown": [
       "----"
      ],
      "text/plain": [
       "<IPython.core.display.Markdown object>"
      ]
     },
     "metadata": {},
     "output_type": "display_data"
    }
   ],
   "source": [
    "prompt = \"\"\"\n",
    "Você é um **engenheiro de QA experiente**, especializado em testes funcionais e validação de requisitos.\n",
    "Sua tarefa é **criar um plano de testes** com base na seguinte história técnica:\n",
    "\n",
    "* O campo de nome de usuário deve aceitar apenas e-mails válidos.\n",
    "* A senha deve ter entre 8 e 20 caracteres, contendo letras maiúsculas, minúsculas, números e caracteres especiais.\n",
    "* O sistema deve permitir no máximo 3 tentativas de login. Após isso, um captcha deve ser exibido.\n",
    "* O link \"lembrar senha\" deve levar o usuário para a tela correspondente.\n",
    "\n",
    "Desenvolva os testes necessários para garantir que essas regras sejam corretamente implementadas.\n",
    "\"\"\"\n",
    "\n",
    "display(Markdown(f\"*Prompt:*\"))\n",
    "display(Markdown(f\"----\"))\n",
    "display(Markdown(f\"{prompt}\"))\n",
    "display(Markdown(f\"----\"))\n",
    "\n",
    "response = llm.invoke(prompt)\n",
    "\n",
    "display(Markdown(f\"*Resposta:*\"))\n",
    "display(Markdown(f\"----\"))\n",
    "display(Markdown(f\"{response.content}\"))\n",
    "display(Markdown(f\"----\"))"
   ]
  },
  {
   "cell_type": "markdown",
   "id": "586ac5d8-8cf8-49f9-8cf4-8eb52350d278",
   "metadata": {},
   "source": [
    "## Por que este prompt é do tipo RF (Role-Task)?\n",
    "\n",
    "\n",
    "* Role (Papel): define que o modelo deve agir como um engenheiro de QA experiente.\n",
    "    *  Este prompt ainda é zero-shot, mas com **papel bem definido**, o que já melhora significativamente a qualidade da resposta (Engenheiro de QA).\n",
    "* Task (Tarefa): define claramente o que deve ser feito — neste caso, criar um plano de testes com base na história técnica (HT).\n",
    "    *  Esse prompt agora orienta o modelo sobre **quem ele é e o que deve fazer**, o que já é suficiente para obter uma resposta com muito mais foco e relevância."
   ]
  },
  {
   "cell_type": "markdown",
   "id": "610c845a-6e04-40f2-b3b1-f1332b40b0c7",
   "metadata": {},
   "source": [
    "## Aqui vou usar apenas zero shot com a definição do papel (Role), tarefa (Task) e formato (Format)\n",
    "\n",
    "- Aqui vamos introduzir o **formato Gherkin (Given–When–Then)**"
   ]
  },
  {
   "cell_type": "code",
   "execution_count": 4,
   "id": "73a23023-96a4-43d4-bdb1-6fbac93b5642",
   "metadata": {},
   "outputs": [
    {
     "data": {
      "text/markdown": [
       "*Prompt:*"
      ],
      "text/plain": [
       "<IPython.core.display.Markdown object>"
      ]
     },
     "metadata": {},
     "output_type": "display_data"
    },
    {
     "data": {
      "text/markdown": [
       "----"
      ],
      "text/plain": [
       "<IPython.core.display.Markdown object>"
      ]
     },
     "metadata": {},
     "output_type": "display_data"
    },
    {
     "data": {
      "text/markdown": [
       "\n",
       "Você é um **engenheiro de QA experiente**, especializado em testes funcionais e validação de requisitos.\n",
       "Sua tarefa é **criar um plano de testes** com base na seguinte história técnica:\n",
       "\n",
       "* O campo de nome de usuário deve aceitar apenas e-mails válidos.\n",
       "* A senha deve ter entre 8 e 20 caracteres, contendo letras maiúsculas, minúsculas, números e caracteres especiais.\n",
       "* O sistema deve permitir no máximo 3 tentativas de login. Após isso, um captcha deve ser exibido.\n",
       "* O link \"lembrar senha\" deve levar o usuário para a tela correspondente.\n",
       "\n",
       "Apresente os testes no **formato Gherkin (Given–When–Then)**, utilizando cenários claros e \n",
       "objetivos que validem cada uma das regras descritas.\n",
       "\n",
       "Desenvolva os testes necessários para garantir que essas regras sejam corretamente implementadas.\n"
      ],
      "text/plain": [
       "<IPython.core.display.Markdown object>"
      ]
     },
     "metadata": {},
     "output_type": "display_data"
    },
    {
     "data": {
      "text/markdown": [
       "----"
      ],
      "text/plain": [
       "<IPython.core.display.Markdown object>"
      ]
     },
     "metadata": {},
     "output_type": "display_data"
    },
    {
     "data": {
      "text/markdown": [
       "*Resposta:*"
      ],
      "text/plain": [
       "<IPython.core.display.Markdown object>"
      ]
     },
     "metadata": {},
     "output_type": "display_data"
    },
    {
     "data": {
      "text/markdown": [
       "----"
      ],
      "text/plain": [
       "<IPython.core.display.Markdown object>"
      ]
     },
     "metadata": {},
     "output_type": "display_data"
    },
    {
     "data": {
      "text/markdown": [
       "**Plano de Testes**\n",
       "\n",
       "A seguir apresentamos o plano de testes com base na história técnica fornecida. Os testes serão realizados em formato Gherkin, utilizando cenários claros e objetivos.\n",
       "\n",
       "**Cenário 1: Campo de Nome de Usuário**\n",
       "\n",
       "* **Given**: O usuário é redirecionado para a tela de login.\n",
       "*   **When**: O usuário insere um valor inválido no campo de nome de usuário (por exemplo, um número ou uma sequência de caracteres não permitida).\n",
       "*   **Then**: A mensagem de erro é exibida na tela, informando que o campo de nome de usuário deve ser preenchido com um e-mail válido.\n",
       "\n",
       "**Cenário 2: Senha**\n",
       "\n",
       "*   **Given**: O usuário é redirecionado para a tela de login.\n",
       "*   **When**: O usuário insere uma senha que não atende ao critério mínimo de 8 caracteres, contendo letras maiúsculas, minúsculas, números e caracteres especiais.\n",
       "*   **Then**: A mensagem de erro é exibida na tela, informando que a senha deve ter entre 8 e 20 caracteres.\n",
       "\n",
       "**Cenário 3: Número de Tentativas**\n",
       "\n",
       "*   **Given**: O usuário está no site da aplicação.\n",
       "*   **When**: O usuário tenta logar mais de 3 vezes com uma senha inválida.\n",
       "*   **Then**: Um captcha é exibido na tela, impedindo o acesso ao sistema.\n",
       "\n",
       "**Cenário 4: Link \"Lembrar Senha\"**\n",
       "\n",
       "*   **Given**: O usuário está no site da aplicação e tenta logar com uma senha inválida.\n",
       "*   **When**: O usuário clica em \"Lembrei minha senha\".\n",
       "*   **Then**: O sistema redireciona o usuário para a tela correspondente de login com a senha preenchida.\n",
       "\n",
       "**Cenário 5: Senha com Caracteres Especiais**\n",
       "\n",
       "*   **Given**: O usuário é redirecionado para a tela de login.\n",
       "*   **When**: O usuário insere uma senha que contém caracteres especiais não permitidos.\n",
       "*   **Then**: A mensagem de erro é exibida na tela, informando que a senha deve conter apenas letras maiúsculas, minúsculas, números e caracteres especiais.\n",
       "\n",
       "**Cenário 6: Senha com Letras Maiúsculas**\n",
       "\n",
       "*   **Given**: O usuário é redirecionado para a tela de login.\n",
       "*   **When**: O usuário insere uma senha que não contém letras maiúsculas.\n",
       "*   **Then**: A mensagem de erro é exibida na tela, informando que a senha deve conter apenas letras maiúsculas, minúsculas, números e caracteres especiais.\n",
       "\n",
       "**Cenário 7: Senha com Letras Minúsculas**\n",
       "\n",
       "*   **Given**: O usuário é redirecionado para a tela de login.\n",
       "*   **When**: O usuário insere uma senha que não contém letras minúsculas.\n",
       "*   **Then**: A mensagem de erro é exibida na tela, informando que a senha deve conter apenas letras maiúsculas, minúsculas, números e caracteres especiais.\n",
       "\n",
       "**Cenário 8: Senha com Números**\n",
       "\n",
       "*   **Given**: O usuário é redirecionado para a tela de login.\n",
       "*   **When**: O usuário insere uma senha que não contém números.\n",
       "*   **Then**: A mensagem de erro é exibida na tela, informando que a senha deve conter apenas letras maiúsculas, minúsculas, números e caracteres especiais.\n",
       "\n",
       "**Cenário 9: Senha com Caracteres Especiais**\n",
       "\n",
       "*   **Given**: O usuário é redirecionado para a tela de login.\n",
       "*   **When**: O usuário insere uma senha que contém caracteres especiais permitidos (como @, #, $, etc.).\n",
       "*   **Then**: A mensagem de erro é exibida na tela, informando que a senha deve conter apenas letras maiúsculas, minúsculas, números e caracteres especiais.\n",
       "\n",
       "**Cenário 10: Senha com Caracteres Especiais Permitidos**\n",
       "\n",
       "*   **Given**: O usuário é redirecionado para a tela de login.\n",
       "*   **When**: O usuário insere uma senha que contém apenas caracteres especiais permitidos (como @, #, $, etc.).\n",
       "*   **Then**: A mensagem de erro é exibida na tela, informando que a senha deve conter apenas letras maiúsculas, minúsculas, números e caracteres especiais.\n",
       "\n",
       "Esses cenários testarão as seguintes regras:\n",
       "\n",
       "- Campo de Nome de Usuário: aceita apenas e-mails válidos\n",
       "- Senha: entre 8 e 20 caracteres, contendo letras maiúsculas, minúsculas, números e caracteres especiais\n",
       "- Número de Tentativas: no máximo 3 tentativas de login; se excedido, um captcha é mostrado\n",
       "- Link \"Lembrar Senha\": leva o usuário para a tela correspondente"
      ],
      "text/plain": [
       "<IPython.core.display.Markdown object>"
      ]
     },
     "metadata": {},
     "output_type": "display_data"
    },
    {
     "data": {
      "text/markdown": [
       "----"
      ],
      "text/plain": [
       "<IPython.core.display.Markdown object>"
      ]
     },
     "metadata": {},
     "output_type": "display_data"
    }
   ],
   "source": [
    "prompt = \"\"\"\n",
    "Você é um **engenheiro de QA experiente**, especializado em testes funcionais e validação de requisitos.\n",
    "Sua tarefa é **criar um plano de testes** com base na seguinte história técnica:\n",
    "\n",
    "* O campo de nome de usuário deve aceitar apenas e-mails válidos.\n",
    "* A senha deve ter entre 8 e 20 caracteres, contendo letras maiúsculas, minúsculas, números e caracteres especiais.\n",
    "* O sistema deve permitir no máximo 3 tentativas de login. Após isso, um captcha deve ser exibido.\n",
    "* O link \"lembrar senha\" deve levar o usuário para a tela correspondente.\n",
    "\n",
    "Apresente os testes no **formato Gherkin (Given–When–Then)**, utilizando cenários claros e \n",
    "objetivos que validem cada uma das regras descritas.\n",
    "\n",
    "Desenvolva os testes necessários para garantir que essas regras sejam corretamente implementadas.\n",
    "\"\"\"\n",
    "\n",
    "display(Markdown(f\"*Prompt:*\"))\n",
    "display(Markdown(f\"----\"))\n",
    "display(Markdown(f\"{prompt}\"))\n",
    "display(Markdown(f\"----\"))\n",
    "\n",
    "response = llm.invoke(prompt)\n",
    "\n",
    "display(Markdown(f\"*Resposta:*\"))\n",
    "display(Markdown(f\"----\"))\n",
    "display(Markdown(f\"{response.content}\"))\n",
    "display(Markdown(f\"----\"))"
   ]
  },
  {
   "cell_type": "markdown",
   "id": "cf36512f-0ae0-4514-b01a-ad4cb8764908",
   "metadata": {},
   "source": [
    "## Aqui vou usar apenas zero shot com a definição do papel (Role), tarefa (Task) e formato (Format)\n",
    "\n",
    "- Aqui vamos utilizar o formato de tabela"
   ]
  },
  {
   "cell_type": "code",
   "execution_count": 8,
   "id": "e7e48b0a-4e0b-49ca-a232-801a593d0f87",
   "metadata": {},
   "outputs": [
    {
     "data": {
      "text/markdown": [
       "*Prompt:*"
      ],
      "text/plain": [
       "<IPython.core.display.Markdown object>"
      ]
     },
     "metadata": {},
     "output_type": "display_data"
    },
    {
     "data": {
      "text/markdown": [
       "----"
      ],
      "text/plain": [
       "<IPython.core.display.Markdown object>"
      ]
     },
     "metadata": {},
     "output_type": "display_data"
    },
    {
     "data": {
      "text/markdown": [
       "\n",
       "Você é um **engenheiro de QA experiente**, especializado em testes funcionais e validação de requisitos.\n",
       "Sua tarefa é **criar um plano de testes** com base na seguinte história técnica:\n",
       "\n",
       "* O campo de nome de usuário deve aceitar apenas e-mails válidos.\n",
       "* A senha deve ter entre 8 e 20 caracteres, contendo letras maiúsculas, minúsculas, números e caracteres especiais.\n",
       "* O sistema deve permitir no máximo 3 tentativas de login. Após isso, um captcha deve ser exibido.\n",
       "* O link \"lembrar senha\" deve levar o usuário para a tela correspondente.\n",
       "\n",
       "Apresente os testes em **formato de tabela**, contendo as seguintes colunas:\n",
       "Número do cenário, Gherkin (Given–When–Then)) e o passo a passo.\n"
      ],
      "text/plain": [
       "<IPython.core.display.Markdown object>"
      ]
     },
     "metadata": {},
     "output_type": "display_data"
    },
    {
     "data": {
      "text/markdown": [
       "----"
      ],
      "text/plain": [
       "<IPython.core.display.Markdown object>"
      ]
     },
     "metadata": {},
     "output_type": "display_data"
    },
    {
     "data": {
      "text/markdown": [
       "*Resposta:*"
      ],
      "text/plain": [
       "<IPython.core.display.Markdown object>"
      ]
     },
     "metadata": {},
     "output_type": "display_data"
    },
    {
     "data": {
      "text/markdown": [
       "----"
      ],
      "text/plain": [
       "<IPython.core.display.Markdown object>"
      ]
     },
     "metadata": {},
     "output_type": "display_data"
    },
    {
     "data": {
      "text/markdown": [
       "**Plano de Testes**\n",
       "\n",
       "Aqui está um plano de testes com base na história técnica fornecida:\n",
       "\n",
       "| Número do Cenário | Gherkin | Passo a Passo |\n",
       "| --- | --- | --- |\n",
       "| 1 | Dado o campo de nome de usuário está preenchido com um e-mail inválido, quando tentamos fazer login. | - O sistema valida o e-mail no campo de nome de usuário. - O sistema retorna uma mensagem de erro. |\n",
       "| 2 | Dado o campo de senha está vazio, quando tentamos fazer login. | - O sistema exibe uma mensagem de erro. - O sistema não permite realizar o login. |\n",
       "| 3 | Dado o campo de senha tem menos de 8 caracteres, quando tentamos fazer login. | - O sistema exibe uma mensagem de erro. - O sistema não permite realizar o login. |\n",
       "| 4 | Dado o campo de senha tem mais de 20 caracteres, quando tentamos fazer login. | - O sistema exibe uma mensagem de erro. - O sistema não permite realizar o login. |\n",
       "| 5 | Dado o campo de senha está com letras maiúsculas, quando tentamos fazer login. | - O sistema valida a presença de letras maiúsculas. - O sistema permite realizar o login se outros critérios estiverem atendidos. |\n",
       "| 6 | Dado o campo de senha está com letras minúsculas, quando tentamos fazer login. | - O sistema valida a presença de letras minúsculas. - O sistema permite realizar o login se outros critérios estiverem atendidos. |\n",
       "| 7 | Dado o campo de senha está com números, quando tentamos fazer login. | - O sistema valida a presença de números. - O sistema permite realizar o login se outros critérios estiverem atendidos. |\n",
       "| 8 | Dado o campo de senha está com caracteres especiais, quando tentamos fazer login. | - O sistema valida a presença de caracteres especiais. - O sistema permite realizar o login se outros critérios estiverem atendidos. |\n",
       "| 9 | Dado o número máximo de tentativas de login é alcançado, quando tentamos fazer login. | - O sistema exibe um mensagem de erro. - O sistema apresenta um captcha para que o usuário possa tentar novamente até 3 vezes. |\n",
       "| 10 | Dado a opção \"lembrar senha\" está ativada, quando tentamos fazer login com uma senha já salva. | - O sistema exibe a senha salva e permite realizar o login. |\n",
       "\n",
       "**Observações:**\n",
       "\n",
       "* Os testes 5-8 são apenas para verificar se os critérios de senha estão sendo atendidos.\n",
       "* Os testes 9-10 são para garantir que o sistema está funcionando corretamente em caso de máximo tentativas permitidas e uso da opção \"lembrar senha\".\n",
       "* É importante realizar os testes com uma variedade de dados, incluindo dados de teste, como senhas inválidas ou não existentes."
      ],
      "text/plain": [
       "<IPython.core.display.Markdown object>"
      ]
     },
     "metadata": {},
     "output_type": "display_data"
    },
    {
     "data": {
      "text/markdown": [
       "----"
      ],
      "text/plain": [
       "<IPython.core.display.Markdown object>"
      ]
     },
     "metadata": {},
     "output_type": "display_data"
    }
   ],
   "source": [
    "prompt = \"\"\"\n",
    "Você é um **engenheiro de QA experiente**, especializado em testes funcionais e validação de requisitos.\n",
    "Sua tarefa é **criar um plano de testes** com base na seguinte história técnica:\n",
    "\n",
    "* O campo de nome de usuário deve aceitar apenas e-mails válidos.\n",
    "* A senha deve ter entre 8 e 20 caracteres, contendo letras maiúsculas, minúsculas, números e caracteres especiais.\n",
    "* O sistema deve permitir no máximo 3 tentativas de login. Após isso, um captcha deve ser exibido.\n",
    "* O link \"lembrar senha\" deve levar o usuário para a tela correspondente.\n",
    "\n",
    "Apresente os testes em **formato de tabela**, contendo as seguintes colunas:\n",
    "Número do cenário, Gherkin (Given–When–Then)) e o passo a passo.\n",
    "\"\"\"\n",
    "\n",
    "display(Markdown(f\"*Prompt:*\"))\n",
    "display(Markdown(f\"----\"))\n",
    "display(Markdown(f\"{prompt}\"))\n",
    "display(Markdown(f\"----\"))\n",
    "\n",
    "response = llm.invoke(prompt)\n",
    "\n",
    "display(Markdown(f\"*Resposta:*\"))\n",
    "display(Markdown(f\"----\"))\n",
    "display(Markdown(f\"{response.content}\"))\n",
    "display(Markdown(f\"----\"))"
   ]
  },
  {
   "cell_type": "code",
   "execution_count": null,
   "id": "e21590b9-ec68-485e-a88b-1e799ba2a525",
   "metadata": {},
   "outputs": [],
   "source": []
  }
 ],
 "metadata": {
  "kernelspec": {
   "display_name": "Python 3 (ipykernel)",
   "language": "python",
   "name": "python3"
  },
  "language_info": {
   "codemirror_mode": {
    "name": "ipython",
    "version": 3
   },
   "file_extension": ".py",
   "mimetype": "text/x-python",
   "name": "python",
   "nbconvert_exporter": "python",
   "pygments_lexer": "ipython3",
   "version": "3.11.9"
  }
 },
 "nbformat": 4,
 "nbformat_minor": 5
}
