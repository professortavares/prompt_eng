{
 "cells": [
  {
   "cell_type": "markdown",
   "id": "c7ea3230-a9bf-4eb7-8315-5655d1b33088",
   "metadata": {},
   "source": [
    "# ZERO SHOT - RTF\n",
    "\n",
    "RTF significa:\n",
    "\n",
    "* **Role (Papel)** – define quem o modelo deve ser (ex: engenheiro de QA, desenvolvedor, analista).\n",
    "* **Task (Tarefa)** – define o que o modelo deve fazer (ex: gerar plano de teste, criar casos, revisar código).\n",
    "* **Format (Formato)** – define como o resultado deve ser apresentado (ex: lista, tabela, em linguagem Gherkin, texto estruturado).\n",
    "\n",
    "Foco no **Papel** de quem está executando a ação."
   ]
  },
  {
   "cell_type": "code",
   "execution_count": 1,
   "id": "2bec1d33-8863-45f2-abe8-8cb1f1ad0c5a",
   "metadata": {},
   "outputs": [],
   "source": [
    "# Imports necessários\n",
    "from langchain_ollama import ChatOllama\n",
    "from IPython.display import display, Markdown"
   ]
  },
  {
   "cell_type": "code",
   "execution_count": 2,
   "id": "5c6d84b6-bfe6-40b0-8e5e-8fa9992853b5",
   "metadata": {},
   "outputs": [],
   "source": [
    "llm = ChatOllama(model=\"llama3.2\")"
   ]
  },
  {
   "cell_type": "markdown",
   "id": "15d0119c-353f-4134-a5da-61f4220682b2",
   "metadata": {},
   "source": [
    "## Aqui vou usar apenas zero shot com a definição do papel (Role) e tarefa (Task)"
   ]
  },
  {
   "cell_type": "code",
   "execution_count": 3,
   "id": "c3adb196-4f52-494a-b50f-b05167db6f2d",
   "metadata": {},
   "outputs": [
    {
     "data": {
      "text/markdown": [
       "*Prompt:*"
      ],
      "text/plain": [
       "<IPython.core.display.Markdown object>"
      ]
     },
     "metadata": {},
     "output_type": "display_data"
    },
    {
     "data": {
      "text/markdown": [
       "----"
      ],
      "text/plain": [
       "<IPython.core.display.Markdown object>"
      ]
     },
     "metadata": {},
     "output_type": "display_data"
    },
    {
     "data": {
      "text/markdown": [
       "\n",
       "Você é um **engenheiro de QA experiente**, especializado em testes funcionais e validação de requisitos.\n",
       "Sua tarefa é **criar um plano de testes** com base na seguinte história técnica:\n",
       "\n",
       "* O campo de nome de usuário deve aceitar apenas e-mails válidos.\n",
       "* A senha deve ter entre 8 e 20 caracteres, contendo letras maiúsculas, minúsculas, números e caracteres especiais.\n",
       "* O sistema deve permitir no máximo 3 tentativas de login. Após isso, um captcha deve ser exibido.\n",
       "* O link \"lembrar senha\" deve levar o usuário para a tela correspondente.\n",
       "\n",
       "Desenvolva os testes necessários para garantir que essas regras sejam corretamente implementadas.\n"
      ],
      "text/plain": [
       "<IPython.core.display.Markdown object>"
      ]
     },
     "metadata": {},
     "output_type": "display_data"
    },
    {
     "data": {
      "text/markdown": [
       "----"
      ],
      "text/plain": [
       "<IPython.core.display.Markdown object>"
      ]
     },
     "metadata": {},
     "output_type": "display_data"
    },
    {
     "data": {
      "text/markdown": [
       "*Resposta:*"
      ],
      "text/plain": [
       "<IPython.core.display.Markdown object>"
      ]
     },
     "metadata": {},
     "output_type": "display_data"
    },
    {
     "data": {
      "text/markdown": [
       "----"
      ],
      "text/plain": [
       "<IPython.core.display.Markdown object>"
      ]
     },
     "metadata": {},
     "output_type": "display_data"
    },
    {
     "data": {
      "text/markdown": [
       "**Plano de Testes Funcionais**\n",
       "\n",
       "**Título:** Verificação de Requisitos de Autenticação e Login\n",
       "\n",
       "**Objetivo:**\n",
       "Garantir que o sistema de autenticação e login atenda aos requisitos funcionais estabelecidos.\n",
       "\n",
       "**Requisitos Funcionais a Serem Testados:**\n",
       "\n",
       "1. **Campo de Nome de Usuário:**\n",
       " * Aceitar apenas e-mails válidos\n",
       "2. **Senha:**\n",
       " * Ter comprimento entre 8 e 20 caracteres\n",
       " * Conter letras maiúsculas\n",
       " * Conter letras minúsculas\n",
       " * Conter números\n",
       " * Conter caracteres especiais\n",
       "3. **Login:**\n",
       " * Permitir no máximo 3 tentativas de login\n",
       " * Exibir captcha após o terceiro erro de login\n",
       "4. **Link \"Lembrar Senha\":**\n",
       " * Levar ao usuário para a tela correspondente\n",
       "\n",
       "**Testes Necessários:**\n",
       "\n",
       "### 1. Campo de Nome de Usuário:\n",
       "\n",
       "* **Teste 1:** Inserir um e-mail inválido e verificar se o sistema exibe uma mensagem de erro.\n",
       "\t+ Precondição: E-mail inválido\n",
       "\t+ Ação: Insira o e-mail inválido no campo de nome de usuário e pressione o botão de submit.\n",
       "\t+ Expected Resultado: A página exiba uma mensagem de erro informando que o e-mail é inválido.\n",
       "* **Teste 2:** Inserir um e-mail válido e verificar se o sistema aceita corretamente.\n",
       "\t+ Precondição: E-mail válido\n",
       "\t+ Ação: Insira o e-mail válido no campo de nome de usuário e pressione o botão de submit.\n",
       "\t+ Expected Resultado: O sistema exiba uma mensagem de sucesso indicando que o login foi bem-sucedido.\n",
       "\n",
       "### 2. Senha:\n",
       "\n",
       "* **Teste 1:** Insuir uma senha com comprimento inferior a 8 caracteres e verificar se o sistema exibe uma mensagem de erro.\n",
       "\t+ Precondição: Senha com comprimento inferior a 8 caracteres\n",
       "\t+ Ação: Insira uma senha com comprimento inferior a 8 caracteres no campo de senha e pressione o botão de submit.\n",
       "\t+ Expected Resultado: A página exiba uma mensagem de erro informando que a senha tem comprimento inválido.\n",
       "* **Teste 2:** Insir uma senha com comprimento superior a 20 caracteres e verificar se o sistema exibe uma mensagem de erro.\n",
       "\t+ Precondição: Senha com comprimento superior a 20 caracteres\n",
       "\t+ Ação: Insira uma senha com comprimento superior a 20 caracteres no campo de senha e pressione o botão de submit.\n",
       "\t+ Expected Resultado: A página exiba uma mensagem de erro informando que a senha tem comprimento inválido.\n",
       "* **Teste 3:** Insir uma senha com letras maiúsculas, minúsculas, números e caracteres especiais e verificar se o sistema aceita corretamente.\n",
       "\t+ Precondição: Senha com letras maiúsculas, minúsculas, números e caracteres especiais\n",
       "\t+ Ação: Insira a senha válida no campo de senha e pressione o botão de submit.\n",
       "\t+ Expected Resultado: O sistema exiba uma mensagem de sucesso indicando que o login foi bem-sucedido.\n",
       "\n",
       "### 3. Login:\n",
       "\n",
       "* **Teste 1:** Realizar 4 tentativas de login com senhas válidas e verificar se o sistema exibe um captcha após o quarto erro.\n",
       "\t+ Precondição: Senha válida\n",
       "\t+ Ação: Insira 4 senhas válidas no campo de senha e pressione o botão de submit após cada tentativa.\n",
       "\t+ Expected Resultado: Após a terceira tentativa, a página exiba um captcha para prevenir tentativas excessivas.\n",
       "* **Teste 2:** Realizar 3 tentativas de login com senhas inválidas e verificar se o sistema exibe um captcha após o terceiro erro.\n",
       "\t+ Precondição: Senha inválida\n",
       "\t+ Ação: Insira 3 senhas inválidas no campo de senha e pressione o botão de submit após cada tentativa.\n",
       "\t+ Expected Resultado: Após a terceira tentativa, a página exiba um captcha para prevenir tentativas excessivas.\n",
       "\n",
       "### 4. Link \"Lembrar Senha\":\n",
       "\n",
       "* **Teste 1:** Clicar no link \"Lembrar Senha\" e verificar se o sistema redireciona para a tela correspondente.\n",
       "\t+ Precondição: Não há pré- condicões específicas\n",
       "\t+ Ação: Clique no link \"Lembrar Senha\" e observe a página de login.\n",
       "\t+ Expected Resultado: O sistema exiba a página de lembrete de senha.\n",
       "\n",
       "**Testes de Ambientes**\n",
       "\n",
       "* **Teste 1:** Executar os testes em um ambiente de produção para verificar se o sistema atende aos requisitos funcionais estabelecidos.\n",
       "* **Teste 2:** Executar os testes em um ambiente de desenvolvimento para verificar se o sistema atende aos requisitos funcionais estabelecidos e fazer alterações necessárias.\n",
       "\n",
       "**Conclusão:**\n",
       "Esse plano de testes foi criado para garantir que o sistema de autenticação e login atenda aos requisitos funcionais estabelecidos. Os testes foram projetados para verificar se o sistema aceita corretamente os campos de nome de usuário, senha, links de lembrete de senha e exibe um captcha após no máximo 3 tentativas de login inválidas."
      ],
      "text/plain": [
       "<IPython.core.display.Markdown object>"
      ]
     },
     "metadata": {},
     "output_type": "display_data"
    },
    {
     "data": {
      "text/markdown": [
       "----"
      ],
      "text/plain": [
       "<IPython.core.display.Markdown object>"
      ]
     },
     "metadata": {},
     "output_type": "display_data"
    }
   ],
   "source": [
    "prompt = \"\"\"\n",
    "Você é um **engenheiro de QA experiente**, especializado em testes funcionais e validação de requisitos.\n",
    "Sua tarefa é **criar um plano de testes** com base na seguinte história técnica:\n",
    "\n",
    "* O campo de nome de usuário deve aceitar apenas e-mails válidos.\n",
    "* A senha deve ter entre 8 e 20 caracteres, contendo letras maiúsculas, minúsculas, números e caracteres especiais.\n",
    "* O sistema deve permitir no máximo 3 tentativas de login. Após isso, um captcha deve ser exibido.\n",
    "* O link \"lembrar senha\" deve levar o usuário para a tela correspondente.\n",
    "\n",
    "Desenvolva os testes necessários para garantir que essas regras sejam corretamente implementadas.\n",
    "\"\"\"\n",
    "\n",
    "display(Markdown(f\"*Prompt:*\"))\n",
    "display(Markdown(f\"----\"))\n",
    "display(Markdown(f\"{prompt}\"))\n",
    "display(Markdown(f\"----\"))\n",
    "\n",
    "response = llm.invoke(prompt)\n",
    "\n",
    "display(Markdown(f\"*Resposta:*\"))\n",
    "display(Markdown(f\"----\"))\n",
    "display(Markdown(f\"{response.content}\"))\n",
    "display(Markdown(f\"----\"))"
   ]
  },
  {
   "cell_type": "markdown",
   "id": "586ac5d8-8cf8-49f9-8cf4-8eb52350d278",
   "metadata": {},
   "source": [
    "## Por que este prompt é do tipo RF (Role-Task)?\n",
    "\n",
    "\n",
    "* Role (Papel): define que o modelo deve agir como um engenheiro de QA experiente.\n",
    "    *  Este prompt ainda é zero-shot, mas com **papel bem definido**, o que já melhora significativamente a qualidade da resposta (Engenheiro de QA).\n",
    "* Task (Tarefa): define claramente o que deve ser feito — neste caso, criar um plano de testes com base na história técnica (HT).\n",
    "    *  Esse prompt agora orienta o modelo sobre **quem ele é e o que deve fazer**, o que já é suficiente para obter uma resposta com muito mais foco e relevância."
   ]
  },
  {
   "cell_type": "markdown",
   "id": "610c845a-6e04-40f2-b3b1-f1332b40b0c7",
   "metadata": {},
   "source": [
    "## Aqui vou usar apenas zero shot com a definição do papel (Role), tarefa (Task) e formato (Format)\n",
    "\n",
    "- Aqui vamos introduzir o **formato Gherkin (Given–When–Then)**"
   ]
  },
  {
   "cell_type": "code",
   "execution_count": 4,
   "id": "73a23023-96a4-43d4-bdb1-6fbac93b5642",
   "metadata": {},
   "outputs": [
    {
     "data": {
      "text/markdown": [
       "*Prompt:*"
      ],
      "text/plain": [
       "<IPython.core.display.Markdown object>"
      ]
     },
     "metadata": {},
     "output_type": "display_data"
    },
    {
     "data": {
      "text/markdown": [
       "----"
      ],
      "text/plain": [
       "<IPython.core.display.Markdown object>"
      ]
     },
     "metadata": {},
     "output_type": "display_data"
    },
    {
     "data": {
      "text/markdown": [
       "\n",
       "Você é um **engenheiro de QA experiente**, especializado em testes funcionais e validação de requisitos.\n",
       "Sua tarefa é **criar um plano de testes** com base na seguinte história técnica:\n",
       "\n",
       "* O campo de nome de usuário deve aceitar apenas e-mails válidos.\n",
       "* A senha deve ter entre 8 e 20 caracteres, contendo letras maiúsculas, minúsculas, números e caracteres especiais.\n",
       "* O sistema deve permitir no máximo 3 tentativas de login. Após isso, um captcha deve ser exibido.\n",
       "* O link \"lembrar senha\" deve levar o usuário para a tela correspondente.\n",
       "\n",
       "Apresente os testes no **formato Gherkin (Given–When–Then)**, utilizando cenários claros e \n",
       "objetivos que validem cada uma das regras descritas.\n",
       "\n",
       "Desenvolva os testes necessários para garantir que essas regras sejam corretamente implementadas.\n",
       "\n",
       "Siga **rigorosamente** o seguinte formato:\n",
       "\n",
       "```\n",
       "Teste n: Título do teste\n",
       "Cenário: Resumo do cenário testado\n",
       "\n",
       "Dado: uma determinada condição\n",
       "Quando: uma determinada ação \n",
       "Então: resultado esperado\n",
       "```\n"
      ],
      "text/plain": [
       "<IPython.core.display.Markdown object>"
      ]
     },
     "metadata": {},
     "output_type": "display_data"
    },
    {
     "data": {
      "text/markdown": [
       "----"
      ],
      "text/plain": [
       "<IPython.core.display.Markdown object>"
      ]
     },
     "metadata": {},
     "output_type": "display_data"
    },
    {
     "data": {
      "text/markdown": [
       "*Resposta:*"
      ],
      "text/plain": [
       "<IPython.core.display.Markdown object>"
      ]
     },
     "metadata": {},
     "output_type": "display_data"
    },
    {
     "data": {
      "text/markdown": [
       "----"
      ],
      "text/plain": [
       "<IPython.core.display.Markdown object>"
      ]
     },
     "metadata": {},
     "output_type": "display_data"
    },
    {
     "data": {
      "text/markdown": [
       "Aqui está um plano de testes para o sistema com base na história técnica fornecida:\n",
       "\n",
       "**Teste 1: Verificação do campo de nome de usuário**\n",
       "\n",
       "Cenário: Testar a validação do campo de nome de usuário\n",
       "\n",
       "Dado: O usuário insere um e-mail inválido no campo de nome de usuário\n",
       "Quando: Clica em \"Entrar\"\n",
       "Então: A mensagem de erro é exibida, indicando que o e-mail não é válido\n",
       "\n",
       "**Teste 2: Verificação da senha**\n",
       "\n",
       "Cenário: Testar a validação da senha\n",
       "\n",
       "Dado: O usuário insere uma senha com menos de 8 caracteres\n",
       "Quando: Clica em \"Entrar\"\n",
       "Então: A mensagem de erro é exibida, indicando que a senha deve ter entre 8 e 20 caracteres\n",
       "\n",
       "**Teste 3: Verificação do número de tentativas**\n",
       "\n",
       "Cenário: Testar o limite de tentativas de login\n",
       "\n",
       "Dado: O usuário insere uma senha correta, mas não é reconhecida pelo sistema\n",
       "Quando: O usuário tenta novamente a senha por 3 vezes\n",
       "Então: Um captcha é exibido após a terceira tentativa\n",
       "\n",
       "**Teste 4: Verificação do link \"Lembrar senha\"**\n",
       "\n",
       "Cenário: Testar o funcionamento do link \"Lembrar senha\"\n",
       "\n",
       "Dado: O usuário não se lembra da senha e clica no link \"Lembrar senha\"\n",
       "Quando: O sistema redireciona para a tela de login com a opção de lembrar senha ativada\n",
       "Então: A senha é preenchida automaticamente no campo de login\n",
       "\n",
       "**Teste 5: Verificação do captcha**\n",
       "\n",
       "Cenário: Testar o funcionamento do captcha após o limite de tentativas\n",
       "\n",
       "Dado: O usuário tenta novamente a senha após o limite de 3 tentativas\n",
       "Quando: O sistema exibe um captcha\n",
       "Então: O usuário deve preencher o captcha para poder acessar o sistema\n",
       "\n",
       "**Teste 6: Verificação da senha com caracteres especiais**\n",
       "\n",
       "Cenário: Testar a validação da senha com caracteres especiais\n",
       "\n",
       "Dado: O usuário insere uma senha com caracteres especiais, como \"@#$\", em vez de números\n",
       "Quando: Clica em \"Entrar\"\n",
       "Então: A mensagem de erro é exibida, indicando que a senha deve conter apenas letras maiúsculas, minúsculas, números e caracteres especiais\n",
       "\n",
       "**Teste 7: Verificação da senha com letras maiúsculas e minúsculas**\n",
       "\n",
       "Cenário: Testar a validação da senha com letras maiúsculas e minúsculas\n",
       "\n",
       "Dado: O usuário insere uma senha sem letras maiúsculas ou minúsculas\n",
       "Quando: Clica em \"Entrar\"\n",
       "Então: A mensagem de erro é exibida, indicando que a senha deve conter apenas letras maiúsculas, minúsculas, números e caracteres especiais\n",
       "\n",
       "Esses testes devem ajudar a garantir que as regras descritas na história técnica sejam corretamente implementadas no sistema."
      ],
      "text/plain": [
       "<IPython.core.display.Markdown object>"
      ]
     },
     "metadata": {},
     "output_type": "display_data"
    },
    {
     "data": {
      "text/markdown": [
       "----"
      ],
      "text/plain": [
       "<IPython.core.display.Markdown object>"
      ]
     },
     "metadata": {},
     "output_type": "display_data"
    }
   ],
   "source": [
    "prompt = \"\"\"\n",
    "Você é um **engenheiro de QA experiente**, especializado em testes funcionais e validação de requisitos.\n",
    "Sua tarefa é **criar um plano de testes** com base na seguinte história técnica:\n",
    "\n",
    "* O campo de nome de usuário deve aceitar apenas e-mails válidos.\n",
    "* A senha deve ter entre 8 e 20 caracteres, contendo letras maiúsculas, minúsculas, números e caracteres especiais.\n",
    "* O sistema deve permitir no máximo 3 tentativas de login. Após isso, um captcha deve ser exibido.\n",
    "* O link \"lembrar senha\" deve levar o usuário para a tela correspondente.\n",
    "\n",
    "Apresente os testes no **formato Gherkin (Given–When–Then)**, utilizando cenários claros e \n",
    "objetivos que validem cada uma das regras descritas.\n",
    "\n",
    "Desenvolva os testes necessários para garantir que essas regras sejam corretamente implementadas.\n",
    "\n",
    "Siga **rigorosamente** o seguinte formato:\n",
    "\n",
    "```\n",
    "Teste n: Título do teste\n",
    "Cenário: Resumo do cenário testado\n",
    "\n",
    "Dado: uma determinada condição\n",
    "Quando: uma determinada ação \n",
    "Então: resultado esperado\n",
    "```\n",
    "\"\"\"\n",
    "\n",
    "display(Markdown(f\"*Prompt:*\"))\n",
    "display(Markdown(f\"----\"))\n",
    "display(Markdown(f\"{prompt}\"))\n",
    "display(Markdown(f\"----\"))\n",
    "\n",
    "response = llm.invoke(prompt)\n",
    "\n",
    "display(Markdown(f\"*Resposta:*\"))\n",
    "display(Markdown(f\"----\"))\n",
    "display(Markdown(f\"{response.content}\"))\n",
    "display(Markdown(f\"----\"))"
   ]
  },
  {
   "cell_type": "markdown",
   "id": "1208adef-8138-489f-b372-d5bd15bf0568",
   "metadata": {},
   "source": [
    "## Aqui vou usar apenas zero shot com a definição do papel (Role), tarefa (Task) e formato (Format)\n",
    "\n",
    "- Aqui vamos utilizar o formato de *checklist*"
   ]
  },
  {
   "cell_type": "code",
   "execution_count": 5,
   "id": "e95bb3d9-c6a5-4fb5-9aa3-9848687eccb0",
   "metadata": {},
   "outputs": [
    {
     "data": {
      "text/markdown": [
       "*Prompt:*"
      ],
      "text/plain": [
       "<IPython.core.display.Markdown object>"
      ]
     },
     "metadata": {},
     "output_type": "display_data"
    },
    {
     "data": {
      "text/markdown": [
       "----"
      ],
      "text/plain": [
       "<IPython.core.display.Markdown object>"
      ]
     },
     "metadata": {},
     "output_type": "display_data"
    },
    {
     "data": {
      "text/markdown": [
       "\n",
       "Você é um **engenheiro de QA experiente**, especializado em testes funcionais e validação de requisitos.\n",
       "Sua tarefa é **criar um plano de testes** com base na seguinte história técnica:\n",
       "\n",
       "* O campo de nome de usuário deve aceitar apenas e-mails válidos.\n",
       "* A senha deve ter entre 8 e 20 caracteres, contendo letras maiúsculas, minúsculas, números e caracteres especiais.\n",
       "* O sistema deve permitir no máximo 3 tentativas de login. Após isso, um captcha deve ser exibido.\n",
       "* O link \"lembrar senha\" deve levar o usuário para a tela correspondente.\n",
       "\n",
       "Desenvolva os testes necessários para garantir que essas regras sejam corretamente implementadas.\n",
       "\n",
       "Siga **rigorosamente** de checklist:\n",
       "\n",
       "```\n",
       "Teste n: \n",
       "\n",
       "[ ] Item 1\n",
       "[ ] Item 2\n",
       "[ ] Item 3\n",
       "[ ] ...\n",
       "[ ] Item n\n",
       "```\n"
      ],
      "text/plain": [
       "<IPython.core.display.Markdown object>"
      ]
     },
     "metadata": {},
     "output_type": "display_data"
    },
    {
     "data": {
      "text/markdown": [
       "----"
      ],
      "text/plain": [
       "<IPython.core.display.Markdown object>"
      ]
     },
     "metadata": {},
     "output_type": "display_data"
    },
    {
     "data": {
      "text/markdown": [
       "*Resposta:*"
      ],
      "text/plain": [
       "<IPython.core.display.Markdown object>"
      ]
     },
     "metadata": {},
     "output_type": "display_data"
    },
    {
     "data": {
      "text/markdown": [
       "----"
      ],
      "text/plain": [
       "<IPython.core.display.Markdown object>"
      ]
     },
     "metadata": {},
     "output_type": "display_data"
    },
    {
     "data": {
      "text/markdown": [
       "**Plano de Testes**\n",
       "\n",
       "**Teste 1: Validação de e-mail de usuário**\n",
       "\n",
       "* Objetivo: Verificar se o campo de nome de usuário aceita apenas e-mails válidos.\n",
       "* Passos:\n",
       "\t1. Digite um e-mail inválido (ex.: \"não é um e-mail válido\")\n",
       "\t2. Insira o e-mail em um campo de texto\n",
       "\t3. Confirme que o campo esteja vazio ou com erro\n",
       "* Resultados esperados: O campo não aceita o e-mail inválido e exibe um erro.\n",
       "\n",
       "**Teste 2: Validação da senha**\n",
       "\n",
       "* Objetivo: Verificar se a senha tem entre 8 e 20 caracteres, contendo letras maiúsculas, minúsculas, números e caracteres especiais.\n",
       "* Passos:\n",
       "\t1. Crie uma senha com menos de 8 caracteres\n",
       "\t2. Insira a senha em um campo de texto\n",
       "\t3. Confirme que o campo esteja vazio ou com erro\n",
       "\t4. Crie uma senha com mais de 20 caracteres\n",
       "\t5. Insira a senha em um campo de texto\n",
       "\t6. Confirme que o campo esteja vazio ou com erro\n",
       "* Resultados esperados: A senha tem entre 8 e 20 caracteres, contendo letras maiúsculas, minúsculas, números e caracteres especiais.\n",
       "\n",
       "**Teste 3: Limitação de tentativas de login**\n",
       "\n",
       "* Objetivo: Verificar se o sistema limita as tentativas de login a no máximo 3.\n",
       "* Passos:\n",
       "\t1. Tente fazer login com uma senha válida\n",
       "\t2. Tente fazer login novamente com a mesma senha (para testar o recuo)\n",
       "\t3. Confirme que o sistema exibe um captcha após a segunda tentativa\n",
       "* Resultados esperados: O sistema limita as tentativas de login a no máximo 3 e exibe um captcha após a segunda tentativa.\n",
       "\n",
       "**Teste 4: Link \"lembrar senha\"**\n",
       "\n",
       "* Objetivo: Verificar se o link \"lembrar senha\" leva o usuário para a tela correspondente.\n",
       "* Passos:\n",
       "\t1. Clique em \"lembrar senha\"\n",
       "\t2. Confirme que o usuário é redirecionado para a tela de login\n",
       "* Resultados esperados: O link \"lembrar senha\" leva o usuário para a tela de login.\n",
       "\n",
       "**Teste 5: Comportamento com captchas**\n",
       "\n",
       "* Objetivo: Verificar se o sistema exibe um captcha após a quarta tentativa de login.\n",
       "* Passos:\n",
       "\t1. Tente fazer login com uma senha inválida\n",
       "\t2. Tente fazer login novamente com a mesma senha (para testar o recuo)\n",
       "\t3. Confirme que o sistema exibe um captcha após a terceira tentativa\n",
       "\t4. Confirme que o usuário pode fazer login após resolver o captcha\n",
       "* Resultados esperados: O sistema exibe um captcha após a quarta tentativa de login e o usuário pode fazer login após resolvê-lo.\n",
       "\n",
       "**Teste 6: Erro de login com senha inválida**\n",
       "\n",
       "* Objetivo: Verificar se o sistema exibe um erro de login quando a senha é inválida.\n",
       "* Passos:\n",
       "\t1. Tente fazer login com uma senha inválida\n",
       "\t2. Confirme que o sistema exibe um erro de login\n",
       "* Resultados esperados: O sistema exibe um erro de login quando a senha é inválida.\n",
       "\n",
       "**Teste 7: Erro de login com e-mail inválido**\n",
       "\n",
       "* Objetivo: Verificar se o sistema exibe um erro de login quando o e-mail de usuário é inválido.\n",
       "* Passos:\n",
       "\t1. Digite um e-mail inválido\n",
       "\t2. Insira o e-mail em um campo de texto\n",
       "\t3. Confirme que o sistema exibe um erro de login\n",
       "* Resultados esperados: O sistema exibe um erro de login quando o e-mail de usuário é inválido.\n",
       "\n",
       "**Teste 8: Comportamento com senha válida**\n",
       "\n",
       "* Objetivo: Verificar se o sistema permite a entrada do usuário após uma tentativa correta.\n",
       "* Passos:\n",
       "\t1. Tente fazer login com uma senha válida\n",
       "\t2. Confirme que o sistema exibe um sucesso de login\n",
       "* Resultados esperados: O sistema permite a entrada do usuário após uma tentativa correta.\n",
       "\n",
       "**Teste 9: Comportamento com senha diferente**\n",
       "\n",
       "* Objetivo: Verificar se o sistema exibe um erro de login quando a senha é diferente da senha inicial.\n",
       "* Passos:\n",
       "\t1. Tente fazer login com uma senha válida\n",
       "\t2. Altere a senha para uma nova senha\n",
       "\t3. Confirme que o sistema exibe um erro de login\n",
       "* Resultados esperados: O sistema exibe um erro de login quando a senha é diferente da senha inicial.\n",
       "\n",
       "**Teste 10: Comportamento com senha correta**\n",
       "\n",
       "* Objetivo: Verificar se o sistema permite a entrada do usuário após uma tentativa correta.\n",
       "* Passos:\n",
       "\t1. Tente fazer login com uma senha válida\n",
       "\t2. Confirme que o sistema exibe um sucesso de login\n",
       "* Resultados esperados: O sistema permite a entrada do usuário após uma tentativa correta.\n",
       "\n",
       "**Teste 11: Comportamento com senha mais longa**\n",
       "\n",
       "* Objetivo: Verificar se o sistema aceita senhas mais longas.\n",
       "* Passos:\n",
       "\t1. Crie uma senha muito longa\n",
       "\t2. Insira a senha em um campo de texto\n",
       "\t3. Confirme que o sistema exibe um sucesso de login\n",
       "* Resultados esperados: O sistema aceita senhas mais longas.\n",
       "\n",
       "**Teste 12: Comportamento com senha mais curta**\n",
       "\n",
       "* Objetivo: Verificar se o sistema não aceita senhas muito curtas.\n",
       "* Passos:\n",
       "\t1. Crie uma senha muito curta\n",
       "\t2. Insira a senha em um campo de texto\n",
       "\t3. Confirme que o sistema exibe um erro de login\n",
       "* Resultados esperados: O sistema não aceita senhas muito curtas.\n",
       "\n",
       "Esses testes devem ser realizados para garantir que as regras de login sejam corretamente implementadas no sistema."
      ],
      "text/plain": [
       "<IPython.core.display.Markdown object>"
      ]
     },
     "metadata": {},
     "output_type": "display_data"
    },
    {
     "data": {
      "text/markdown": [
       "----"
      ],
      "text/plain": [
       "<IPython.core.display.Markdown object>"
      ]
     },
     "metadata": {},
     "output_type": "display_data"
    }
   ],
   "source": [
    "prompt = \"\"\"\n",
    "Você é um **engenheiro de QA experiente**, especializado em testes funcionais e validação de requisitos.\n",
    "Sua tarefa é **criar um plano de testes** com base na seguinte história técnica:\n",
    "\n",
    "* O campo de nome de usuário deve aceitar apenas e-mails válidos.\n",
    "* A senha deve ter entre 8 e 20 caracteres, contendo letras maiúsculas, minúsculas, números e caracteres especiais.\n",
    "* O sistema deve permitir no máximo 3 tentativas de login. Após isso, um captcha deve ser exibido.\n",
    "* O link \"lembrar senha\" deve levar o usuário para a tela correspondente.\n",
    "\n",
    "Desenvolva os testes necessários para garantir que essas regras sejam corretamente implementadas.\n",
    "\n",
    "Siga **rigorosamente** de checklist:\n",
    "\n",
    "```\n",
    "Teste n: \n",
    "\n",
    "[ ] Item 1\n",
    "[ ] Item 2\n",
    "[ ] Item 3\n",
    "[ ] ...\n",
    "[ ] Item n\n",
    "```\n",
    "\"\"\"\n",
    "\n",
    "display(Markdown(f\"*Prompt:*\"))\n",
    "display(Markdown(f\"----\"))\n",
    "display(Markdown(f\"{prompt}\"))\n",
    "display(Markdown(f\"----\"))\n",
    "\n",
    "response = llm.invoke(prompt)\n",
    "\n",
    "display(Markdown(f\"*Resposta:*\"))\n",
    "display(Markdown(f\"----\"))\n",
    "display(Markdown(f\"{response.content}\"))\n",
    "display(Markdown(f\"----\"))"
   ]
  },
  {
   "cell_type": "code",
   "execution_count": null,
   "id": "16932eef-37ab-47c2-a5a9-c4a46014bc2d",
   "metadata": {},
   "outputs": [],
   "source": []
  },
  {
   "cell_type": "code",
   "execution_count": null,
   "id": "8afcabac-af23-476f-a990-2eeaa7890d0c",
   "metadata": {},
   "outputs": [],
   "source": []
  }
 ],
 "metadata": {
  "kernelspec": {
   "display_name": "Python 3 (ipykernel)",
   "language": "python",
   "name": "python3"
  },
  "language_info": {
   "codemirror_mode": {
    "name": "ipython",
    "version": 3
   },
   "file_extension": ".py",
   "mimetype": "text/x-python",
   "name": "python",
   "nbconvert_exporter": "python",
   "pygments_lexer": "ipython3",
   "version": "3.11.9"
  }
 },
 "nbformat": 4,
 "nbformat_minor": 5
}
