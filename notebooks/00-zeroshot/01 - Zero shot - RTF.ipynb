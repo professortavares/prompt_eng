{
 "cells": [
  {
   "cell_type": "markdown",
   "id": "c7ea3230-a9bf-4eb7-8315-5655d1b33088",
   "metadata": {},
   "source": [
    "# ZERO SHOT - RTF\n",
    "\n",
    "RTF significa:\n",
    "\n",
    "* **Role (Papel)** – define quem o modelo deve ser (ex: engenheiro de QA, desenvolvedor, analista).\n",
    "* **Task (Tarefa)** – define o que o modelo deve fazer (ex: gerar plano de teste, criar casos, revisar código).\n",
    "* **Format (Formato)** – define como o resultado deve ser apresentado (ex: lista, tabela, em linguagem Gherkin, texto estruturado).\n",
    "\n",
    "Foco no **Papel** de quem está executando a ação.\n",
    "\n",
    "\n",
    "A técnica de prompt RTF (Role, Task, Format) oferece uma estrutura clara e eficaz para comunicação com modelos de linguagem, maximizando a precisão e a utilidade das respostas geradas. "
   ]
  },
  {
   "cell_type": "code",
   "execution_count": 2,
   "id": "2bec1d33-8863-45f2-abe8-8cb1f1ad0c5a",
   "metadata": {},
   "outputs": [],
   "source": [
    "# Imports necessários\n",
    "from langchain_openai import ChatOpenAI\n",
    "from IPython.display import display, Markdown\n",
    "from pathlib import Path\n",
    "import os\n",
    "from dotenv import load_dotenv"
   ]
  },
  {
   "cell_type": "code",
   "execution_count": 3,
   "id": "5d47d289-54a0-4779-93e3-586705a2b779",
   "metadata": {},
   "outputs": [
    {
     "data": {
      "text/plain": [
       "True"
      ]
     },
     "execution_count": 3,
     "metadata": {},
     "output_type": "execute_result"
    }
   ],
   "source": [
    "dotenv_path = Path(\"../.env\")\n",
    "load_dotenv(dotenv_path=dotenv_path)"
   ]
  },
  {
   "cell_type": "code",
   "execution_count": 4,
   "id": "5c6d84b6-bfe6-40b0-8e5e-8fa9992853b5",
   "metadata": {},
   "outputs": [],
   "source": [
    "os.environ[\"OPENAI_API_KEY\"] = os.getenv(\"OPENAI_API_KEY\")\n",
    "llm = ChatOpenAI(model=\"gpt-4o-mini\")"
   ]
  },
  {
   "cell_type": "markdown",
   "id": "15d0119c-353f-4134-a5da-61f4220682b2",
   "metadata": {},
   "source": [
    "## Aqui vou usar apenas zero shot com a definição do papel (Role) e tarefa (Task)"
   ]
  },
  {
   "cell_type": "code",
   "execution_count": 5,
   "id": "c3adb196-4f52-494a-b50f-b05167db6f2d",
   "metadata": {},
   "outputs": [
    {
     "data": {
      "text/markdown": [
       "*Prompt:*"
      ],
      "text/plain": [
       "<IPython.core.display.Markdown object>"
      ]
     },
     "metadata": {},
     "output_type": "display_data"
    },
    {
     "data": {
      "text/markdown": [
       "----"
      ],
      "text/plain": [
       "<IPython.core.display.Markdown object>"
      ]
     },
     "metadata": {},
     "output_type": "display_data"
    },
    {
     "data": {
      "text/markdown": [
       "\n",
       "Você é um **engenheiro de QA experiente**, especializado em testes funcionais e validação de requisitos.\n",
       "Sua tarefa é **criar um plano de testes** com base na seguinte história técnica:\n",
       "\n",
       "* O campo de nome de usuário deve aceitar apenas e-mails válidos.\n",
       "* A senha deve ter entre 8 e 20 caracteres, contendo letras maiúsculas, minúsculas, números e caracteres especiais.\n",
       "* O sistema deve permitir no máximo 3 tentativas de login. Após isso, um captcha deve ser exibido.\n",
       "* O link \"lembrar senha\" deve levar o usuário para a tela correspondente.\n",
       "\n",
       "Desenvolva os testes necessários para garantir que essas regras sejam corretamente implementadas.\n"
      ],
      "text/plain": [
       "<IPython.core.display.Markdown object>"
      ]
     },
     "metadata": {},
     "output_type": "display_data"
    },
    {
     "data": {
      "text/markdown": [
       "----"
      ],
      "text/plain": [
       "<IPython.core.display.Markdown object>"
      ]
     },
     "metadata": {},
     "output_type": "display_data"
    },
    {
     "data": {
      "text/markdown": [
       "*Resposta:*"
      ],
      "text/plain": [
       "<IPython.core.display.Markdown object>"
      ]
     },
     "metadata": {},
     "output_type": "display_data"
    },
    {
     "data": {
      "text/markdown": [
       "----"
      ],
      "text/plain": [
       "<IPython.core.display.Markdown object>"
      ]
     },
     "metadata": {},
     "output_type": "display_data"
    },
    {
     "data": {
      "text/markdown": [
       "**Plano de Testes para Validação de Requisitos da História Técnica**\n",
       "\n",
       "### Objetivo\n",
       "Garantir que os requisitos para o campo de nome de usuário e senha, controle de tentativas de login e funcionalidade do link \"lembrar senha\" sejam implementados corretamente e funcionem conforme o esperado.\n",
       "\n",
       "### Escopo\n",
       "Este plano de testes abrange a validação das regras de negócio relacionadas ao login do sistema, incluindo:\n",
       "\n",
       "1. Validação do campo de nome de usuário\n",
       "2. Validação da senha\n",
       "3. Controle de tentativas de login\n",
       "4. Funcionamento do link \"lembrar senha\"\n",
       "\n",
       "### Estratégia de Teste\n",
       "Os testes serão executados em diferentes níveis:\n",
       "- **Testes Funcionais:** Para garantir que as funcionalidades atendem aos requisitos especificados.\n",
       "- **Testes de Usabilidade:** Para verificar se a interface é intuitiva e os usuários conseguem navegar facilmente.\n",
       "- **Testes de Segurança:** Para verificar se as tentativas de ataque (ex: força bruta) são mitigadas corretamente.\n",
       "\n",
       "### Casos de Teste\n",
       "\n",
       "#### 1. Validação do Campo de Nome de Usuário\n",
       "- **CT01**: Testar e-mail válido\n",
       "  - **Entrada:** usuario@exemplo.com\n",
       "  - **Resultado Esperado:** Login bem-sucedido (campo aceito).\n",
       "\n",
       "- **CT02**: Testar e-mail inválido (sem @)\n",
       "  - **Entrada:** usuario.exemplo.com\n",
       "  - **Resultado Esperado:** Mensagem de erro (campo rejeitado).\n",
       "\n",
       "- **CT03**: Testar e-mail inválido (domínio sem .)\n",
       "  - **Entrada:** usuario@exemplo\n",
       "  - **Resultado Esperado:** Mensagem de erro (campo rejeitado).\n",
       "\n",
       "- **CT04**: Testar e-mail suporte a múltiplos domínios\n",
       "  - **Entrada:** usuario@sub.exemplo.com.br\n",
       "  - **Resultado Esperado:** Login bem-sucedido (campo aceito).\n",
       "\n",
       "- **CT05**: Testar e-mail com caracteres especiais válidos\n",
       "  - **Entrada:** usuario+teste@exemplo.com\n",
       "  - **Resultado Esperado:** Login bem-sucedido (campo aceito).\n",
       "\n",
       "#### 2. Validação da Senha\n",
       "- **CT06**: Testar senha válida\n",
       "  - **Entrada:** Abc123!@#\n",
       "  - **Resultado Esperado:** Login bem-sucedido (senha aceita).\n",
       "\n",
       "- **CT07**: Testar senha com menos de 8 caracteres\n",
       "  - **Entrada:** Abc12!\n",
       "  - **Resultado Esperado:** Mensagem de erro (senha rejeitada).\n",
       "\n",
       "- **CT08**: Testar senha com mais de 20 caracteres\n",
       "  - **Entrada:** Abcdefghijklmnopqrstuvwxy!\n",
       "  - **Resultado Esperado:** Mensagem de erro (senha rejeitada).\n",
       "\n",
       "- **CT09**: Testar senha sem letras maiúsculas\n",
       "  - **Entrada:** abc123!@\n",
       "  - **Resultado Esperado:** Mensagem de erro (senha rejeitada).\n",
       "\n",
       "- **CT10**: Testar senha sem letras minúsculas\n",
       "  - **Entrada:** ABC123!@\n",
       "  - **Resultado Esperado:** Mensagem de erro (senha rejeitada).\n",
       "\n",
       "- **CT11**: Testar senha sem números\n",
       "  - **Entrada:** Abcdefgh!\n",
       "  - **Resultado Esperado:** Mensagem de erro (senha rejeitada).\n",
       "\n",
       "- **CT12**: Testar senha sem caracteres especiais\n",
       "  - **Entrada:** Abcde1234\n",
       "  - **Resultado Esperado:** Mensagem de erro (senha rejeitada).\n",
       "\n",
       "\n",
       "#### 3. Controle de Tentativas de Login\n",
       "- **CT13**: Testar 3 tentativas de login inválidas\n",
       "  - **Entrada:** usuario@exemplo.com, senha: Invalida (três vezes)\n",
       "  - **Resultado Esperado:** Mensagem informando que o login falhou e exibição do captcha.\n",
       "\n",
       "- **CT14**: Testar bloqueio após 3 tentativas e resolução do captcha\n",
       "  - **Entrada:** Captcha preenchido corretamente\n",
       "  - **Resultado Esperado:** Login restaurado com tentativas adicionais permitidas.\n",
       "\n",
       "- **CT15**: Testar se o sistema aceita login após completar o captcha\n",
       "  - **Entrada:** usuario@exemplo.com, senha: correta\n",
       "  - **Resultado Esperado:** Login bem-sucedido.\n",
       "\n",
       "#### 4. Funcionalidade do Link \"Lembrar Senha\"\n",
       "- **CT16**: Verificar funcionamento do link \"lembrar senha\"\n",
       "  - **Entrada:** Clique no link\n",
       "  - **Resultado Esperado:** O usuário é redirecionado para a tela de recuperação de senha.\n",
       "\n",
       "### Recursos Necessários\n",
       "- Ambiente de Teste (staging ou desenvolvimento)\n",
       "- Acesso ao sistema\n",
       "- Ferramentas para automação de testes (se aplicável)\n",
       "- Documentação de requisitos e especificações\n",
       "\n",
       "### Cronograma\n",
       "Os testes serão realizados em um período de [inserir tempo, ex: 2 semanas], onde cada fase de teste será revisada e os resultados documentados.\n",
       "\n",
       "### Critérios de Sucesso\n",
       "- Todos os casos de teste devem passar.\n",
       "- Erros identificados devem ser corrigidos e retestados.\n",
       "- A aplicação funciona conforme as especificações e padrões de usabilidade e segurança.\n",
       "\n",
       "### Conclusão\n",
       "Este plano de testes fornece uma abordagem abrangente para validar os requisitos da história técnica. Os resultados dos testes serão analisados e, se necessário, ações corretivas serão implementadas para garantir a qualidade do sistema."
      ],
      "text/plain": [
       "<IPython.core.display.Markdown object>"
      ]
     },
     "metadata": {},
     "output_type": "display_data"
    },
    {
     "data": {
      "text/markdown": [
       "----"
      ],
      "text/plain": [
       "<IPython.core.display.Markdown object>"
      ]
     },
     "metadata": {},
     "output_type": "display_data"
    }
   ],
   "source": [
    "prompt = \"\"\"\n",
    "Você é um **engenheiro de QA experiente**, especializado em testes funcionais e validação de requisitos.\n",
    "Sua tarefa é **criar um plano de testes** com base na seguinte história técnica:\n",
    "\n",
    "* O campo de nome de usuário deve aceitar apenas e-mails válidos.\n",
    "* A senha deve ter entre 8 e 20 caracteres, contendo letras maiúsculas, minúsculas, números e caracteres especiais.\n",
    "* O sistema deve permitir no máximo 3 tentativas de login. Após isso, um captcha deve ser exibido.\n",
    "* O link \"lembrar senha\" deve levar o usuário para a tela correspondente.\n",
    "\n",
    "Desenvolva os testes necessários para garantir que essas regras sejam corretamente implementadas.\n",
    "\"\"\"\n",
    "\n",
    "display(Markdown(f\"*Prompt:*\"))\n",
    "display(Markdown(f\"----\"))\n",
    "display(Markdown(f\"{prompt}\"))\n",
    "display(Markdown(f\"----\"))\n",
    "\n",
    "response = llm.invoke(prompt)\n",
    "\n",
    "display(Markdown(f\"*Resposta:*\"))\n",
    "display(Markdown(f\"----\"))\n",
    "display(Markdown(f\"{response.content}\"))\n",
    "display(Markdown(f\"----\"))"
   ]
  },
  {
   "cell_type": "markdown",
   "id": "586ac5d8-8cf8-49f9-8cf4-8eb52350d278",
   "metadata": {},
   "source": [
    "## Por que este prompt é do tipo RF (Role-Task)?\n",
    "\n",
    "\n",
    "* Role (Papel): define que o modelo deve agir como um engenheiro de QA experiente.\n",
    "    *  Este prompt ainda é zero-shot, mas com **papel bem definido**, o que já melhora significativamente a qualidade da resposta (Engenheiro de QA).\n",
    "* Task (Tarefa): define claramente o que deve ser feito — neste caso, criar um plano de testes com base na história técnica (HT).\n",
    "    *  Esse prompt agora orienta o modelo sobre **quem ele é e o que deve fazer**, o que já é suficiente para obter uma resposta com muito mais foco e relevância."
   ]
  },
  {
   "cell_type": "markdown",
   "id": "610c845a-6e04-40f2-b3b1-f1332b40b0c7",
   "metadata": {},
   "source": [
    "## Aqui vou usar apenas zero shot com a definição do papel (Role), tarefa (Task) e formato (Format)\n",
    "\n",
    "- Aqui vamos introduzir o **formato Gherkin (Given–When–Then)**"
   ]
  },
  {
   "cell_type": "code",
   "execution_count": 8,
   "id": "73a23023-96a4-43d4-bdb1-6fbac93b5642",
   "metadata": {},
   "outputs": [
    {
     "data": {
      "text/markdown": [
       "*Prompt:*"
      ],
      "text/plain": [
       "<IPython.core.display.Markdown object>"
      ]
     },
     "metadata": {},
     "output_type": "display_data"
    },
    {
     "data": {
      "text/markdown": [
       "----"
      ],
      "text/plain": [
       "<IPython.core.display.Markdown object>"
      ]
     },
     "metadata": {},
     "output_type": "display_data"
    },
    {
     "data": {
      "text/markdown": [
       "\n",
       "Você é um **engenheiro de QA experiente**, especializado em testes funcionais e validação de requisitos.\n",
       "Sua tarefa é **criar um plano de testes** com base na seguinte história técnica:\n",
       "\n",
       "* O campo de nome de usuário deve aceitar apenas e-mails válidos.\n",
       "* A senha deve ter entre 8 e 20 caracteres, contendo letras maiúsculas, minúsculas, números e caracteres especiais.\n",
       "* O sistema deve permitir no máximo 3 tentativas de login. Após isso, um captcha deve ser exibido.\n",
       "* O link \"lembrar senha\" deve levar o usuário para a tela correspondente.\n",
       "\n",
       "Apresente os testes no **formato Gherkin (Given–When–Then)**, utilizando cenários claros e \n",
       "objetivos que validem cada uma das regras descritas.\n",
       "\n",
       "Desenvolva os testes necessários para garantir que essas regras sejam corretamente implementadas.\n",
       "\n",
       "Siga **rigorosamente** o seguinte formato:\n",
       "\n",
       "```\n",
       "**Teste n**: Título do teste\n",
       "**Cenário**: Resumo do cenário testado\n",
       "\n",
       "**Dado**: uma determinada condição\n",
       "**Quando**: uma determinada ação \n",
       "**Então**: resultado esperado\n",
       "```\n"
      ],
      "text/plain": [
       "<IPython.core.display.Markdown object>"
      ]
     },
     "metadata": {},
     "output_type": "display_data"
    },
    {
     "data": {
      "text/markdown": [
       "----"
      ],
      "text/plain": [
       "<IPython.core.display.Markdown object>"
      ]
     },
     "metadata": {},
     "output_type": "display_data"
    },
    {
     "data": {
      "text/markdown": [
       "*Resposta:*"
      ],
      "text/plain": [
       "<IPython.core.display.Markdown object>"
      ]
     },
     "metadata": {},
     "output_type": "display_data"
    },
    {
     "data": {
      "text/markdown": [
       "----"
      ],
      "text/plain": [
       "<IPython.core.display.Markdown object>"
      ]
     },
     "metadata": {},
     "output_type": "display_data"
    },
    {
     "data": {
      "text/markdown": [
       "**Teste 1**: Validação de e-mail no campo de nome de usuário  \n",
       "**Cenário**: O usuário tenta registrar ou fazer login com um nome de usuário que não é um e-mail válido.\n",
       "\n",
       "**Dado**: um campo de nome de usuário  \n",
       "**Quando**: o usuário insere \"usuario-invalido\"  \n",
       "**Então**: o sistema deve exibir uma mensagem de erro indicando que é necessário um e-mail válido  \n",
       "\n",
       "---\n",
       "\n",
       "**Teste 2**: Aceitação de e-mail válido no campo de nome de usuário  \n",
       "**Cenário**: O usuário tenta registrar ou fazer login com um nome de usuário que é um e-mail válido.\n",
       "\n",
       "**Dado**: um campo de nome de usuário  \n",
       "**Quando**: o usuário insere \"usuario@exemplo.com\"  \n",
       "**Então**: o sistema deve aceitar o e-mail e prosseguir para a próxima etapa  \n",
       "\n",
       "---\n",
       "\n",
       "**Teste 3**: Validação de senha com número insuficiente de caracteres  \n",
       "**Cenário**: O usuário tenta cadastrar ou fazer login com uma senha que tem menos de 8 caracteres.\n",
       "\n",
       "**Dado**: um campo de senha  \n",
       "**Quando**: o usuário insere \"abc123\"  \n",
       "**Então**: o sistema deve exibir uma mensagem de erro indicando que a senha deve ter entre 8 e 20 caracteres  \n",
       "\n",
       "---\n",
       "\n",
       "**Teste 4**: Validação de senha com número excessivo de caracteres  \n",
       "**Cenário**: O usuário tenta cadastrar ou fazer login com uma senha que tem mais de 20 caracteres.\n",
       "\n",
       "**Dado**: um campo de senha  \n",
       "**Quando**: o usuário insere \"SenhaMuitoLonga12345!!\"  \n",
       "**Então**: o sistema deve exibir uma mensagem de erro indicando que a senha deve ter entre 8 e 20 caracteres  \n",
       "\n",
       "---\n",
       "\n",
       "**Teste 5**: Validação de senha sem caracteres especiais  \n",
       "**Cenário**: O usuário tenta cadastrar ou fazer login com uma senha que não contém caracteres especiais.\n",
       "\n",
       "**Dado**: um campo de senha  \n",
       "**Quando**: o usuário insere \"Senha123\"  \n",
       "**Então**: o sistema deve exibir uma mensagem de erro indicando que a senha deve conter letras maiúsculas, minúsculas, números e caracteres especiais  \n",
       "\n",
       "---\n",
       "\n",
       "**Teste 6**: Validação de senha com todos os critérios atendidos  \n",
       "**Cenário**: O usuário tenta cadastrar ou fazer login com uma senha que atende a todos os critérios.\n",
       "\n",
       "**Dado**: um campo de senha  \n",
       "**Quando**: o usuário insere \"Senha!123\"  \n",
       "**Então**: o sistema deve aceitar a senha e prosseguir para a próxima etapa  \n",
       "\n",
       "---\n",
       "\n",
       "**Teste 7**: Controle de tentativas de login  \n",
       "**Cenário**: O usuário tenta logar mais de 3 vezes com credenciais inválidas.\n",
       "\n",
       "**Dado**: um usuário que tenta logar com credenciais inválidas  \n",
       "**Quando**: o usuário tenta logar 4 vezes  \n",
       "**Então**: o sistema deve exibir um CAPTCHA na quarta tentativa de login  \n",
       "\n",
       "---\n",
       "\n",
       "**Teste 8**: Acesso ao link \"lembrar senha\"  \n",
       "**Cenário**: O usuário clica no link \"lembrar senha\".\n",
       "\n",
       "**Dado**: a tela de login exibida  \n",
       "**Quando**: o usuário clica no link \"lembrar senha\"  \n",
       "**Então**: o sistema deve redirecionar o usuário para a tela de recuperação de senha  \n",
       "\n",
       "--- \n",
       "\n",
       "Esses testes devem abranger as regras e funcionalidades descritas na história técnica, assegurando que o sistema funcione como esperado."
      ],
      "text/plain": [
       "<IPython.core.display.Markdown object>"
      ]
     },
     "metadata": {},
     "output_type": "display_data"
    },
    {
     "data": {
      "text/markdown": [
       "----"
      ],
      "text/plain": [
       "<IPython.core.display.Markdown object>"
      ]
     },
     "metadata": {},
     "output_type": "display_data"
    }
   ],
   "source": [
    "prompt = \"\"\"\n",
    "Você é um **engenheiro de QA experiente**, especializado em testes funcionais e validação de requisitos.\n",
    "Sua tarefa é **criar um plano de testes** com base na seguinte história técnica:\n",
    "\n",
    "* O campo de nome de usuário deve aceitar apenas e-mails válidos.\n",
    "* A senha deve ter entre 8 e 20 caracteres, contendo letras maiúsculas, minúsculas, números e caracteres especiais.\n",
    "* O sistema deve permitir no máximo 3 tentativas de login. Após isso, um captcha deve ser exibido.\n",
    "* O link \"lembrar senha\" deve levar o usuário para a tela correspondente.\n",
    "\n",
    "Apresente os testes no **formato Gherkin (Given–When–Then)**, utilizando cenários claros e \n",
    "objetivos que validem cada uma das regras descritas.\n",
    "\n",
    "Desenvolva os testes necessários para garantir que essas regras sejam corretamente implementadas.\n",
    "\n",
    "Siga **rigorosamente** o seguinte formato:\n",
    "\n",
    "```\n",
    "**Teste n**: Título do teste\n",
    "**Cenário**: Resumo do cenário testado\n",
    "\n",
    "**Dado**: uma determinada condição\n",
    "**Quando**: uma determinada ação \n",
    "**Então**: resultado esperado\n",
    "```\n",
    "\"\"\"\n",
    "\n",
    "display(Markdown(f\"*Prompt:*\"))\n",
    "display(Markdown(f\"----\"))\n",
    "display(Markdown(f\"{prompt}\"))\n",
    "display(Markdown(f\"----\"))\n",
    "\n",
    "response = llm.invoke(prompt)\n",
    "\n",
    "display(Markdown(f\"*Resposta:*\"))\n",
    "display(Markdown(f\"----\"))\n",
    "display(Markdown(f\"{response.content}\"))\n",
    "display(Markdown(f\"----\"))"
   ]
  },
  {
   "cell_type": "markdown",
   "id": "1208adef-8138-489f-b372-d5bd15bf0568",
   "metadata": {},
   "source": [
    "## Aqui vou usar apenas zero shot com a definição do papel (Role), tarefa (Task) e formato (Format)\n",
    "\n",
    "- Aqui vamos utilizar o formato de *checklist*"
   ]
  },
  {
   "cell_type": "code",
   "execution_count": 7,
   "id": "e95bb3d9-c6a5-4fb5-9aa3-9848687eccb0",
   "metadata": {},
   "outputs": [
    {
     "data": {
      "text/markdown": [
       "*Prompt:*"
      ],
      "text/plain": [
       "<IPython.core.display.Markdown object>"
      ]
     },
     "metadata": {},
     "output_type": "display_data"
    },
    {
     "data": {
      "text/markdown": [
       "----"
      ],
      "text/plain": [
       "<IPython.core.display.Markdown object>"
      ]
     },
     "metadata": {},
     "output_type": "display_data"
    },
    {
     "data": {
      "text/markdown": [
       "\n",
       "Você é um **engenheiro de QA experiente**, especializado em testes funcionais e validação de requisitos.\n",
       "Sua tarefa é **criar um plano de testes** com base na seguinte história técnica:\n",
       "\n",
       "* O campo de nome de usuário deve aceitar apenas e-mails válidos.\n",
       "* A senha deve ter entre 8 e 20 caracteres, contendo letras maiúsculas, minúsculas, números e caracteres especiais.\n",
       "* O sistema deve permitir no máximo 3 tentativas de login. Após isso, um captcha deve ser exibido.\n",
       "* O link \"lembrar senha\" deve levar o usuário para a tela correspondente.\n",
       "\n",
       "Desenvolva os testes necessários para garantir que essas regras sejam corretamente implementadas.\n",
       "\n",
       "Siga **rigorosamente** de checklist:\n",
       "\n",
       "```\n",
       "Teste n: \n",
       "\n",
       "[ ] Item 1\n",
       "[ ] Item 2\n",
       "[ ] Item 3\n",
       "[ ] ...\n",
       "[ ] Item n\n",
       "```\n"
      ],
      "text/plain": [
       "<IPython.core.display.Markdown object>"
      ]
     },
     "metadata": {},
     "output_type": "display_data"
    },
    {
     "data": {
      "text/markdown": [
       "----"
      ],
      "text/plain": [
       "<IPython.core.display.Markdown object>"
      ]
     },
     "metadata": {},
     "output_type": "display_data"
    },
    {
     "data": {
      "text/markdown": [
       "*Resposta:*"
      ],
      "text/plain": [
       "<IPython.core.display.Markdown object>"
      ]
     },
     "metadata": {},
     "output_type": "display_data"
    },
    {
     "data": {
      "text/markdown": [
       "----"
      ],
      "text/plain": [
       "<IPython.core.display.Markdown object>"
      ]
     },
     "metadata": {},
     "output_type": "display_data"
    },
    {
     "data": {
      "text/markdown": [
       "Claro! Aqui está um plano de testes rigoroso seguindo o checklist solicitado para a história técnica apresentada:\n",
       "\n",
       "### Testes Funcionais para Requisitos de Login\n",
       "\n",
       "#### Teste 1: Validação do Campo de Nome de Usuário\n",
       "\n",
       "[ ] Testar se o campo de nome de usuário aceita e-mails válidos (ex: usuario@exemplo.com).  \n",
       "[ ] Testar se o campo de nome de usuário rejeita e-mails inválidos (ex: usuario@exemplo).  \n",
       "[ ] Testar se o campo de nome de usuário rejeita formatos não relacionados a e-mails (ex: \"usuariodisplay\").  \n",
       "[ ] Testar se o campo de nome de usuário aceita e-mails com caracteres especiais válidos (ex: usuario.nome@exemplo.com).  \n",
       "[ ] Testar se o campo de nome de usuário rejeita e-mails com caracteres especiais inválidos (ex: usuario!#@exemplo.com).  \n",
       "\n",
       "#### Teste 2: Validação da Senha\n",
       "\n",
       "[ ] Testar se o sistema aceita senhas com 8 a 20 caracteres com pelo menos uma letra maiúscula, uma letra minúscula, um número e um caractere especial (ex: \"Senha23!\").  \n",
       "[ ] Testar se o sistema rejeita senhas com menos de 8 caracteres (ex: \"Sen23!\").  \n",
       "[ ] Testar se o sistema rejeita senhas com mais de 20 caracteres (ex: \"SenhaExemploMuitoLonga123!\").  \n",
       "[ ] Testar se o sistema rejeita senhas sem letras maiúsculas (ex: \"senha123!\").  \n",
       "[ ] Testar se o sistema rejeita senhas sem letras minúsculas (ex: \"SENHA123!\").  \n",
       "[ ] Testar se o sistema rejeita senhas sem números (ex: \"SenhaEspecial!\").  \n",
       "[ ] Testar se o sistema rejeita senhas sem caracteres especiais (ex: \"Senha123\").  \n",
       "\n",
       "#### Teste 3: Limite de Tentativas de Login\n",
       "\n",
       "[ ] Realizar 3 tentativas de login com credenciais inválidas e verificar se o sistema não permite o login e exibe um aviso de erro.  \n",
       "[ ] Testar se, após 3 tentativas de login com falhas, o captcha é exibido.  \n",
       "[ ] Verificar se o captcha impede novas tentativas de login até que seja resolvido.  \n",
       "[ ] Testar se, após resolver o captcha, o usuário é capaz de tentar efetuar login novamente.  \n",
       "\n",
       "#### Teste 4: Funcionalidade do Link \"Lembrar Senha\"\n",
       "\n",
       "[ ] Testar se o link \"lembrar senha\" está visível na tela de login.  \n",
       "[ ] Testar se o clique no link \"lembrar senha\" redireciona o usuário para a tela correspondente de recuperação de senha.  \n",
       "[ ] Verificar se a tela de recuperação de senha possui as funcionalidades necessárias (ex: formulário de recuperação, envio de e-mail, etc.).  \n",
       "\n",
       "Esse plano de teste aborda todos os requisitos definidos e garante que os principais casos e comportamentos esperados do sistema sejam validados rigorosamente."
      ],
      "text/plain": [
       "<IPython.core.display.Markdown object>"
      ]
     },
     "metadata": {},
     "output_type": "display_data"
    },
    {
     "data": {
      "text/markdown": [
       "----"
      ],
      "text/plain": [
       "<IPython.core.display.Markdown object>"
      ]
     },
     "metadata": {},
     "output_type": "display_data"
    }
   ],
   "source": [
    "prompt = \"\"\"\n",
    "Você é um **engenheiro de QA experiente**, especializado em testes funcionais e validação de requisitos.\n",
    "Sua tarefa é **criar um plano de testes** com base na seguinte história técnica:\n",
    "\n",
    "* O campo de nome de usuário deve aceitar apenas e-mails válidos.\n",
    "* A senha deve ter entre 8 e 20 caracteres, contendo letras maiúsculas, minúsculas, números e caracteres especiais.\n",
    "* O sistema deve permitir no máximo 3 tentativas de login. Após isso, um captcha deve ser exibido.\n",
    "* O link \"lembrar senha\" deve levar o usuário para a tela correspondente.\n",
    "\n",
    "Desenvolva os testes necessários para garantir que essas regras sejam corretamente implementadas.\n",
    "\n",
    "Siga **rigorosamente** de checklist:\n",
    "\n",
    "```\n",
    "Teste n: \n",
    "\n",
    "[ ] Item 1\n",
    "[ ] Item 2\n",
    "[ ] Item 3\n",
    "[ ] ...\n",
    "[ ] Item n\n",
    "```\n",
    "\"\"\"\n",
    "\n",
    "display(Markdown(f\"*Prompt:*\"))\n",
    "display(Markdown(f\"----\"))\n",
    "display(Markdown(f\"{prompt}\"))\n",
    "display(Markdown(f\"----\"))\n",
    "\n",
    "response = llm.invoke(prompt)\n",
    "\n",
    "display(Markdown(f\"*Resposta:*\"))\n",
    "display(Markdown(f\"----\"))\n",
    "display(Markdown(f\"{response.content}\"))\n",
    "display(Markdown(f\"----\"))"
   ]
  },
  {
   "cell_type": "code",
   "execution_count": null,
   "id": "16932eef-37ab-47c2-a5a9-c4a46014bc2d",
   "metadata": {},
   "outputs": [],
   "source": []
  },
  {
   "cell_type": "code",
   "execution_count": null,
   "id": "8afcabac-af23-476f-a990-2eeaa7890d0c",
   "metadata": {},
   "outputs": [],
   "source": []
  }
 ],
 "metadata": {
  "kernelspec": {
   "display_name": "Python 3 (ipykernel)",
   "language": "python",
   "name": "python3"
  },
  "language_info": {
   "codemirror_mode": {
    "name": "ipython",
    "version": 3
   },
   "file_extension": ".py",
   "mimetype": "text/x-python",
   "name": "python",
   "nbconvert_exporter": "python",
   "pygments_lexer": "ipython3",
   "version": "3.11.9"
  }
 },
 "nbformat": 4,
 "nbformat_minor": 5
}
