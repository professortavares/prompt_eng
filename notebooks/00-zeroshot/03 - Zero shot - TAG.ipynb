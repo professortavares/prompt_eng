{
 "cells": [
  {
   "cell_type": "markdown",
   "id": "c7ea3230-a9bf-4eb7-8315-5655d1b33088",
   "metadata": {},
   "source": [
    "# ZERO SHOT - TAG\n",
    "\n",
    "TAG significa:\n",
    "\n",
    "* **Task (Tarefa)** – Define claramente o que o modelo deve fazer. É o ponto de partida que apresenta o problema ou necessidade principal.\n",
    "* **Action (Ação)** – Descreve como o modelo deve executar a tarefa, indicando o tipo de abordagem, método ou formato esperado..\n",
    "* **Goal (Objetivo)** – esclarece o propósito final da atividade, ou seja, o que o usuário deseja alcançar com o resultado. Isso ajuda o modelo a adaptar seu tom, profundidade e foco.."
   ]
  },
  {
   "cell_type": "code",
   "execution_count": 1,
   "id": "2bec1d33-8863-45f2-abe8-8cb1f1ad0c5a",
   "metadata": {},
   "outputs": [],
   "source": [
    "# Imports necessários\n",
    "from langchain_openai import ChatOpenAI\n",
    "from IPython.display import display, Markdown\n",
    "from pathlib import Path\n",
    "import os\n",
    "from dotenv import load_dotenv"
   ]
  },
  {
   "cell_type": "code",
   "execution_count": 2,
   "id": "5c6d84b6-bfe6-40b0-8e5e-8fa9992853b5",
   "metadata": {},
   "outputs": [
    {
     "data": {
      "text/plain": [
       "True"
      ]
     },
     "execution_count": 2,
     "metadata": {},
     "output_type": "execute_result"
    }
   ],
   "source": [
    "dotenv_path = Path(\"../.env\")\n",
    "load_dotenv(dotenv_path=dotenv_path)"
   ]
  },
  {
   "cell_type": "code",
   "execution_count": 3,
   "id": "d7a5d2b1-f52a-43be-81f9-6e3b825aef16",
   "metadata": {},
   "outputs": [],
   "source": [
    "os.environ[\"OPENAI_API_KEY\"] = os.getenv(\"OPENAI_API_KEY\")\n",
    "llm = ChatOpenAI(model=\"gpt-4o-mini\")"
   ]
  },
  {
   "cell_type": "markdown",
   "id": "15d0119c-353f-4134-a5da-61f4220682b2",
   "metadata": {},
   "source": [
    "## Aqui vou usar apenas zero shot com a definição do Tarefa (Task), Ação (Action) e Objetivo (Goal)"
   ]
  },
  {
   "cell_type": "code",
   "execution_count": 4,
   "id": "c3adb196-4f52-494a-b50f-b05167db6f2d",
   "metadata": {},
   "outputs": [
    {
     "data": {
      "text/markdown": [
       "*Prompt:*"
      ],
      "text/plain": [
       "<IPython.core.display.Markdown object>"
      ]
     },
     "metadata": {},
     "output_type": "display_data"
    },
    {
     "data": {
      "text/markdown": [
       "----"
      ],
      "text/plain": [
       "<IPython.core.display.Markdown object>"
      ]
     },
     "metadata": {},
     "output_type": "display_data"
    },
    {
     "data": {
      "text/markdown": [
       "\n",
       "**Tarefa:**\n",
       "Você atuará como um engenheiro de QA responsável por validar a \n",
       "funcionalidade de uma tela de login.\n",
       "\n",
       "**Ação:**\n",
       "Com base nos requisitos abaixo, elabore um plano de testes \n",
       "cobrindo casos positivos e negativos. Especifique os testes com \n",
       "clareza, incluindo as condições de entrada, os passos a seguir e os \n",
       "resultados esperados.\n",
       "\n",
       "**Objetivo:**\n",
       "Garantir que a funcionalidade da tela de login atenda a todos os critérios exigidos, \n",
       "contribuindo para a entrega de um software confiável e seguro.\n",
       "\n",
       "**Requisitos da tela de login:**\n",
       "\n",
       "* O campo de nome de usuário deve aceitar apenas e-mails válidos.\n",
       "* A senha deve ter entre 8 e 20 caracteres, contendo letras maiúsculas, minúsculas, números e caracteres especiais.\n",
       "* O sistema deve permitir no máximo 3 tentativas de login. Após isso, um captcha deve ser exibido.\n",
       "* O link \"lembrar senha\" deve levar o usuário para a tela correspondente.\n",
       "\n"
      ],
      "text/plain": [
       "<IPython.core.display.Markdown object>"
      ]
     },
     "metadata": {},
     "output_type": "display_data"
    },
    {
     "data": {
      "text/markdown": [
       "----"
      ],
      "text/plain": [
       "<IPython.core.display.Markdown object>"
      ]
     },
     "metadata": {},
     "output_type": "display_data"
    },
    {
     "data": {
      "text/markdown": [
       "*Resposta:*"
      ],
      "text/plain": [
       "<IPython.core.display.Markdown object>"
      ]
     },
     "metadata": {},
     "output_type": "display_data"
    },
    {
     "data": {
      "text/markdown": [
       "----"
      ],
      "text/plain": [
       "<IPython.core.display.Markdown object>"
      ]
     },
     "metadata": {},
     "output_type": "display_data"
    },
    {
     "data": {
      "text/markdown": [
       "### Plano de Testes para Tela de Login\n",
       "\n",
       "#### Objetivo:\n",
       "Validar a funcionalidade da tela de login para garantir que atende a todos os requisitos especificados.\n",
       "\n",
       "#### Casos de Teste\n",
       "\n",
       "**Caso de Teste 1: Login com e-mail válido e senha correta (Caso Positivo)**\n",
       "- **Condições de entrada:**\n",
       "  - Nome de usuário: `usuario@gmail.com`\n",
       "  - Senha: `Senha@123`\n",
       "  \n",
       "- **Passos:**\n",
       "  1. Acessar a tela de login.\n",
       "  2. Inserir o nome de usuário no campo de entrada.\n",
       "  3. Inserir a senha no campo de entrada.\n",
       "  4. Clicar no botão \"Entrar\".\n",
       "\n",
       "- **Resultado esperado:**\n",
       "  - O usuário deve ser autenticado com sucesso e redirecionado para a página inicial.\n",
       "\n",
       "---\n",
       "\n",
       "**Caso de Teste 2: Login com e-mail inválido (Caso Negativo)**\n",
       "- **Condições de entrada:**\n",
       "  - Nome de usuário: `usuario@invalido`\n",
       "  - Senha: `Senha@123`\n",
       "  \n",
       "- **Passos:**\n",
       "  1. Acessar a tela de login.\n",
       "  2. Inserir o nome de usuário no campo de entrada.\n",
       "  3. Inserir a senha no campo de entrada.\n",
       "  4. Clicar no botão \"Entrar\".\n",
       "\n",
       "- **Resultado esperado:**\n",
       "  - Uma mensagem de erro deve ser exibida informando que o e-mail é inválido.\n",
       "\n",
       "---\n",
       "\n",
       "**Caso de Teste 3: Login com senha fora do limite permitido (Caso Negativo)**\n",
       "- **Condições de entrada:**\n",
       "  - Nome de usuário: `usuario@gmail.com`\n",
       "  - Senha: `12345` (menos de 8 caracteres)\n",
       "  \n",
       "- **Passos:**\n",
       "  1. Acessar a tela de login.\n",
       "  2. Inserir o nome de usuário no campo de entrada.\n",
       "  3. Inserir a senha no campo de entrada.\n",
       "  4. Clicar no botão \"Entrar\".\n",
       "\n",
       "- **Resultado esperado:**\n",
       "  - Uma mensagem de erro deve ser exibida informando que a senha deve ter entre 8 a 20 caracteres.\n",
       "\n",
       "---\n",
       "\n",
       "**Caso de Teste 4: Login com senha sem caracteres especiais (Caso Negativo)**\n",
       "- **Condições de entrada:**\n",
       "  - Nome de usuário: `usuario@gmail.com`\n",
       "  - Senha: `senhadomuitofu123` (não contém caracteres especiais)\n",
       "  \n",
       "- **Passos:**\n",
       "  1. Acessar a tela de login.\n",
       "  2. Inserir o nome de usuário no campo de entrada.\n",
       "  3. Inserir a senha no campo de entrada.\n",
       "  4. Clicar no botão \"Entrar\".\n",
       "\n",
       "- **Resultado esperado:**\n",
       "  - Uma mensagem de erro deve ser exibida informando que a senha deve incluir letras maiúsculas, minúsculas, números e caracteres especiais.\n",
       "\n",
       "---\n",
       "\n",
       "**Caso de Teste 5: Tentativas de login ultrapassadas (Caso Negativo)**\n",
       "- **Condições de entrada:**\n",
       "  - Nome de usuário: `usuario@gmail.com`\n",
       "  - Senha: `SenhaErrada@1` (tentativa incorreta)\n",
       "  \n",
       "- **Passos:**\n",
       "  1. Acessar a tela de login.\n",
       "  2. Inserir o nome de usuário no campo de entrada.\n",
       "  3. Inserir a senha no campo de entrada.\n",
       "  4. Clicar no botão \"Entrar\" (repetir 3 vezes com senhas incorretas).\n",
       "\n",
       "- **Resultado esperado:**\n",
       "  - Após 3 tentativas de login falhadas, um captcha deve ser exibido, bloqueando o acesso ao botão \"Entrar\".\n",
       "\n",
       "---\n",
       "\n",
       "**Caso de Teste 6: Testar o link ‘lembrar senha’ (Caso Positivo)**\n",
       "- **Condições de entrada:**\n",
       "  - Acessar a tela de login.\n",
       "\n",
       "- **Passos:**\n",
       "  1. Encontrar o link \"lembrar senha\" na tela de login.\n",
       "  2. Clicar no link \"lembrar senha\".\n",
       "\n",
       "- **Resultado esperado:**\n",
       "  - O sistema deve redirecionar o usuário para a tela de recuperação de senha.\n",
       "\n",
       "---\n",
       "\n",
       "**Caso de Teste 7: Login com senha correta e e-mail em formato diferente (Caso Positivo)**\n",
       "- **Condições de entrada:**\n",
       "  - Nome de usuário: `usuario@GMAIL.com` (sensibilidade a maiúsculas)\n",
       "  - Senha: `Senha@123`\n",
       "  \n",
       "- **Passos:**\n",
       "  1. Acessar a tela de login.\n",
       "  2. Inserir o nome de usuário no campo de entrada.\n",
       "  3. Inserir a senha no campo de entrada.\n",
       "  4. Clicar no botão \"Entrar\".\n",
       "\n",
       "- **Resultado esperado:**\n",
       "  - O usuário deve ser autenticado com sucesso, independentemente do uso de letras maiúsculas no e-mail.\n",
       "\n",
       "---\n",
       "\n",
       "Este plano de testes abrange uma série de cenários que ajudam a garantir que a funcionalidade da tela de login esteja em conformidade com os requisitos especificados e que o sistema seja seguro e confiável."
      ],
      "text/plain": [
       "<IPython.core.display.Markdown object>"
      ]
     },
     "metadata": {},
     "output_type": "display_data"
    },
    {
     "data": {
      "text/markdown": [
       "----"
      ],
      "text/plain": [
       "<IPython.core.display.Markdown object>"
      ]
     },
     "metadata": {},
     "output_type": "display_data"
    }
   ],
   "source": [
    "prompt = \"\"\"\n",
    "**Tarefa:**\n",
    "Você atuará como um engenheiro de QA responsável por validar a \n",
    "funcionalidade de uma tela de login.\n",
    "\n",
    "**Ação:**\n",
    "Com base nos requisitos abaixo, elabore um plano de testes \n",
    "cobrindo casos positivos e negativos. Especifique os testes com \n",
    "clareza, incluindo as condições de entrada, os passos a seguir e os \n",
    "resultados esperados.\n",
    "\n",
    "**Objetivo:**\n",
    "Garantir que a funcionalidade da tela de login atenda a todos os critérios exigidos, \n",
    "contribuindo para a entrega de um software confiável e seguro.\n",
    "\n",
    "**Requisitos da tela de login:**\n",
    "\n",
    "* O campo de nome de usuário deve aceitar apenas e-mails válidos.\n",
    "* A senha deve ter entre 8 e 20 caracteres, contendo letras maiúsculas, minúsculas, números e caracteres especiais.\n",
    "* O sistema deve permitir no máximo 3 tentativas de login. Após isso, um captcha deve ser exibido.\n",
    "* O link \"lembrar senha\" deve levar o usuário para a tela correspondente.\n",
    "\n",
    "\"\"\"\n",
    "\n",
    "display(Markdown(f\"*Prompt:*\"))\n",
    "display(Markdown(f\"----\"))\n",
    "display(Markdown(f\"{prompt}\"))\n",
    "display(Markdown(f\"----\"))\n",
    "\n",
    "response = llm.invoke(prompt)\n",
    "\n",
    "display(Markdown(f\"*Resposta:*\"))\n",
    "display(Markdown(f\"----\"))\n",
    "display(Markdown(f\"{response.content}\"))\n",
    "display(Markdown(f\"----\"))"
   ]
  },
  {
   "cell_type": "code",
   "execution_count": 5,
   "id": "73a23023-96a4-43d4-bdb1-6fbac93b5642",
   "metadata": {},
   "outputs": [
    {
     "data": {
      "text/markdown": [
       "*Prompt:*"
      ],
      "text/plain": [
       "<IPython.core.display.Markdown object>"
      ]
     },
     "metadata": {},
     "output_type": "display_data"
    },
    {
     "data": {
      "text/markdown": [
       "----"
      ],
      "text/plain": [
       "<IPython.core.display.Markdown object>"
      ]
     },
     "metadata": {},
     "output_type": "display_data"
    },
    {
     "data": {
      "text/markdown": [
       "\n",
       "Você está atuando em um projeto de **qualidade de software** para uma \n",
       "aplicação que possui uma tela de login. A equipe de desenvolvimento \n",
       "entregou uma nova funcionalidade de autenticação que deve seguir os \n",
       "seguintes critérios:\n",
       "\n",
       "* O campo de nome de usuário deve aceitar apenas e-mails válidos.\n",
       "* A senha deve ter entre 8 e 20 caracteres, contendo letras maiúsculas, minúsculas, números e caracteres especiais.\n",
       "* O sistema deve permitir no máximo 3 tentativas de login. Após isso, um captcha deve ser exibido.\n",
       "* O link \"lembrar senha\" deve levar o usuário para a tela correspondente.\n",
       "\n",
       "Apresente os testes no **formato Gherkin (Given–When–Then)**, utilizando cenários claros e \n",
       "objetivos que validem cada uma das regras descritas.\n",
       "\n",
       "Elabore um plano de testes com base nessas regras, assegurando que todos os comportamentos \n",
       "esperados sejam devidamente validados.\n",
       "\n",
       "Siga **rigorosamente** o seguinte formato:\n",
       "\n",
       "```\n",
       "Teste n: Título do teste\n",
       "Cenário: Resumo do cenário testado\n",
       "\n",
       "Dado: uma determinada condição\n",
       "Quando: uma determinada ação \n",
       "Então: resultado esperado\n",
       "```\n"
      ],
      "text/plain": [
       "<IPython.core.display.Markdown object>"
      ]
     },
     "metadata": {},
     "output_type": "display_data"
    },
    {
     "data": {
      "text/markdown": [
       "----"
      ],
      "text/plain": [
       "<IPython.core.display.Markdown object>"
      ]
     },
     "metadata": {},
     "output_type": "display_data"
    },
    {
     "data": {
      "text/markdown": [
       "*Resposta:*"
      ],
      "text/plain": [
       "<IPython.core.display.Markdown object>"
      ]
     },
     "metadata": {},
     "output_type": "display_data"
    },
    {
     "data": {
      "text/markdown": [
       "----"
      ],
      "text/plain": [
       "<IPython.core.display.Markdown object>"
      ]
     },
     "metadata": {},
     "output_type": "display_data"
    },
    {
     "data": {
      "text/markdown": [
       "```\n",
       "Teste 1: Validação de e-mail no campo de nome de usuário\n",
       "Cenário: Usuário insere um e-mail válido\n",
       "\n",
       "Dado: que o usuário está na tela de login\n",
       "Quando: o usuário insere um e-mail válido no campo de nome de usuário\n",
       "Então: o sistema deve aceitar o e-mail e prosseguir para a validação da senha\n",
       "\n",
       "Teste 2: Validação de e-mail no campo de nome de usuário\n",
       "Cenário: Usuário insere um e-mail inválido\n",
       "\n",
       "Dado: que o usuário está na tela de login\n",
       "Quando: o usuário insere um e-mail inválido no campo de nome de usuário\n",
       "Então: o sistema deve exibir uma mensagem de erro indicando que o e-mail é inválido\n",
       "\n",
       "Teste 3: Validação de senha\n",
       "Cenário: Usuário insere uma senha válida\n",
       "\n",
       "Dado: que o usuário está na tela de login\n",
       "Quando: o usuário insere uma senha que atende aos critérios exigidos\n",
       "Então: o sistema deve aceitar a senha e permitir a tentativa de login\n",
       "\n",
       "Teste 4: Validação de senha\n",
       "Cenário: Usuário insere uma senha inválida\n",
       "\n",
       "Dado: que o usuário está na tela de login\n",
       "Quando: o usuário insere uma senha que não atende aos critérios exigidos\n",
       "Então: o sistema deve exibir uma mensagem de erro indicando que a senha é inválida\n",
       "\n",
       "Teste 5: Controle de tentativas de login\n",
       "Cenário: Usuário excede o número máximo de tentativas de login\n",
       "\n",
       "Dado: que o usuário está na tela de login\n",
       "E: o usuário tenta logar com credenciais inválidas 3 vezes\n",
       "Quando: o usuário tenta fazer login pela quarta vez\n",
       "Então: o sistema deve exibir um captcha para validação\n",
       "\n",
       "Teste 6: Exibição do link 'lembrar senha'\n",
       "Cenário: Usuário visualiza o link 'lembrar senha'\n",
       "\n",
       "Dado: que o usuário está na tela de login\n",
       "Quando: o usuário observa a tela\n",
       "Então: o sistema deve exibir o link \"lembrar senha\" que leva o usuário para a tela correspondente\n",
       "\n",
       "Teste 7: Acesso ao link 'lembrar senha'\n",
       "Cenário: Usuário clica no link 'lembrar senha'\n",
       "\n",
       "Dado: que o usuário está na tela de login\n",
       "E: o usuário clica no link \"lembrar senha\"\n",
       "Quando: o sistema redireciona o usuário\n",
       "Então: o sistema deve levar o usuário para a tela de recuperação de senha\n",
       "```"
      ],
      "text/plain": [
       "<IPython.core.display.Markdown object>"
      ]
     },
     "metadata": {},
     "output_type": "display_data"
    },
    {
     "data": {
      "text/markdown": [
       "----"
      ],
      "text/plain": [
       "<IPython.core.display.Markdown object>"
      ]
     },
     "metadata": {},
     "output_type": "display_data"
    }
   ],
   "source": [
    "prompt = \"\"\"\n",
    "Você está atuando em um projeto de **qualidade de software** para uma \n",
    "aplicação que possui uma tela de login. A equipe de desenvolvimento \n",
    "entregou uma nova funcionalidade de autenticação que deve seguir os \n",
    "seguintes critérios:\n",
    "\n",
    "* O campo de nome de usuário deve aceitar apenas e-mails válidos.\n",
    "* A senha deve ter entre 8 e 20 caracteres, contendo letras maiúsculas, minúsculas, números e caracteres especiais.\n",
    "* O sistema deve permitir no máximo 3 tentativas de login. Após isso, um captcha deve ser exibido.\n",
    "* O link \"lembrar senha\" deve levar o usuário para a tela correspondente.\n",
    "\n",
    "Apresente os testes no **formato Gherkin (Given–When–Then)**, utilizando cenários claros e \n",
    "objetivos que validem cada uma das regras descritas.\n",
    "\n",
    "Elabore um plano de testes com base nessas regras, assegurando que todos os comportamentos \n",
    "esperados sejam devidamente validados.\n",
    "\n",
    "Siga **rigorosamente** o seguinte formato:\n",
    "\n",
    "```\n",
    "Teste n: Título do teste\n",
    "Cenário: Resumo do cenário testado\n",
    "\n",
    "Dado: uma determinada condição\n",
    "Quando: uma determinada ação \n",
    "Então: resultado esperado\n",
    "```\n",
    "\"\"\"\n",
    "\n",
    "display(Markdown(f\"*Prompt:*\"))\n",
    "display(Markdown(f\"----\"))\n",
    "display(Markdown(f\"{prompt}\"))\n",
    "display(Markdown(f\"----\"))\n",
    "\n",
    "response = llm.invoke(prompt)\n",
    "\n",
    "display(Markdown(f\"*Resposta:*\"))\n",
    "display(Markdown(f\"----\"))\n",
    "display(Markdown(f\"{response.content}\"))\n",
    "display(Markdown(f\"----\"))"
   ]
  },
  {
   "cell_type": "markdown",
   "id": "c2c1ca7c-55ce-4761-a43f-5d4abb8d6206",
   "metadata": {},
   "source": [
    "## Aqui vou usar apenas zero shot com a definição do Tarefa (Task), Ação (Action) e Objetivo (Goal), porém vou pedir em um formato específico na Action"
   ]
  },
  {
   "cell_type": "code",
   "execution_count": 6,
   "id": "8afcabac-af23-476f-a990-2eeaa7890d0c",
   "metadata": {},
   "outputs": [
    {
     "data": {
      "text/markdown": [
       "*Prompt:*"
      ],
      "text/plain": [
       "<IPython.core.display.Markdown object>"
      ]
     },
     "metadata": {},
     "output_type": "display_data"
    },
    {
     "data": {
      "text/markdown": [
       "----"
      ],
      "text/plain": [
       "<IPython.core.display.Markdown object>"
      ]
     },
     "metadata": {},
     "output_type": "display_data"
    },
    {
     "data": {
      "text/markdown": [
       "\n",
       "**Tarefa:**\n",
       "Você atuará como um engenheiro de QA responsável por validar a funcionalidade de uma \n",
       "tela de login.\n",
       "\n",
       "**Ação:**\n",
       "Com base nos requisitos abaixo, elabore um plano de testes cobrindo casos positivos e \n",
       "negativos. Apresente os testes em **formato de tabela** com as seguintes colunas:\n",
       "\n",
       "* **Número do teste**\n",
       "* **Passos** (descrição clara do que deve ser feito)\n",
       "* **Resultado esperado**\n",
       "\n",
       "**Objetivo:**\n",
       "Garantir que a funcionalidade da tela de login atenda a todos os critérios exigidos, \n",
       "contribuindo para a entrega de um software confiável e seguro.\n",
       "\n",
       "**Requisitos da tela de login:**\n",
       "\n",
       "* O campo de nome de usuário deve aceitar apenas e-mails válidos.\n",
       "* A senha deve ter entre 8 e 20 caracteres, contendo letras maiúsculas, minúsculas, números e caracteres especiais.\n",
       "* O sistema deve permitir no máximo 3 tentativas de login. Após isso, um captcha deve ser exibido.\n",
       "* O link \"lembrar senha\" deve levar o usuário para a tela correspondente.\n",
       "\n"
      ],
      "text/plain": [
       "<IPython.core.display.Markdown object>"
      ]
     },
     "metadata": {},
     "output_type": "display_data"
    },
    {
     "data": {
      "text/markdown": [
       "----"
      ],
      "text/plain": [
       "<IPython.core.display.Markdown object>"
      ]
     },
     "metadata": {},
     "output_type": "display_data"
    },
    {
     "data": {
      "text/markdown": [
       "*Resposta:*"
      ],
      "text/plain": [
       "<IPython.core.display.Markdown object>"
      ]
     },
     "metadata": {},
     "output_type": "display_data"
    },
    {
     "data": {
      "text/markdown": [
       "----"
      ],
      "text/plain": [
       "<IPython.core.display.Markdown object>"
      ]
     },
     "metadata": {},
     "output_type": "display_data"
    },
    {
     "data": {
      "text/markdown": [
       "Segue abaixo um plano de testes para a funcionalidade da tela de login, abrangendo casos positivos e negativos:\n",
       "\n",
       "| Número do Teste | Passos | Resultado Esperado |\n",
       "|------------------|--------|--------------------|\n",
       "| TC001 | 1. Navegar para a tela de login. <br> 2. Inserir um e-mail válido no campo de nome de usuário. <br> 3. Inserir uma senha válida (8-20 caracteres, com letras maiúsculas, minúsculas, números e caracteres especiais). <br> 4. Clicar no botão \"Login\". | O usuário deve ser autenticado e redirecionado para a tela inicial do sistema. |\n",
       "| TC002 | 1. Navegar para a tela de login. <br> 2. Inserir um e-mail inválido no campo de nome de usuário. <br> 3. Inserir uma senha válida. <br> 4. Clicar no botão \"Login\". | Uma mensagem de erro deve ser exibida informando que o e-mail é inválido. |\n",
       "| TC003 | 1. Navegar para a tela de login. <br> 2. Inserir um e-mail válido no campo de nome de usuário. <br> 3. Inserir uma senha com menos de 8 caracteres. <br> 4. Clicar no botão \"Login\". | Uma mensagem de erro deve ser exibida informando que a senha deve ter entre 8 e 20 caracteres. |\n",
       "| TC004 | 1. Navegar para a tela de login. <br> 2. Inserir um e-mail válido no campo de nome de usuário. <br> 3. Inserir uma senha com mais de 20 caracteres. <br> 4. Clicar no botão \"Login\". | Uma mensagem de erro deve ser exibida informando que a senha deve ter entre 8 e 20 caracteres. |\n",
       "| TC005 | 1. Navegar para a tela de login. <br> 2. Inserir um e-mail válido no campo de nome de usuário. <br> 3. Inserir uma senha válida sem letras maiúsculas. <br> 4. Clicar no botão \"Login\". | Uma mensagem de erro deve ser exibida informando que a senha deve conter letras maiúsculas. |\n",
       "| TC006 | 1. Navegar para a tela de login. <br> 2. Inserir um e-mail válido no campo de nome de usuário. <br> 3. Inserir uma senha válida sem números. <br> 4. Clicar no botão \"Login\". | Uma mensagem de erro deve ser exibida informando que a senha deve conter números. |\n",
       "| TC007 | 1. Navegar para a tela de login. <br> 2. Inserir um e-mail válido no campo de nome de usuário. <br> 3. Inserir uma senha válida sem caracteres especiais. <br> 4. Clicar no botão \"Login\". | Uma mensagem de erro deve ser exibida informando que a senha deve conter caracteres especiais. |\n",
       "| TC008 | 1. Navegar para a tela de login. <br> 2. Inserir um e-mail válido. <br> 3. Inserir uma senha incorreta. <br> 4. Clicar no botão \"Login\". | Uma mensagem de erro deve ser exibida informando que a combinação de e-mail e senha está incorreta. |\n",
       "| TC009 | 1. Navegar para a tela de login. <br> 2. Inserir um e-mail válido. <br> 3. Inserir uma senha incorreta. <br> 4. Clicar no botão \"Login\". <br> 5. Repetir os passos com a senha incorreta mais uma vez. | O sistema deve permitir duas tentativas de login incorretas. |\n",
       "| TC010 | 1. Navegar para a tela de login. <br> 2. Inserir um e-mail válido. <br> 3. Inserir uma senha incorreta. <br> 4. Clicar no botão \"Login\". <br> 5. Repetir os passos com a senha incorreta mais uma vez. <br> 6. Repetir os passos com a senha incorreta mais uma vez. | Após a terceira tentativa incorreta, um captcha deve ser exibido e o usuário não deve ser capaz de tentar fazer login novamente até preencher o captcha. |\n",
       "| TC011 | 1. Navegar para a tela de login. <br> 2. Clicar no link \"lembrar senha\". | O usuário deve ser redirecionado para a tela de recuperação de senha. |\n",
       "| TC012 | 1. Navegar para a tela de login. <br> 2. Não preencher os campos de nome de usuário e senha. <br> 3. Clicar no botão \"Login\". | Uma mensagem de erro deve ser exibida informando que os campos são obrigatórios. |\n",
       "\n",
       "Esse planejamento abrange diversos cenários que a funcionalidade da tela de login pode enfrentar, garantindo que ela atenda aos requisitos especificados e forneça uma experiência segura e confiável ao usuário."
      ],
      "text/plain": [
       "<IPython.core.display.Markdown object>"
      ]
     },
     "metadata": {},
     "output_type": "display_data"
    },
    {
     "data": {
      "text/markdown": [
       "----"
      ],
      "text/plain": [
       "<IPython.core.display.Markdown object>"
      ]
     },
     "metadata": {},
     "output_type": "display_data"
    }
   ],
   "source": [
    "prompt = \"\"\"\n",
    "**Tarefa:**\n",
    "Você atuará como um engenheiro de QA responsável por validar a funcionalidade de uma \n",
    "tela de login.\n",
    "\n",
    "**Ação:**\n",
    "Com base nos requisitos abaixo, elabore um plano de testes cobrindo casos positivos e \n",
    "negativos. Apresente os testes em **formato de tabela** com as seguintes colunas:\n",
    "\n",
    "* **Número do teste**\n",
    "* **Passos** (descrição clara do que deve ser feito)\n",
    "* **Resultado esperado**\n",
    "\n",
    "**Objetivo:**\n",
    "Garantir que a funcionalidade da tela de login atenda a todos os critérios exigidos, \n",
    "contribuindo para a entrega de um software confiável e seguro.\n",
    "\n",
    "**Requisitos da tela de login:**\n",
    "\n",
    "* O campo de nome de usuário deve aceitar apenas e-mails válidos.\n",
    "* A senha deve ter entre 8 e 20 caracteres, contendo letras maiúsculas, minúsculas, números e caracteres especiais.\n",
    "* O sistema deve permitir no máximo 3 tentativas de login. Após isso, um captcha deve ser exibido.\n",
    "* O link \"lembrar senha\" deve levar o usuário para a tela correspondente.\n",
    "\n",
    "\"\"\"\n",
    "\n",
    "display(Markdown(f\"*Prompt:*\"))\n",
    "display(Markdown(f\"----\"))\n",
    "display(Markdown(f\"{prompt}\"))\n",
    "display(Markdown(f\"----\"))\n",
    "\n",
    "response = llm.invoke(prompt)\n",
    "\n",
    "display(Markdown(f\"*Resposta:*\"))\n",
    "display(Markdown(f\"----\"))\n",
    "display(Markdown(f\"{response.content}\"))\n",
    "display(Markdown(f\"----\"))"
   ]
  },
  {
   "cell_type": "code",
   "execution_count": null,
   "id": "774474f5-58eb-499a-bd85-3d33a46cd8d7",
   "metadata": {},
   "outputs": [],
   "source": []
  }
 ],
 "metadata": {
  "kernelspec": {
   "display_name": "Python 3 (ipykernel)",
   "language": "python",
   "name": "python3"
  },
  "language_info": {
   "codemirror_mode": {
    "name": "ipython",
    "version": 3
   },
   "file_extension": ".py",
   "mimetype": "text/x-python",
   "name": "python",
   "nbconvert_exporter": "python",
   "pygments_lexer": "ipython3",
   "version": "3.11.9"
  }
 },
 "nbformat": 4,
 "nbformat_minor": 5
}
