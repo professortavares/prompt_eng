{
 "cells": [
  {
   "cell_type": "markdown",
   "id": "c7ea3230-a9bf-4eb7-8315-5655d1b33088",
   "metadata": {},
   "source": [
    "# ZERO SHOT - RISE\n",
    "\n",
    "RISE significa:\n",
    "\n",
    "* **Role (Papel)** – Define quem o modelo deve simular..\n",
    "* **Input (Entrada)** – Apresenta os dados, requisitos ou contexto necessários para que a tarefa possa ser realizada. Deve ser claro, objetivo e diretamente relacionado ao problema.\n",
    "* **Steps (Passos)** - Indica como a LLM deve proceder, passo a passo, para resolver a tarefa.\n",
    "* **Expectation (Expectativa / Resultado)** – Define qual deve ser o formato e a qualidade do resultado esperado.\n",
    "É importante para garantir que a resposta esteja aderente aos objetivos da tarefa.\n"
   ]
  },
  {
   "cell_type": "code",
   "execution_count": 1,
   "id": "2bec1d33-8863-45f2-abe8-8cb1f1ad0c5a",
   "metadata": {},
   "outputs": [],
   "source": [
    "# Imports necessários\n",
    "from langchain_openai import ChatOpenAI\n",
    "from IPython.display import display, Markdown\n",
    "from pathlib import Path\n",
    "import os\n",
    "from dotenv import load_dotenv"
   ]
  },
  {
   "cell_type": "code",
   "execution_count": 2,
   "id": "5c6d84b6-bfe6-40b0-8e5e-8fa9992853b5",
   "metadata": {},
   "outputs": [
    {
     "data": {
      "text/plain": [
       "True"
      ]
     },
     "execution_count": 2,
     "metadata": {},
     "output_type": "execute_result"
    }
   ],
   "source": [
    "dotenv_path = Path(\"../.env\")\n",
    "load_dotenv(dotenv_path=dotenv_path)"
   ]
  },
  {
   "cell_type": "code",
   "execution_count": 3,
   "id": "d7a5d2b1-f52a-43be-81f9-6e3b825aef16",
   "metadata": {},
   "outputs": [],
   "source": [
    "os.environ[\"OPENAI_API_KEY\"] = os.getenv(\"OPENAI_API_KEY\")\n",
    "llm = ChatOpenAI(model=\"gpt-4o-mini\")"
   ]
  },
  {
   "cell_type": "markdown",
   "id": "15d0119c-353f-4134-a5da-61f4220682b2",
   "metadata": {},
   "source": [
    "## Aqui vou usar apenas zero shot com a definição do Papel (Role), Input (Input), Passos (Step) e Expectativa (Expectation)"
   ]
  },
  {
   "cell_type": "code",
   "execution_count": 4,
   "id": "c3adb196-4f52-494a-b50f-b05167db6f2d",
   "metadata": {},
   "outputs": [
    {
     "data": {
      "text/markdown": [
       "*Prompt:*"
      ],
      "text/plain": [
       "<IPython.core.display.Markdown object>"
      ]
     },
     "metadata": {},
     "output_type": "display_data"
    },
    {
     "data": {
      "text/markdown": [
       "----"
      ],
      "text/plain": [
       "<IPython.core.display.Markdown object>"
      ]
     },
     "metadata": {},
     "output_type": "display_data"
    },
    {
     "data": {
      "text/markdown": [
       "\n",
       "**Role:**\n",
       "Você é um engenheiro de QA experiente, especializado em testes funcionais e \n",
       "validação de requisitos de sistemas web.\n",
       "\n",
       "**Input:**\n",
       "A tela de login do sistema possui os seguintes requisitos:\n",
       "\n",
       "* O campo de nome de usuário deve aceitar apenas e-mails válidos.\n",
       "* A senha deve ter entre 8 e 20 caracteres, contendo letras maiúsculas, minúsculas, números e caracteres especiais.\n",
       "* O sistema deve permitir no máximo 3 tentativas de login. Após isso, um captcha deve ser exibido.\n",
       "* O link \"lembrar senha\" deve redirecionar corretamente para a tela de recuperação de senha.\n",
       "\n",
       "**Steps:**\n",
       "\n",
       "1. Analise cada requisito funcional descrito.\n",
       "2. Crie os casos de teste necessários para validar o comportamento esperado de cada item.\n",
       "3. Certifique-se de incluir testes positivos (válidos), negativos (inválidos) e de borda.\n",
       "4. Estruture o plano de testes em **formato Gherkin (Given–When–Then)**:\n",
       "\n",
       "Siga **rigorosamente** o seguinte formato:\n",
       "\n",
       "**Teste n**: Título do teste\n",
       "**Cenário**: Resumo do cenário testado\n",
       "\n",
       "**Dado**: uma determinada condição\n",
       "**Quando**: uma determinada ação \n",
       "**Então**: resultado esperado\n",
       "\n",
       "**Expectation:**\n",
       "Forneça um plano de testes completo e bem estruturado, que cubra todos os \n",
       "requisitos mencionados, garantindo a validação funcional da tela de login.\n"
      ],
      "text/plain": [
       "<IPython.core.display.Markdown object>"
      ]
     },
     "metadata": {},
     "output_type": "display_data"
    },
    {
     "data": {
      "text/markdown": [
       "----"
      ],
      "text/plain": [
       "<IPython.core.display.Markdown object>"
      ]
     },
     "metadata": {},
     "output_type": "display_data"
    },
    {
     "data": {
      "text/markdown": [
       "*Resposta:*"
      ],
      "text/plain": [
       "<IPython.core.display.Markdown object>"
      ]
     },
     "metadata": {},
     "output_type": "display_data"
    },
    {
     "data": {
      "text/markdown": [
       "----"
      ],
      "text/plain": [
       "<IPython.core.display.Markdown object>"
      ]
     },
     "metadata": {},
     "output_type": "display_data"
    },
    {
     "data": {
      "text/markdown": [
       "**Teste 1**: Validação do campo de nome de usuário\n",
       "**Cenário**: Verificar se o campo de nome de usuário aceita apenas e-mails válidos\n",
       "\n",
       "**Dado**: O usuário está na tela de login  \n",
       "**Quando**: O usuário insere um e-mail válido (ex: usuario@exemplo.com) no campo de nome de usuário  \n",
       "**Então**: O sistema deve permitir que o usuário prossiga para a próxima etapa de login  \n",
       "\n",
       "**Dado**: O usuário está na tela de login  \n",
       "**Quando**: O usuário insere um e-mail inválido (ex: usuarioexemplo.com) no campo de nome de usuário  \n",
       "**Então**: O sistema deve exibir uma mensagem de erro indicando que é necessário um e-mail válido  \n",
       "\n",
       "**Dado**: O usuário está na tela de login  \n",
       "**Quando**: O usuário insere um nome de usuário que não é um e-mail (ex: username)  \n",
       "**Então**: O sistema deve exibir uma mensagem de erro indicando que é necessário um e-mail válido  \n",
       "\n",
       "---\n",
       "\n",
       "**Teste 2**: Validação da senha\n",
       "**Cenário**: Garantir que a senha atende aos requisitos estabelecidos\n",
       "\n",
       "**Dado**: O usuário está na tela de login  \n",
       "**Quando**: O usuário insere uma senha válida (ex: Senha123!) com 8 a 20 caracteres, que contém letras maiúsculas, minúsculas, números e caracteres especiais  \n",
       "**Então**: O sistema deve permitir que o usuário prossiga para a próxima etapa de login  \n",
       "\n",
       "**Dado**: O usuário está na tela de login  \n",
       "**Quando**: O usuário insere uma senha menor que 8 caracteres (ex: Abc1!)  \n",
       "**Então**: O sistema deve exibir uma mensagem de erro indicando que a senha deve ter entre 8 e 20 caracteres  \n",
       "\n",
       "**Dado**: O usuário está na tela de login  \n",
       "**Quando**: O usuário insere uma senha maior que 20 caracteres (ex: SenhaMuitoLonga123!!1)  \n",
       "**Então**: O sistema deve exibir uma mensagem de erro indicando que a senha deve ter entre 8 e 20 caracteres  \n",
       "\n",
       "**Dado**: O usuário está na tela de login  \n",
       "**Quando**: O usuário insere uma senha que não contém letras maiúsculas (ex: senha123!)  \n",
       "**Então**: O sistema deve exibir uma mensagem de erro indicando que a senha deve conter letras maiúsculas, minúsculas, números e caracteres especiais  \n",
       "\n",
       "**Dado**: O usuário está na tela de login  \n",
       "**Quando**: O usuário insere uma senha que não contém números (ex: Senha!qwerty)  \n",
       "**Então**: O sistema deve exibir uma mensagem de erro indicando que a senha deve conter letras maiúsculas, minúsculas, números e caracteres especiais  \n",
       "\n",
       "---\n",
       "\n",
       "**Teste 3**: Limitação de tentativas de login e exibição do captcha\n",
       "**Cenário**: Testar a limitação de tentativas de login e a exibição do captcha\n",
       "\n",
       "**Dado**: O usuário está na tela de login  \n",
       "**Quando**: O usuário tenta fazer login com credenciais inválidas 3 vezes  \n",
       "**Então**: O sistema deve exibir um captcha após a terceira tentativa inválida  \n",
       "\n",
       "---\n",
       "\n",
       "**Teste 4**: Funcionamento do link \"lembrar senha\"\n",
       "**Cenário**: Verificar se o link \"lembrar senha\" redireciona corretamente\n",
       "\n",
       "**Dado**: O usuário está na tela de login  \n",
       "**Quando**: O usuário clica no link \"lembrar senha\"  \n",
       "**Então**: O sistema deve redirecionar o usuário para a tela de recuperação de senha  "
      ],
      "text/plain": [
       "<IPython.core.display.Markdown object>"
      ]
     },
     "metadata": {},
     "output_type": "display_data"
    },
    {
     "data": {
      "text/markdown": [
       "----"
      ],
      "text/plain": [
       "<IPython.core.display.Markdown object>"
      ]
     },
     "metadata": {},
     "output_type": "display_data"
    }
   ],
   "source": [
    "prompt = \"\"\"\n",
    "**Role:**\n",
    "Você é um engenheiro de QA experiente, especializado em testes funcionais e \n",
    "validação de requisitos de sistemas web.\n",
    "\n",
    "**Input:**\n",
    "A tela de login do sistema possui os seguintes requisitos:\n",
    "\n",
    "* O campo de nome de usuário deve aceitar apenas e-mails válidos.\n",
    "* A senha deve ter entre 8 e 20 caracteres, contendo letras maiúsculas, minúsculas, números e caracteres especiais.\n",
    "* O sistema deve permitir no máximo 3 tentativas de login. Após isso, um captcha deve ser exibido.\n",
    "* O link \"lembrar senha\" deve redirecionar corretamente para a tela de recuperação de senha.\n",
    "\n",
    "**Steps:**\n",
    "\n",
    "1. Analise cada requisito funcional descrito.\n",
    "2. Crie os casos de teste necessários para validar o comportamento esperado de cada item.\n",
    "3. Certifique-se de incluir testes positivos (válidos), negativos (inválidos) e de borda.\n",
    "4. Estruture o plano de testes em **formato Gherkin (Given–When–Then)**:\n",
    "\n",
    "Siga **rigorosamente** o seguinte formato:\n",
    "\n",
    "**Teste n**: Título do teste\n",
    "**Cenário**: Resumo do cenário testado\n",
    "\n",
    "**Dado**: uma determinada condição\n",
    "**Quando**: uma determinada ação \n",
    "**Então**: resultado esperado\n",
    "\n",
    "**Expectation:**\n",
    "Forneça um plano de testes completo e bem estruturado, que cubra todos os \n",
    "requisitos mencionados, garantindo a validação funcional da tela de login.\n",
    "\"\"\"\n",
    "\n",
    "display(Markdown(f\"*Prompt:*\"))\n",
    "display(Markdown(f\"----\"))\n",
    "display(Markdown(f\"{prompt}\"))\n",
    "display(Markdown(f\"----\"))\n",
    "\n",
    "response = llm.invoke(prompt)\n",
    "\n",
    "display(Markdown(f\"*Resposta:*\"))\n",
    "display(Markdown(f\"----\"))\n",
    "display(Markdown(f\"{response.content}\"))\n",
    "display(Markdown(f\"----\"))"
   ]
  },
  {
   "cell_type": "markdown",
   "id": "819ca8df-4315-44af-b99b-59edfe839de3",
   "metadata": {},
   "source": [
    "## Aqui vou usar apenas zero shot com a definição do Papel (Role), Input (Input), Passos (Step) e Expectativa (Expectation), mas vou trocar o propósito do prompt"
   ]
  },
  {
   "cell_type": "code",
   "execution_count": 5,
   "id": "80ab8b6a-dc73-4247-a6e5-540e678d3b9e",
   "metadata": {},
   "outputs": [
    {
     "data": {
      "text/markdown": [
       "*Prompt:*"
      ],
      "text/plain": [
       "<IPython.core.display.Markdown object>"
      ]
     },
     "metadata": {},
     "output_type": "display_data"
    },
    {
     "data": {
      "text/markdown": [
       "----"
      ],
      "text/plain": [
       "<IPython.core.display.Markdown object>"
      ]
     },
     "metadata": {},
     "output_type": "display_data"
    },
    {
     "data": {
      "text/markdown": [
       "\n",
       "**Role (Papel):**\n",
       "Você é um analista de requisitos experiente em engenharia de software, \n",
       "com foco em clareza, completude, consistência e testabilidade de requisitos. \n",
       "Sua tarefa é revisar criticamente requisitos funcionais com base em boas práticas.\n",
       "\n",
       "**Input (Entrada):**\n",
       "Considere os seguintes requisitos da tela de login de um sistema:\n",
       "\n",
       "1. O campo de nome de usuário deve aceitar apenas e-mails válidos.\n",
       "2. A senha deve ter entre 8 e 20 caracteres, contendo letras maiúsculas, minúsculas, números e caracteres especiais.\n",
       "3. O sistema deve permitir no máximo 3 tentativas de login. Após isso, um captcha deve ser exibido.\n",
       "4. O link \"lembrar senha\" deve levar o usuário para a tela correspondente.\n",
       "\n",
       "**Steps (Passos):**\n",
       "\n",
       "1. Analise cada requisito individualmente.\n",
       "2. Avalie se o requisito é claro, completo e testável.\n",
       "3. Classifique a **qualidade** de cada requisito como: **Boa**, **Regular** ou **Ruim**.\n",
       "4. Forneça uma **justificativa** para a avaliação feita.\n",
       "5. Quando necessário, apresente uma **versão reescrita** do requisito com melhorias propostas.\n",
       "\n",
       "**Expectation (Expectativa):**\n",
       "Forneça a análise em formato tabular, com as colunas:\n",
       "\n",
       "* Número do Requisito\n",
       "* Qualidade\n",
       "* Justificativa\n",
       "* Versão Reescrita (se aplicável)\n"
      ],
      "text/plain": [
       "<IPython.core.display.Markdown object>"
      ]
     },
     "metadata": {},
     "output_type": "display_data"
    },
    {
     "data": {
      "text/markdown": [
       "----"
      ],
      "text/plain": [
       "<IPython.core.display.Markdown object>"
      ]
     },
     "metadata": {},
     "output_type": "display_data"
    },
    {
     "data": {
      "text/markdown": [
       "*Resposta:*"
      ],
      "text/plain": [
       "<IPython.core.display.Markdown object>"
      ]
     },
     "metadata": {},
     "output_type": "display_data"
    },
    {
     "data": {
      "text/markdown": [
       "----"
      ],
      "text/plain": [
       "<IPython.core.display.Markdown object>"
      ]
     },
     "metadata": {},
     "output_type": "display_data"
    },
    {
     "data": {
      "text/markdown": [
       "| Número do Requisito | Qualidade | Justificativa | Versão Reescrita |\n",
       "|---------------------|-----------|----------------|-------------------|\n",
       "| 1                   | Boa      | O requisito é claro e testável, pois define claramente que o campo deve aceitar apenas e-mails válidos. No entanto, poderia ser mais específico quanto à definição de \"e-mails válidos\". | O campo de nome de usuário deve aceitar apenas endereços de e-mail válidos, conforme os padrões estabelecidos pela RFC 5321 e RFC 5322. |\n",
       "| 2                   | Boa      | O requisito é claro e possui critérios bem definidos em relação ao comprimento e aos tipos de caracteres permitidos. É testável, pois se pode verificar se a senha atende a essas condições. | N/A |\n",
       "| 3                   | Regular   | Embora o requisito forneça uma boa ideia da funcionalidade, ele poderia ser mais claro sobre o que acontece após as 3 tentativas e se o captcha será exibido em todas as tentativas erradas ou somente na terceira. | O sistema deve permitir no máximo 3 tentativas de login. Após a terceira tentativa de login falhada, um captcha deve ser exibido para validação do usuário antes que novas tentativas sejam permitidas. |\n",
       "| 4                   | Boa      | O requisito é claro e testável, uma vez que especifica a função do link. No entanto, não indica o que deve ser exibido na tela correspondente. | O link \"lembrar senha\" deve redirecionar o usuário para a tela de recuperação de senha, onde o usuário pode solicitar uma nova senha via e-mail. | \n",
       "\n",
       "Esta análise revisa criticamente os requisitos, buscando atender aos critérios de clareza, completude, consistência e testabilidade, fundamentais para a qualidade do desenvolvimento de software."
      ],
      "text/plain": [
       "<IPython.core.display.Markdown object>"
      ]
     },
     "metadata": {},
     "output_type": "display_data"
    },
    {
     "data": {
      "text/markdown": [
       "----"
      ],
      "text/plain": [
       "<IPython.core.display.Markdown object>"
      ]
     },
     "metadata": {},
     "output_type": "display_data"
    }
   ],
   "source": [
    "prompt = \"\"\"\n",
    "**Role (Papel):**\n",
    "Você é um analista de requisitos experiente em engenharia de software, \n",
    "com foco em clareza, completude, consistência e testabilidade de requisitos. \n",
    "Sua tarefa é revisar criticamente requisitos funcionais com base em boas práticas.\n",
    "\n",
    "**Input (Entrada):**\n",
    "Considere os seguintes requisitos da tela de login de um sistema:\n",
    "\n",
    "1. O campo de nome de usuário deve aceitar apenas e-mails válidos.\n",
    "2. A senha deve ter entre 8 e 20 caracteres, contendo letras maiúsculas, minúsculas, números e caracteres especiais.\n",
    "3. O sistema deve permitir no máximo 3 tentativas de login. Após isso, um captcha deve ser exibido.\n",
    "4. O link \"lembrar senha\" deve levar o usuário para a tela correspondente.\n",
    "\n",
    "**Steps (Passos):**\n",
    "\n",
    "1. Analise cada requisito individualmente.\n",
    "2. Avalie se o requisito é claro, completo e testável.\n",
    "3. Classifique a **qualidade** de cada requisito como: **Boa**, **Regular** ou **Ruim**.\n",
    "4. Forneça uma **justificativa** para a avaliação feita.\n",
    "5. Quando necessário, apresente uma **versão reescrita** do requisito com melhorias propostas.\n",
    "\n",
    "**Expectation (Expectativa):**\n",
    "Forneça a análise em formato tabular, com as colunas:\n",
    "\n",
    "* Número do Requisito\n",
    "* Qualidade\n",
    "* Justificativa\n",
    "* Versão Reescrita (se aplicável)\n",
    "\"\"\"\n",
    "\n",
    "display(Markdown(f\"*Prompt:*\"))\n",
    "display(Markdown(f\"----\"))\n",
    "display(Markdown(f\"{prompt}\"))\n",
    "display(Markdown(f\"----\"))\n",
    "\n",
    "response = llm.invoke(prompt)\n",
    "\n",
    "display(Markdown(f\"*Resposta:*\"))\n",
    "display(Markdown(f\"----\"))\n",
    "display(Markdown(f\"{response.content}\"))\n",
    "display(Markdown(f\"----\"))"
   ]
  },
  {
   "cell_type": "code",
   "execution_count": 6,
   "id": "8afcabac-af23-476f-a990-2eeaa7890d0c",
   "metadata": {},
   "outputs": [
    {
     "data": {
      "text/markdown": [
       "*Prompt:*"
      ],
      "text/plain": [
       "<IPython.core.display.Markdown object>"
      ]
     },
     "metadata": {},
     "output_type": "display_data"
    },
    {
     "data": {
      "text/markdown": [
       "----"
      ],
      "text/plain": [
       "<IPython.core.display.Markdown object>"
      ]
     },
     "metadata": {},
     "output_type": "display_data"
    },
    {
     "data": {
      "text/markdown": [
       "\n",
       "**Tarefa:**\n",
       "Você atuará como um engenheiro de QA responsável por validar a funcionalidade de uma \n",
       "tela de login.\n",
       "\n",
       "**Ação:**\n",
       "Com base nos requisitos abaixo, elabore um plano de testes cobrindo casos positivos e \n",
       "negativos. Apresente os testes em **formato de tabela** com as seguintes colunas:\n",
       "\n",
       "* **Número do teste**\n",
       "* **Passos** (descrição clara do que deve ser feito)\n",
       "* **Resultado esperado**\n",
       "\n",
       "**Objetivo:**\n",
       "Garantir que a funcionalidade da tela de login atenda a todos os critérios exigidos, \n",
       "contribuindo para a entrega de um software confiável e seguro.\n",
       "\n",
       "**Requisitos da tela de login:**\n",
       "\n",
       "* O campo de nome de usuário deve aceitar apenas e-mails válidos.\n",
       "* A senha deve ter entre 8 e 20 caracteres, contendo letras maiúsculas, minúsculas, números e caracteres especiais.\n",
       "* O sistema deve permitir no máximo 3 tentativas de login. Após isso, um captcha deve ser exibido.\n",
       "* O link \"lembrar senha\" deve levar o usuário para a tela correspondente.\n",
       "\n"
      ],
      "text/plain": [
       "<IPython.core.display.Markdown object>"
      ]
     },
     "metadata": {},
     "output_type": "display_data"
    },
    {
     "data": {
      "text/markdown": [
       "----"
      ],
      "text/plain": [
       "<IPython.core.display.Markdown object>"
      ]
     },
     "metadata": {},
     "output_type": "display_data"
    },
    {
     "data": {
      "text/markdown": [
       "*Resposta:*"
      ],
      "text/plain": [
       "<IPython.core.display.Markdown object>"
      ]
     },
     "metadata": {},
     "output_type": "display_data"
    },
    {
     "data": {
      "text/markdown": [
       "----"
      ],
      "text/plain": [
       "<IPython.core.display.Markdown object>"
      ]
     },
     "metadata": {},
     "output_type": "display_data"
    },
    {
     "data": {
      "text/markdown": [
       "Aqui está o plano de testes em formato de tabela para validar a funcionalidade da tela de login, cobrindo casos positivos e negativos:\n",
       "\n",
       "| Número do Teste | Passos | Resultado Esperado |\n",
       "|------------------|--------|--------------------|\n",
       "| 1 | Acessar a tela de login. Inserir um e-mail válido no campo de nome de usuário e uma senha válida. | O usuário deve ser autenticado e direcionado para a tela inicial apropriada. |\n",
       "| 2 | Inserir um e-mail válido e uma senha com menos de 8 caracteres. | Uma mensagem de erro deve ser exibida, indicando que a senha é inválida. |\n",
       "| 3 | Inserir um e-mail válido e uma senha com mais de 20 caracteres. | Uma mensagem de erro deve ser exibida, indicando que a senha é inválida. |\n",
       "| 4 | Inserir um e-mail válido e uma senha que não contém letras maiúsculas. | Uma mensagem de erro deve ser apresentada, indicando que a senha não atende aos critérios. |\n",
       "| 5 | Inserir um e-mail válido e uma senha que não contém letras minúsculas. | Uma mensagem de erro deve ser apresentada, indicando que a senha não atende aos critérios. |\n",
       "| 6 | Inserir um e-mail válido e uma senha que não contém números. | Uma mensagem de erro deve ser apresentada, indicando que a senha não atende aos critérios. |\n",
       "| 7 | Inserir um e-mail válido e uma senha que não contém caracteres especiais. | Uma mensagem de erro deve ser apresentada, indicando que a senha não atende aos critérios. |\n",
       "| 8 | Inserir um e-mail inválido (ex: \"usuario@erro\") e uma senha válida. | Uma mensagem de erro deve ser exibida, indicando que o e-mail é inválido. |\n",
       "| 9 | Inserir um e-mail válido e senha incorreta (tentar fazer login). Repetir mais duas vezes com senhas incorretas. | Após a terceira tentativa incorreta, o sistema deve exibir um captcha. |\n",
       "| 10 | Após a derrota do captcha (ou não interação), tentar fazer login com um e-mail válido e senha correta. | O usuário deve ser autenticado e direcionado para a tela inicial apropriada ou receber uma mensagem de erro se o captcha não foi resolvido. |\n",
       "| 11 | Clicar no link \"lembrar senha\". | O usuário deve ser redirecionado para a tela correspondente para recuperação de senha. |\n",
       "| 12 | Clicar no link \"lembrar senha\" e verificar se a URL correspondente é correta. | O sistema deve redirecionar para a URL apropriada da tela de \"lembrar senha\". |\n",
       "\n",
       "Esse plano de testes contempla uma abordagem abrangente para validar os requisitos da funcionalidade da tela de login, incluindo tanto casos de sucesso quanto de falha."
      ],
      "text/plain": [
       "<IPython.core.display.Markdown object>"
      ]
     },
     "metadata": {},
     "output_type": "display_data"
    },
    {
     "data": {
      "text/markdown": [
       "----"
      ],
      "text/plain": [
       "<IPython.core.display.Markdown object>"
      ]
     },
     "metadata": {},
     "output_type": "display_data"
    }
   ],
   "source": [
    "prompt = \"\"\"\n",
    "**Tarefa:**\n",
    "Você atuará como um engenheiro de QA responsável por validar a funcionalidade de uma \n",
    "tela de login.\n",
    "\n",
    "**Ação:**\n",
    "Com base nos requisitos abaixo, elabore um plano de testes cobrindo casos positivos e \n",
    "negativos. Apresente os testes em **formato de tabela** com as seguintes colunas:\n",
    "\n",
    "* **Número do teste**\n",
    "* **Passos** (descrição clara do que deve ser feito)\n",
    "* **Resultado esperado**\n",
    "\n",
    "**Objetivo:**\n",
    "Garantir que a funcionalidade da tela de login atenda a todos os critérios exigidos, \n",
    "contribuindo para a entrega de um software confiável e seguro.\n",
    "\n",
    "**Requisitos da tela de login:**\n",
    "\n",
    "* O campo de nome de usuário deve aceitar apenas e-mails válidos.\n",
    "* A senha deve ter entre 8 e 20 caracteres, contendo letras maiúsculas, minúsculas, números e caracteres especiais.\n",
    "* O sistema deve permitir no máximo 3 tentativas de login. Após isso, um captcha deve ser exibido.\n",
    "* O link \"lembrar senha\" deve levar o usuário para a tela correspondente.\n",
    "\n",
    "\"\"\"\n",
    "\n",
    "display(Markdown(f\"*Prompt:*\"))\n",
    "display(Markdown(f\"----\"))\n",
    "display(Markdown(f\"{prompt}\"))\n",
    "display(Markdown(f\"----\"))\n",
    "\n",
    "response = llm.invoke(prompt)\n",
    "\n",
    "display(Markdown(f\"*Resposta:*\"))\n",
    "display(Markdown(f\"----\"))\n",
    "display(Markdown(f\"{response.content}\"))\n",
    "display(Markdown(f\"----\"))"
   ]
  },
  {
   "cell_type": "code",
   "execution_count": null,
   "id": "774474f5-58eb-499a-bd85-3d33a46cd8d7",
   "metadata": {},
   "outputs": [],
   "source": []
  }
 ],
 "metadata": {
  "kernelspec": {
   "display_name": "Python 3 (ipykernel)",
   "language": "python",
   "name": "python3"
  },
  "language_info": {
   "codemirror_mode": {
    "name": "ipython",
    "version": 3
   },
   "file_extension": ".py",
   "mimetype": "text/x-python",
   "name": "python",
   "nbconvert_exporter": "python",
   "pygments_lexer": "ipython3",
   "version": "3.11.9"
  }
 },
 "nbformat": 4,
 "nbformat_minor": 5
}
