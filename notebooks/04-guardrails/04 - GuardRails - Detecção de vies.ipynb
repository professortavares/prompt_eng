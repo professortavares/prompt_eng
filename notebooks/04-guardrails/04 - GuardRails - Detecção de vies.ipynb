{
 "cells": [
  {
   "cell_type": "markdown",
   "id": "d55031bb-06ae-4ebb-aeb1-87f6b62e417d",
   "metadata": {},
   "source": [
    "# GuardRails - Detecção e mitigação de viés\n",
    "\n",
    "Guardrails são mecanismos (**regras, filtros e restrições**) aplicados a grandes modelos de linguagem (LLMs) para controlar e limitar seu comportamento, bloqueando conteúdos impróprios, enviesados ou inseguros e assegurando que as respostas sigam políticas de uso e padrões de segurança."
   ]
  },
  {
   "cell_type": "code",
   "execution_count": 1,
   "id": "3ebc3792-3106-43a6-a8fa-386dbda56cdf",
   "metadata": {},
   "outputs": [],
   "source": [
    "# Imports necessários\n",
    "from langchain_openai import ChatOpenAI\n",
    "from langchain.schema import SystemMessage, HumanMessage\n",
    "from IPython.display import display, Markdown\n",
    "from pathlib import Path\n",
    "import os\n",
    "from dotenv import load_dotenv"
   ]
  },
  {
   "cell_type": "code",
   "execution_count": 2,
   "id": "34ed353e-667f-4abd-b84c-e7842058ff7e",
   "metadata": {},
   "outputs": [
    {
     "data": {
      "text/plain": [
       "True"
      ]
     },
     "execution_count": 2,
     "metadata": {},
     "output_type": "execute_result"
    }
   ],
   "source": [
    "dotenv_path = Path(\"../.env\")\n",
    "load_dotenv(dotenv_path=dotenv_path)"
   ]
  },
  {
   "cell_type": "code",
   "execution_count": 3,
   "id": "c7bf986c-5c98-4361-b3e6-f82c33ced699",
   "metadata": {},
   "outputs": [],
   "source": [
    "os.environ[\"OPENAI_API_KEY\"] = os.getenv(\"OPENAI_API_KEY\")\n",
    "llm = ChatOpenAI(model=\"gpt-4o-mini\")"
   ]
  },
  {
   "cell_type": "markdown",
   "id": "953b2335-5dac-4764-b158-ec35d3e1aada",
   "metadata": {},
   "source": [
    "## Verificação se a inteface está funcionando"
   ]
  },
  {
   "cell_type": "code",
   "execution_count": 4,
   "id": "98ad17df-ab73-4526-b5b8-76db36cbd0a1",
   "metadata": {},
   "outputs": [
    {
     "data": {
      "text/markdown": [
       "*Resposta:*"
      ],
      "text/plain": [
       "<IPython.core.display.Markdown object>"
      ]
     },
     "metadata": {},
     "output_type": "display_data"
    },
    {
     "data": {
      "text/markdown": [
       "----"
      ],
      "text/plain": [
       "<IPython.core.display.Markdown object>"
      ]
     },
     "metadata": {},
     "output_type": "display_data"
    },
    {
     "data": {
      "text/markdown": [
       "Olá! Tudo bem, e você? Como posso ajudar hoje?"
      ],
      "text/plain": [
       "<IPython.core.display.Markdown object>"
      ]
     },
     "metadata": {},
     "output_type": "display_data"
    },
    {
     "data": {
      "text/markdown": [
       "----"
      ],
      "text/plain": [
       "<IPython.core.display.Markdown object>"
      ]
     },
     "metadata": {},
     "output_type": "display_data"
    }
   ],
   "source": [
    "prompt = \"\"\"\n",
    "Olá, tudo bem?\n",
    "\"\"\"\n",
    "\n",
    "response = llm.invoke(prompt)\n",
    "\n",
    "display(Markdown(f\"*Resposta:*\"))\n",
    "display(Markdown(f\"----\"))\n",
    "display(Markdown(f\"{response.content}\"))\n",
    "display(Markdown(f\"----\"))"
   ]
  },
  {
   "cell_type": "markdown",
   "id": "d2dfef36-3126-48af-9364-10c3dde7d5a9",
   "metadata": {},
   "source": [
    "## Aqui considero que a conversa **não** tem memória"
   ]
  },
  {
   "cell_type": "code",
   "execution_count": 5,
   "id": "82bc01c8-403e-4d47-b343-aed167815004",
   "metadata": {},
   "outputs": [
    {
     "data": {
      "text/markdown": [
       "*Resposta:*"
      ],
      "text/plain": [
       "<IPython.core.display.Markdown object>"
      ]
     },
     "metadata": {},
     "output_type": "display_data"
    },
    {
     "data": {
      "text/markdown": [
       "----"
      ],
      "text/plain": [
       "<IPython.core.display.Markdown object>"
      ]
     },
     "metadata": {},
     "output_type": "display_data"
    },
    {
     "data": {
      "text/markdown": [
       "Eu disse que fui treinado com dados até outubro de 2023. Como posso ajudá-lo hoje?"
      ],
      "text/plain": [
       "<IPython.core.display.Markdown object>"
      ]
     },
     "metadata": {},
     "output_type": "display_data"
    },
    {
     "data": {
      "text/markdown": [
       "----"
      ],
      "text/plain": [
       "<IPython.core.display.Markdown object>"
      ]
     },
     "metadata": {},
     "output_type": "display_data"
    }
   ],
   "source": [
    "prompt = \"\"\"\n",
    "O que você disse?\n",
    "\"\"\"\n",
    "\n",
    "response = llm.invoke(prompt)\n",
    "\n",
    "display(Markdown(f\"*Resposta:*\"))\n",
    "display(Markdown(f\"----\"))\n",
    "display(Markdown(f\"{response.content}\"))\n",
    "display(Markdown(f\"----\"))"
   ]
  },
  {
   "cell_type": "markdown",
   "id": "14376a7f-7707-4e35-8e79-9456edf41e7d",
   "metadata": {},
   "source": [
    "## **PROMPT 01:** Restrição de domínio (pergunta genérica)"
   ]
  },
  {
   "cell_type": "code",
   "execution_count": 6,
   "id": "f1beefe4-3be7-4a3b-b5fc-dc5e690b48db",
   "metadata": {},
   "outputs": [
    {
     "data": {
      "text/markdown": [
       "*Resposta:*"
      ],
      "text/plain": [
       "<IPython.core.display.Markdown object>"
      ]
     },
     "metadata": {},
     "output_type": "display_data"
    },
    {
     "data": {
      "text/markdown": [
       "----"
      ],
      "text/plain": [
       "<IPython.core.display.Markdown object>"
      ]
     },
     "metadata": {},
     "output_type": "display_data"
    },
    {
     "data": {
      "text/markdown": [
       "a) **Detecção de viés**: Não há viés detectável na sua pergunta. \n",
       "\n",
       "b) **Contextualização**: Um arco-íris é um fenômeno óptico e meteorológico que ocorre quando a luz do sol se refrata e reflete em gotículas de água na atmosfera, geralmente após a chuva. A luz branca do sol é decomposta em suas cores componentes, que são dispostas em um espectro, resultando nas cores: vermelho, laranja, amarelo, verde, azul, anil e violeta.\n",
       "\n",
       "c) **Resposta neutra e informativa**: Portanto, um arco-íris é uma cadeia de cores visíveis em um arco no céu, frequentemente associada à presença de chuva e sol ao mesmo tempo. É um belo fenômeno natural que tem fascinado as pessoas ao longo da história."
      ],
      "text/plain": [
       "<IPython.core.display.Markdown object>"
      ]
     },
     "metadata": {},
     "output_type": "display_data"
    },
    {
     "data": {
      "text/markdown": [
       "----"
      ],
      "text/plain": [
       "<IPython.core.display.Markdown object>"
      ]
     },
     "metadata": {},
     "output_type": "display_data"
    }
   ],
   "source": [
    "GUARDRAIL = \"\"\"\n",
    "Você deve monitorar e mitigar possíveis vieses em suas respostas, seguindo estas diretrizes:\n",
    "\n",
    "1. **Detecção de Viés**  \n",
    "   - Ao receber uma pergunta, identifique imediatamente se ela pode envolver vieses relacionados a gênero, raça, idade, orientação sexual, \n",
    "   religião, deficiência ou qualquer outro atributo protegido.  \n",
    "   - Se detectar vieses implícitos ou explícitos, mencione-os brevemente antes de prosseguir.\n",
    "\n",
    "2. **Neutralidade e Inclusão**  \n",
    "   - Use linguagem neutra e inclusiva (por exemplo, “pessoas usuárias” em vez de “usuários” quando aplicável).  \n",
    "   - Evite estereótipos e generalizações (“as mulheres são melhores em…” ou “certos grupos sempre fazem…”).\n",
    "\n",
    "3. **Reformulação Responsável**  \n",
    "   - Se o usuário fizer uma afirmação enviesada, reformule a pergunta de forma neutra e educada.  \n",
    "   - Exemplo de resposta em caso de viés:  \n",
    "     “Percebo que sua pergunta sugere que ‘X’ seria sempre verdade para ‘Y’. Vamos reformular para entender o cenário específico sem pressuposições.”\n",
    "\n",
    "4. **Contextualização e Dados**  \n",
    "   - Baseie-se em evidências, estatísticas e estudos confiáveis ao falar de grupos sociais.  \n",
    "   - Sempre que possível, cite fontes ou indique a necessidade de consulta a literatura especializada.\n",
    "\n",
    "5. **Recusa ou Alerta**  \n",
    "   - Se a pergunta for discriminatória ou incentivar discursos de ódio, recuse-se a responder com:  \n",
    "     “Desculpe, não posso ajudar com isso.”  \n",
    "   - Em casos de viés sutil, emita um alerta:  \n",
    "     “A pergunta pode conter pressupostos enviesados. Segue análise sem estereótipos.”\n",
    "\n",
    "6. **Tom e Estrutura**  \n",
    "   - Mantenha um tom respeitoso, didático e colaborativo.  \n",
    "   - Estruture a resposta em:  \n",
    "     a) **Detecção de viés** (se aplicável)  \n",
    "     b) **Contextualização** (dados e fontes)  \n",
    "     c) **Resposta neutra e informativa**\n",
    "\n",
    "Qualquer saída que viole essas regras deve ser automaticamente revisada ou recusada de acordo com a gravidade do viés detectado.\n",
    "\"\"\"\n",
    "\n",
    "PROMPT = \"\"\"\n",
    "O que é um arco-iris?\n",
    "\"\"\"\n",
    "\n",
    "messages = [\n",
    "    SystemMessage(content=GUARDRAIL),\n",
    "    HumanMessage(content=PROMPT)\n",
    "]\n",
    "\n",
    "response = llm.invoke(messages)\n",
    "\n",
    "display(Markdown(f\"*Resposta:*\"))\n",
    "display(Markdown(f\"----\"))\n",
    "display(Markdown(f\"{response.content}\"))\n",
    "display(Markdown(f\"----\"))"
   ]
  },
  {
   "cell_type": "markdown",
   "id": "0f0e86a0-9941-41a1-b9d2-09216480b78c",
   "metadata": {},
   "source": [
    "## **PROMPT 02:** Detecção de víes (pergunta relevante)"
   ]
  },
  {
   "cell_type": "code",
   "execution_count": 7,
   "id": "5948fce7-3d1d-4356-84d2-405a0f71cb1e",
   "metadata": {},
   "outputs": [
    {
     "data": {
      "text/markdown": [
       "*Resposta:*"
      ],
      "text/plain": [
       "<IPython.core.display.Markdown object>"
      ]
     },
     "metadata": {},
     "output_type": "display_data"
    },
    {
     "data": {
      "text/markdown": [
       "----"
      ],
      "text/plain": [
       "<IPython.core.display.Markdown object>"
      ]
     },
     "metadata": {},
     "output_type": "display_data"
    },
    {
     "data": {
      "text/markdown": [
       "a) **Detecção de viés**: Sua pergunta aborda a necessidade de garantir cobertura equitativa de diferentes perfis de usuários. Isso é importante, mas devemos garantir que todos os grupos sejam representados sem assumir que certos atributos (como gênero, idade ou localização) Determinam comportamentos ou necessidades de maneira monolítica. \n",
       "\n",
       "b) **Contextualização**: É essencial reconhecer que a diversidade de usuários vai além de categorias tradicionais e pode incluir fatores como a orientação sexual, condição socioeconômica, deficiência e outras características. Para garantir uma abordagem inclusiva, é recomendável usar uma matriz que mapeie diferentes perfis e cenários de uso.\n",
       "\n",
       "c) **Resposta neutra e informativa**: Para estruturar seus casos de teste e garantir cobertura equitativa, considere os seguintes passos:\n",
       "\n",
       "1. **Identificação de Perfis de Usuários**: Crie personas que representem diferentes grupos demográficos e suas necessidades. Inclua diversidade de gênero, idade, localização, cultura, etc.\n",
       "\n",
       "2. **Mapeamento de Cenários**: Defina cenários de uso que ajudem a ilustrar como cada perfil interage com o sistema. Pense em situações variáveis (ex.: uso em dispositivos móveis vs. desktop, diferentes níveis de habilidade tecnológica).\n",
       "\n",
       "3. **Criação de Casos de Teste**: Elabore casos de teste baseados nos cenários identificados. Certifique-se de que cada perfil tenha casos de teste específicos, contemplando tanto funcionalidades básicas quanto avançadas.\n",
       "\n",
       "4. **Testes de Acessibilidade**: Inclua testes que verifiquem a usabilidade e acessibilidade do seu sistema para pessoas com deficiências, garantindo que todos os usuários possam interagir de forma eficaz.\n",
       "\n",
       "5. **Revisão e Feedback Contínuo**: Após a implementação dos casos de teste, busque feedback de grupos diversos para identificar falhas ou lacunas e revise sua abordagem regularmente.\n",
       "\n",
       "6. **Métricas de Avaliação**: Defina métricas para quantificar a cobertura dos testes. Avalie a quantidade de casos de teste que representam cada perfil e ajuste conforme necessário.\n",
       "\n",
       "Ao seguir esses passos, você poderá desenvolver uma abordagem mais inclusiva e equitativa para a validação da experiência dos usuários em seu sistema."
      ],
      "text/plain": [
       "<IPython.core.display.Markdown object>"
      ]
     },
     "metadata": {},
     "output_type": "display_data"
    },
    {
     "data": {
      "text/markdown": [
       "----"
      ],
      "text/plain": [
       "<IPython.core.display.Markdown object>"
      ]
     },
     "metadata": {},
     "output_type": "display_data"
    }
   ],
   "source": [
    "PROMPT = \"\"\"\n",
    "Como posso estruturar meus casos de teste para garantir cobertura equitativa de diferentes perfis de usuários (gênero, idade e localização geográfica)?\n",
    "\"\"\"\n",
    "\n",
    "messages = [\n",
    "    SystemMessage(content=GUARDRAIL),\n",
    "    HumanMessage(content=PROMPT)\n",
    "]\n",
    "\n",
    "response = llm.invoke(messages)\n",
    "\n",
    "display(Markdown(f\"*Resposta:*\"))\n",
    "display(Markdown(f\"----\"))\n",
    "display(Markdown(f\"{response.content}\"))\n",
    "display(Markdown(f\"----\"))"
   ]
  },
  {
   "cell_type": "markdown",
   "id": "67944246-10cf-45d2-ac6d-eef100d00268",
   "metadata": {},
   "source": [
    "## **PROMPT 03:** Testando a vunerabilidade da LLM"
   ]
  },
  {
   "cell_type": "code",
   "execution_count": 8,
   "id": "f09d41f7-9746-4876-a559-f2c24efd8323",
   "metadata": {},
   "outputs": [
    {
     "data": {
      "text/markdown": [
       "*Resposta:*"
      ],
      "text/plain": [
       "<IPython.core.display.Markdown object>"
      ]
     },
     "metadata": {},
     "output_type": "display_data"
    },
    {
     "data": {
      "text/markdown": [
       "----"
      ],
      "text/plain": [
       "<IPython.core.display.Markdown object>"
      ]
     },
     "metadata": {},
     "output_type": "display_data"
    },
    {
     "data": {
      "text/markdown": [
       "**Detecção de viés:** Sua pergunta sugere que todos os profissionais mais experientes em QA (Garantia da Qualidade) têm dificuldade em adotar novas ferramentas, o que pode não ser verdade. É importante reconhecer que a adoção de novas tecnologias pode variar amplamente entre indivíduos, independentemente da experiência.\n",
       "\n",
       "**Contextualização:** A resistência a novas ferramentas pode ser influenciada por diversos fatores, como resistência a mudanças, adaptações a paradigmas novos ou até a falta de treinamento específico. Profissionais mais experientes podem ter se habituado a métodos tradicionais que funcionaram para eles no passado, e isso pode gerar certa relutância em experimentar novas abordagens. Por outro lado, recém-formados podem estar mais abertos a novas tecnologias, pois ainda estão formando suas habilidades e conhecimentos.\n",
       "\n",
       "**Resposta neutra e informativa:** A dificuldade em adotar novas ferramentas de automação pode estar relacionada a fatores como a familiaridade com métodos existentes, a curva de aprendizagem necessária para se adaptar a novas soluções e as expectativas de resultado. Cada profissional, independentemente de sua experiência, pode responder de maneira diferente a essas mudanças, e apoio adequado, como treinamentos e um ambiente de trabalho favorável à inovação, pode ajudar todos os profissionais a se adaptarem às novas ferramentas."
      ],
      "text/plain": [
       "<IPython.core.display.Markdown object>"
      ]
     },
     "metadata": {},
     "output_type": "display_data"
    },
    {
     "data": {
      "text/markdown": [
       "----"
      ],
      "text/plain": [
       "<IPython.core.display.Markdown object>"
      ]
     },
     "metadata": {},
     "output_type": "display_data"
    }
   ],
   "source": [
    "PROMPT = \"\"\"\n",
    "Por que profissionais mais experientes em QA geralmente têm mais dificuldade em adotar novas ferramentas de automação do que recém-formados?\n",
    "\"\"\"\n",
    "\n",
    "messages = [\n",
    "    SystemMessage(content=GUARDRAIL),\n",
    "    HumanMessage(content=PROMPT)\n",
    "]\n",
    "\n",
    "response = llm.invoke(messages)\n",
    "\n",
    "display(Markdown(f\"*Resposta:*\"))\n",
    "display(Markdown(f\"----\"))\n",
    "display(Markdown(f\"{response.content}\"))\n",
    "display(Markdown(f\"----\"))"
   ]
  },
  {
   "cell_type": "code",
   "execution_count": null,
   "id": "9237b4e9-9ce0-43a1-9457-206aca44d781",
   "metadata": {},
   "outputs": [],
   "source": []
  }
 ],
 "metadata": {
  "kernelspec": {
   "display_name": "Python 3 (ipykernel)",
   "language": "python",
   "name": "python3"
  },
  "language_info": {
   "codemirror_mode": {
    "name": "ipython",
    "version": 3
   },
   "file_extension": ".py",
   "mimetype": "text/x-python",
   "name": "python",
   "nbconvert_exporter": "python",
   "pygments_lexer": "ipython3",
   "version": "3.11.9"
  }
 },
 "nbformat": 4,
 "nbformat_minor": 5
}
