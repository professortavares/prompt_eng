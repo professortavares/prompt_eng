{
 "cells": [
  {
   "cell_type": "markdown",
   "id": "d55031bb-06ae-4ebb-aeb1-87f6b62e417d",
   "metadata": {},
   "source": [
    "# GuardRails\n",
    "\n",
    "Guardrails são mecanismos (**regras, filtros e restrições**) aplicados a grandes modelos de linguagem (LLMs) para controlar e limitar seu comportamento, bloqueando conteúdos impróprios, enviesados ou inseguros e assegurando que as respostas sigam políticas de uso e padrões de segurança."
   ]
  },
  {
   "cell_type": "code",
   "execution_count": 1,
   "id": "3ebc3792-3106-43a6-a8fa-386dbda56cdf",
   "metadata": {},
   "outputs": [],
   "source": [
    "# Imports necessários\n",
    "from langchain_openai import ChatOpenAI\n",
    "from langchain.schema import SystemMessage, HumanMessage\n",
    "from IPython.display import display, Markdown\n",
    "from pathlib import Path\n",
    "import os\n",
    "from dotenv import load_dotenv"
   ]
  },
  {
   "cell_type": "code",
   "execution_count": 2,
   "id": "34ed353e-667f-4abd-b84c-e7842058ff7e",
   "metadata": {},
   "outputs": [
    {
     "data": {
      "text/plain": [
       "True"
      ]
     },
     "execution_count": 2,
     "metadata": {},
     "output_type": "execute_result"
    }
   ],
   "source": [
    "dotenv_path = Path(\"../.env\")\n",
    "load_dotenv(dotenv_path=dotenv_path)"
   ]
  },
  {
   "cell_type": "code",
   "execution_count": 3,
   "id": "c7bf986c-5c98-4361-b3e6-f82c33ced699",
   "metadata": {},
   "outputs": [],
   "source": [
    "os.environ[\"OPENAI_API_KEY\"] = os.getenv(\"OPENAI_API_KEY\")\n",
    "llm = ChatOpenAI(model=\"gpt-4o-mini\")"
   ]
  },
  {
   "cell_type": "markdown",
   "id": "953b2335-5dac-4764-b158-ec35d3e1aada",
   "metadata": {},
   "source": [
    "## Verificação se a inteface está funcionando"
   ]
  },
  {
   "cell_type": "code",
   "execution_count": 4,
   "id": "98ad17df-ab73-4526-b5b8-76db36cbd0a1",
   "metadata": {},
   "outputs": [
    {
     "data": {
      "text/markdown": [
       "*Resposta:*"
      ],
      "text/plain": [
       "<IPython.core.display.Markdown object>"
      ]
     },
     "metadata": {},
     "output_type": "display_data"
    },
    {
     "data": {
      "text/markdown": [
       "----"
      ],
      "text/plain": [
       "<IPython.core.display.Markdown object>"
      ]
     },
     "metadata": {},
     "output_type": "display_data"
    },
    {
     "data": {
      "text/markdown": [
       "Olá! Tudo bem, e você? Como posso ajudar hoje?"
      ],
      "text/plain": [
       "<IPython.core.display.Markdown object>"
      ]
     },
     "metadata": {},
     "output_type": "display_data"
    },
    {
     "data": {
      "text/markdown": [
       "----"
      ],
      "text/plain": [
       "<IPython.core.display.Markdown object>"
      ]
     },
     "metadata": {},
     "output_type": "display_data"
    }
   ],
   "source": [
    "prompt = \"\"\"\n",
    "Olá, tudo bem?\n",
    "\"\"\"\n",
    "\n",
    "response = llm.invoke(prompt)\n",
    "\n",
    "display(Markdown(f\"*Resposta:*\"))\n",
    "display(Markdown(f\"----\"))\n",
    "display(Markdown(f\"{response.content}\"))\n",
    "display(Markdown(f\"----\"))"
   ]
  },
  {
   "cell_type": "markdown",
   "id": "d2dfef36-3126-48af-9364-10c3dde7d5a9",
   "metadata": {},
   "source": [
    "## Aqui considero que a conversa **não** tem memória"
   ]
  },
  {
   "cell_type": "code",
   "execution_count": 5,
   "id": "82bc01c8-403e-4d47-b343-aed167815004",
   "metadata": {},
   "outputs": [
    {
     "data": {
      "text/markdown": [
       "*Resposta:*"
      ],
      "text/plain": [
       "<IPython.core.display.Markdown object>"
      ]
     },
     "metadata": {},
     "output_type": "display_data"
    },
    {
     "data": {
      "text/markdown": [
       "----"
      ],
      "text/plain": [
       "<IPython.core.display.Markdown object>"
      ]
     },
     "metadata": {},
     "output_type": "display_data"
    },
    {
     "data": {
      "text/markdown": [
       "Eu disse que estou aqui para ajudar! Se você tiver alguma pergunta ou precisar de informações sobre um tópico específico, sinta-se à vontade para perguntar. Como posso ajudar você hoje?"
      ],
      "text/plain": [
       "<IPython.core.display.Markdown object>"
      ]
     },
     "metadata": {},
     "output_type": "display_data"
    },
    {
     "data": {
      "text/markdown": [
       "----"
      ],
      "text/plain": [
       "<IPython.core.display.Markdown object>"
      ]
     },
     "metadata": {},
     "output_type": "display_data"
    }
   ],
   "source": [
    "prompt = \"\"\"\n",
    "O que você disse?\n",
    "\"\"\"\n",
    "\n",
    "response = llm.invoke(prompt)\n",
    "\n",
    "display(Markdown(f\"*Resposta:*\"))\n",
    "display(Markdown(f\"----\"))\n",
    "display(Markdown(f\"{response.content}\"))\n",
    "display(Markdown(f\"----\"))"
   ]
  },
  {
   "cell_type": "markdown",
   "id": "14376a7f-7707-4e35-8e79-9456edf41e7d",
   "metadata": {},
   "source": [
    "## **PROMPT 01:** Aqui vou fazer um prompt que utiliza guardrails para responder para um público de 5 anos de idade"
   ]
  },
  {
   "cell_type": "code",
   "execution_count": 6,
   "id": "f1beefe4-3be7-4a3b-b5fc-dc5e690b48db",
   "metadata": {},
   "outputs": [
    {
     "data": {
      "text/markdown": [
       "*Resposta:*"
      ],
      "text/plain": [
       "<IPython.core.display.Markdown object>"
      ]
     },
     "metadata": {},
     "output_type": "display_data"
    },
    {
     "data": {
      "text/markdown": [
       "----"
      ],
      "text/plain": [
       "<IPython.core.display.Markdown object>"
      ]
     },
     "metadata": {},
     "output_type": "display_data"
    },
    {
     "data": {
      "text/markdown": [
       "Um arco-íris é como uma pintura linda que aparece no céu depois da chuva, quando o sol brilha! Ele tem várias cores, como vermelho, laranja, amarelo, verde, azul, anil e violeta. Essas cores se juntam e formam um arco que parece mágico. É como se o céu estivesse sorrindo para a gente!"
      ],
      "text/plain": [
       "<IPython.core.display.Markdown object>"
      ]
     },
     "metadata": {},
     "output_type": "display_data"
    },
    {
     "data": {
      "text/markdown": [
       "----"
      ],
      "text/plain": [
       "<IPython.core.display.Markdown object>"
      ]
     },
     "metadata": {},
     "output_type": "display_data"
    }
   ],
   "source": [
    "GUARDRAIL = \"\"\"\n",
    "Considere que você esteja lidando com um público que tenha cerca de 5 anos de idade. Responda as perguntas\n",
    "adequando-se ao público.\n",
    "\"\"\"\n",
    "\n",
    "PROMPT = \"\"\"\n",
    "O que é um arco-iris?\n",
    "\"\"\"\n",
    "\n",
    "messages = [\n",
    "    SystemMessage(content=GUARDRAIL),\n",
    "    HumanMessage(content=PROMPT)\n",
    "]\n",
    "\n",
    "response = llm.invoke(messages)\n",
    "\n",
    "display(Markdown(f\"*Resposta:*\"))\n",
    "display(Markdown(f\"----\"))\n",
    "display(Markdown(f\"{response.content}\"))\n",
    "display(Markdown(f\"----\"))"
   ]
  },
  {
   "cell_type": "markdown",
   "id": "0f0e86a0-9941-41a1-b9d2-09216480b78c",
   "metadata": {},
   "source": [
    "## **PROMPT 02:** Aqui vou fazer um prompt que utiliza guardrails para responder para um público de 15 anos de idade (a pergunta continua a mesma)"
   ]
  },
  {
   "cell_type": "code",
   "execution_count": 7,
   "id": "5948fce7-3d1d-4356-84d2-405a0f71cb1e",
   "metadata": {},
   "outputs": [
    {
     "data": {
      "text/markdown": [
       "*Resposta:*"
      ],
      "text/plain": [
       "<IPython.core.display.Markdown object>"
      ]
     },
     "metadata": {},
     "output_type": "display_data"
    },
    {
     "data": {
      "text/markdown": [
       "----"
      ],
      "text/plain": [
       "<IPython.core.display.Markdown object>"
      ]
     },
     "metadata": {},
     "output_type": "display_data"
    },
    {
     "data": {
      "text/markdown": [
       "Um arco-íris é um fenômeno natural lindo que aparece no céu quando a luz do sol atravessa gotas de água, como as de uma chuva. Quando isso acontece, a luz se divide em várias cores, formando um arco colorido que vai do vermelho ao roxo. As cores do arco-íris são: vermelho, laranja, amarelo, verde, azul, anil e violeta. É uma visão incrível e mágica que costuma deixar todo mundo feliz! É como se a natureza estivesse pintando o céu só para você. 🌈✨"
      ],
      "text/plain": [
       "<IPython.core.display.Markdown object>"
      ]
     },
     "metadata": {},
     "output_type": "display_data"
    },
    {
     "data": {
      "text/markdown": [
       "----"
      ],
      "text/plain": [
       "<IPython.core.display.Markdown object>"
      ]
     },
     "metadata": {},
     "output_type": "display_data"
    }
   ],
   "source": [
    "GUARDRAIL = \"\"\"\n",
    "Considere que você esteja lidando com um público que tenha cerca de 15 anos de idade. Responda as perguntas\n",
    "adequando-se ao público.\n",
    "\"\"\"\n",
    "\n",
    "PROMPT = \"\"\"\n",
    "O que é um arco-iris?\n",
    "\"\"\"\n",
    "\n",
    "messages = [\n",
    "    SystemMessage(content=GUARDRAIL),\n",
    "    HumanMessage(content=PROMPT)\n",
    "]\n",
    "\n",
    "response = llm.invoke(messages)\n",
    "\n",
    "display(Markdown(f\"*Resposta:*\"))\n",
    "display(Markdown(f\"----\"))\n",
    "display(Markdown(f\"{response.content}\"))\n",
    "display(Markdown(f\"----\"))"
   ]
  },
  {
   "cell_type": "markdown",
   "id": "67944246-10cf-45d2-ac6d-eef100d00268",
   "metadata": {},
   "source": [
    "## **PROMPT 03:** Aqui vou fazer um prompt que utiliza guardrails para responder para um público universitário que esteja cursando física"
   ]
  },
  {
   "cell_type": "code",
   "execution_count": 8,
   "id": "f09d41f7-9746-4876-a559-f2c24efd8323",
   "metadata": {},
   "outputs": [
    {
     "data": {
      "text/markdown": [
       "*Resposta:*"
      ],
      "text/plain": [
       "<IPython.core.display.Markdown object>"
      ]
     },
     "metadata": {},
     "output_type": "display_data"
    },
    {
     "data": {
      "text/markdown": [
       "----"
      ],
      "text/plain": [
       "<IPython.core.display.Markdown object>"
      ]
     },
     "metadata": {},
     "output_type": "display_data"
    },
    {
     "data": {
      "text/markdown": [
       "Um arco-íris é um fenômeno óptico e meteorológico que resulta da reflexão, refração e dispersão da luz solar em gotículas de água na atmosfera. Ele aparece geralmente após a chuva ou em áreas onde há vapor d'água no ar, como em cachoeiras ou ao redor de fontes.\n",
       "\n",
       "### Como Funciona?\n",
       "\n",
       "1. **Refração**: Quando a luz solar atravessa uma gota de água, ela muda de velocidade e se curva. Isso é chamado de refração. A luz branca do sol é composta de várias cores, que se separam durante esse processo. As cores são vermelho, laranja, amarelo, verde, azul, anil e violeta - essa sequência é conhecida como o espectro de cores.\n",
       "\n",
       "2. **Reflexão**: Após a refração, a luz reflete em uma superfície interna da gota de água. Essa reflexão ajuda a direcionar a luz para fora da gota.\n",
       "\n",
       "3. **Dispersão**: Na saída da gota, a luz é refratada novamente, o que resulta em uma separação ainda mais acentuada das cores. É esse processo de refração na entrada e na saída da gota que cria o arco-íris.\n",
       "\n",
       "### Formação e Aparência\n",
       "\n",
       "O arco-íris aparece em forma de um arco, geralmente quando o sol está atrás do observador e a chuva ou as gotículas de água estão à frente. A parte inferior do arco é geralmente mais brilhante, enquanto a parte superior tende a ser mais pálida. Quando as condições são perfeitas, é possível ver arcos-íris duplos, onde um arco adicional aparece acima do arco principal, com as cores invertidas.\n",
       "\n",
       "### Considerações Técnicas\n",
       "\n",
       "- **Ângulo**: O ângulo de visão em que um observador vê um arco-íris é crucial. O arco-íris é visto a cerca de 42 graus do raio de luz que atinge os olhos do observador.\n",
       "  \n",
       "- **Polarização**: A luz refletida nas gotículas de água pode ser parcialmente polarizada, o que significa que a distribuição da luz em diferentes direções pode mudar dependendo do ângulo de visualização.\n",
       "\n",
       "### Curiosidades\n",
       "\n",
       "- **Cultura e Simbolismo**: O arco-íris é frequentemente associado a mensagens de esperança e beleza em várias culturas e mitos. Na mitologia, ele é considerado um ponte entre o céu e a terra.\n",
       "  \n",
       "- **Cores**: Os humanos percebem sete cores distintas, mas o espectro de cores é contínuo, significando que existem muitas outras cores que não conseguimos distinguir a olho nu.\n",
       "\n",
       "Em resumo, o arco-íris é uma bela demonstração de como a luz interage com a água e é uma parte interessante da física da luz e da meteorologia. Se você ainda não teve a chance de observar um, faça uma pausa da sua rotina agitada e aproveite os fenômenos naturais ao seu redor!"
      ],
      "text/plain": [
       "<IPython.core.display.Markdown object>"
      ]
     },
     "metadata": {},
     "output_type": "display_data"
    },
    {
     "data": {
      "text/markdown": [
       "----"
      ],
      "text/plain": [
       "<IPython.core.display.Markdown object>"
      ]
     },
     "metadata": {},
     "output_type": "display_data"
    }
   ],
   "source": [
    "GUARDRAIL = \"\"\"\n",
    "Considere que você esteja lidando com um público universitário que tenha cerca de 20 anos de idade. \n",
    "Aprofunde no tema caso necessário, dando detalhes técnicos.\n",
    "Responda as perguntas adequando-se ao público.\n",
    "\"\"\"\n",
    "\n",
    "PROMPT = \"\"\"\n",
    "O que é um arco-iris?\n",
    "\"\"\"\n",
    "\n",
    "messages = [\n",
    "    SystemMessage(content=GUARDRAIL),\n",
    "    HumanMessage(content=PROMPT)\n",
    "]\n",
    "\n",
    "response = llm.invoke(messages)\n",
    "\n",
    "display(Markdown(f\"*Resposta:*\"))\n",
    "display(Markdown(f\"----\"))\n",
    "display(Markdown(f\"{response.content}\"))\n",
    "display(Markdown(f\"----\"))"
   ]
  },
  {
   "cell_type": "code",
   "execution_count": null,
   "id": "9237b4e9-9ce0-43a1-9457-206aca44d781",
   "metadata": {},
   "outputs": [],
   "source": []
  }
 ],
 "metadata": {
  "kernelspec": {
   "display_name": "Python 3 (ipykernel)",
   "language": "python",
   "name": "python3"
  },
  "language_info": {
   "codemirror_mode": {
    "name": "ipython",
    "version": 3
   },
   "file_extension": ".py",
   "mimetype": "text/x-python",
   "name": "python",
   "nbconvert_exporter": "python",
   "pygments_lexer": "ipython3",
   "version": "3.11.9"
  }
 },
 "nbformat": 4,
 "nbformat_minor": 5
}
