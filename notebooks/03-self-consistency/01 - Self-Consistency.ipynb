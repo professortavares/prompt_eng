{
 "cells": [
  {
   "cell_type": "markdown",
   "id": "d55031bb-06ae-4ebb-aeb1-87f6b62e417d",
   "metadata": {},
   "source": [
    "# Self-Consistency\n",
    "\n",
    "* **Ideia**: ensaio de múltiplos caminhos de raciocínio seguidos por votação majoritária sobre a resposta final\n",
    "* **Estratégia:** problemas que têm uma resposta correta única tendem a admitir vários caminhos de raciocínio válidos que convergem para essa mesma resposta"
   ]
  },
  {
   "cell_type": "code",
   "execution_count": 1,
   "id": "3ebc3792-3106-43a6-a8fa-386dbda56cdf",
   "metadata": {},
   "outputs": [],
   "source": [
    "# Imports necessários\n",
    "from langchain_openai import ChatOpenAI\n",
    "from IPython.display import display, Markdown\n",
    "from pathlib import Path\n",
    "import os\n",
    "import re\n",
    "import time \n",
    "from dotenv import load_dotenv\n",
    "import collections"
   ]
  },
  {
   "cell_type": "code",
   "execution_count": 2,
   "id": "34ed353e-667f-4abd-b84c-e7842058ff7e",
   "metadata": {},
   "outputs": [
    {
     "data": {
      "text/plain": [
       "True"
      ]
     },
     "execution_count": 2,
     "metadata": {},
     "output_type": "execute_result"
    }
   ],
   "source": [
    "dotenv_path = Path(\"../.env\")\n",
    "load_dotenv(dotenv_path=dotenv_path)"
   ]
  },
  {
   "cell_type": "markdown",
   "id": "58ba360e-a9f8-4a39-9117-1bfa66298caa",
   "metadata": {},
   "source": [
    "### Ajustando a temperatura do modelo para que exista variabilidade das respostas"
   ]
  },
  {
   "cell_type": "code",
   "execution_count": 3,
   "id": "c7bf986c-5c98-4361-b3e6-f82c33ced699",
   "metadata": {},
   "outputs": [],
   "source": [
    "os.environ[\"OPENAI_API_KEY\"] = os.getenv(\"OPENAI_API_KEY\")\n",
    "llm = ChatOpenAI(model=\"gpt-4o-mini\", temperature=0.7)"
   ]
  },
  {
   "cell_type": "markdown",
   "id": "953b2335-5dac-4764-b158-ec35d3e1aada",
   "metadata": {},
   "source": [
    "## Verificação se a inteface está funcionando"
   ]
  },
  {
   "cell_type": "code",
   "execution_count": 4,
   "id": "98ad17df-ab73-4526-b5b8-76db36cbd0a1",
   "metadata": {},
   "outputs": [
    {
     "data": {
      "text/markdown": [
       "*Resposta:*"
      ],
      "text/plain": [
       "<IPython.core.display.Markdown object>"
      ]
     },
     "metadata": {},
     "output_type": "display_data"
    },
    {
     "data": {
      "text/markdown": [
       "----"
      ],
      "text/plain": [
       "<IPython.core.display.Markdown object>"
      ]
     },
     "metadata": {},
     "output_type": "display_data"
    },
    {
     "data": {
      "text/markdown": [
       "Olá! Estou bem, obrigado. E você, como está?"
      ],
      "text/plain": [
       "<IPython.core.display.Markdown object>"
      ]
     },
     "metadata": {},
     "output_type": "display_data"
    },
    {
     "data": {
      "text/markdown": [
       "----"
      ],
      "text/plain": [
       "<IPython.core.display.Markdown object>"
      ]
     },
     "metadata": {},
     "output_type": "display_data"
    }
   ],
   "source": [
    "prompt = \"\"\"\n",
    "Olá, tudo bem?\n",
    "\"\"\"\n",
    "\n",
    "response = llm.invoke(prompt)\n",
    "\n",
    "display(Markdown(f\"*Resposta:*\"))\n",
    "display(Markdown(f\"----\"))\n",
    "display(Markdown(f\"{response.content}\"))\n",
    "display(Markdown(f\"----\"))"
   ]
  },
  {
   "cell_type": "markdown",
   "id": "d2dfef36-3126-48af-9364-10c3dde7d5a9",
   "metadata": {},
   "source": [
    "## Aqui considero que a conversa **não** tem memória"
   ]
  },
  {
   "cell_type": "code",
   "execution_count": 5,
   "id": "82bc01c8-403e-4d47-b343-aed167815004",
   "metadata": {},
   "outputs": [
    {
     "data": {
      "text/markdown": [
       "*Resposta:*"
      ],
      "text/plain": [
       "<IPython.core.display.Markdown object>"
      ]
     },
     "metadata": {},
     "output_type": "display_data"
    },
    {
     "data": {
      "text/markdown": [
       "----"
      ],
      "text/plain": [
       "<IPython.core.display.Markdown object>"
      ]
     },
     "metadata": {},
     "output_type": "display_data"
    },
    {
     "data": {
      "text/markdown": [
       "Eu disse que sou um modelo de linguagem treinado para ajudar com perguntas e fornecer informações. Como posso ajudar você hoje?"
      ],
      "text/plain": [
       "<IPython.core.display.Markdown object>"
      ]
     },
     "metadata": {},
     "output_type": "display_data"
    },
    {
     "data": {
      "text/markdown": [
       "----"
      ],
      "text/plain": [
       "<IPython.core.display.Markdown object>"
      ]
     },
     "metadata": {},
     "output_type": "display_data"
    }
   ],
   "source": [
    "prompt = \"\"\"\n",
    "O que você disse?\n",
    "\"\"\"\n",
    "\n",
    "response = llm.invoke(prompt)\n",
    "\n",
    "display(Markdown(f\"*Resposta:*\"))\n",
    "display(Markdown(f\"----\"))\n",
    "display(Markdown(f\"{response.content}\"))\n",
    "display(Markdown(f\"----\"))"
   ]
  },
  {
   "cell_type": "markdown",
   "id": "14376a7f-7707-4e35-8e79-9456edf41e7d",
   "metadata": {},
   "source": [
    "## **PROMPT 01:** Zero-shot"
   ]
  },
  {
   "cell_type": "code",
   "execution_count": 6,
   "id": "f1beefe4-3be7-4a3b-b5fc-dc5e690b48db",
   "metadata": {},
   "outputs": [
    {
     "data": {
      "text/markdown": [
       "*Prompt:*"
      ],
      "text/plain": [
       "<IPython.core.display.Markdown object>"
      ]
     },
     "metadata": {},
     "output_type": "display_data"
    },
    {
     "data": {
      "text/markdown": [
       "----"
      ],
      "text/plain": [
       "<IPython.core.display.Markdown object>"
      ]
     },
     "metadata": {},
     "output_type": "display_data"
    },
    {
     "data": {
      "text/markdown": [
       "\n",
       "Q: Um cliente compra 12 unidades de um produto cujo preço\n",
       "unitário é R 125,80. Antes dos impostos há um desconto de 5 %\n",
       "sobre o subtotal. Depois do desconto aplicam-se dois impostos:\n",
       "ICMS de 18 % e PIS de 1,65 %, ambos sobre o subtotal já com\n",
       "desconto. Há ainda uma taxa fixa de frete de R 48,00.\n",
       "Qual é o valor total a pagar na nota fiscal?\n"
      ],
      "text/plain": [
       "<IPython.core.display.Markdown object>"
      ]
     },
     "metadata": {},
     "output_type": "display_data"
    },
    {
     "data": {
      "text/markdown": [
       "----"
      ],
      "text/plain": [
       "<IPython.core.display.Markdown object>"
      ]
     },
     "metadata": {},
     "output_type": "display_data"
    },
    {
     "data": {
      "text/markdown": [
       "*Resposta:*"
      ],
      "text/plain": [
       "<IPython.core.display.Markdown object>"
      ]
     },
     "metadata": {},
     "output_type": "display_data"
    },
    {
     "data": {
      "text/markdown": [
       "----"
      ],
      "text/plain": [
       "<IPython.core.display.Markdown object>"
      ]
     },
     "metadata": {},
     "output_type": "display_data"
    },
    {
     "data": {
      "text/markdown": [
       "Vamos calcular o valor total a pagar na nota fiscal passo a passo.\n",
       "\n",
       "1. **Cálculo do subtotal:**\n",
       "   - Preço unitário: R$ 125,80\n",
       "   - Quantidade: 12 unidades\n",
       "   - Subtotal = Preço unitário × Quantidade = 125,80 × 12 = R$ 1.509,60\n",
       "\n",
       "2. **Cálculo do desconto:**\n",
       "   - Desconto de 5% sobre o subtotal:\n",
       "   - Desconto = 5% de R$ 1.509,60 = 0,05 × 1.509,60 = R$ 75,48\n",
       "\n",
       "3. **Cálculo do subtotal com desconto:**\n",
       "   - Subtotal com desconto = Subtotal - Desconto = 1.509,60 - 75,48 = R$ 1.434,12\n",
       "\n",
       "4. **Cálculo dos impostos:**\n",
       "   - ICMS de 18% sobre o subtotal com desconto:\n",
       "   - ICMS = 18% de R$ 1.434,12 = 0,18 × 1.434,12 = R$ 258,14 (aproximadamente)\n",
       "\n",
       "   - PIS de 1,65% sobre o subtotal com desconto:\n",
       "   - PIS = 1,65% de R$ 1.434,12 = 0,0165 × 1.434,12 = R$ 23,64 (aproximadamente)\n",
       "\n",
       "5. **Cálculo do total dos impostos:**\n",
       "   - Total de impostos = ICMS + PIS = 258,14 + 23,64 = R$ 281,78\n",
       "\n",
       "6. **Cálculo do valor total a pagar:**\n",
       "   - Valor total a pagar = Subtotal com desconto + Total de impostos + Frete\n",
       "   - Frete = R$ 48,00\n",
       "   - Valor total = 1.434,12 + 281,78 + 48,00 = R$ 1.763,90\n",
       "\n",
       "Portanto, o valor total a pagar na nota fiscal é **R$ 1.763,90**."
      ],
      "text/plain": [
       "<IPython.core.display.Markdown object>"
      ]
     },
     "metadata": {},
     "output_type": "display_data"
    },
    {
     "data": {
      "text/markdown": [
       "----"
      ],
      "text/plain": [
       "<IPython.core.display.Markdown object>"
      ]
     },
     "metadata": {},
     "output_type": "display_data"
    }
   ],
   "source": [
    "prompt = \"\"\"\n",
    "Q: Um cliente compra 12 unidades de um produto cujo preço\n",
    "unitário é R 125,80. Antes dos impostos há um desconto de 5 %\n",
    "sobre o subtotal. Depois do desconto aplicam-se dois impostos:\n",
    "ICMS de 18 % e PIS de 1,65 %, ambos sobre o subtotal já com\n",
    "desconto. Há ainda uma taxa fixa de frete de R 48,00.\n",
    "Qual é o valor total a pagar na nota fiscal?\n",
    "\"\"\"\n",
    "\n",
    "display(Markdown(f\"*Prompt:*\"))\n",
    "display(Markdown(f\"----\"))\n",
    "display(Markdown(f\"{prompt}\"))\n",
    "display(Markdown(f\"----\"))\n",
    "\n",
    "response = llm.invoke(prompt)\n",
    "\n",
    "display(Markdown(f\"*Resposta:*\"))\n",
    "display(Markdown(f\"----\"))\n",
    "display(Markdown(f\"{response.content}\"))\n",
    "display(Markdown(f\"----\"))"
   ]
  },
  {
   "cell_type": "markdown",
   "id": "da4ecdb2-d628-43cd-aff4-9ad6221e431f",
   "metadata": {},
   "source": [
    "## **PROMPT 02:** Aqui vou fazer um prompt Cot"
   ]
  },
  {
   "cell_type": "code",
   "execution_count": 7,
   "id": "cf5fc8f3-ebe7-4e7d-a35e-3a70e0e0d861",
   "metadata": {},
   "outputs": [
    {
     "data": {
      "text/markdown": [
       "*Prompt:*"
      ],
      "text/plain": [
       "<IPython.core.display.Markdown object>"
      ]
     },
     "metadata": {},
     "output_type": "display_data"
    },
    {
     "data": {
      "text/markdown": [
       "----"
      ],
      "text/plain": [
       "<IPython.core.display.Markdown object>"
      ]
     },
     "metadata": {},
     "output_type": "display_data"
    },
    {
     "data": {
      "text/markdown": [
       "\n",
       "Q: Um cliente compra 12 unidades de um produto cujo preço\n",
       "unitário é R 125,80. Antes dos impostos há um desconto de 5 %\n",
       "sobre o subtotal. Depois do desconto aplicam-se dois impostos:\n",
       "ICMS de 18 % e PIS de 1,65 %, ambos sobre o subtotal já com\n",
       "desconto. Há ainda uma taxa fixa de frete de R 48,00.\n",
       "Qual é o valor total a pagar na nota fiscal?\n",
       "\n",
       "Vamos pensar passo a passo.\n",
       "\n",
       "Quando terminar, escreva a resposta final exatamente no formato:\n",
       "\n",
       "Answer: <valor em reais com 2 casas decimais>\n"
      ],
      "text/plain": [
       "<IPython.core.display.Markdown object>"
      ]
     },
     "metadata": {},
     "output_type": "display_data"
    },
    {
     "data": {
      "text/markdown": [
       "----"
      ],
      "text/plain": [
       "<IPython.core.display.Markdown object>"
      ]
     },
     "metadata": {},
     "output_type": "display_data"
    },
    {
     "data": {
      "text/markdown": [
       "*Resposta:*"
      ],
      "text/plain": [
       "<IPython.core.display.Markdown object>"
      ]
     },
     "metadata": {},
     "output_type": "display_data"
    },
    {
     "data": {
      "text/markdown": [
       "----"
      ],
      "text/plain": [
       "<IPython.core.display.Markdown object>"
      ]
     },
     "metadata": {},
     "output_type": "display_data"
    },
    {
     "data": {
      "text/markdown": [
       "Vamos calcular passo a passo o valor total a pagar na nota fiscal.\n",
       "\n",
       "1. **Cálculo do subtotal**:\n",
       "   Preço unitário = R$ 125,80  \n",
       "   Quantidade = 12 unidades  \n",
       "   Subtotal = Preço unitário × Quantidade  \n",
       "   Subtotal = 125,80 × 12 = R$ 1.509,60  \n",
       "\n",
       "2. **Cálculo do desconto**:\n",
       "   Desconto = 5% do subtotal  \n",
       "   Desconto = 0,05 × 1.509,60 = R$ 75,48  \n",
       "\n",
       "3. **Cálculo do subtotal com desconto**:\n",
       "   Subtotal com desconto = Subtotal - Desconto  \n",
       "   Subtotal com desconto = 1.509,60 - 75,48 = R$ 1.434,12  \n",
       "\n",
       "4. **Cálculo dos impostos**:\n",
       "   - ICMS = 18% do subtotal com desconto  \n",
       "     ICMS = 0,18 × 1.434,12 = R$ 258,14  \n",
       "     \n",
       "   - PIS = 1,65% do subtotal com desconto  \n",
       "     PIS = 0,0165 × 1.434,12 = R$ 23,66  \n",
       "\n",
       "5. **Cálculo do total de impostos**:\n",
       "   Total de impostos = ICMS + PIS  \n",
       "   Total de impostos = 258,14 + 23,66 = R$ 281,80  \n",
       "\n",
       "6. **Cálculo do total a pagar**:\n",
       "   Total a pagar = Subtotal com desconto + Total de impostos + Frete  \n",
       "   Frete = R$ 48,00  \n",
       "   Total a pagar = 1.434,12 + 281,80 + 48,00 = R$ 1.763,92  \n",
       "\n",
       "Agora, escrevendo a resposta final:\n",
       "\n",
       "Answer: 1763.92"
      ],
      "text/plain": [
       "<IPython.core.display.Markdown object>"
      ]
     },
     "metadata": {},
     "output_type": "display_data"
    },
    {
     "data": {
      "text/markdown": [
       "----"
      ],
      "text/plain": [
       "<IPython.core.display.Markdown object>"
      ]
     },
     "metadata": {},
     "output_type": "display_data"
    }
   ],
   "source": [
    "prompt = \"\"\"\n",
    "Q: Um cliente compra 12 unidades de um produto cujo preço\n",
    "unitário é R 125,80. Antes dos impostos há um desconto de 5 %\n",
    "sobre o subtotal. Depois do desconto aplicam-se dois impostos:\n",
    "ICMS de 18 % e PIS de 1,65 %, ambos sobre o subtotal já com\n",
    "desconto. Há ainda uma taxa fixa de frete de R 48,00.\n",
    "Qual é o valor total a pagar na nota fiscal?\n",
    "\n",
    "Vamos pensar passo a passo.\n",
    "\n",
    "Quando terminar, escreva a resposta final exatamente no formato:\n",
    "\n",
    "Answer: <valor em reais com 2 casas decimais>\n",
    "\"\"\"\n",
    "\n",
    "display(Markdown(f\"*Prompt:*\"))\n",
    "display(Markdown(f\"----\"))\n",
    "display(Markdown(f\"{prompt}\"))\n",
    "display(Markdown(f\"----\"))\n",
    "\n",
    "response = llm.invoke(prompt)\n",
    "\n",
    "display(Markdown(f\"*Resposta:*\"))\n",
    "display(Markdown(f\"----\"))\n",
    "display(Markdown(f\"{response.content}\"))\n",
    "display(Markdown(f\"----\"))"
   ]
  },
  {
   "cell_type": "markdown",
   "id": "3441bdad-d0ae-46ee-9dce-6c30728df846",
   "metadata": {},
   "source": [
    "## Preparando para fazer o Self-Consistency"
   ]
  },
  {
   "cell_type": "markdown",
   "id": "2e1c2707-4f3e-48f3-a322-766ccfd07ebe",
   "metadata": {},
   "source": [
    "### Expressão regular para recuperar a resposta da última chamada"
   ]
  },
  {
   "cell_type": "code",
   "execution_count": 8,
   "id": "74043241-4712-4eba-980f-50b7dc80227f",
   "metadata": {},
   "outputs": [
    {
     "name": "stdout",
     "output_type": "stream",
     "text": [
      "1763.92\n"
     ]
    }
   ],
   "source": [
    "def extract_answer(text: str) -> str | None:\n",
    "    m = re.search(r\"(?i)answer\\s*:\\s*R?\\$?\\s*([0-9]+(?:[,.][0-9]{2}))\", text)\n",
    "    if m:\n",
    "        # normaliza vírgula→ponto\n",
    "        return m.group(1).replace(\",\", \".\")\n",
    "    return None\n",
    "\n",
    "s = extract_answer(response.content)\n",
    "print(s)"
   ]
  },
  {
   "cell_type": "code",
   "execution_count": 9,
   "id": "9a2fc9fa-50c1-402c-b49c-208d634fd16f",
   "metadata": {},
   "outputs": [
    {
     "data": {
      "text/plain": [
       "str"
      ]
     },
     "execution_count": 9,
     "metadata": {},
     "output_type": "execute_result"
    }
   ],
   "source": [
    "type(s)"
   ]
  },
  {
   "cell_type": "markdown",
   "id": "0d115623-db4f-4121-8ddc-707f14f306db",
   "metadata": {},
   "source": [
    "### Agora vou chamar o modelo 25 vezes e obter as respostas"
   ]
  },
  {
   "cell_type": "code",
   "execution_count": 10,
   "id": "a26cdcae-a433-4eae-90dd-1cc8a0dfb438",
   "metadata": {},
   "outputs": [
    {
     "name": "stdout",
     "output_type": "stream",
     "text": [
      "Chamada 0 de 25\n",
      "Chamada 1 de 25\n",
      "Chamada 2 de 25\n",
      "Chamada 3 de 25\n",
      "Chamada 4 de 25\n",
      "Chamada 5 de 25\n",
      "Chamada 6 de 25\n",
      "Chamada 7 de 25\n",
      "Chamada 8 de 25\n",
      "Chamada 9 de 25\n",
      "Chamada 10 de 25\n",
      "Chamada 11 de 25\n",
      "Chamada 12 de 25\n",
      "Chamada 13 de 25\n",
      "Chamada 14 de 25\n",
      "Chamada 15 de 25\n",
      "Chamada 16 de 25\n",
      "Chamada 17 de 25\n",
      "Chamada 18 de 25\n",
      "Chamada 19 de 25\n",
      "Chamada 20 de 25\n",
      "Chamada 21 de 25\n",
      "Chamada 22 de 25\n",
      "Chamada 23 de 25\n",
      "Chamada 24 de 25\n"
     ]
    },
    {
     "data": {
      "text/plain": [
       "['1763.92',\n",
       " '1763.90',\n",
       " '1763.94',\n",
       " '1763.95',\n",
       " '1763.92',\n",
       " '1763.94',\n",
       " '1763.92',\n",
       " '1763.92',\n",
       " '1763.92',\n",
       " '1763.92',\n",
       " '1763.93',\n",
       " '1763.91',\n",
       " '1763.93',\n",
       " '1763.91',\n",
       " '1763.92',\n",
       " '1763.91',\n",
       " '1763.91',\n",
       " '1762.92',\n",
       " '1763.95',\n",
       " '1763.92',\n",
       " '1763.94',\n",
       " '1763.93',\n",
       " '1763.93',\n",
       " '1763.92',\n",
       " '1763.92']"
      ]
     },
     "execution_count": 10,
     "metadata": {},
     "output_type": "execute_result"
    }
   ],
   "source": [
    "lista_respostas = []\n",
    "max_call = 25\n",
    "\n",
    "# Loop para coletar 25 cadeias de raciocínio (k = 25)\n",
    "for i in range(max_call):\n",
    "    print(f\"Chamada {i} de {max_call}\")\n",
    "    \n",
    "    # 1. Chamar o modelo LLM com o prompt definido\n",
    "    response = llm.invoke(prompt)        # Retorna um objeto com o texto gerado\n",
    "    \n",
    "    # 2. Extrair apenas a resposta final do texto completo\n",
    "    s = extract_answer(response.content) # Função regex → \"Answer: <valor>\"\n",
    "    \n",
    "    # 3. Guardar a resposta extraída na lista\n",
    "    lista_respostas.append(s)\n",
    "    \n",
    "    # 4. Esperar 10 s antes da próxima iteração\n",
    "    # Ajuda a respeitar limites de rate-limit/custo\n",
    "    time.sleep(10)                       \n",
    "\n",
    "lista_respostas\n"
   ]
  },
  {
   "cell_type": "markdown",
   "id": "6c2df64c-90eb-4f71-925f-8201fa761b38",
   "metadata": {},
   "source": [
    "### Medindo a frequência das respostas"
   ]
  },
  {
   "cell_type": "code",
   "execution_count": 11,
   "id": "94addb20-e27f-43f3-b822-9b960157c35e",
   "metadata": {},
   "outputs": [
    {
     "data": {
      "text/plain": [
       "Counter({'1763.92': 10,\n",
       "         '1763.93': 4,\n",
       "         '1763.91': 4,\n",
       "         '1763.94': 3,\n",
       "         '1763.95': 2,\n",
       "         '1763.90': 1,\n",
       "         '1762.92': 1})"
      ]
     },
     "execution_count": 11,
     "metadata": {},
     "output_type": "execute_result"
    }
   ],
   "source": [
    "# Medindo a frequência das respostas\n",
    "counts = collections.Counter(lista_respostas)\n",
    "counts"
   ]
  },
  {
   "cell_type": "markdown",
   "id": "71a57b8e-31eb-4966-a2c1-cfe722b30956",
   "metadata": {},
   "source": [
    "### Escolhendo o vencedor"
   ]
  },
  {
   "cell_type": "code",
   "execution_count": 16,
   "id": "844d1782-212a-409a-be5a-a399ddb6e909",
   "metadata": {},
   "outputs": [
    {
     "data": {
      "text/plain": [
       "('1763.92', 10)"
      ]
     },
     "execution_count": 16,
     "metadata": {},
     "output_type": "execute_result"
    }
   ],
   "source": [
    "counts.most_common(1)[0]"
   ]
  },
  {
   "cell_type": "code",
   "execution_count": 18,
   "id": "37722621-e8d1-41b3-86dd-969a02a14859",
   "metadata": {},
   "outputs": [
    {
     "data": {
      "text/plain": [
       "0.4"
      ]
     },
     "execution_count": 18,
     "metadata": {},
     "output_type": "execute_result"
    }
   ],
   "source": [
    "counts.most_common(1)[0][1] / 25"
   ]
  }
 ],
 "metadata": {
  "kernelspec": {
   "display_name": "Python 3 (ipykernel)",
   "language": "python",
   "name": "python3"
  },
  "language_info": {
   "codemirror_mode": {
    "name": "ipython",
    "version": 3
   },
   "file_extension": ".py",
   "mimetype": "text/x-python",
   "name": "python",
   "nbconvert_exporter": "python",
   "pygments_lexer": "ipython3",
   "version": "3.11.9"
  }
 },
 "nbformat": 4,
 "nbformat_minor": 5
}
